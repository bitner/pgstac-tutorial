{
 "cells": [
  {
   "cell_type": "markdown",
   "id": "c6109166-5398-4b4a-9ac6-99b2e53c783f",
   "metadata": {},
   "source": [
    "# PgSTAC Tutorial\n",
    "This tutorial is designed to run in the docker compose environment defined in the docker-compose.yml file at the root of the pgstac git repository. For instructions on installing Docker and Docker Compose, you can go to https://docs.docker.com/get-docker/. The instructions provided here use the newer Compose V2 `docker compose` rather than `docker-compose` now that Docker Compose is included as part of latest version of Docker.\n",
    "\n",
    "To get started with this tutorial you should already have checked out the pgstac repository from github using `git clone https://github.com/bitner/pgstac-tutorial\n",
    "\n",
    "To start the database, a STAC FastAPI instance, and the Jupyter Notebook for this tutorial: \n",
    "```\n",
    "docker compose up -d tutorial\n",
    "```\n",
    "\n",
    "- You can then start up the workshop by going to http://localhost:8891\n",
    "- You can get to a STAC FastAPI PgSTAC instance at http://localhost:8890 (although this will not work until we have installed PgSTAC onto our Database later)\n"
   ]
  },
  {
   "cell_type": "markdown",
   "id": "471aeb2b-806f-4ffb-ae68-3f6edb4a4a8a",
   "metadata": {},
   "source": [
    "## Tutorial Setup\n",
    "### Install magic command to use psql\n",
    "This installs a \"magic\" command for the Jupyter Notebook that will allow us to run psql commands to help us explore the database.\n",
    "The `%psql` line magic is the same as running a command using psql in the terminal.\n",
    "The `%%psql` cell magic runs the rest of the cell as the stdin to psql. This tutorial uses a system call to the psql utility. This is already installed on the Docker image that comes with this Tutorial. On Debian/Ubuntu clients, this can be installed using `sudo apt install Postgres-client`."
   ]
  },
  {
   "cell_type": "code",
   "execution_count": 1,
   "id": "ba677f8f-90b1-4151-95ac-9b006c27be6a",
   "metadata": {},
   "outputs": [],
   "source": [
    "from IPython.core.magic import register_line_cell_magic\n",
    "from IPython.display import display, HTML, JSON\n",
    "import orjson\n",
    "import shlex\n",
    "from subprocess import Popen, PIPE\n",
    "\n",
    "@register_line_cell_magic\n",
    "def psql(line=None, cell=None):\n",
    "    args = [\"-X\"] + (shlex.split(line) or [\"-H\"])\n",
    "    if '-1' in args:\n",
    "        args += ['-v', 'ON_ERROR_STOP=1']\n",
    "    if cell:\n",
    "        args += ['-f', '/dev/stdin']\n",
    "    else:\n",
    "        cell = ''\n",
    "    r=Popen(['psql', *args], stdin=PIPE, stdout=PIPE, stderr=PIPE, text=True)\n",
    "    out, err = r.communicate(input=cell)\n",
    "\n",
    "    if \"-H\" in args:\n",
    "        print(err)\n",
    "        display(HTML(out))\n",
    "    elif \"-At\":\n",
    "        print(err)\n",
    "        for line in out.strip().split('\\n'):\n",
    "            try:\n",
    "                display(orjson.loads(line))\n",
    "            except:\n",
    "                display(line)\n",
    "    else:\n",
    "        print(err)\n",
    "        print(out)\n"
   ]
  },
  {
   "cell_type": "markdown",
   "id": "4f96c2b8-567a-447d-b7e2-916babbea329",
   "metadata": {},
   "source": [
    "## Check the standard Postgres environment variables \n",
    "Most tools that work with Postgres use the standard environment variables that are used by all of the tools that come standard as part of Postgres. The pypgstac python utility that comes with pgstac and is installable from pip."
   ]
  },
  {
   "cell_type": "code",
   "execution_count": 2,
   "id": "4ba6284d-b570-4b01-a3ef-4b9535038441",
   "metadata": {},
   "outputs": [
    {
     "name": "stdout",
     "output_type": "stream",
     "text": [
      "env: PGDATABASE=pgstac\n",
      "env: PGUSER=adminrole\n",
      "env: PGPASSWORD=password\n",
      "env: PGHOST=pgstac\n",
      "env: PGPORT=5432\n"
     ]
    }
   ],
   "source": [
    "%env PGDATABASE=pgstac\n",
    "%env PGUSER=adminrole\n",
    "%env PGPASSWORD=password\n",
    "%env PGHOST=pgstac\n",
    "%env PGPORT=5432\n"
   ]
  },
  {
   "cell_type": "markdown",
   "id": "612d0c8b-b5b3-4676-ac59-7fa198414a59",
   "metadata": {},
   "source": [
    "Check that we can login to the database. We will use a call out to the command line psql utility using the `-l` option to list all databases."
   ]
  },
  {
   "cell_type": "code",
   "execution_count": 3,
   "id": "b512a696-03d2-4f1d-a5b2-dd694fb853d8",
   "metadata": {},
   "outputs": [
    {
     "name": "stdout",
     "output_type": "stream",
     "text": [
      "\n"
     ]
    },
    {
     "data": {
      "text/html": [
       "<table border=\"1\">\n",
       "  <caption>List of databases</caption>\n",
       "  <tr>\n",
       "    <th align=\"center\">Name</th>\n",
       "    <th align=\"center\">Owner</th>\n",
       "    <th align=\"center\">Encoding</th>\n",
       "    <th align=\"center\">Collate</th>\n",
       "    <th align=\"center\">Ctype</th>\n",
       "    <th align=\"center\">Access privileges</th>\n",
       "  </tr>\n",
       "  <tr valign=\"top\">\n",
       "    <td align=\"left\">pgstac</td>\n",
       "    <td align=\"left\">adminrole</td>\n",
       "    <td align=\"left\">UTF8</td>\n",
       "    <td align=\"left\">en_US.utf8</td>\n",
       "    <td align=\"left\">en_US.utf8</td>\n",
       "    <td align=\"left\">&nbsp; </td>\n",
       "  </tr>\n",
       "  <tr valign=\"top\">\n",
       "    <td align=\"left\">postgres</td>\n",
       "    <td align=\"left\">adminrole</td>\n",
       "    <td align=\"left\">UTF8</td>\n",
       "    <td align=\"left\">en_US.utf8</td>\n",
       "    <td align=\"left\">en_US.utf8</td>\n",
       "    <td align=\"left\">&nbsp; </td>\n",
       "  </tr>\n",
       "  <tr valign=\"top\">\n",
       "    <td align=\"left\">template0</td>\n",
       "    <td align=\"left\">adminrole</td>\n",
       "    <td align=\"left\">UTF8</td>\n",
       "    <td align=\"left\">en_US.utf8</td>\n",
       "    <td align=\"left\">en_US.utf8</td>\n",
       "    <td align=\"left\">=c/adminrole<br />\n",
       "adminrole=CTc/adminrole</td>\n",
       "  </tr>\n",
       "  <tr valign=\"top\">\n",
       "    <td align=\"left\">template1</td>\n",
       "    <td align=\"left\">adminrole</td>\n",
       "    <td align=\"left\">UTF8</td>\n",
       "    <td align=\"left\">en_US.utf8</td>\n",
       "    <td align=\"left\">en_US.utf8</td>\n",
       "    <td align=\"left\">=c/adminrole<br />\n",
       "adminrole=CTc/adminrole</td>\n",
       "  </tr>\n",
       "  <tr valign=\"top\">\n",
       "    <td align=\"left\">template_postgis</td>\n",
       "    <td align=\"left\">adminrole</td>\n",
       "    <td align=\"left\">UTF8</td>\n",
       "    <td align=\"left\">en_US.utf8</td>\n",
       "    <td align=\"left\">en_US.utf8</td>\n",
       "    <td align=\"left\">&nbsp; </td>\n",
       "  </tr>\n",
       "</table>\n",
       "<p>(5 rows)<br />\n",
       "</p>\n"
      ],
      "text/plain": [
       "<IPython.core.display.HTML object>"
      ]
     },
     "metadata": {},
     "output_type": "display_data"
    }
   ],
   "source": [
    "%psql -H -l\n"
   ]
  },
  {
   "cell_type": "markdown",
   "id": "c4e76380-9548-47c5-90fa-324b352b6a43",
   "metadata": {},
   "source": [
    "## Install PgSTAC to the Database\n",
    "This docker-compose.yml with this tutorial uses the postgis/postgis:15-3.4 docker image as the base Postgres. PgSTAC requires Postgres>=14 and PostGIS>=3.1. We will now install PgSTAC on the database using the command line `pypgstac migrate` tool. Pypgstac is already installed in the docker image running this notebook. To install otherwise `pip install --upgrade pypgstac[psycopg]`."
   ]
  },
  {
   "cell_type": "code",
   "execution_count": 4,
   "id": "60447c3a-aa07-4624-8152-46772e8afd8d",
   "metadata": {},
   "outputs": [
    {
     "name": "stdout",
     "output_type": "stream",
     "text": [
      "DEBUG:pypgstac.db:PG VERSION: 15.4 (Debian 15.4-2.pgdg110+1).\n",
      "INFO:pypgstac.migrate:Migrating PGStac on PostgreSQL Version 15.4 (Debian 15.4-2.pgdg110+1)\n",
      "DEBUG:pypgstac.db:PGStac is not installed.\n",
      "INFO:pypgstac.migrate:No pgstac version set, installing 0.7.10 from scratch.\n",
      "DEBUG:pypgstac.migrate:Running migration file /usr/local/lib/python3.9/site-packages/pypgstac/migrations/pgstac.0.7.10.sql.\n",
      "DEBUG:smart_open.smart_open_lib:{'uri': '/usr/local/lib/python3.9/site-packages/pypgstac/migrations/pgstac.0.7.10.sql', 'mode': 'r', 'buffering': -1, 'encoding': None, 'errors': None, 'newline': None, 'closefd': True, 'opener': None, 'compression': 'infer_from_extension', 'transport_params': None}\n",
      "INFO:pypgstac.db:NOTICE - function analyze_items() does not exist, skipping\n",
      "INFO:pypgstac.db:NOTICE - function validate_constraints() does not exist, skipping\n",
      "INFO:pypgstac.db:NOTICE - function context_estimated_cost() does not exist, skipping\n",
      "INFO:pypgstac.db:NOTICE - function context_stats_ttl() does not exist, skipping\n",
      "INFO:pypgstac.db:NOTICE - table \"query_queue\" does not exist, skipping\n",
      "INFO:pypgstac.db:NOTICE - table \"query_queue_history\" does not exist, skipping\n",
      "INFO:pypgstac.db:NOTICE - function check_pgstac_settings() does not exist, skipping\n",
      "INFO:pypgstac.db:NOTICE - view \"pgstac_indexes\" does not exist, skipping\n",
      "INFO:pypgstac.db:NOTICE - view \"pgstac_index_stats\" does not exist, skipping\n",
      "INFO:pypgstac.db:NOTICE - function content_hydrate(jsonb,jsonb,jsonb) does not exist, skipping\n",
      "INFO:pypgstac.db:NOTICE - function mercgrid() does not exist, skipping\n",
      "INFO:pypgstac.db:NOTICE - function geometrysearch() does not exist, skipping\n",
      "INFO:pypgstac.db:NOTICE - function geojsonsearch() does not exist, skipping\n",
      "INFO:pypgstac.db:NOTICE - function xyzsearch() does not exist, skipping\n",
      "INFO:pypgstac.db:NOTICE - Making sure that name/collection is unique for queryables (1,id,,\"{\"\"$ref\"\": \"\"https://schemas.stacspec.org/v1.0.0/item-spec/json-schema/item.json#/definitions/core/allOf/2/properties/id\"\", \"\"title\"\": \"\"Item ID\"\", \"\"description\"\": \"\"Item identifier\"\"}\",,,)\n",
      "INFO:pypgstac.db:NOTICE - Making sure that name/collection is unique for queryables (2,geometry,,\"{\"\"$ref\"\": \"\"https://geojson.org/schema/Feature.json\"\", \"\"title\"\": \"\"Item Geometry\"\", \"\"description\"\": \"\"Item Geometry\"\"}\",,,)\n",
      "INFO:pypgstac.db:NOTICE - Making sure that name/collection is unique for queryables (3,datetime,,\"{\"\"type\"\": \"\"string\"\", \"\"title\"\": \"\"Acquired\"\", \"\"format\"\": \"\"date-time\"\", \"\"pattern\"\": \"\"(\\\\\\\\+00:00|Z)$\"\", \"\"description\"\": \"\"Datetime\"\"}\",,,)\n",
      "INFO:pypgstac.db:NOTICE - Making sure that name/collection is unique for queryables (4,eo:cloud_cover,,\"{\"\"$ref\"\": \"\"https://stac-extensions.github.io/eo/v1.0.0/schema.json#/definitions/fieldsproperties/eo:cloud_cover\"\"}\",,to_int,BTREE)\n",
      "DEBUG:pypgstac.migrate:RESET\n",
      "DEBUG:pypgstac.migrate:-1\n",
      "DEBUG:pypgstac.migrate:Database migrated to 0.7.10\n",
      "DEBUG:pypgstac.db:VERSION: 0.7.10\n",
      "DEBUG:pypgstac.migrate:New Version: 0.7.10\n",
      "0.7.10\n"
     ]
    }
   ],
   "source": [
    "!pypgstac migrate --debug\n"
   ]
  },
  {
   "cell_type": "markdown",
   "id": "1b3567b0-15b7-43ad-9531-9ee316059737",
   "metadata": {},
   "source": [
    "## Check PgSTAC Install\n",
    "We can use the psql command line utility to login to our database now and to look around. Let's show what schemas are in the database. SQL Commands beginning with `\\` are meta commands in psql. In this case `\\dn` is asking to show all schemas (also called namespaces which explains the \"n\"). We can see that we have a \"public\" schema which is there by default in all Postgres instances as well as a \"pgstac\" schema that is owned by the \"pgstac_admin\" role - this schema as well as the pgstac_admin role were created by the `pypgstac migrate` tool."
   ]
  },
  {
   "cell_type": "code",
   "execution_count": 5,
   "id": "9ab81b25-da35-47b6-bccb-e2b9db64bac4",
   "metadata": {},
   "outputs": [
    {
     "name": "stdout",
     "output_type": "stream",
     "text": [
      "\n"
     ]
    },
    {
     "data": {
      "text/html": [
       "<table border=\"1\">\n",
       "  <caption>List of schemas</caption>\n",
       "  <tr>\n",
       "    <th align=\"center\">Name</th>\n",
       "    <th align=\"center\">Owner</th>\n",
       "  </tr>\n",
       "  <tr valign=\"top\">\n",
       "    <td align=\"left\">pgstac</td>\n",
       "    <td align=\"left\">pgstac_admin</td>\n",
       "  </tr>\n",
       "  <tr valign=\"top\">\n",
       "    <td align=\"left\">public</td>\n",
       "    <td align=\"left\">pg_database_owner</td>\n",
       "  </tr>\n",
       "  <tr valign=\"top\">\n",
       "    <td align=\"left\">tiger</td>\n",
       "    <td align=\"left\">adminrole</td>\n",
       "  </tr>\n",
       "  <tr valign=\"top\">\n",
       "    <td align=\"left\">tiger_data</td>\n",
       "    <td align=\"left\">adminrole</td>\n",
       "  </tr>\n",
       "  <tr valign=\"top\">\n",
       "    <td align=\"left\">topology</td>\n",
       "    <td align=\"left\">adminrole</td>\n",
       "  </tr>\n",
       "</table>\n",
       "<p>(5 rows)<br />\n",
       "</p>\n"
      ],
      "text/plain": [
       "<IPython.core.display.HTML object>"
      ]
     },
     "metadata": {},
     "output_type": "display_data"
    }
   ],
   "source": [
    "%%psql\n",
    "\\dn\n"
   ]
  },
  {
   "cell_type": "markdown",
   "id": "38217158-9051-4e4e-9777-72d4b6d7de9a",
   "metadata": {},
   "source": [
    "Postgres, much like your shell or python, has a configurable path that it uses to find anything in the database. It is controlled by the \"SEARCH_PATH\" [setting](https://www.Postgres.org/docs/current/config-setting.html) in Postgres. Postgres will search each schema in the order defined by the \"SEARCH_PATH\" to find database objects (tables, functions, views, etc). By default, the \"SEARCH_PATH\" is set to search a schema with the same name as the currently logged in role (which is \"pgstac\" with the docker environment we are using) followed by the \"public\" schema."
   ]
  },
  {
   "cell_type": "code",
   "execution_count": 6,
   "id": "2ee0612d-9680-4ab0-8e73-93f85fe3f667",
   "metadata": {},
   "outputs": [
    {
     "name": "stdout",
     "output_type": "stream",
     "text": [
      "\n"
     ]
    },
    {
     "data": {
      "text/html": [
       "<table border=\"1\">\n",
       "  <tr>\n",
       "    <th align=\"center\">search_path</th>\n",
       "  </tr>\n",
       "  <tr valign=\"top\">\n",
       "    <td align=\"left\">&quot;$user&quot;, public, topology, tiger</td>\n",
       "  </tr>\n",
       "</table>\n",
       "<p>(1 row)<br />\n",
       "</p>\n"
      ],
      "text/plain": [
       "<IPython.core.display.HTML object>"
      ]
     },
     "metadata": {},
     "output_type": "display_data"
    }
   ],
   "source": [
    "%%psql\n",
    "SHOW SEARCH_PATH;\n"
   ]
  },
  {
   "cell_type": "markdown",
   "id": "faf8ec4b-d984-4b1b-8cf9-2ad58244bf5d",
   "metadata": {},
   "source": [
    "Since we have installed PgSTAC into the \"pgstac\" schema, we need to make sure that \"pgstac\" is available in our envrionment. We can do this temporarily using the \"SET\" command in Postgres `SET SEARCH_PATH TO pgstac, public;`. Or, we can modify the setting at the DATBASE or ROLE level. For this tutorial, we will set the default setting for \"SEARCH_PATH\" at the DATABASE level."
   ]
  },
  {
   "cell_type": "code",
   "execution_count": 7,
   "id": "956da7f8-291b-47fa-94b5-a55ffae81811",
   "metadata": {},
   "outputs": [
    {
     "name": "stdout",
     "output_type": "stream",
     "text": [
      "\n"
     ]
    },
    {
     "data": {
      "text/html": [
       "<p>ALTER DATABASE</p>\n",
       "<table border=\"1\">\n",
       "  <tr>\n",
       "    <th align=\"center\">search_path</th>\n",
       "  </tr>\n",
       "  <tr valign=\"top\">\n",
       "    <td align=\"left\">&quot;$user&quot;, public, topology, tiger</td>\n",
       "  </tr>\n",
       "</table>\n",
       "<p>(1 row)<br />\n",
       "</p>\n"
      ],
      "text/plain": [
       "<IPython.core.display.HTML object>"
      ]
     },
     "metadata": {},
     "output_type": "display_data"
    }
   ],
   "source": [
    "%%psql\n",
    "ALTER DATABASE pgstac SET SEARCH_PATH TO pgstac,public;\n",
    "SHOW SEARCH_PATH;\n"
   ]
  },
  {
   "cell_type": "markdown",
   "id": "41ef7dd6-8f23-45c9-80e8-646773aa0861",
   "metadata": {},
   "source": [
    "## Configuring Postgres Specific Settings\n",
    "There are many other settings that can be set at the SYSTEM, DATABASE, ROLE, or SESSION level. If something is set at multiple levels, the most specific level would win, so even though we have set the SEARCH_PATH at the DATABASE level, we could override it in a SESSION by using `SET SEARCH_PATH TO ...`.\n",
    "\n",
    "Out of the box as well as on most hosted services, the default Postgres configuration is extremely conservative and should be adjusted. There is *NO* one-size-fits-all set of settings even for a given database host instance size. PgSTAC comes with a function that can help to determine what a good starting point may be for some of the most important settings. Fine tuning a database can be an entire career though, so it is important to undestand some of the factors where you may want to adjust these settings. The function takes a single argument which is the memory size of the instance."
   ]
  },
  {
   "cell_type": "code",
   "execution_count": 8,
   "id": "96afe3ea-ed7a-4906-af8d-de757d4f6fe9",
   "metadata": {},
   "outputs": [
    {
     "name": "stdout",
     "output_type": "stream",
     "text": [
      "psql:/dev/stdin:1: WARNING:  effective_cache_size of 4096 MB is set low for a system with 16 GB. Recomended value between 8192 MB and 12 GB\n",
      "psql:/dev/stdin:1: WARNING:  shared_buffers of 128 MB is set low for a system with 16 GB. Recomended value between 3277 MB and 4915 MB\n",
      "psql:/dev/stdin:1: WARNING:  maintenance_work_mem of 64 MB is set low for shared_buffers of 4915 MB. Recomended value between 983 MB and 1475 MB\n",
      "psql:/dev/stdin:1: WARNING:  work_mem setting of 4096 kB is set low for 100 max_connections you may consider raising work_mem to 49 MB or increasing max_connections to 1228\n",
      "psql:/dev/stdin:1: WARNING:  random_page_cost (4) /seq_page_cost (1) should be set to 1.1 for SSD. Change random_page_cost to 1.1\n",
      "psql:/dev/stdin:1: WARNING:  pgstac makes heavy use of temp tables, consider raising temp_buffers from 8192 kB to 307 MB\n",
      "psql:/dev/stdin:1: NOTICE:  VALUES FOR PGSTAC VARIABLES\n",
      "psql:/dev/stdin:1: NOTICE:  These can be set either as GUC system variables or by setting in the pgstac_settings table.\n",
      "psql:/dev/stdin:1: NOTICE:  context is set to off from the pgstac_settings table\n",
      "psql:/dev/stdin:1: NOTICE:  context_estimated_count is set to 100000 from the pgstac_settings table\n",
      "psql:/dev/stdin:1: NOTICE:  context_estimated_cost is set to 100000 from the pgstac_settings table\n",
      "psql:/dev/stdin:1: NOTICE:  context_stats_ttl is set to 1 day from the pgstac_settings table\n",
      "psql:/dev/stdin:1: NOTICE:  default_filter_lang is set to cql2-json from the pgstac_settings table\n",
      "psql:/dev/stdin:1: NOTICE:  additional_properties is set to true from the pgstac_settings table\n",
      "psql:/dev/stdin:1: NOTICE:  use_queue is set to false from the pgstac_settings table\n",
      "psql:/dev/stdin:1: NOTICE:  queue_timeout is set to 10 minutes from the pgstac_settings table\n",
      "psql:/dev/stdin:1: NOTICE:  update_collection_extent is set to false from the pgstac_settings table\n",
      "psql:/dev/stdin:1: NOTICE:  format_cache is set to false from the pgstac_settings table\n",
      "psql:/dev/stdin:1: NOTICE:  Consider intalling pg_cron which can be used to automate tasks\n",
      "psql:/dev/stdin:1: NOTICE:  Consider installing the pgstattuple extension which can be used to help maintain tables and indexes.\n",
      "psql:/dev/stdin:1: NOTICE:  Consider installing the pg_stat_statements extension which is very helpful for tracking the types of queries on the system\n",
      "\n"
     ]
    },
    {
     "data": {
      "text/html": [
       "<table border=\"1\">\n",
       "  <tr>\n",
       "    <th align=\"center\">check_pgstac_settings</th>\n",
       "  </tr>\n",
       "  <tr valign=\"top\">\n",
       "    <td align=\"left\">&nbsp; </td>\n",
       "  </tr>\n",
       "</table>\n",
       "<p>(1 row)<br />\n",
       "</p>\n"
      ],
      "text/plain": [
       "<IPython.core.display.HTML object>"
      ]
     },
     "metadata": {},
     "output_type": "display_data"
    }
   ],
   "source": [
    "%%psql\n",
    "SELECT check_pgstac_settings('16GB');\n"
   ]
  },
  {
   "cell_type": "markdown",
   "id": "cc4aabdd-51c2-4200-86ff-4b2eaf32a1b0",
   "metadata": {},
   "source": [
    "### Important Settings That You Should Always Review\n",
    "\n",
    "#### [effective_cache_size](http://www.Postgres.org/docs/current/static/runtime-config-resource.html#GUC-SHARED-BUFFERS)\n",
    "This is the amount of memory that is estimated to be left on the system for the OS and all other processes. This is generally 1/2 to 3/4 of the total system memory.\n",
    "\n",
    "#### [shared_buffers](http://www.Postgres.org/docs/current/static/runtime-config-resource.html#GUC-SHARED-BUFFERS)\n",
    "This setting is used to tell the database how much memory is available to dedicate to Postgres for caching data. General rule-of-thumb is to set this to 1/4 of the total system memory.\n",
    "\n",
    "#### [work_mem](http://www.Postgres.org/docs/current/static/runtime-config-resource.html#GUC-WORK-MEM) and [max_connections](http://www.Postgres.org/docs/current/static/runtime-config-connection.html#GUC-MAX-CONNECTIONS)\n",
    "This is the memory that is allowed to be used per sort operation per connection for things like sorting and complex queries. This setting will really vary with the use of the database and the number of max connections that are needed in the database. In general `max_connections * work_mem` should be less than the setting for `shared_buffers`. If you have individual queries that you know will be doing larger sorts, the `work_mem` setting can be set at run time: `SET work_mem TO '40MB';`\n",
    "\n",
    "#### [maintenance_work_mem](http://www.Postgres.org/docs/current/static/runtime-config-resource.html#GUC-MAINTENANCE-WORK-MEM)\n",
    "This is the amount of memory that is made available for operations such as Vacuuming the database and Creating Indexes. This memory will only be used once at a given time, so it is OK to set this significantly higher than work_mem. 1/4 of the `shared_buffers` is a reasonable place to set this.\n",
    "\n",
    "#### [seq_page_cost](http://www.Postgres.org/docs/current/static/runtime-config-query.html#GUC-SEQUENTIAL-PAGE-COST) and [random_page_cost](https://www.Postgres.org/docs/current/runtime-config-query.html#GUC-RANDOM-PAGE-COST)\n",
    "These two variables are interpreted together and it is the ratio of `random_page_cost / seq_page_cost` that really matters. Generally, `seq_page_cost` should be left at the default of 1 and random_page_cost should be changed to reflect the nature of the underlying storage. The default for `random_page_cost` is set to 4 which is appropriate for Spinning Hard Disk Drives. For use with Solid State Drives (which is almost always what a modern hosted platform such as RDS uses), this should be set to 1.1. Having `random_page_cost` set too high can lead to wayyyy slower queries as the Postgres query planner will tend to prefer sequential scans over index scans for many queries.\n",
    "\n",
    "#### [temp_buffers](https://www.Postgres.org/docs/current/runtime-config-resource.html#GUC_TEMP_BUFFERS)\n",
    "If using Temporary Tables, increasing this setting can help to avoid spilling to disk. "
   ]
  },
  {
   "cell_type": "code",
   "execution_count": 9,
   "id": "39a0e696-1d62-4568-823c-82eb6dae8745",
   "metadata": {},
   "outputs": [
    {
     "name": "stdout",
     "output_type": "stream",
     "text": [
      "\n"
     ]
    },
    {
     "data": {
      "text/html": [
       "<p>ALTER SYSTEM</p>\n",
       "<p>ALTER SYSTEM</p>\n",
       "<p>ALTER SYSTEM</p>\n",
       "<p>ALTER SYSTEM</p>\n",
       "<p>ALTER SYSTEM</p>\n",
       "<p>ALTER SYSTEM</p>\n",
       "<p>ALTER SYSTEM</p>\n",
       "<table border=\"1\">\n",
       "  <tr>\n",
       "    <th align=\"center\">pg_reload_conf</th>\n",
       "  </tr>\n",
       "  <tr valign=\"top\">\n",
       "    <td align=\"left\">t</td>\n",
       "  </tr>\n",
       "</table>\n",
       "<p>(1 row)<br />\n",
       "</p>\n"
      ],
      "text/plain": [
       "<IPython.core.display.HTML object>"
      ]
     },
     "metadata": {},
     "output_type": "display_data"
    }
   ],
   "source": [
    "%%psql\n",
    "ALTER SYSTEM SET EFFECTIVE_CACHE_SIZE TO '12GB';\n",
    "ALTER SYSTEM SET SHARED_BUFFERS TO '4GB';\n",
    "ALTER SYSTEM SET WORK_MEM TO '128MB';\n",
    "ALTER SYSTEM SET MAINTENANCE_WORK_MEM TO '512MB';\n",
    "ALTER SYSTEM SET MAX_CONNECTIONS TO 20;\n",
    "ALTER SYSTEM SET RANDOM_PAGE_COST TO 1.1;\n",
    "ALTER SYSTEM SET TEMP_BUFFERS TO '512MB';\n",
    "SELECT pg_reload_conf();\n"
   ]
  },
  {
   "cell_type": "markdown",
   "id": "173af9a5-4ab2-4d8c-9b46-10ca9dcc155e",
   "metadata": {},
   "source": [
    "Note that these settings could also be set in the postgres.conf settings file on the database server or using the configuration editing tools provided by most Database as a Service providers. "
   ]
  },
  {
   "cell_type": "markdown",
   "id": "c29b2f22-e232-480f-8a98-523fc7dd7810",
   "metadata": {},
   "source": [
    "## PgSTAC Roles\n",
    "PgSTAC installs three roles with different limitations.\n",
    "- \"pgstac_admin\" is the owner of the pgstac schema and all items in the schema. This role has the ability to use or modify anything in pgstac and should be used sparingly.\n",
    "- \"pgstac_ingest\" has read/write permissions to create items and collections in PgSTAC, but not to modify any of the PgSTAC utilities. This role should be used when you need access to ingest or modify data in the PgSTAC Catalog.\n",
    "- \"pgstac_read\" is the primary role that should be used when accessing PgSTAC when not writing any data. It is not, however, a strictly read-only role as there are still cache and statistics tables which the role will write to behind the scenes.\n",
    "\n",
    "### Assuming a role\n",
    "The role that we are using so far is an administrative or root user of the database. While you need to use a role with sufficient priviliges to create a schema, you should never use this role when accessing Postgres for working with PgSTAC. The PgSTAC roles are not set up by default to be able to login to the database, but we can use Role Inheritance to be able to assign another role with all the privileges of one of hte PgSTAC roles.\n",
    "\n",
    "Best practice would be to create a role that is used for ingest or transactional tasks and one that is used when just reading STAC Items and Collections."
   ]
  },
  {
   "cell_type": "code",
   "execution_count": 10,
   "id": "c3693b99-b612-4a1b-987b-f471964d49ec",
   "metadata": {},
   "outputs": [
    {
     "name": "stdout",
     "output_type": "stream",
     "text": [
      "\n"
     ]
    },
    {
     "data": {
      "text/plain": [
       "'CREATE ROLE'"
      ]
     },
     "metadata": {},
     "output_type": "display_data"
    },
    {
     "data": {
      "text/plain": [
       "'CREATE ROLE'"
      ]
     },
     "metadata": {},
     "output_type": "display_data"
    }
   ],
   "source": [
    "%%psql -U adminrole\n",
    "CREATE ROLE stacrw WITH LOGIN PASSWORD 'password' IN ROLE pgstac_ingest;\n",
    "CREATE ROLE stacr WITH LOGIN PASSWORD 'password' IN ROLE pgstac_read;\n"
   ]
  },
  {
   "cell_type": "markdown",
   "id": "b572bed8-6e2a-4cab-98df-d81ab4f34038",
   "metadata": {},
   "source": [
    "## PgSTAC Data Layout\n",
    "PgSTAC does not directly store STAC Items and Collections as JSON. Rather it pulls some of the information out into properly typed separate columns that can more effectively be used for searching through STAC Items. This data layout is intended to be a back-end implementation and particularly for the \"items\" table these tables should not be used directly for SELECT/INSERT/DELETE."
   ]
  },
  {
   "cell_type": "markdown",
   "id": "ee81d500-3fcb-44e4-8830-355d82168d8f",
   "metadata": {},
   "source": [
    "### Items Table\n",
    "If we look a little closer at the \"items\" table, we can see that it is actually a parent partition. No data is actually stored directly in the items table, but rather in children partitions that are created through the use of triggers on the \"collections\" table. Right now, you can see that we have a foreign key constraint on the \"collections\" table (so, you must have a collection added to PgSTAC before adding any \"items\"). As of now, there are no partitions as we have not added any data yet.\n",
    "\n",
    "#### Items Table Layout\n",
    "- id: This is the id from the original JSON Item\n",
    "- geometry: The geojson from the original JSON item has been extracted and saved as a PostGIS Geometry column.\n",
    "- collection: The Collection id which is set as a Foreign Key Constraint\n",
    "- datetime: If the Item JSON has properties.datetime set, this comes from that, otherwise it comes from properties.start_datetime\n",
    "- end_datetime: If the Item JSON has properties.datetime set, this comes from that, otherwise it comes from properties.end_datetime\n",
    "- content: This is the remainder of the original JSON Item after removing the geometry, id, and collection as well as well as using a form of compression based on the common item_assets stored with a collection. This is discussed further under \"Hydration\".\n",
    "- private: This field is currently not used directly by PgSTAC, but it is to provide a place where additional private metadata about an item that is not part of the public STAC record (ie access constraints, etc) could be stored.\n",
    "\n",
    "Note that we always have a date range that we can use between datetime and end_datetime (where in the case of a \"datetime\" in the original JSON represents an instant in time."
   ]
  },
  {
   "cell_type": "code",
   "execution_count": 11,
   "id": "02afa5b9-2c85-49dd-8ae5-4133dbc57fcf",
   "metadata": {},
   "outputs": [
    {
     "name": "stdout",
     "output_type": "stream",
     "text": [
      "\n"
     ]
    },
    {
     "data": {
      "text/html": [
       "<table border=\"1\">\n",
       "  <caption>Partitioned table &quot;pgstac.items&quot;</caption>\n",
       "  <tr>\n",
       "    <th align=\"center\">Column</th>\n",
       "    <th align=\"center\">Type</th>\n",
       "    <th align=\"center\">Collation</th>\n",
       "    <th align=\"center\">Nullable</th>\n",
       "    <th align=\"center\">Default</th>\n",
       "    <th align=\"center\">Storage</th>\n",
       "    <th align=\"center\">Stats target</th>\n",
       "    <th align=\"center\">Description</th>\n",
       "  </tr>\n",
       "  <tr valign=\"top\">\n",
       "    <td align=\"left\">id</td>\n",
       "    <td align=\"left\">text</td>\n",
       "    <td align=\"left\">&nbsp; </td>\n",
       "    <td align=\"left\">not null</td>\n",
       "    <td align=\"left\">&nbsp; </td>\n",
       "    <td align=\"left\">extended</td>\n",
       "    <td align=\"left\">&nbsp; </td>\n",
       "    <td align=\"left\">&nbsp; </td>\n",
       "  </tr>\n",
       "  <tr valign=\"top\">\n",
       "    <td align=\"left\">geometry</td>\n",
       "    <td align=\"left\">geometry</td>\n",
       "    <td align=\"left\">&nbsp; </td>\n",
       "    <td align=\"left\">not null</td>\n",
       "    <td align=\"left\">&nbsp; </td>\n",
       "    <td align=\"left\">main</td>\n",
       "    <td align=\"left\">&nbsp; </td>\n",
       "    <td align=\"left\">&nbsp; </td>\n",
       "  </tr>\n",
       "  <tr valign=\"top\">\n",
       "    <td align=\"left\">collection</td>\n",
       "    <td align=\"left\">text</td>\n",
       "    <td align=\"left\">&nbsp; </td>\n",
       "    <td align=\"left\">not null</td>\n",
       "    <td align=\"left\">&nbsp; </td>\n",
       "    <td align=\"left\">extended</td>\n",
       "    <td align=\"left\">&nbsp; </td>\n",
       "    <td align=\"left\">&nbsp; </td>\n",
       "  </tr>\n",
       "  <tr valign=\"top\">\n",
       "    <td align=\"left\">datetime</td>\n",
       "    <td align=\"left\">timestamp with time zone</td>\n",
       "    <td align=\"left\">&nbsp; </td>\n",
       "    <td align=\"left\">not null</td>\n",
       "    <td align=\"left\">&nbsp; </td>\n",
       "    <td align=\"left\">plain</td>\n",
       "    <td align=\"left\">&nbsp; </td>\n",
       "    <td align=\"left\">&nbsp; </td>\n",
       "  </tr>\n",
       "  <tr valign=\"top\">\n",
       "    <td align=\"left\">end_datetime</td>\n",
       "    <td align=\"left\">timestamp with time zone</td>\n",
       "    <td align=\"left\">&nbsp; </td>\n",
       "    <td align=\"left\">not null</td>\n",
       "    <td align=\"left\">&nbsp; </td>\n",
       "    <td align=\"left\">plain</td>\n",
       "    <td align=\"left\">&nbsp; </td>\n",
       "    <td align=\"left\">&nbsp; </td>\n",
       "  </tr>\n",
       "  <tr valign=\"top\">\n",
       "    <td align=\"left\">content</td>\n",
       "    <td align=\"left\">jsonb</td>\n",
       "    <td align=\"left\">&nbsp; </td>\n",
       "    <td align=\"left\">not null</td>\n",
       "    <td align=\"left\">&nbsp; </td>\n",
       "    <td align=\"left\">extended</td>\n",
       "    <td align=\"left\">&nbsp; </td>\n",
       "    <td align=\"left\">&nbsp; </td>\n",
       "  </tr>\n",
       "</table>\n",
       "<p>Partition key: LIST (collection)<br />\n",
       "Indexes:<br />\n",
       "&nbsp;&nbsp;&nbsp;&nbsp;&quot;datetime_idx&quot; btree (datetime DESC, end_datetime)<br />\n",
       "&nbsp;&nbsp;&nbsp;&nbsp;&quot;geometry_idx&quot; gist (geometry)<br />\n",
       "Foreign-key constraints:<br />\n",
       "&nbsp;&nbsp;&nbsp;&nbsp;&quot;items_collections_fk&quot; FOREIGN KEY (collection) REFERENCES collections(id) ON DELETE CASCADE DEFERRABLE<br />\n",
       "Statistics objects:<br />\n",
       "&nbsp;&nbsp;&nbsp;&nbsp;&quot;pgstac&quot;.&quot;datetime_stats&quot; (dependencies) ON datetime, end_datetime FROM items<br />\n",
       "Triggers:<br />\n",
       "&nbsp;&nbsp;&nbsp;&nbsp;items_after_delete_trigger AFTER UPDATE ON items REFERENCING NEW TABLE AS newdata FOR EACH STATEMENT EXECUTE FUNCTION partition_after_triggerfunc()<br />\n",
       "&nbsp;&nbsp;&nbsp;&nbsp;items_after_insert_trigger AFTER INSERT ON items REFERENCING NEW TABLE AS newdata FOR EACH STATEMENT EXECUTE FUNCTION partition_after_triggerfunc()<br />\n",
       "&nbsp;&nbsp;&nbsp;&nbsp;items_after_update_trigger AFTER DELETE ON items REFERENCING OLD TABLE AS newdata FOR EACH STATEMENT EXECUTE FUNCTION partition_after_triggerfunc()<br />\n",
       "Number of partitions: 0<br />\n",
       "</p>\n"
      ],
      "text/plain": [
       "<IPython.core.display.HTML object>"
      ]
     },
     "metadata": {},
     "output_type": "display_data"
    }
   ],
   "source": [
    "%%psql\n",
    "\\d+ items\n"
   ]
  },
  {
   "cell_type": "markdown",
   "id": "a6b1ae10-de08-4e6f-8235-ad85c3422b5e",
   "metadata": {},
   "source": [
    "### Collections Table\n",
    "You'll notice that the \"collections\" table is layed out fairly similary to the Items table. These common columns help enable using the same tooling for search for both Items and Collections. As the \"collections\" table is generally much much smaller than the \"items\" table, there are fewer concerns for scalability and this table is not partitioned as is the \"items\" table.\n",
    "\n",
    "#### Collections Table Layout\n",
    "- key: This is an integer primary key that is generated upon creation\n",
    "- id: This is the id from the original JSON Collection\n",
    "- geometry: The total bounds from the Collection extent.spatial_extent has been extracted and saved as a PostGIS Geometry column.\n",
    "- datetime: The start of the Collection extent.temporal_extent\n",
    "- end_datetime: The end of the Collection extent.temporal_extent\n",
    "- content: The full original Collection JSON\n",
    "- base_item: This is used internally for \"Hydration\" process used to help compress Item records\n",
    "- private: This field is currently not used directly by PgSTAC, but it is to provide a place where additional private metadata about an item that is not part of the public STAC record (ie access constraints, etc) could be stored.\n",
    "- partition_trunc: This is used to control how finely partitioned the Items for a Collection are in the \"items\" table."
   ]
  },
  {
   "cell_type": "code",
   "execution_count": 12,
   "id": "3e5aa1f6-8fee-41ee-abe9-d32cf04eacaf",
   "metadata": {},
   "outputs": [
    {
     "name": "stdout",
     "output_type": "stream",
     "text": [
      "\n"
     ]
    },
    {
     "data": {
      "text/html": [
       "<table border=\"1\">\n",
       "  <caption>Table &quot;pgstac.collections&quot;</caption>\n",
       "  <tr>\n",
       "    <th align=\"center\">Column</th>\n",
       "    <th align=\"center\">Type</th>\n",
       "    <th align=\"center\">Collation</th>\n",
       "    <th align=\"center\">Nullable</th>\n",
       "    <th align=\"center\">Default</th>\n",
       "  </tr>\n",
       "  <tr valign=\"top\">\n",
       "    <td align=\"left\">key</td>\n",
       "    <td align=\"left\">bigint</td>\n",
       "    <td align=\"left\">&nbsp; </td>\n",
       "    <td align=\"left\">not null</td>\n",
       "    <td align=\"left\">generated always as identity</td>\n",
       "  </tr>\n",
       "  <tr valign=\"top\">\n",
       "    <td align=\"left\">id</td>\n",
       "    <td align=\"left\">text</td>\n",
       "    <td align=\"left\">&nbsp; </td>\n",
       "    <td align=\"left\">&nbsp; </td>\n",
       "    <td align=\"left\">generated always as (content -&gt;&gt; 'id'::text) stored</td>\n",
       "  </tr>\n",
       "  <tr valign=\"top\">\n",
       "    <td align=\"left\">content</td>\n",
       "    <td align=\"left\">jsonb</td>\n",
       "    <td align=\"left\">&nbsp; </td>\n",
       "    <td align=\"left\">not null</td>\n",
       "    <td align=\"left\">&nbsp; </td>\n",
       "  </tr>\n",
       "  <tr valign=\"top\">\n",
       "    <td align=\"left\">base_item</td>\n",
       "    <td align=\"left\">jsonb</td>\n",
       "    <td align=\"left\">&nbsp; </td>\n",
       "    <td align=\"left\">&nbsp; </td>\n",
       "    <td align=\"left\">generated always as (collection_base_item(content)) stored</td>\n",
       "  </tr>\n",
       "  <tr valign=\"top\">\n",
       "    <td align=\"left\">partition_trunc</td>\n",
       "    <td align=\"left\">text</td>\n",
       "    <td align=\"left\">&nbsp; </td>\n",
       "    <td align=\"left\">&nbsp; </td>\n",
       "    <td align=\"left\">&nbsp; </td>\n",
       "  </tr>\n",
       "</table>\n",
       "<p>Indexes:<br />\n",
       "&nbsp;&nbsp;&nbsp;&nbsp;&quot;collections_pkey&quot; PRIMARY KEY, btree (key)<br />\n",
       "&nbsp;&nbsp;&nbsp;&nbsp;&quot;collections_id_key&quot; UNIQUE CONSTRAINT, btree (id)<br />\n",
       "Check constraints:<br />\n",
       "&nbsp;&nbsp;&nbsp;&nbsp;&quot;collections_partition_trunc_check&quot; CHECK (partition_trunc = ANY (ARRAY['year'::text, 'month'::text]))<br />\n",
       "Referenced by:<br />\n",
       "&nbsp;&nbsp;&nbsp;&nbsp;TABLE &quot;items&quot; CONSTRAINT &quot;items_collections_fk&quot; FOREIGN KEY (collection) REFERENCES collections(id) ON DELETE CASCADE DEFERRABLE<br />\n",
       "Triggers:<br />\n",
       "&nbsp;&nbsp;&nbsp;&nbsp;collection_delete_trigger BEFORE DELETE ON collections FOR EACH ROW EXECUTE FUNCTION collection_delete_trigger_func()<br />\n",
       "&nbsp;&nbsp;&nbsp;&nbsp;collections_trigger AFTER INSERT OR UPDATE ON collections FOR EACH ROW EXECUTE FUNCTION collections_trigger_func()<br />\n",
       "</p>\n"
      ],
      "text/plain": [
       "<IPython.core.display.HTML object>"
      ]
     },
     "metadata": {},
     "output_type": "display_data"
    }
   ],
   "source": [
    "%%psql\n",
    "\\d collections\n"
   ]
  },
  {
   "cell_type": "markdown",
   "id": "bc4fd282",
   "metadata": {},
   "source": [
    "## Loading Data\n",
    "A number of things must happen when we load data into PgSTAC\n",
    "- All data must be transformed into the table layout for Items and Collections\n",
    "- An Items Collection must be loaded prior to any Items for that Collection\n",
    " - When adding a collection, it should be configured for the appropriate partitioning strategy.\n",
    "- For Items, PgSTAC must create any partitions that are needed prior to actually loading the data in place.\n",
    "- With partitioned data, Postgres allows for the creation of constraints that allow the Postgres query planner to skip partitions based on query predicates. When loading data, if new data must be checked and the constraints must be modified if necessary.\n",
    "\n",
    "The management of partitions and constraints can take out fairly aggressive locks on the database when done within the same transaction as loading large amounts of data. This adds a lot more overhead to any transaction loading data into the database than normal Postgres or database loads. When planning how to load data into PgSTAC, it can be very beneficial to try to group inserts into larger chunks of data (but not too large, ~10,000 seems to be a happy medium). PgSTAC should be able to reasonably handle concurrent data loads, but as the locks taken out when modifying partitions/constraints are generally at the partition level, it is good to try to avoid concurrent writes of data into the same partitions.\n",
    "\n",
    "### Pypgstac Loader\n",
    "To help mitigate some of the issues with data loading, pypgstac comes with a tool to help bulk load data into PgSTAC. When creating pipelines or doing bulk loading of data into PgSTAC, this should be the preferred method. Data can be loaded via the STAC API when exposed by STAC FastAPI, but when loading via an exposed API, the entire load is done as a single transaction and it also requires a double network hop for all the data (Client -> FastAPI -> PgSTAC)."
   ]
  },
  {
   "cell_type": "markdown",
   "id": "a2c3d2f5",
   "metadata": {},
   "source": [
    "#### Load Collection"
   ]
  },
  {
   "cell_type": "code",
   "execution_count": 13,
   "id": "3f1cf939",
   "metadata": {},
   "outputs": [
    {
     "name": "stdout",
     "output_type": "stream",
     "text": [
      "DEBUG:pypgstac.db:VERSION: 0.7.10\n",
      "INFO:pypgstac.db:NOTICE - table \"tmp_collections\" does not exist, skipping\n",
      "DEBUG:smart_open.smart_open_lib:{'uri': 'collections.ndjson.gz', 'mode': 'r', 'buffering': -1, 'encoding': None, 'errors': None, 'newline': None, 'closefd': True, 'opener': None, 'compression': 'infer_from_extension', 'transport_params': None}\n",
      "DEBUG:smart_open.smart_open_lib:encoding_wrapper: {'fileobj': <gzip _io.BufferedReader name='collections.ndjson.gz' 0x7f19c13c5250>, 'mode': 'r', 'encoding': 'UTF-8', 'errors': None, 'newline': None}\n",
      "INFO:pypgstac.db:NOTICE - Collection Trigger. modis-13Q1-061 1\n",
      "DEBUG:pypgstac.load:INSERT 0 1\n",
      "DEBUG:pypgstac.load:Rows affected: 1\n"
     ]
    }
   ],
   "source": [
    "!pypgstac load collections collections.ndjson.gz --debug\n"
   ]
  },
  {
   "cell_type": "markdown",
   "id": "157d2340-28ca-42c1-9747-5b6eb7a9d5e6",
   "metadata": {},
   "source": [
    "Now if we try to run this again, you'll notice that the insert will fail because the Collection already exists. By default, the loader will not do any conflict management when loading data and so will fail if you try to load a Collection or an Item that already exists. There is an option for pypgstac that allows us to either ignore any duplicates, or to update any existing Collection/Item with the new record."
   ]
  },
  {
   "cell_type": "code",
   "execution_count": 14,
   "id": "fca5a3ba",
   "metadata": {},
   "outputs": [
    {
     "name": "stdout",
     "output_type": "stream",
     "text": [
      "DEBUG:pypgstac.db:VERSION: 0.7.10\n",
      "INFO:pypgstac.db:NOTICE - table \"tmp_collections\" does not exist, skipping\n",
      "DEBUG:smart_open.smart_open_lib:{'uri': 'collections.ndjson.gz', 'mode': 'r', 'buffering': -1, 'encoding': None, 'errors': None, 'newline': None, 'closefd': True, 'opener': None, 'compression': 'infer_from_extension', 'transport_params': None}\n",
      "DEBUG:smart_open.smart_open_lib:encoding_wrapper: {'fileobj': <gzip _io.BufferedReader name='collections.ndjson.gz' 0x7f6138521250>, 'mode': 'r', 'encoding': 'UTF-8', 'errors': None, 'newline': None}\n",
      "Traceback (most recent call last):\n",
      "  File \"/usr/local/bin/pypgstac\", line 8, in <module>\n",
      "    sys.exit(cli())\n",
      "  File \"/usr/local/lib/python3.9/site-packages/pypgstac/pypgstac.py\", line 118, in cli\n",
      "    fire.Fire(PgstacCLI)\n",
      "  File \"/usr/local/lib/python3.9/site-packages/fire/core.py\", line 141, in Fire\n",
      "    component_trace = _Fire(component, args, parsed_flag_args, context, name)\n",
      "  File \"/usr/local/lib/python3.9/site-packages/fire/core.py\", line 466, in _Fire\n",
      "    component, remaining_args = _CallAndUpdateTrace(\n",
      "  File \"/usr/local/lib/python3.9/site-packages/fire/core.py\", line 681, in _CallAndUpdateTrace\n",
      "    component = fn(*varargs, **kwargs)\n",
      "  File \"/usr/local/lib/python3.9/site-packages/pypgstac/pypgstac.py\", line 70, in load\n",
      "    loader.load_collections(file, method)\n",
      "  File \"/usr/local/lib/python3.9/site-packages/pypgstac/load.py\", line 220, in load_collections\n",
      "    cur.execute(\n",
      "  File \"/usr/local/lib/python3.9/site-packages/psycopg/cursor.py\", line 737, in execute\n",
      "    raise ex.with_traceback(None)\n",
      "psycopg.errors.UniqueViolation: duplicate key value violates unique constraint \"collections_id_key\"\n",
      "DETAIL:  Key (id)=(modis-13Q1-061) already exists.\n"
     ]
    }
   ],
   "source": [
    "!pypgstac load collections collections.ndjson.gz --debug\n"
   ]
  },
  {
   "cell_type": "code",
   "execution_count": 15,
   "id": "3b1b00dd",
   "metadata": {},
   "outputs": [
    {
     "name": "stdout",
     "output_type": "stream",
     "text": [
      "DEBUG:pypgstac.db:VERSION: 0.7.10\n",
      "INFO:pypgstac.db:NOTICE - table \"tmp_collections\" does not exist, skipping\n",
      "DEBUG:smart_open.smart_open_lib:{'uri': 'collections.ndjson.gz', 'mode': 'r', 'buffering': -1, 'encoding': None, 'errors': None, 'newline': None, 'closefd': True, 'opener': None, 'compression': 'infer_from_extension', 'transport_params': None}\n",
      "DEBUG:smart_open.smart_open_lib:encoding_wrapper: {'fileobj': <gzip _io.BufferedReader name='collections.ndjson.gz' 0x7faeb5be3070>, 'mode': 'r', 'encoding': 'UTF-8', 'errors': None, 'newline': None}\n",
      "DEBUG:pypgstac.load:INSERT 0 0\n",
      "DEBUG:pypgstac.load:Rows affected: 0\n"
     ]
    }
   ],
   "source": [
    "!pypgstac load collections collections.ndjson.gz --debug --method ignore\n"
   ]
  },
  {
   "cell_type": "code",
   "execution_count": 16,
   "id": "91ca9dc6",
   "metadata": {},
   "outputs": [
    {
     "name": "stdout",
     "output_type": "stream",
     "text": [
      "DEBUG:pypgstac.db:VERSION: 0.7.10\n",
      "INFO:pypgstac.db:NOTICE - table \"tmp_collections\" does not exist, skipping\n",
      "DEBUG:smart_open.smart_open_lib:{'uri': 'collections.ndjson.gz', 'mode': 'r', 'buffering': -1, 'encoding': None, 'errors': None, 'newline': None, 'closefd': True, 'opener': None, 'compression': 'infer_from_extension', 'transport_params': None}\n",
      "DEBUG:smart_open.smart_open_lib:encoding_wrapper: {'fileobj': <gzip _io.BufferedReader name='collections.ndjson.gz' 0x7f26d7dd3070>, 'mode': 'r', 'encoding': 'UTF-8', 'errors': None, 'newline': None}\n",
      "INFO:pypgstac.db:NOTICE - Collection Trigger. modis-13Q1-061 1\n",
      "DEBUG:pypgstac.load:INSERT 0 1\n",
      "DEBUG:pypgstac.load:Rows affected: 1\n"
     ]
    }
   ],
   "source": [
    "!pypgstac load collections collections.ndjson.gz --debug --method upsert\n"
   ]
  },
  {
   "cell_type": "markdown",
   "id": "6099c6cf",
   "metadata": {},
   "source": [
    "#### Load Items"
   ]
  },
  {
   "cell_type": "code",
   "execution_count": 17,
   "id": "e2184e85",
   "metadata": {},
   "outputs": [
    {
     "name": "stdout",
     "output_type": "stream",
     "text": [
      "DEBUG:pypgstac.db:VERSION: 0.7.10\n",
      "DEBUG:smart_open.smart_open_lib:{'uri': 'items.ndjson.gz', 'mode': 'r', 'buffering': -1, 'encoding': None, 'errors': None, 'newline': None, 'closefd': True, 'opener': None, 'compression': 'infer_from_extension', 'transport_params': None}\n",
      "DEBUG:smart_open.smart_open_lib:encoding_wrapper: {'fileobj': <gzip _io.BufferedReader name='items.ndjson.gz' 0x7f5a1fe55dc0>, 'mode': 'r', 'encoding': 'UTF-8', 'errors': None, 'newline': None}\n",
      "DEBUG:pypgstac.load:Found modis-13Q1-061 with base_item {'type': 'Feature', 'assets': {'hdf': {'type': 'application/x-hdf', 'roles': ['data'], 'title': 'Source data containing all bands'}, 'metadata': {'type': 'application/xml', 'roles': ['metadata'], 'title': 'Federal Geographic Data Committee (FGDC) Metadata'}, '250m_16_days_EVI': {'type': 'image/tiff; application=geotiff; profile=cloud-optimized', 'roles': ['data'], 'title': '16 day EVI', 'raster:bands': [{'unit': 'EVI', 'scale': 0.0001, 'data_type': 'int16', 'spatial_resolution': 250}]}, '250m_16_days_NDVI': {'type': 'image/tiff; application=geotiff; profile=cloud-optimized', 'roles': ['data'], 'title': '16 day NDVI', 'raster:bands': [{'unit': 'NDVI', 'scale': 0.0001, 'data_type': 'int16', 'spatial_resolution': 250}]}, '250m_16_days_VI_Quality': {'type': 'image/tiff; application=geotiff; profile=cloud-optimized', 'roles': ['data'], 'title': 'VI quality indicators', 'raster:bands': [{'data_type': 'uint16', 'spatial_resolution': 250}]}, '250m_16_days_MIR_reflectance': {'type': 'image/tiff; application=geotiff; profile=cloud-optimized', 'roles': ['data'], 'title': 'Surface Reflectance Band 7', 'raster:bands': [{'scale': 0.0001, 'data_type': 'int16', 'spatial_resolution': 250}]}, '250m_16_days_NIR_reflectance': {'type': 'image/tiff; application=geotiff; profile=cloud-optimized', 'roles': ['data'], 'title': 'Surface Reflectance Band 2', 'raster:bands': [{'scale': 0.0001, 'data_type': 'int16', 'spatial_resolution': 250}]}, '250m_16_days_red_reflectance': {'type': 'image/tiff; application=geotiff; profile=cloud-optimized', 'roles': ['data'], 'title': 'Surface Reflectance Band 1', 'raster:bands': [{'scale': 0.0001, 'data_type': 'int16', 'spatial_resolution': 250}]}, '250m_16_days_blue_reflectance': {'type': 'image/tiff; application=geotiff; profile=cloud-optimized', 'roles': ['data'], 'title': 'Surface Reflectance Band 3', 'raster:bands': [{'scale': 0.0001, 'data_type': 'int16', 'spatial_resolution': 250}]}, '250m_16_days_sun_zenith_angle': {'type': 'image/tiff; application=geotiff; profile=cloud-optimized', 'roles': ['data'], 'title': 'Sun zenith angle of VI pixel', 'raster:bands': [{'unit': 'Degree', 'scale': 0.01, 'data_type': 'int16', 'spatial_resolution': 250}]}, '250m_16_days_pixel_reliability': {'type': 'image/tiff; application=geotiff; profile=cloud-optimized', 'roles': ['data'], 'title': 'Quality reliability of VI pixel', 'raster:bands': [{'unit': 'Rank', 'data_type': 'int8', 'spatial_resolution': 250}], 'classification:classes': [{'value': 0, 'description': 'Good data, use with confidence'}, {'value': 1, 'description': 'Marginal data, useful, but look at other QA information'}, {'value': 2, 'description': 'Snow/Ice Target covered with snow/ice'}, {'value': 3, 'description': 'Cloudy data'}]}, '250m_16_days_view_zenith_angle': {'type': 'image/tiff; application=geotiff; profile=cloud-optimized', 'roles': ['data'], 'title': 'View zenith angle of VI Pixel', 'raster:bands': [{'unit': 'Degree', 'scale': 0.01, 'data_type': 'int16', 'spatial_resolution': 250}]}, '250m_16_days_relative_azimuth_angle': {'type': 'image/tiff; application=geotiff; profile=cloud-optimized', 'roles': ['data'], 'title': 'Relative azimuth angle of VI pixel', 'raster:bands': [{'unit': 'Degree', 'scale': 0.01, 'data_type': 'int16', 'spatial_resolution': 250}]}, '250m_16_days_composite_day_of_the_year': {'type': 'image/tiff; application=geotiff; profile=cloud-optimized', 'roles': ['data'], 'title': 'Day of year VI pixel', 'raster:bands': [{'unit': 'Julian Day', 'data_type': 'int16', 'spatial_resolution': 250}]}}, 'collection': 'modis-13Q1-061', 'stac_version': '1.0.0'}\n",
      "DEBUG:pypgstac.load:Loading data for partition: Partition(name='_items_1', collection='modis-13Q1-061', datetime_range_min='2023-08-29T00:00:00Z', datetime_range_max='2023-09-30T00:00:00Z', end_datetime_range_min='2023-09-13T23:59:59Z', end_datetime_range_max='2023-10-15T23:59:59Z', requires_update=True).\n",
      "INFO:pypgstac.db:NOTICE - Creating partition _items_1 [-infinity,infinity]\n",
      "INFO:pypgstac.db:NOTICE - Creating Table Constraints for _items_1 [\"2023-08-29 00:00:00+00\",\"2023-09-30 00:00:00+00\"] [\"2023-09-13 23:59:59+00\",\"2023-10-15 23:59:59+00\"]\n",
      "INFO:pypgstac.db:NOTICE - constraint \"_items_1_dt\" of relation \"_items_1\" does not exist, skipping\n",
      "INFO:pypgstac.db:NOTICE - Updating stats for _items_1.\n",
      "INFO:pypgstac.db:NOTICE - Checking if we need to modify constraints.\n",
      "INFO:pypgstac.db:NOTICE - Checking if we need to update collection extents.\n",
      "INFO:pypgstac.db:NOTICE - Not updating collection extent for modis-13Q1-061\n",
      "DEBUG:pypgstac.load:Adding or updating partition _items_1 took 0.08110715599832474s\n",
      "INFO:pypgstac.db:NOTICE - table \"items_ingest_temp\" does not exist, skipping\n",
      "DEBUG:pypgstac.load:COPY 1400\n",
      "DEBUG:pypgstac.load:Copied rows: 1400\n",
      "DEBUG:pypgstac.load:INSERT 0 1400\n",
      "DEBUG:pypgstac.load:Rows affected: 1400\n",
      "INFO:pypgstac.db:NOTICE - Updating stats for _items_1.\n",
      "INFO:pypgstac.db:NOTICE - Checking if we need to modify constraints.\n",
      "INFO:pypgstac.db:NOTICE - Checking if we need to update collection extents.\n",
      "INFO:pypgstac.db:NOTICE - Not updating collection extent for modis-13Q1-061\n",
      "DEBUG:pypgstac.load:Copying data for Partition(name='_items_1', collection='modis-13Q1-061', datetime_range_min='2023-08-29T00:00:00Z', datetime_range_max='2023-09-30T00:00:00Z', end_datetime_range_min='2023-09-13T23:59:59Z', end_datetime_range_max='2023-10-15T23:59:59Z', requires_update=False) took 0.16941947399755009 seconds\n",
      "DEBUG:pypgstac.load:Adding data to database took 0.4023034350029775 seconds.\n"
     ]
    }
   ],
   "source": [
    "!pypgstac load items items.ndjson.gz --debug --method ignore\n"
   ]
  },
  {
   "cell_type": "markdown",
   "id": "3247858c",
   "metadata": {},
   "source": [
    "#### Partition Strategy\n",
    "By default, all Items are partitioned by Collection. "
   ]
  },
  {
   "cell_type": "code",
   "execution_count": 18,
   "id": "91291352",
   "metadata": {},
   "outputs": [
    {
     "name": "stdout",
     "output_type": "stream",
     "text": [
      "\n"
     ]
    },
    {
     "data": {
      "text/html": [
       "<table border=\"1\">\n",
       "  <caption>Partitioned table &quot;pgstac.items&quot;</caption>\n",
       "  <tr>\n",
       "    <th align=\"center\">Column</th>\n",
       "    <th align=\"center\">Type</th>\n",
       "    <th align=\"center\">Collation</th>\n",
       "    <th align=\"center\">Nullable</th>\n",
       "    <th align=\"center\">Default</th>\n",
       "    <th align=\"center\">Storage</th>\n",
       "    <th align=\"center\">Stats target</th>\n",
       "    <th align=\"center\">Description</th>\n",
       "  </tr>\n",
       "  <tr valign=\"top\">\n",
       "    <td align=\"left\">id</td>\n",
       "    <td align=\"left\">text</td>\n",
       "    <td align=\"left\">&nbsp; </td>\n",
       "    <td align=\"left\">not null</td>\n",
       "    <td align=\"left\">&nbsp; </td>\n",
       "    <td align=\"left\">extended</td>\n",
       "    <td align=\"left\">&nbsp; </td>\n",
       "    <td align=\"left\">&nbsp; </td>\n",
       "  </tr>\n",
       "  <tr valign=\"top\">\n",
       "    <td align=\"left\">geometry</td>\n",
       "    <td align=\"left\">geometry</td>\n",
       "    <td align=\"left\">&nbsp; </td>\n",
       "    <td align=\"left\">not null</td>\n",
       "    <td align=\"left\">&nbsp; </td>\n",
       "    <td align=\"left\">main</td>\n",
       "    <td align=\"left\">&nbsp; </td>\n",
       "    <td align=\"left\">&nbsp; </td>\n",
       "  </tr>\n",
       "  <tr valign=\"top\">\n",
       "    <td align=\"left\">collection</td>\n",
       "    <td align=\"left\">text</td>\n",
       "    <td align=\"left\">&nbsp; </td>\n",
       "    <td align=\"left\">not null</td>\n",
       "    <td align=\"left\">&nbsp; </td>\n",
       "    <td align=\"left\">extended</td>\n",
       "    <td align=\"left\">&nbsp; </td>\n",
       "    <td align=\"left\">&nbsp; </td>\n",
       "  </tr>\n",
       "  <tr valign=\"top\">\n",
       "    <td align=\"left\">datetime</td>\n",
       "    <td align=\"left\">timestamp with time zone</td>\n",
       "    <td align=\"left\">&nbsp; </td>\n",
       "    <td align=\"left\">not null</td>\n",
       "    <td align=\"left\">&nbsp; </td>\n",
       "    <td align=\"left\">plain</td>\n",
       "    <td align=\"left\">&nbsp; </td>\n",
       "    <td align=\"left\">&nbsp; </td>\n",
       "  </tr>\n",
       "  <tr valign=\"top\">\n",
       "    <td align=\"left\">end_datetime</td>\n",
       "    <td align=\"left\">timestamp with time zone</td>\n",
       "    <td align=\"left\">&nbsp; </td>\n",
       "    <td align=\"left\">not null</td>\n",
       "    <td align=\"left\">&nbsp; </td>\n",
       "    <td align=\"left\">plain</td>\n",
       "    <td align=\"left\">&nbsp; </td>\n",
       "    <td align=\"left\">&nbsp; </td>\n",
       "  </tr>\n",
       "  <tr valign=\"top\">\n",
       "    <td align=\"left\">content</td>\n",
       "    <td align=\"left\">jsonb</td>\n",
       "    <td align=\"left\">&nbsp; </td>\n",
       "    <td align=\"left\">not null</td>\n",
       "    <td align=\"left\">&nbsp; </td>\n",
       "    <td align=\"left\">extended</td>\n",
       "    <td align=\"left\">&nbsp; </td>\n",
       "    <td align=\"left\">&nbsp; </td>\n",
       "  </tr>\n",
       "</table>\n",
       "<p>Partition key: LIST (collection)<br />\n",
       "Indexes:<br />\n",
       "&nbsp;&nbsp;&nbsp;&nbsp;&quot;datetime_idx&quot; btree (datetime DESC, end_datetime)<br />\n",
       "&nbsp;&nbsp;&nbsp;&nbsp;&quot;geometry_idx&quot; gist (geometry)<br />\n",
       "Foreign-key constraints:<br />\n",
       "&nbsp;&nbsp;&nbsp;&nbsp;&quot;items_collections_fk&quot; FOREIGN KEY (collection) REFERENCES collections(id) ON DELETE CASCADE DEFERRABLE<br />\n",
       "Statistics objects:<br />\n",
       "&nbsp;&nbsp;&nbsp;&nbsp;&quot;pgstac&quot;.&quot;datetime_stats&quot; (dependencies) ON datetime, end_datetime FROM items<br />\n",
       "Triggers:<br />\n",
       "&nbsp;&nbsp;&nbsp;&nbsp;items_after_delete_trigger AFTER UPDATE ON items REFERENCING NEW TABLE AS newdata FOR EACH STATEMENT EXECUTE FUNCTION partition_after_triggerfunc()<br />\n",
       "&nbsp;&nbsp;&nbsp;&nbsp;items_after_insert_trigger AFTER INSERT ON items REFERENCING NEW TABLE AS newdata FOR EACH STATEMENT EXECUTE FUNCTION partition_after_triggerfunc()<br />\n",
       "&nbsp;&nbsp;&nbsp;&nbsp;items_after_update_trigger AFTER DELETE ON items REFERENCING OLD TABLE AS newdata FOR EACH STATEMENT EXECUTE FUNCTION partition_after_triggerfunc()<br />\n",
       "Partitions: _items_1 FOR VALUES IN ('modis-13Q1-061')<br />\n",
       "</p>\n",
       "<table border=\"1\">\n",
       "  <tr>\n",
       "    <th align=\"center\">partition</th>\n",
       "    <th align=\"center\">collection</th>\n",
       "    <th align=\"center\">level</th>\n",
       "    <th align=\"center\">reltuples</th>\n",
       "    <th align=\"center\">relhastriggers</th>\n",
       "    <th align=\"center\">partition_dtrange</th>\n",
       "    <th align=\"center\">constraint_dtrange</th>\n",
       "    <th align=\"center\">constraint_edtrange</th>\n",
       "    <th align=\"center\">dtrange</th>\n",
       "    <th align=\"center\">edtrange</th>\n",
       "    <th align=\"center\">spatial</th>\n",
       "    <th align=\"center\">last_updated</th>\n",
       "  </tr>\n",
       "  <tr valign=\"top\">\n",
       "    <td align=\"left\">_items_1</td>\n",
       "    <td align=\"left\">modis-13Q1-061</td>\n",
       "    <td align=\"right\">1</td>\n",
       "    <td align=\"right\">-1</td>\n",
       "    <td align=\"left\">t</td>\n",
       "    <td align=\"left\">[-infinity,infinity]</td>\n",
       "    <td align=\"left\">[&quot;2023-08-29 00:00:00+00&quot;,&quot;2023-09-30 00:00:00+00&quot;]</td>\n",
       "    <td align=\"left\">[&quot;2023-09-13 23:59:59+00&quot;,&quot;2023-10-15 23:59:59+00&quot;]</td>\n",
       "    <td align=\"left\">[&quot;2023-08-29 00:00:00+00&quot;,&quot;2023-09-30 00:00:00+00&quot;]</td>\n",
       "    <td align=\"left\">[&quot;2023-09-13 23:59:59+00&quot;,&quot;2023-10-15 23:59:59+00&quot;]</td>\n",
       "    <td align=\"left\">0103000000010000000500000000000020984F76C0000000C019974FC000000020984F76C000000040EA4D554000000080ACDC724000000040EA4D554000000080ACDC7240000000C019974FC000000020984F76C0000000C019974FC0</td>\n",
       "    <td align=\"left\">2023-10-23 04:07:47.911146+00</td>\n",
       "  </tr>\n",
       "</table>\n",
       "<p>(1 row)<br />\n",
       "</p>\n"
      ],
      "text/plain": [
       "<IPython.core.display.HTML object>"
      ]
     },
     "metadata": {},
     "output_type": "display_data"
    }
   ],
   "source": [
    "%%psql\n",
    "\\d+ items\n",
    "SELECT * FROM partitions WHERE collection='modis-13Q1-061';\n"
   ]
  },
  {
   "cell_type": "markdown",
   "id": "59de94cb",
   "metadata": {},
   "source": [
    "This now shows that there is a partition \"_items_1\" in the \"items\" table that contains all data for the 'modis-13Q1-061' data. PgSTAC can also be configured per Collection to further sub-partition data using the datetime by year or month. This is controlled by the \"partition_trunc\" column on the Collections table. There is a trigger on the Collections table that will make sure that all data is repartitioned on any change of that column. It should be noted, that it is FAR BETTER to modify the partition_trunc value before loading any data. Any time we change that value it requires a full lock on that Collection and a full rewrite of all that data.\n",
    "\n",
    "Sadly, while pulling together this workshop, I just found a bug that effects is affecting the trigger that updates the partition to the new partition strategy, there will be a fix for the bug, but won't be able to get it out before the workshop :-).\n",
    "\n",
    "For now, we will remove data from our collection, modify the partition strategy and reload our data into the new strategy.\n",
    "\n",
    "I will note one of the advantages of having partitions is that data management activities like dropping or truncating a table are much faster using partitions that selecting through all of the data to get a subset."
   ]
  },
  {
   "cell_type": "code",
   "execution_count": 19,
   "id": "f91b0dcf",
   "metadata": {},
   "outputs": [
    {
     "name": "stdout",
     "output_type": "stream",
     "text": [
      "psql:/dev/stdin:2: NOTICE:  Collection Trigger. modis-13Q1-061 1\n",
      "psql:/dev/stdin:2: NOTICE:  Converting modis-13Q1-061 to month partitioning via Trigger\n",
      "psql:/dev/stdin:2: NOTICE:  Updating partition stats 2023-10-23 04:07:48.329111+00\n",
      "psql:/dev/stdin:2: NOTICE:  t: 2023-10-23 04:07:48.329111+00 00:00:00.001042\n",
      "\n"
     ]
    },
    {
     "data": {
      "text/html": [
       "<p>TRUNCATE TABLE</p>\n",
       "<p>UPDATE 1</p>\n"
      ],
      "text/plain": [
       "<IPython.core.display.HTML object>"
      ]
     },
     "metadata": {},
     "output_type": "display_data"
    }
   ],
   "source": [
    "%%psql\n",
    "TRUNCATE _items_1;\n",
    "UPDATE collections SET partition_trunc='month';"
   ]
  },
  {
   "cell_type": "code",
   "execution_count": 20,
   "id": "be1e7ac6-f293-46d0-a356-223739f5ff72",
   "metadata": {},
   "outputs": [
    {
     "name": "stdout",
     "output_type": "stream",
     "text": [
      "DEBUG:pypgstac.db:VERSION: 0.7.10\n",
      "DEBUG:smart_open.smart_open_lib:{'uri': 'items.ndjson.gz', 'mode': 'r', 'buffering': -1, 'encoding': None, 'errors': None, 'newline': None, 'closefd': True, 'opener': None, 'compression': 'infer_from_extension', 'transport_params': None}\n",
      "DEBUG:smart_open.smart_open_lib:encoding_wrapper: {'fileobj': <gzip _io.BufferedReader name='items.ndjson.gz' 0x7fde22b2ad00>, 'mode': 'r', 'encoding': 'UTF-8', 'errors': None, 'newline': None}\n",
      "DEBUG:pypgstac.load:Found modis-13Q1-061 with base_item {'type': 'Feature', 'assets': {'hdf': {'type': 'application/x-hdf', 'roles': ['data'], 'title': 'Source data containing all bands'}, 'metadata': {'type': 'application/xml', 'roles': ['metadata'], 'title': 'Federal Geographic Data Committee (FGDC) Metadata'}, '250m_16_days_EVI': {'type': 'image/tiff; application=geotiff; profile=cloud-optimized', 'roles': ['data'], 'title': '16 day EVI', 'raster:bands': [{'unit': 'EVI', 'scale': 0.0001, 'data_type': 'int16', 'spatial_resolution': 250}]}, '250m_16_days_NDVI': {'type': 'image/tiff; application=geotiff; profile=cloud-optimized', 'roles': ['data'], 'title': '16 day NDVI', 'raster:bands': [{'unit': 'NDVI', 'scale': 0.0001, 'data_type': 'int16', 'spatial_resolution': 250}]}, '250m_16_days_VI_Quality': {'type': 'image/tiff; application=geotiff; profile=cloud-optimized', 'roles': ['data'], 'title': 'VI quality indicators', 'raster:bands': [{'data_type': 'uint16', 'spatial_resolution': 250}]}, '250m_16_days_MIR_reflectance': {'type': 'image/tiff; application=geotiff; profile=cloud-optimized', 'roles': ['data'], 'title': 'Surface Reflectance Band 7', 'raster:bands': [{'scale': 0.0001, 'data_type': 'int16', 'spatial_resolution': 250}]}, '250m_16_days_NIR_reflectance': {'type': 'image/tiff; application=geotiff; profile=cloud-optimized', 'roles': ['data'], 'title': 'Surface Reflectance Band 2', 'raster:bands': [{'scale': 0.0001, 'data_type': 'int16', 'spatial_resolution': 250}]}, '250m_16_days_red_reflectance': {'type': 'image/tiff; application=geotiff; profile=cloud-optimized', 'roles': ['data'], 'title': 'Surface Reflectance Band 1', 'raster:bands': [{'scale': 0.0001, 'data_type': 'int16', 'spatial_resolution': 250}]}, '250m_16_days_blue_reflectance': {'type': 'image/tiff; application=geotiff; profile=cloud-optimized', 'roles': ['data'], 'title': 'Surface Reflectance Band 3', 'raster:bands': [{'scale': 0.0001, 'data_type': 'int16', 'spatial_resolution': 250}]}, '250m_16_days_sun_zenith_angle': {'type': 'image/tiff; application=geotiff; profile=cloud-optimized', 'roles': ['data'], 'title': 'Sun zenith angle of VI pixel', 'raster:bands': [{'unit': 'Degree', 'scale': 0.01, 'data_type': 'int16', 'spatial_resolution': 250}]}, '250m_16_days_pixel_reliability': {'type': 'image/tiff; application=geotiff; profile=cloud-optimized', 'roles': ['data'], 'title': 'Quality reliability of VI pixel', 'raster:bands': [{'unit': 'Rank', 'data_type': 'int8', 'spatial_resolution': 250}], 'classification:classes': [{'value': 0, 'description': 'Good data, use with confidence'}, {'value': 1, 'description': 'Marginal data, useful, but look at other QA information'}, {'value': 2, 'description': 'Snow/Ice Target covered with snow/ice'}, {'value': 3, 'description': 'Cloudy data'}]}, '250m_16_days_view_zenith_angle': {'type': 'image/tiff; application=geotiff; profile=cloud-optimized', 'roles': ['data'], 'title': 'View zenith angle of VI Pixel', 'raster:bands': [{'unit': 'Degree', 'scale': 0.01, 'data_type': 'int16', 'spatial_resolution': 250}]}, '250m_16_days_relative_azimuth_angle': {'type': 'image/tiff; application=geotiff; profile=cloud-optimized', 'roles': ['data'], 'title': 'Relative azimuth angle of VI pixel', 'raster:bands': [{'unit': 'Degree', 'scale': 0.01, 'data_type': 'int16', 'spatial_resolution': 250}]}, '250m_16_days_composite_day_of_the_year': {'type': 'image/tiff; application=geotiff; profile=cloud-optimized', 'roles': ['data'], 'title': 'Day of year VI pixel', 'raster:bands': [{'unit': 'Julian Day', 'data_type': 'int16', 'spatial_resolution': 250}]}}, 'collection': 'modis-13Q1-061', 'stac_version': '1.0.0'}\n",
      "DEBUG:pypgstac.load:Loading data for partition: Partition(name='_items_1_202308', collection='modis-13Q1-061', datetime_range_min='2023-08-29T00:00:00Z', datetime_range_max='2023-08-29T00:00:00Z', end_datetime_range_min='2023-09-13T23:59:59Z', end_datetime_range_max='2023-09-13T23:59:59Z', requires_update=True).\n",
      "INFO:pypgstac.db:NOTICE - Creating partition _items_1_202308 [\"2023-08-01 00:00:00+00\",\"2023-09-01 00:00:00+00\")\n",
      "INFO:pypgstac.db:NOTICE - Creating Table Constraints for _items_1_202308 [\"2023-08-29 00:00:00+00\",\"2023-08-29 00:00:00+00\"] [\"2023-09-13 23:59:59+00\",\"2023-09-13 23:59:59+00\"]\n",
      "INFO:pypgstac.db:NOTICE - constraint \"_items_1_202308_dt\" of relation \"_items_1_202308\" does not exist, skipping\n",
      "INFO:pypgstac.db:NOTICE - Updating stats for _items_1_202308.\n",
      "INFO:pypgstac.db:NOTICE - Checking if we need to modify constraints.\n",
      "INFO:pypgstac.db:NOTICE - Checking if we need to update collection extents.\n",
      "INFO:pypgstac.db:NOTICE - Not updating collection extent for modis-13Q1-061\n",
      "DEBUG:pypgstac.load:Adding or updating partition _items_1_202308 took 0.08236600999953225s\n",
      "INFO:pypgstac.db:NOTICE - table \"items_ingest_temp\" does not exist, skipping\n",
      "DEBUG:pypgstac.load:COPY 224\n",
      "DEBUG:pypgstac.load:Copied rows: 224\n",
      "DEBUG:pypgstac.load:INSERT 0 224\n",
      "DEBUG:pypgstac.load:Rows affected: 224\n",
      "INFO:pypgstac.db:NOTICE - Updating stats for _items_1_202308.\n",
      "INFO:pypgstac.db:NOTICE - Checking if we need to modify constraints.\n",
      "INFO:pypgstac.db:NOTICE - Checking if we need to update collection extents.\n",
      "INFO:pypgstac.db:NOTICE - Not updating collection extent for modis-13Q1-061\n",
      "DEBUG:pypgstac.load:Copying data for Partition(name='_items_1_202308', collection='modis-13Q1-061', datetime_range_min='2023-08-29T00:00:00Z', datetime_range_max='2023-08-29T00:00:00Z', end_datetime_range_min='2023-09-13T23:59:59Z', end_datetime_range_max='2023-09-13T23:59:59Z', requires_update=False) took 0.03619808000075864 seconds\n",
      "DEBUG:pypgstac.load:Loading data for partition: Partition(name='_items_1_202309', collection='modis-13Q1-061', datetime_range_min='2023-09-06T00:00:00Z', datetime_range_max='2023-09-30T00:00:00Z', end_datetime_range_min='2023-09-21T23:59:59Z', end_datetime_range_max='2023-10-15T23:59:59Z', requires_update=True).\n",
      "INFO:pypgstac.db:NOTICE - Creating partition _items_1_202309 [\"2023-09-01 00:00:00+00\",\"2023-10-01 00:00:00+00\")\n",
      "INFO:pypgstac.db:NOTICE - relation \"_items_1\" already exists, skipping\n",
      "INFO:pypgstac.db:NOTICE - Creating Table Constraints for _items_1_202309 [\"2023-09-06 00:00:00+00\",\"2023-09-30 00:00:00+00\"] [\"2023-09-21 23:59:59+00\",\"2023-10-15 23:59:59+00\"]\n",
      "INFO:pypgstac.db:NOTICE - constraint \"_items_1_202309_dt\" of relation \"_items_1_202309\" does not exist, skipping\n",
      "INFO:pypgstac.db:NOTICE - Updating stats for _items_1_202309.\n",
      "INFO:pypgstac.db:NOTICE - Checking if we need to modify constraints.\n",
      "INFO:pypgstac.db:NOTICE - Checking if we need to update collection extents.\n",
      "INFO:pypgstac.db:NOTICE - Not updating collection extent for modis-13Q1-061\n",
      "DEBUG:pypgstac.load:Adding or updating partition _items_1_202309 took 0.05236993800281198s\n",
      "INFO:pypgstac.db:NOTICE - table \"items_ingest_temp\" does not exist, skipping\n",
      "DEBUG:pypgstac.load:COPY 1176\n",
      "DEBUG:pypgstac.load:Copied rows: 1176\n",
      "DEBUG:pypgstac.load:INSERT 0 1176\n",
      "DEBUG:pypgstac.load:Rows affected: 1176\n",
      "INFO:pypgstac.db:NOTICE - Updating stats for _items_1_202309.\n",
      "INFO:pypgstac.db:NOTICE - Checking if we need to modify constraints.\n",
      "INFO:pypgstac.db:NOTICE - Checking if we need to update collection extents.\n",
      "INFO:pypgstac.db:NOTICE - Not updating collection extent for modis-13Q1-061\n",
      "DEBUG:pypgstac.load:Copying data for Partition(name='_items_1_202309', collection='modis-13Q1-061', datetime_range_min='2023-09-06T00:00:00Z', datetime_range_max='2023-09-30T00:00:00Z', end_datetime_range_min='2023-09-21T23:59:59Z', end_datetime_range_max='2023-10-15T23:59:59Z', requires_update=False) took 0.14045244999942952 seconds\n",
      "DEBUG:pypgstac.load:Adding data to database took 0.4656138149985054 seconds.\n"
     ]
    }
   ],
   "source": [
    "!pypgstac load items items.ndjson.gz --debug --method=ignore"
   ]
  },
  {
   "cell_type": "code",
   "execution_count": 21,
   "id": "2c728557-2ccb-41c4-8c3b-a90bbd9f148d",
   "metadata": {},
   "outputs": [
    {
     "name": "stdout",
     "output_type": "stream",
     "text": [
      "\n"
     ]
    },
    {
     "data": {
      "text/html": [
       "<table border=\"1\">\n",
       "  <tr>\n",
       "    <th align=\"center\">partition</th>\n",
       "    <th align=\"center\">collection</th>\n",
       "    <th align=\"center\">level</th>\n",
       "    <th align=\"center\">reltuples</th>\n",
       "    <th align=\"center\">relhastriggers</th>\n",
       "    <th align=\"center\">partition_dtrange</th>\n",
       "    <th align=\"center\">constraint_dtrange</th>\n",
       "    <th align=\"center\">constraint_edtrange</th>\n",
       "    <th align=\"center\">dtrange</th>\n",
       "    <th align=\"center\">edtrange</th>\n",
       "    <th align=\"center\">spatial</th>\n",
       "    <th align=\"center\">last_updated</th>\n",
       "  </tr>\n",
       "  <tr valign=\"top\">\n",
       "    <td align=\"left\">_items_1_202308</td>\n",
       "    <td align=\"left\">modis-13Q1-061</td>\n",
       "    <td align=\"right\">2</td>\n",
       "    <td align=\"right\">-1</td>\n",
       "    <td align=\"left\">t</td>\n",
       "    <td align=\"left\">[&quot;2023-08-01 00:00:00+00&quot;,&quot;2023-09-01 00:00:00+00&quot;)</td>\n",
       "    <td align=\"left\">[&quot;2023-08-29 00:00:00+00&quot;,&quot;2023-08-29 00:00:00+00&quot;]</td>\n",
       "    <td align=\"left\">[&quot;2023-09-13 23:59:59+00&quot;,&quot;2023-09-13 23:59:59+00&quot;]</td>\n",
       "    <td align=\"left\">[&quot;2023-08-29 00:00:00+00&quot;,&quot;2023-08-29 00:00:00+00&quot;]</td>\n",
       "    <td align=\"left\">[&quot;2023-09-13 23:59:59+00&quot;,&quot;2023-09-13 23:59:59+00&quot;]</td>\n",
       "    <td align=\"left\">0103000000010000000500000000000020984F76C0000000C019974FC000000020984F76C000000040EA4D554000000080ACDC724000000040EA4D554000000080ACDC7240000000C019974FC000000020984F76C0000000C019974FC0</td>\n",
       "    <td align=\"left\">2023-10-23 04:07:48.852363+00</td>\n",
       "  </tr>\n",
       "  <tr valign=\"top\">\n",
       "    <td align=\"left\">_items_1_202309</td>\n",
       "    <td align=\"left\">modis-13Q1-061</td>\n",
       "    <td align=\"right\">2</td>\n",
       "    <td align=\"right\">-1</td>\n",
       "    <td align=\"left\">t</td>\n",
       "    <td align=\"left\">[&quot;2023-09-01 00:00:00+00&quot;,&quot;2023-10-01 00:00:00+00&quot;)</td>\n",
       "    <td align=\"left\">[&quot;2023-09-06 00:00:00+00&quot;,&quot;2023-09-30 00:00:00+00&quot;]</td>\n",
       "    <td align=\"left\">[&quot;2023-09-21 23:59:59+00&quot;,&quot;2023-10-15 23:59:59+00&quot;]</td>\n",
       "    <td align=\"left\">[&quot;2023-09-06 00:00:00+00&quot;,&quot;2023-09-30 00:00:00+00&quot;]</td>\n",
       "    <td align=\"left\">[&quot;2023-09-21 23:59:59+00&quot;,&quot;2023-10-15 23:59:59+00&quot;]</td>\n",
       "    <td align=\"left\">0103000000010000000500000000000020984F76C0000000C019974FC000000020984F76C000000040EA4D554000000080ACDC724000000040EA4D554000000080ACDC7240000000C019974FC000000020984F76C0000000C019974FC0</td>\n",
       "    <td align=\"left\">2023-10-23 04:07:48.94257+00</td>\n",
       "  </tr>\n",
       "</table>\n",
       "<p>(2 rows)<br />\n",
       "</p>\n"
      ],
      "text/plain": [
       "<IPython.core.display.HTML object>"
      ]
     },
     "metadata": {},
     "output_type": "display_data"
    }
   ],
   "source": [
    "%%psql\n",
    "SELECT * FROM partitions;"
   ]
  },
  {
   "cell_type": "markdown",
   "id": "94c3550c-4e54-41e8-8bce-c025352dec47",
   "metadata": {},
   "source": [
    "We can also add a new Item using pypgstac as a library taking an iterator of Items..."
   ]
  },
  {
   "cell_type": "code",
   "execution_count": 22,
   "id": "05fc7463-ea4f-48b4-a82f-db42c6bc1f0d",
   "metadata": {},
   "outputs": [
    {
     "name": "stderr",
     "output_type": "stream",
     "text": [
      "DEBUG:pypgstac.db:VERSION: 0.7.10\n",
      "DEBUG:pypgstac.load:Found modis-13Q1-061 with base_item {'type': 'Feature', 'assets': {'hdf': {'type': 'application/x-hdf', 'roles': ['data'], 'title': 'Source data containing all bands'}, 'metadata': {'type': 'application/xml', 'roles': ['metadata'], 'title': 'Federal Geographic Data Committee (FGDC) Metadata'}, '250m_16_days_EVI': {'type': 'image/tiff; application=geotiff; profile=cloud-optimized', 'roles': ['data'], 'title': '16 day EVI', 'raster:bands': [{'unit': 'EVI', 'scale': 0.0001, 'data_type': 'int16', 'spatial_resolution': 250}]}, '250m_16_days_NDVI': {'type': 'image/tiff; application=geotiff; profile=cloud-optimized', 'roles': ['data'], 'title': '16 day NDVI', 'raster:bands': [{'unit': 'NDVI', 'scale': 0.0001, 'data_type': 'int16', 'spatial_resolution': 250}]}, '250m_16_days_VI_Quality': {'type': 'image/tiff; application=geotiff; profile=cloud-optimized', 'roles': ['data'], 'title': 'VI quality indicators', 'raster:bands': [{'data_type': 'uint16', 'spatial_resolution': 250}]}, '250m_16_days_MIR_reflectance': {'type': 'image/tiff; application=geotiff; profile=cloud-optimized', 'roles': ['data'], 'title': 'Surface Reflectance Band 7', 'raster:bands': [{'scale': 0.0001, 'data_type': 'int16', 'spatial_resolution': 250}]}, '250m_16_days_NIR_reflectance': {'type': 'image/tiff; application=geotiff; profile=cloud-optimized', 'roles': ['data'], 'title': 'Surface Reflectance Band 2', 'raster:bands': [{'scale': 0.0001, 'data_type': 'int16', 'spatial_resolution': 250}]}, '250m_16_days_red_reflectance': {'type': 'image/tiff; application=geotiff; profile=cloud-optimized', 'roles': ['data'], 'title': 'Surface Reflectance Band 1', 'raster:bands': [{'scale': 0.0001, 'data_type': 'int16', 'spatial_resolution': 250}]}, '250m_16_days_blue_reflectance': {'type': 'image/tiff; application=geotiff; profile=cloud-optimized', 'roles': ['data'], 'title': 'Surface Reflectance Band 3', 'raster:bands': [{'scale': 0.0001, 'data_type': 'int16', 'spatial_resolution': 250}]}, '250m_16_days_sun_zenith_angle': {'type': 'image/tiff; application=geotiff; profile=cloud-optimized', 'roles': ['data'], 'title': 'Sun zenith angle of VI pixel', 'raster:bands': [{'unit': 'Degree', 'scale': 0.01, 'data_type': 'int16', 'spatial_resolution': 250}]}, '250m_16_days_pixel_reliability': {'type': 'image/tiff; application=geotiff; profile=cloud-optimized', 'roles': ['data'], 'title': 'Quality reliability of VI pixel', 'raster:bands': [{'unit': 'Rank', 'data_type': 'int8', 'spatial_resolution': 250}], 'classification:classes': [{'value': 0, 'description': 'Good data, use with confidence'}, {'value': 1, 'description': 'Marginal data, useful, but look at other QA information'}, {'value': 2, 'description': 'Snow/Ice Target covered with snow/ice'}, {'value': 3, 'description': 'Cloudy data'}]}, '250m_16_days_view_zenith_angle': {'type': 'image/tiff; application=geotiff; profile=cloud-optimized', 'roles': ['data'], 'title': 'View zenith angle of VI Pixel', 'raster:bands': [{'unit': 'Degree', 'scale': 0.01, 'data_type': 'int16', 'spatial_resolution': 250}]}, '250m_16_days_relative_azimuth_angle': {'type': 'image/tiff; application=geotiff; profile=cloud-optimized', 'roles': ['data'], 'title': 'Relative azimuth angle of VI pixel', 'raster:bands': [{'unit': 'Degree', 'scale': 0.01, 'data_type': 'int16', 'spatial_resolution': 250}]}, '250m_16_days_composite_day_of_the_year': {'type': 'image/tiff; application=geotiff; profile=cloud-optimized', 'roles': ['data'], 'title': 'Day of year VI pixel', 'raster:bands': [{'unit': 'Julian Day', 'data_type': 'int16', 'spatial_resolution': 250}]}}, 'collection': 'modis-13Q1-061', 'stac_version': '1.0.0'}\n",
      "DEBUG:pypgstac.load:Loading data for partition: Partition(name='_items_1_202001', collection='modis-13Q1-061', datetime_range_min='2020-01-01 00:00:00+00', datetime_range_max='2020-01-01 00:00:00+00', end_datetime_range_min='2020-01-01 00:00:00+00', end_datetime_range_max='2020-01-01 00:00:00+00', requires_update=True).\n",
      "INFO:pypgstac.db:NOTICE - Creating partition _items_1_202001 [\"2020-01-01 00:00:00+00\",\"2020-02-01 00:00:00+00\")\n",
      "INFO:pypgstac.db:NOTICE - relation \"_items_1\" already exists, skipping\n",
      "INFO:pypgstac.db:NOTICE - Creating Table Constraints for _items_1_202001 [\"2020-01-01 00:00:00+00\",\"2020-01-01 00:00:00+00\"] [\"2020-01-01 00:00:00+00\",\"2020-01-01 00:00:00+00\"]\n",
      "INFO:pypgstac.db:NOTICE - constraint \"_items_1_202001_dt\" of relation \"_items_1_202001\" does not exist, skipping\n",
      "INFO:pypgstac.db:NOTICE - Updating stats for _items_1_202001.\n",
      "INFO:pypgstac.db:NOTICE - Checking if we need to modify constraints.\n",
      "INFO:pypgstac.db:NOTICE - Checking if we need to update collection extents.\n",
      "INFO:pypgstac.db:NOTICE - Not updating collection extent for modis-13Q1-061\n",
      "DEBUG:pypgstac.load:Adding or updating partition _items_1_202001 took 0.09144518199900631s\n",
      "DEBUG:pypgstac.load:COPY 1\n",
      "DEBUG:pypgstac.load:Rows affected: 1\n",
      "INFO:pypgstac.db:NOTICE - Updating stats for _items_1_202001.\n",
      "INFO:pypgstac.db:NOTICE - Checking if we need to modify constraints.\n",
      "INFO:pypgstac.db:NOTICE - Checking if we need to update collection extents.\n",
      "INFO:pypgstac.db:NOTICE - Not updating collection extent for modis-13Q1-061\n",
      "DEBUG:pypgstac.load:Copying data for Partition(name='_items_1_202001', collection='modis-13Q1-061', datetime_range_min='2020-01-01 00:00:00+00', datetime_range_max='2020-01-01 00:00:00+00', end_datetime_range_min='2020-01-01 00:00:00+00', end_datetime_range_max='2020-01-01 00:00:00+00', requires_update=False) took 0.018411241999274353 seconds\n",
      "DEBUG:pypgstac.load:Loading data for partition: Partition(name='_items_1_202002', collection='modis-13Q1-061', datetime_range_min='2020-02-01 00:00:00+00', datetime_range_max='2020-02-01 00:00:00+00', end_datetime_range_min='2020-02-01 00:00:00+00', end_datetime_range_max='2020-02-01 00:00:00+00', requires_update=True).\n",
      "INFO:pypgstac.db:NOTICE - Creating partition _items_1_202002 [\"2020-02-01 00:00:00+00\",\"2020-03-01 00:00:00+00\")\n",
      "INFO:pypgstac.db:NOTICE - relation \"_items_1\" already exists, skipping\n",
      "INFO:pypgstac.db:NOTICE - Creating Table Constraints for _items_1_202002 [\"2020-02-01 00:00:00+00\",\"2020-02-01 00:00:00+00\"] [\"2020-02-01 00:00:00+00\",\"2020-02-01 00:00:00+00\"]\n",
      "INFO:pypgstac.db:NOTICE - constraint \"_items_1_202002_dt\" of relation \"_items_1_202002\" does not exist, skipping\n",
      "INFO:pypgstac.db:NOTICE - Updating stats for _items_1_202002.\n",
      "INFO:pypgstac.db:NOTICE - Checking if we need to modify constraints.\n",
      "INFO:pypgstac.db:NOTICE - Checking if we need to update collection extents.\n",
      "INFO:pypgstac.db:NOTICE - Not updating collection extent for modis-13Q1-061\n",
      "DEBUG:pypgstac.load:Adding or updating partition _items_1_202002 took 0.05368297899985919s\n",
      "DEBUG:pypgstac.load:COPY 1\n",
      "DEBUG:pypgstac.load:Rows affected: 1\n",
      "INFO:pypgstac.db:NOTICE - Updating stats for _items_1_202002.\n",
      "INFO:pypgstac.db:NOTICE - Checking if we need to modify constraints.\n",
      "INFO:pypgstac.db:NOTICE - Checking if we need to update collection extents.\n",
      "INFO:pypgstac.db:NOTICE - Not updating collection extent for modis-13Q1-061\n",
      "DEBUG:pypgstac.load:Copying data for Partition(name='_items_1_202002', collection='modis-13Q1-061', datetime_range_min='2020-02-01 00:00:00+00', datetime_range_max='2020-02-01 00:00:00+00', end_datetime_range_min='2020-02-01 00:00:00+00', end_datetime_range_max='2020-02-01 00:00:00+00', requires_update=False) took 0.01751010600128211 seconds\n",
      "DEBUG:pypgstac.load:Adding data to database took 0.19048516800103243 seconds.\n"
     ]
    }
   ],
   "source": [
    "newitem1={\n",
    "    \"type\": \"Feature\",\n",
    "    \"id\":\"mynewitem1\", \n",
    "    \"collection\":\"modis-13Q1-061\", \n",
    "    \"geometry\": {\n",
    "        \"type\": \"Point\",\n",
    "        \"coordinates\": [125.6, 10.1]\n",
    "    },\n",
    "    \"properties\":{\"datetime\":\"2020-01-01 00:00:00+00\"}\n",
    "}\n",
    "newitem2={\n",
    "    \"type\": \"Feature\",\n",
    "    \"id\":\"mynewitem2\", \n",
    "    \"collection\":\"modis-13Q1-061\", \n",
    "    \"geometry\": {\n",
    "        \"type\": \"Point\",\n",
    "        \"coordinates\": [125.6, 10.1]\n",
    "    },\n",
    "    \"properties\":{\"datetime\":\"2020-02-01 00:00:00+00\"}\n",
    "}\n",
    "\n",
    "from pypgstac.db import PgstacDB\n",
    "from pypgstac.load import Loader\n",
    "with PgstacDB(debug=True) as db:\n",
    "    loader = Loader(db)\n",
    "    loader.load_items([newitem1,newitem2])"
   ]
  },
  {
   "cell_type": "code",
   "execution_count": 23,
   "id": "62ef8847-0fbc-479a-bb02-cd165bb8d67d",
   "metadata": {},
   "outputs": [
    {
     "name": "stdout",
     "output_type": "stream",
     "text": [
      "\n"
     ]
    },
    {
     "data": {
      "text/html": [
       "<table border=\"1\">\n",
       "  <tr>\n",
       "    <th align=\"center\">partition</th>\n",
       "    <th align=\"center\">collection</th>\n",
       "    <th align=\"center\">level</th>\n",
       "    <th align=\"center\">reltuples</th>\n",
       "    <th align=\"center\">relhastriggers</th>\n",
       "    <th align=\"center\">partition_dtrange</th>\n",
       "    <th align=\"center\">constraint_dtrange</th>\n",
       "    <th align=\"center\">constraint_edtrange</th>\n",
       "    <th align=\"center\">dtrange</th>\n",
       "    <th align=\"center\">edtrange</th>\n",
       "    <th align=\"center\">spatial</th>\n",
       "    <th align=\"center\">last_updated</th>\n",
       "  </tr>\n",
       "  <tr valign=\"top\">\n",
       "    <td align=\"left\">_items_1_202308</td>\n",
       "    <td align=\"left\">modis-13Q1-061</td>\n",
       "    <td align=\"right\">2</td>\n",
       "    <td align=\"right\">-1</td>\n",
       "    <td align=\"left\">t</td>\n",
       "    <td align=\"left\">[&quot;2023-08-01 00:00:00+00&quot;,&quot;2023-09-01 00:00:00+00&quot;)</td>\n",
       "    <td align=\"left\">[&quot;2023-08-29 00:00:00+00&quot;,&quot;2023-08-29 00:00:00+00&quot;]</td>\n",
       "    <td align=\"left\">[&quot;2023-09-13 23:59:59+00&quot;,&quot;2023-09-13 23:59:59+00&quot;]</td>\n",
       "    <td align=\"left\">[&quot;2023-08-29 00:00:00+00&quot;,&quot;2023-08-29 00:00:00+00&quot;]</td>\n",
       "    <td align=\"left\">[&quot;2023-09-13 23:59:59+00&quot;,&quot;2023-09-13 23:59:59+00&quot;]</td>\n",
       "    <td align=\"left\">0103000000010000000500000000000020984F76C0000000C019974FC000000020984F76C000000040EA4D554000000080ACDC724000000040EA4D554000000080ACDC7240000000C019974FC000000020984F76C0000000C019974FC0</td>\n",
       "    <td align=\"left\">2023-10-23 04:07:48.852363+00</td>\n",
       "  </tr>\n",
       "  <tr valign=\"top\">\n",
       "    <td align=\"left\">_items_1_202309</td>\n",
       "    <td align=\"left\">modis-13Q1-061</td>\n",
       "    <td align=\"right\">2</td>\n",
       "    <td align=\"right\">-1</td>\n",
       "    <td align=\"left\">t</td>\n",
       "    <td align=\"left\">[&quot;2023-09-01 00:00:00+00&quot;,&quot;2023-10-01 00:00:00+00&quot;)</td>\n",
       "    <td align=\"left\">[&quot;2023-09-06 00:00:00+00&quot;,&quot;2023-09-30 00:00:00+00&quot;]</td>\n",
       "    <td align=\"left\">[&quot;2023-09-21 23:59:59+00&quot;,&quot;2023-10-15 23:59:59+00&quot;]</td>\n",
       "    <td align=\"left\">[&quot;2023-09-06 00:00:00+00&quot;,&quot;2023-09-30 00:00:00+00&quot;]</td>\n",
       "    <td align=\"left\">[&quot;2023-09-21 23:59:59+00&quot;,&quot;2023-10-15 23:59:59+00&quot;]</td>\n",
       "    <td align=\"left\">0103000000010000000500000000000020984F76C0000000C019974FC000000020984F76C000000040EA4D554000000080ACDC724000000040EA4D554000000080ACDC7240000000C019974FC000000020984F76C0000000C019974FC0</td>\n",
       "    <td align=\"left\">2023-10-23 04:07:48.94257+00</td>\n",
       "  </tr>\n",
       "  <tr valign=\"top\">\n",
       "    <td align=\"left\">_items_1_202001</td>\n",
       "    <td align=\"left\">modis-13Q1-061</td>\n",
       "    <td align=\"right\">2</td>\n",
       "    <td align=\"right\">-1</td>\n",
       "    <td align=\"left\">t</td>\n",
       "    <td align=\"left\">[&quot;2020-01-01 00:00:00+00&quot;,&quot;2020-02-01 00:00:00+00&quot;)</td>\n",
       "    <td align=\"left\">[&quot;2020-01-01 00:00:00+00&quot;,&quot;2020-01-01 00:00:00+00&quot;]</td>\n",
       "    <td align=\"left\">[&quot;2020-01-01 00:00:00+00&quot;,&quot;2020-01-01 00:00:00+00&quot;]</td>\n",
       "    <td align=\"left\">[&quot;2020-01-01 00:00:00+00&quot;,&quot;2020-01-01 00:00:00+00&quot;]</td>\n",
       "    <td align=\"left\">[&quot;2020-01-01 00:00:00+00&quot;,&quot;2020-01-01 00:00:00+00&quot;]</td>\n",
       "    <td align=\"left\">010300000001000000050000000000006066665F4000000020333324400000006066665F4000000040333324400000008066665F4000000040333324400000008066665F4000000020333324400000006066665F400000002033332440</td>\n",
       "    <td align=\"left\">2023-10-23 04:07:49.46445+00</td>\n",
       "  </tr>\n",
       "  <tr valign=\"top\">\n",
       "    <td align=\"left\">_items_1_202002</td>\n",
       "    <td align=\"left\">modis-13Q1-061</td>\n",
       "    <td align=\"right\">2</td>\n",
       "    <td align=\"right\">-1</td>\n",
       "    <td align=\"left\">t</td>\n",
       "    <td align=\"left\">[&quot;2020-02-01 00:00:00+00&quot;,&quot;2020-03-01 00:00:00+00&quot;)</td>\n",
       "    <td align=\"left\">[&quot;2020-02-01 00:00:00+00&quot;,&quot;2020-02-01 00:00:00+00&quot;]</td>\n",
       "    <td align=\"left\">[&quot;2020-02-01 00:00:00+00&quot;,&quot;2020-02-01 00:00:00+00&quot;]</td>\n",
       "    <td align=\"left\">[&quot;2020-02-01 00:00:00+00&quot;,&quot;2020-02-01 00:00:00+00&quot;]</td>\n",
       "    <td align=\"left\">[&quot;2020-02-01 00:00:00+00&quot;,&quot;2020-02-01 00:00:00+00&quot;]</td>\n",
       "    <td align=\"left\">010300000001000000050000000000006066665F4000000020333324400000006066665F4000000040333324400000008066665F4000000040333324400000008066665F4000000020333324400000006066665F400000002033332440</td>\n",
       "    <td align=\"left\">2023-10-23 04:07:49.539718+00</td>\n",
       "  </tr>\n",
       "</table>\n",
       "<p>(4 rows)<br />\n",
       "</p>\n"
      ],
      "text/plain": [
       "<IPython.core.display.HTML object>"
      ]
     },
     "metadata": {},
     "output_type": "display_data"
    }
   ],
   "source": [
    "%%psql\n",
    "SELECT * FROM partitions;"
   ]
  },
  {
   "cell_type": "markdown",
   "id": "2513875c-dda4-4934-b6cd-23c3530813b6",
   "metadata": {},
   "source": [
    "## Search\n",
    "\n",
    "The Search function is the heart of PgSTAC. The Search Function converts a json stac search input (following the POST specification for a search endpoint) into the SQL needed to search through PgSTAC items. It then converts the internal storage format of the STAC Items back into the Item formatted JSON.\n",
    "\n",
    "By default the Search function will use a limit of 10 and will sort Items by datetime and id in descending order. Search also makes sure to return information that can be used for keyset pagination which can be much faster than traditional limit/offset pagination.\n",
    "\n",
    "You can control seeing the debugging information by setting the CLIENT_MIN_MESSAGES setting in Postgres to NOTICE. `SET CLIENT_MIN_MESSAGES TO NOTICE`.\n",
    "\n",
    "### Context Control\n",
    "The magic trick that PgSTAC has up it's sleeve can be seen in the debugging output below."
   ]
  },
  {
   "cell_type": "code",
   "execution_count": 24,
   "id": "8546bb84-ef81-4216-8e38-a5f96f68355f",
   "metadata": {},
   "outputs": [
    {
     "name": "stdout",
     "output_type": "stream",
     "text": [
      "psql:/dev/stdin:1: NOTICE:  Items Count: 0\n",
      "psql:/dev/stdin:1: NOTICE:  FILTER: <NULL>\n",
      "psql:/dev/stdin:1: NOTICE:  SEARCH:TOKEN: <NULL>\n",
      "psql:/dev/stdin:1: NOTICE:  ***TOKEN: <NULL>\n",
      "psql:/dev/stdin:1: NOTICE:  FULL WHERE CLAUSE:  TRUE \n",
      "psql:/dev/stdin:1: NOTICE:  Time to get counts and build query 8.264\n",
      "psql:/dev/stdin:1: NOTICE:  Getting hydrated data.\n",
      "psql:/dev/stdin:1: NOTICE:  CACHE SET TO f\n",
      "psql:/dev/stdin:1: NOTICE:  Time to set hydration/formatting 0.142\n",
      "psql:/dev/stdin:1: NOTICE:  Getting chunks for  TRUE  datetime DESC, id DESC\n",
      "psql:/dev/stdin:1: NOTICE:  Running Query for 2023-10-01 00:00:00+00 to 2023-11-01 00:00:00+00. 1.645\n",
      "psql:/dev/stdin:1: NOTICE:  Returned 0/11 Rows From 2023-10-01 00:00:00+00 to 2023-11-01 00:00:00+00. 11 to go. Time: 0.181ms\n",
      "psql:/dev/stdin:1: NOTICE:  Running Query for 2023-09-01 00:00:00+00 to 2023-10-01 00:00:00+00. 1.939\n",
      "psql:/dev/stdin:1: NOTICE:  Returned 11/11 Rows From 2023-09-01 00:00:00+00 to 2023-10-01 00:00:00+00. 0 to go. Time: 0.408ms\n",
      "psql:/dev/stdin:1: NOTICE:  SEARCH_ROWS TOOK 2.423ms\n",
      "psql:/dev/stdin:1: NOTICE:  Time to fetch rows 41.147\n",
      "psql:/dev/stdin:1: NOTICE:  Query returned 11 records.\n",
      "psql:/dev/stdin:1: NOTICE:  HAS NEXT | modis-13Q1-061:MOD13Q1.A2023273.h33v09.061.2023290142939\n",
      "psql:/dev/stdin:1: NOTICE:  Time to get prev/next 0.467\n",
      "psql:/dev/stdin:1: NOTICE:  Time to build final json 0.388\n",
      "psql:/dev/stdin:1: NOTICE:  Total Time: 51.803\n",
      "psql:/dev/stdin:1: NOTICE:  RETURNING 10 records. NEXT: modis-13Q1-061:MOD13Q1.A2023273.h33v09.061.2023290142939. PREV: <NULL>\n",
      "\n"
     ]
    },
    {
     "data": {
      "text/html": [
       "<table border=\"1\">\n",
       "  <tr>\n",
       "    <th align=\"center\">search</th>\n",
       "  </tr>\n",
       "  <tr valign=\"top\">\n",
       "    <td align=\"left\">{&quot;next&quot;: &quot;modis-13Q1-061:MOD13Q1.A2023273.h33v09.061.2023290142939&quot;, &quot;prev&quot;: null, &quot;type&quot;: &quot;FeatureCollection&quot;, &quot;context&quot;: {&quot;limit&quot;: 10, &quot;returned&quot;: 10}, &quot;features&quot;: [{&quot;id&quot;: &quot;MOD13Q1.A2023273.h35v10.061.2023290142559&quot;, &quot;bbox&quot;: [172.479315908761, -19.180676222654, 180.143592885496, -9.97534112170732], &quot;type&quot;: &quot;Feature&quot;, &quot;links&quot;: [{&quot;rel&quot;: &quot;collection&quot;, &quot;href&quot;: &quot;https://planetarycomputer.microsoft.com/api/stac/v1/collections/modis-13Q1-061&quot;, &quot;type&quot;: &quot;application/json&quot;}, {&quot;rel&quot;: &quot;parent&quot;, &quot;href&quot;: &quot;https://planetarycomputer.microsoft.com/api/stac/v1/collections/modis-13Q1-061&quot;, &quot;type&quot;: &quot;application/json&quot;}, {&quot;rel&quot;: &quot;root&quot;, &quot;href&quot;: &quot;https://planetarycomputer.microsoft.com/api/stac/v1&quot;, &quot;type&quot;: &quot;application/json&quot;, &quot;title&quot;: &quot;Microsoft Planetary Computer STAC API&quot;}, {&quot;rel&quot;: &quot;self&quot;, &quot;href&quot;: &quot;https://planetarycomputer.microsoft.com/api/stac/v1/collections/modis-13Q1-061/items/MOD13Q1.A2023273.h35v10.061.2023290142559&quot;, &quot;type&quot;: &quot;application/geo+json&quot;}, {&quot;rel&quot;: &quot;preview&quot;, &quot;href&quot;: &quot;https://planetarycomputer.microsoft.com/api/data/v1/item/map?collection=modis-13Q1-061&amp;item=MOD13Q1.A2023273.h35v10.061.2023290142559&quot;, &quot;type&quot;: &quot;text/html&quot;, &quot;title&quot;: &quot;Map of item&quot;}], &quot;assets&quot;: {&quot;hdf&quot;: {&quot;href&quot;: &quot;https://modiseuwest.blob.core.windows.net/modis-061/MOD13Q1/35/10/2023273/MOD13Q1.A2023273.h35v10.061.2023290142559.hdf&quot;, &quot;type&quot;: &quot;application/x-hdf&quot;, &quot;roles&quot;: [&quot;data&quot;], &quot;title&quot;: &quot;Source data containing all bands&quot;}, &quot;metadata&quot;: {&quot;href&quot;: &quot;https://modiseuwest.blob.core.windows.net/modis-061/MOD13Q1/35/10/2023273/MOD13Q1.A2023273.h35v10.061.2023290142559.hdf.xml&quot;, &quot;type&quot;: &quot;application/xml&quot;, &quot;roles&quot;: [&quot;metadata&quot;], &quot;title&quot;: &quot;Federal Geographic Data Committee (FGDC) Metadata&quot;}, &quot;tilejson&quot;: {&quot;href&quot;: &quot;https://planetarycomputer.microsoft.com/api/data/v1/item/tilejson.json?collection=modis-13Q1-061&amp;item=MOD13Q1.A2023273.h35v10.061.2023290142559&amp;assets=250m_16_days_NDVI&amp;tile_format=png&amp;colormap_name=modis-13A1%7CQ1&amp;rescale=0%2C10000&amp;format=png&quot;, &quot;type&quot;: &quot;application/json&quot;, &quot;roles&quot;: [&quot;tiles&quot;], &quot;title&quot;: &quot;TileJSON with default rendering&quot;}, &quot;250m_16_days_EVI&quot;: {&quot;href&quot;: &quot;https://modiseuwest.blob.core.windows.net/modis-061-cogs/MOD13Q1/35/10/2023273/MOD13Q1.A2023273.h35v10.061.2023290142559_250m_16_days_EVI.tif&quot;, &quot;type&quot;: &quot;image/tiff; application=geotiff; profile=cloud-optimized&quot;, &quot;roles&quot;: [&quot;data&quot;], &quot;title&quot;: &quot;16 day EVI&quot;, &quot;raster:bands&quot;: [{&quot;unit&quot;: &quot;EVI&quot;, &quot;scale&quot;: 0.0001, &quot;data_type&quot;: &quot;int16&quot;, &quot;spatial_resolution&quot;: 250}]}, &quot;rendered_preview&quot;: {&quot;rel&quot;: &quot;preview&quot;, &quot;href&quot;: &quot;https://planetarycomputer.microsoft.com/api/data/v1/item/preview.png?collection=modis-13Q1-061&amp;item=MOD13Q1.A2023273.h35v10.061.2023290142559&amp;assets=250m_16_days_NDVI&amp;tile_format=png&amp;colormap_name=modis-13A1%7CQ1&amp;rescale=0%2C10000&amp;format=png&quot;, &quot;type&quot;: &quot;image/png&quot;, &quot;roles&quot;: [&quot;overview&quot;], &quot;title&quot;: &quot;Rendered preview&quot;}, &quot;250m_16_days_NDVI&quot;: {&quot;href&quot;: &quot;https://modiseuwest.blob.core.windows.net/modis-061-cogs/MOD13Q1/35/10/2023273/MOD13Q1.A2023273.h35v10.061.2023290142559_250m_16_days_NDVI.tif&quot;, &quot;type&quot;: &quot;image/tiff; application=geotiff; profile=cloud-optimized&quot;, &quot;roles&quot;: [&quot;data&quot;], &quot;title&quot;: &quot;16 day NDVI&quot;, &quot;raster:bands&quot;: [{&quot;unit&quot;: &quot;NDVI&quot;, &quot;scale&quot;: 0.0001, &quot;data_type&quot;: &quot;int16&quot;, &quot;spatial_resolution&quot;: 250}]}, &quot;250m_16_days_VI_Quality&quot;: {&quot;href&quot;: &quot;https://modiseuwest.blob.core.windows.net/modis-061-cogs/MOD13Q1/35/10/2023273/MOD13Q1.A2023273.h35v10.061.2023290142559_250m_16_days_VI_Quality.tif&quot;, &quot;type&quot;: &quot;image/tiff; application=geotiff; profile=cloud-optimized&quot;, &quot;roles&quot;: [&quot;data&quot;], &quot;title&quot;: &quot;VI quality indicators&quot;, &quot;raster:bands&quot;: [{&quot;data_type&quot;: &quot;uint16&quot;, &quot;spatial_resolution&quot;: 250}]}, &quot;250m_16_days_MIR_reflectance&quot;: {&quot;href&quot;: &quot;https://modiseuwest.blob.core.windows.net/modis-061-cogs/MOD13Q1/35/10/2023273/MOD13Q1.A2023273.h35v10.061.2023290142559_250m_16_days_MIR_reflectance.tif&quot;, &quot;type&quot;: &quot;image/tiff; application=geotiff; profile=cloud-optimized&quot;, &quot;roles&quot;: [&quot;data&quot;], &quot;title&quot;: &quot;Surface Reflectance Band 7&quot;, &quot;raster:bands&quot;: [{&quot;scale&quot;: 0.0001, &quot;data_type&quot;: &quot;int16&quot;, &quot;spatial_resolution&quot;: 250}]}, &quot;250m_16_days_NIR_reflectance&quot;: {&quot;href&quot;: &quot;https://modiseuwest.blob.core.windows.net/modis-061-cogs/MOD13Q1/35/10/2023273/MOD13Q1.A2023273.h35v10.061.2023290142559_250m_16_days_NIR_reflectance.tif&quot;, &quot;type&quot;: &quot;image/tiff; application=geotiff; profile=cloud-optimized&quot;, &quot;roles&quot;: [&quot;data&quot;], &quot;title&quot;: &quot;Surface Reflectance Band 2&quot;, &quot;raster:bands&quot;: [{&quot;scale&quot;: 0.0001, &quot;data_type&quot;: &quot;int16&quot;, &quot;spatial_resolution&quot;: 250}]}, &quot;250m_16_days_red_reflectance&quot;: {&quot;href&quot;: &quot;https://modiseuwest.blob.core.windows.net/modis-061-cogs/MOD13Q1/35/10/2023273/MOD13Q1.A2023273.h35v10.061.2023290142559_250m_16_days_red_reflectance.tif&quot;, &quot;type&quot;: &quot;image/tiff; application=geotiff; profile=cloud-optimized&quot;, &quot;roles&quot;: [&quot;data&quot;], &quot;title&quot;: &quot;Surface Reflectance Band 1&quot;, &quot;raster:bands&quot;: [{&quot;scale&quot;: 0.0001, &quot;data_type&quot;: &quot;int16&quot;, &quot;spatial_resolution&quot;: 250}]}, &quot;250m_16_days_blue_reflectance&quot;: {&quot;href&quot;: &quot;https://modiseuwest.blob.core.windows.net/modis-061-cogs/MOD13Q1/35/10/2023273/MOD13Q1.A2023273.h35v10.061.2023290142559_250m_16_days_blue_reflectance.tif&quot;, &quot;type&quot;: &quot;image/tiff; application=geotiff; profile=cloud-optimized&quot;, &quot;roles&quot;: [&quot;data&quot;], &quot;title&quot;: &quot;Surface Reflectance Band 3&quot;, &quot;raster:bands&quot;: [{&quot;scale&quot;: 0.0001, &quot;data_type&quot;: &quot;int16&quot;, &quot;spatial_resolution&quot;: 250}]}, &quot;250m_16_days_sun_zenith_angle&quot;: {&quot;href&quot;: &quot;https://modiseuwest.blob.core.windows.net/modis-061-cogs/MOD13Q1/35/10/2023273/MOD13Q1.A2023273.h35v10.061.2023290142559_250m_16_days_sun_zenith_angle.tif&quot;, &quot;type&quot;: &quot;image/tiff; application=geotiff; profile=cloud-optimized&quot;, &quot;roles&quot;: [&quot;data&quot;], &quot;title&quot;: &quot;Sun zenith angle of VI pixel&quot;, &quot;raster:bands&quot;: [{&quot;unit&quot;: &quot;Degree&quot;, &quot;scale&quot;: 0.01, &quot;data_type&quot;: &quot;int16&quot;, &quot;spatial_resolution&quot;: 250}]}, &quot;250m_16_days_pixel_reliability&quot;: {&quot;href&quot;: &quot;https://modiseuwest.blob.core.windows.net/modis-061-cogs/MOD13Q1/35/10/2023273/MOD13Q1.A2023273.h35v10.061.2023290142559_250m_16_days_pixel_reliability.tif&quot;, &quot;type&quot;: &quot;image/tiff; application=geotiff; profile=cloud-optimized&quot;, &quot;roles&quot;: [&quot;data&quot;], &quot;title&quot;: &quot;Quality reliability of VI pixel&quot;, &quot;raster:bands&quot;: [{&quot;unit&quot;: &quot;Rank&quot;, &quot;data_type&quot;: &quot;int8&quot;, &quot;spatial_resolution&quot;: 250}], &quot;classification:classes&quot;: [{&quot;value&quot;: 0, &quot;description&quot;: &quot;Good data, use with confidence&quot;}, {&quot;value&quot;: 1, &quot;description&quot;: &quot;Marginal data, useful, but look at other QA information&quot;}, {&quot;value&quot;: 2, &quot;description&quot;: &quot;Snow/Ice Target covered with snow/ice&quot;}, {&quot;value&quot;: 3, &quot;description&quot;: &quot;Cloudy data&quot;}]}, &quot;250m_16_days_view_zenith_angle&quot;: {&quot;href&quot;: &quot;https://modiseuwest.blob.core.windows.net/modis-061-cogs/MOD13Q1/35/10/2023273/MOD13Q1.A2023273.h35v10.061.2023290142559_250m_16_days_view_zenith_angle.tif&quot;, &quot;type&quot;: &quot;image/tiff; application=geotiff; profile=cloud-optimized&quot;, &quot;roles&quot;: [&quot;data&quot;], &quot;title&quot;: &quot;View zenith angle of VI Pixel&quot;, &quot;raster:bands&quot;: [{&quot;unit&quot;: &quot;Degree&quot;, &quot;scale&quot;: 0.01, &quot;data_type&quot;: &quot;int16&quot;, &quot;spatial_resolution&quot;: 250}]}, &quot;250m_16_days_relative_azimuth_angle&quot;: {&quot;href&quot;: &quot;https://modiseuwest.blob.core.windows.net/modis-061-cogs/MOD13Q1/35/10/2023273/MOD13Q1.A2023273.h35v10.061.2023290142559_250m_16_days_relative_azimuth_angle.tif&quot;, &quot;type&quot;: &quot;image/tiff; application=geotiff; profile=cloud-optimized&quot;, &quot;roles&quot;: [&quot;data&quot;], &quot;title&quot;: &quot;Relative azimuth angle of VI pixel&quot;, &quot;raster:bands&quot;: [{&quot;unit&quot;: &quot;Degree&quot;, &quot;scale&quot;: 0.01, &quot;data_type&quot;: &quot;int16&quot;, &quot;spatial_resolution&quot;: 250}]}, &quot;250m_16_days_composite_day_of_the_year&quot;: {&quot;href&quot;: &quot;https://modiseuwest.blob.core.windows.net/modis-061-cogs/MOD13Q1/35/10/2023273/MOD13Q1.A2023273.h35v10.061.2023290142559_250m_16_days_composite_day_of_the_year.tif&quot;, &quot;type&quot;: &quot;image/tiff; application=geotiff; profile=cloud-optimized&quot;, &quot;roles&quot;: [&quot;data&quot;], &quot;title&quot;: &quot;Day of year VI pixel&quot;, &quot;raster:bands&quot;: [{&quot;unit&quot;: &quot;Julian Day&quot;, &quot;data_type&quot;: &quot;int16&quot;, &quot;spatial_resolution&quot;: 250}]}}, &quot;geometry&quot;: {&quot;type&quot;: &quot;Polygon&quot;, &quot;coordinates&quot;: [[[172.479315908761, -19.1662177463598], [180.143592885496, -19.180676222654], [179.999502554976, -9.97534112170732], [172.622770159185, -9.98364248250805], [172.479315908761, -19.1662177463598]]]}, &quot;collection&quot;: &quot;modis-13Q1-061&quot;, &quot;properties&quot;: {&quot;created&quot;: &quot;2023-10-17T18:25:59Z&quot;, &quot;updated&quot;: &quot;2023-10-17T13:32:22.857000Z&quot;, &quot;platform&quot;: &quot;terra&quot;, &quot;proj:wkt2&quot;: &quot;PROJCS[\\&quot;unnamed\\&quot;,GEOGCS[\\&quot;Unknown datum based upon the custom spheroid\\&quot;,DATUM[\\&quot;Not specified (based on custom spheroid)\\&quot;,SPHEROID[\\&quot;Custom spheroid\\&quot;,6371007.181,0]],PRIMEM[\\&quot;Greenwich\\&quot;,0],UNIT[\\&quot;degree\\&quot;,0.0174532925199433,AUTHORITY[\\&quot;EPSG\\&quot;,\\&quot;9122\\&quot;]]],PROJECTION[\\&quot;Sinusoidal\\&quot;],PARAMETER[\\&quot;longitude_of_center\\&quot;,0],PARAMETER[\\&quot;false_easting\\&quot;,0],PARAMETER[\\&quot;false_northing\\&quot;,0],UNIT[\\&quot;Meter\\&quot;,1],AXIS[\\&quot;Easting\\&quot;,EAST],AXIS[\\&quot;Northing\\&quot;,NORTH]]&quot;, &quot;proj:shape&quot;: [4800, 4800], &quot;instruments&quot;: [&quot;modis&quot;], &quot;end_datetime&quot;: &quot;2023-10-15T23:59:59Z&quot;, &quot;modis:tile-id&quot;: &quot;51035010&quot;, &quot;proj:geometry&quot;: {&quot;type&quot;: &quot;Polygon&quot;, &quot;coordinates&quot;: [[[20015109.354, -2223901.039333], [20015109.354, -1111950.519667], [18903158.834333, -1111950.519667], [18903158.834333, -2223901.039333], [20015109.354, -2223901.039333]]]}, &quot;proj:transform&quot;: [231.65635826395825, 0.0, 18903158.834333, 0.0, -231.65635826374995, -1111950.519667], &quot;start_datetime&quot;: &quot;2023-09-30T00:00:00Z&quot;, &quot;modis:vertical-tile&quot;: 10, &quot;modis:horizontal-tile&quot;: 35}, &quot;stac_version&quot;: &quot;1.0.0&quot;, &quot;stac_extensions&quot;: [&quot;https://stac-extensions.github.io/projection/v1.1.0/schema.json&quot;, &quot;https://stac-extensions.github.io/raster/v1.1.0/schema.json&quot;, &quot;https://stac-extensions.github.io/classification/v1.0.0/schema.json&quot;]}, {&quot;id&quot;: &quot;MOD13Q1.A2023273.h35v09.061.2023290142608&quot;, &quot;bbox&quot;: [169.928592841145, -9.99897790814368, 180.071523386457, 0.00688901997272997], &quot;type&quot;: &quot;Feature&quot;, &quot;links&quot;: [{&quot;rel&quot;: &quot;collection&quot;, &quot;href&quot;: &quot;https://planetarycomputer.microsoft.com/api/stac/v1/collections/modis-13Q1-061&quot;, &quot;type&quot;: &quot;application/json&quot;}, {&quot;rel&quot;: &quot;parent&quot;, &quot;href&quot;: &quot;https://planetarycomputer.microsoft.com/api/stac/v1/collections/modis-13Q1-061&quot;, &quot;type&quot;: &quot;application/json&quot;}, {&quot;rel&quot;: &quot;root&quot;, &quot;href&quot;: &quot;https://planetarycomputer.microsoft.com/api/stac/v1&quot;, &quot;type&quot;: &quot;application/json&quot;, &quot;title&quot;: &quot;Microsoft Planetary Computer STAC API&quot;}, {&quot;rel&quot;: &quot;self&quot;, &quot;href&quot;: &quot;https://planetarycomputer.microsoft.com/api/stac/v1/collections/modis-13Q1-061/items/MOD13Q1.A2023273.h35v09.061.2023290142608&quot;, &quot;type&quot;: &quot;application/geo+json&quot;}, {&quot;rel&quot;: &quot;preview&quot;, &quot;href&quot;: &quot;https://planetarycomputer.microsoft.com/api/data/v1/item/map?collection=modis-13Q1-061&amp;item=MOD13Q1.A2023273.h35v09.061.2023290142608&quot;, &quot;type&quot;: &quot;text/html&quot;, &quot;title&quot;: &quot;Map of item&quot;}], &quot;assets&quot;: {&quot;hdf&quot;: {&quot;href&quot;: &quot;https://modiseuwest.blob.core.windows.net/modis-061/MOD13Q1/35/09/2023273/MOD13Q1.A2023273.h35v09.061.2023290142608.hdf&quot;, &quot;type&quot;: &quot;application/x-hdf&quot;, &quot;roles&quot;: [&quot;data&quot;], &quot;title&quot;: &quot;Source data containing all bands&quot;}, &quot;metadata&quot;: {&quot;href&quot;: &quot;https://modiseuwest.blob.core.windows.net/modis-061/MOD13Q1/35/09/2023273/MOD13Q1.A2023273.h35v09.061.2023290142608.hdf.xml&quot;, &quot;type&quot;: &quot;application/xml&quot;, &quot;roles&quot;: [&quot;metadata&quot;], &quot;title&quot;: &quot;Federal Geographic Data Committee (FGDC) Metadata&quot;}, &quot;tilejson&quot;: {&quot;href&quot;: &quot;https://planetarycomputer.microsoft.com/api/data/v1/item/tilejson.json?collection=modis-13Q1-061&amp;item=MOD13Q1.A2023273.h35v09.061.2023290142608&amp;assets=250m_16_days_NDVI&amp;tile_format=png&amp;colormap_name=modis-13A1%7CQ1&amp;rescale=0%2C10000&amp;format=png&quot;, &quot;type&quot;: &quot;application/json&quot;, &quot;roles&quot;: [&quot;tiles&quot;], &quot;title&quot;: &quot;TileJSON with default rendering&quot;}, &quot;250m_16_days_EVI&quot;: {&quot;href&quot;: &quot;https://modiseuwest.blob.core.windows.net/modis-061-cogs/MOD13Q1/35/09/2023273/MOD13Q1.A2023273.h35v09.061.2023290142608_250m_16_days_EVI.tif&quot;, &quot;type&quot;: &quot;image/tiff; application=geotiff; profile=cloud-optimized&quot;, &quot;roles&quot;: [&quot;data&quot;], &quot;title&quot;: &quot;16 day EVI&quot;, &quot;raster:bands&quot;: [{&quot;unit&quot;: &quot;EVI&quot;, &quot;scale&quot;: 0.0001, &quot;data_type&quot;: &quot;int16&quot;, &quot;spatial_resolution&quot;: 250}]}, &quot;rendered_preview&quot;: {&quot;rel&quot;: &quot;preview&quot;, &quot;href&quot;: &quot;https://planetarycomputer.microsoft.com/api/data/v1/item/preview.png?collection=modis-13Q1-061&amp;item=MOD13Q1.A2023273.h35v09.061.2023290142608&amp;assets=250m_16_days_NDVI&amp;tile_format=png&amp;colormap_name=modis-13A1%7CQ1&amp;rescale=0%2C10000&amp;format=png&quot;, &quot;type&quot;: &quot;image/png&quot;, &quot;roles&quot;: [&quot;overview&quot;], &quot;title&quot;: &quot;Rendered preview&quot;}, &quot;250m_16_days_NDVI&quot;: {&quot;href&quot;: &quot;https://modiseuwest.blob.core.windows.net/modis-061-cogs/MOD13Q1/35/09/2023273/MOD13Q1.A2023273.h35v09.061.2023290142608_250m_16_days_NDVI.tif&quot;, &quot;type&quot;: &quot;image/tiff; application=geotiff; profile=cloud-optimized&quot;, &quot;roles&quot;: [&quot;data&quot;], &quot;title&quot;: &quot;16 day NDVI&quot;, &quot;raster:bands&quot;: [{&quot;unit&quot;: &quot;NDVI&quot;, &quot;scale&quot;: 0.0001, &quot;data_type&quot;: &quot;int16&quot;, &quot;spatial_resolution&quot;: 250}]}, &quot;250m_16_days_VI_Quality&quot;: {&quot;href&quot;: &quot;https://modiseuwest.blob.core.windows.net/modis-061-cogs/MOD13Q1/35/09/2023273/MOD13Q1.A2023273.h35v09.061.2023290142608_250m_16_days_VI_Quality.tif&quot;, &quot;type&quot;: &quot;image/tiff; application=geotiff; profile=cloud-optimized&quot;, &quot;roles&quot;: [&quot;data&quot;], &quot;title&quot;: &quot;VI quality indicators&quot;, &quot;raster:bands&quot;: [{&quot;data_type&quot;: &quot;uint16&quot;, &quot;spatial_resolution&quot;: 250}]}, &quot;250m_16_days_MIR_reflectance&quot;: {&quot;href&quot;: &quot;https://modiseuwest.blob.core.windows.net/modis-061-cogs/MOD13Q1/35/09/2023273/MOD13Q1.A2023273.h35v09.061.2023290142608_250m_16_days_MIR_reflectance.tif&quot;, &quot;type&quot;: &quot;image/tiff; application=geotiff; profile=cloud-optimized&quot;, &quot;roles&quot;: [&quot;data&quot;], &quot;title&quot;: &quot;Surface Reflectance Band 7&quot;, &quot;raster:bands&quot;: [{&quot;scale&quot;: 0.0001, &quot;data_type&quot;: &quot;int16&quot;, &quot;spatial_resolution&quot;: 250}]}, &quot;250m_16_days_NIR_reflectance&quot;: {&quot;href&quot;: &quot;https://modiseuwest.blob.core.windows.net/modis-061-cogs/MOD13Q1/35/09/2023273/MOD13Q1.A2023273.h35v09.061.2023290142608_250m_16_days_NIR_reflectance.tif&quot;, &quot;type&quot;: &quot;image/tiff; application=geotiff; profile=cloud-optimized&quot;, &quot;roles&quot;: [&quot;data&quot;], &quot;title&quot;: &quot;Surface Reflectance Band 2&quot;, &quot;raster:bands&quot;: [{&quot;scale&quot;: 0.0001, &quot;data_type&quot;: &quot;int16&quot;, &quot;spatial_resolution&quot;: 250}]}, &quot;250m_16_days_red_reflectance&quot;: {&quot;href&quot;: &quot;https://modiseuwest.blob.core.windows.net/modis-061-cogs/MOD13Q1/35/09/2023273/MOD13Q1.A2023273.h35v09.061.2023290142608_250m_16_days_red_reflectance.tif&quot;, &quot;type&quot;: &quot;image/tiff; application=geotiff; profile=cloud-optimized&quot;, &quot;roles&quot;: [&quot;data&quot;], &quot;title&quot;: &quot;Surface Reflectance Band 1&quot;, &quot;raster:bands&quot;: [{&quot;scale&quot;: 0.0001, &quot;data_type&quot;: &quot;int16&quot;, &quot;spatial_resolution&quot;: 250}]}, &quot;250m_16_days_blue_reflectance&quot;: {&quot;href&quot;: &quot;https://modiseuwest.blob.core.windows.net/modis-061-cogs/MOD13Q1/35/09/2023273/MOD13Q1.A2023273.h35v09.061.2023290142608_250m_16_days_blue_reflectance.tif&quot;, &quot;type&quot;: &quot;image/tiff; application=geotiff; profile=cloud-optimized&quot;, &quot;roles&quot;: [&quot;data&quot;], &quot;title&quot;: &quot;Surface Reflectance Band 3&quot;, &quot;raster:bands&quot;: [{&quot;scale&quot;: 0.0001, &quot;data_type&quot;: &quot;int16&quot;, &quot;spatial_resolution&quot;: 250}]}, &quot;250m_16_days_sun_zenith_angle&quot;: {&quot;href&quot;: &quot;https://modiseuwest.blob.core.windows.net/modis-061-cogs/MOD13Q1/35/09/2023273/MOD13Q1.A2023273.h35v09.061.2023290142608_250m_16_days_sun_zenith_angle.tif&quot;, &quot;type&quot;: &quot;image/tiff; application=geotiff; profile=cloud-optimized&quot;, &quot;roles&quot;: [&quot;data&quot;], &quot;title&quot;: &quot;Sun zenith angle of VI pixel&quot;, &quot;raster:bands&quot;: [{&quot;unit&quot;: &quot;Degree&quot;, &quot;scale&quot;: 0.01, &quot;data_type&quot;: &quot;int16&quot;, &quot;spatial_resolution&quot;: 250}]}, &quot;250m_16_days_pixel_reliability&quot;: {&quot;href&quot;: &quot;https://modiseuwest.blob.core.windows.net/modis-061-cogs/MOD13Q1/35/09/2023273/MOD13Q1.A2023273.h35v09.061.2023290142608_250m_16_days_pixel_reliability.tif&quot;, &quot;type&quot;: &quot;image/tiff; application=geotiff; profile=cloud-optimized&quot;, &quot;roles&quot;: [&quot;data&quot;], &quot;title&quot;: &quot;Quality reliability of VI pixel&quot;, &quot;raster:bands&quot;: [{&quot;unit&quot;: &quot;Rank&quot;, &quot;data_type&quot;: &quot;int8&quot;, &quot;spatial_resolution&quot;: 250}], &quot;classification:classes&quot;: [{&quot;value&quot;: 0, &quot;description&quot;: &quot;Good data, use with confidence&quot;}, {&quot;value&quot;: 1, &quot;description&quot;: &quot;Marginal data, useful, but look at other QA information&quot;}, {&quot;value&quot;: 2, &quot;description&quot;: &quot;Snow/Ice Target covered with snow/ice&quot;}, {&quot;value&quot;: 3, &quot;description&quot;: &quot;Cloudy data&quot;}]}, &quot;250m_16_days_view_zenith_angle&quot;: {&quot;href&quot;: &quot;https://modiseuwest.blob.core.windows.net/modis-061-cogs/MOD13Q1/35/09/2023273/MOD13Q1.A2023273.h35v09.061.2023290142608_250m_16_days_view_zenith_angle.tif&quot;, &quot;type&quot;: &quot;image/tiff; application=geotiff; profile=cloud-optimized&quot;, &quot;roles&quot;: [&quot;data&quot;], &quot;title&quot;: &quot;View zenith angle of VI Pixel&quot;, &quot;raster:bands&quot;: [{&quot;unit&quot;: &quot;Degree&quot;, &quot;scale&quot;: 0.01, &quot;data_type&quot;: &quot;int16&quot;, &quot;spatial_resolution&quot;: 250}]}, &quot;250m_16_days_relative_azimuth_angle&quot;: {&quot;href&quot;: &quot;https://modiseuwest.blob.core.windows.net/modis-061-cogs/MOD13Q1/35/09/2023273/MOD13Q1.A2023273.h35v09.061.2023290142608_250m_16_days_relative_azimuth_angle.tif&quot;, &quot;type&quot;: &quot;image/tiff; application=geotiff; profile=cloud-optimized&quot;, &quot;roles&quot;: [&quot;data&quot;], &quot;title&quot;: &quot;Relative azimuth angle of VI pixel&quot;, &quot;raster:bands&quot;: [{&quot;unit&quot;: &quot;Degree&quot;, &quot;scale&quot;: 0.01, &quot;data_type&quot;: &quot;int16&quot;, &quot;spatial_resolution&quot;: 250}]}, &quot;250m_16_days_composite_day_of_the_year&quot;: {&quot;href&quot;: &quot;https://modiseuwest.blob.core.windows.net/modis-061-cogs/MOD13Q1/35/09/2023273/MOD13Q1.A2023273.h35v09.061.2023290142608_250m_16_days_composite_day_of_the_year.tif&quot;, &quot;type&quot;: &quot;image/tiff; application=geotiff; profile=cloud-optimized&quot;, &quot;roles&quot;: [&quot;data&quot;], &quot;title&quot;: &quot;Day of year VI pixel&quot;, &quot;raster:bands&quot;: [{&quot;unit&quot;: &quot;Julian Day&quot;, &quot;data_type&quot;: &quot;int16&quot;, &quot;spatial_resolution&quot;: 250}]}}, &quot;geometry&quot;: {&quot;type&quot;: &quot;Polygon&quot;, &quot;coordinates&quot;: [[[169.928592841145, -9.99112932513571], [180.071523386457, -9.99897790814368], [179.999892115949, 0.00688901997272997], [169.999999984734, 0.000000000000000795138670365879], [169.928592841145, -9.99112932513571]]]}, &quot;collection&quot;: &quot;modis-13Q1-061&quot;, &quot;properties&quot;: {&quot;created&quot;: &quot;2023-10-17T18:26:08Z&quot;, &quot;updated&quot;: &quot;2023-10-17T13:32:31.409000Z&quot;, &quot;platform&quot;: &quot;terra&quot;, &quot;proj:wkt2&quot;: &quot;PROJCS[\\&quot;unnamed\\&quot;,GEOGCS[\\&quot;Unknown datum based upon the custom spheroid\\&quot;,DATUM[\\&quot;Not specified (based on custom spheroid)\\&quot;,SPHEROID[\\&quot;Custom spheroid\\&quot;,6371007.181,0]],PRIMEM[\\&quot;Greenwich\\&quot;,0],UNIT[\\&quot;degree\\&quot;,0.0174532925199433,AUTHORITY[\\&quot;EPSG\\&quot;,\\&quot;9122\\&quot;]]],PROJECTION[\\&quot;Sinusoidal\\&quot;],PARAMETER[\\&quot;longitude_of_center\\&quot;,0],PARAMETER[\\&quot;false_easting\\&quot;,0],PARAMETER[\\&quot;false_northing\\&quot;,0],UNIT[\\&quot;Meter\\&quot;,1],AXIS[\\&quot;Easting\\&quot;,EAST],AXIS[\\&quot;Northing\\&quot;,NORTH]]&quot;, &quot;proj:shape&quot;: [4800, 4800], &quot;instruments&quot;: [&quot;modis&quot;], &quot;end_datetime&quot;: &quot;2023-10-15T23:59:59Z&quot;, &quot;modis:tile-id&quot;: &quot;51035009&quot;, &quot;proj:geometry&quot;: {&quot;type&quot;: &quot;Polygon&quot;, &quot;coordinates&quot;: [[[20015109.354, -1111950.519667], [20015109.354, 0.0], [18903158.834333, 0.0], [18903158.834333, -1111950.519667], [20015109.354, -1111950.519667]]]}, &quot;proj:transform&quot;: [231.65635826395825, 0.0, 18903158.834333, 0.0, -231.65635826395834, 0.0], &quot;start_datetime&quot;: &quot;2023-09-30T00:00:00Z&quot;, &quot;modis:vertical-tile&quot;: 9, &quot;modis:horizontal-tile&quot;: 35}, &quot;stac_version&quot;: &quot;1.0.0&quot;, &quot;stac_extensions&quot;: [&quot;https://stac-extensions.github.io/projection/v1.1.0/schema.json&quot;, &quot;https://stac-extensions.github.io/raster/v1.1.0/schema.json&quot;, &quot;https://stac-extensions.github.io/classification/v1.0.0/schema.json&quot;]}, {&quot;id&quot;: &quot;MOD13Q1.A2023273.h35v08.061.2023290141752&quot;, &quot;bbox&quot;: [169.928592841145, -0.00688901997272678, 180.071523386456, 9.99897790814368], &quot;type&quot;: &quot;Feature&quot;, &quot;links&quot;: [{&quot;rel&quot;: &quot;collection&quot;, &quot;href&quot;: &quot;https://planetarycomputer.microsoft.com/api/stac/v1/collections/modis-13Q1-061&quot;, &quot;type&quot;: &quot;application/json&quot;}, {&quot;rel&quot;: &quot;parent&quot;, &quot;href&quot;: &quot;https://planetarycomputer.microsoft.com/api/stac/v1/collections/modis-13Q1-061&quot;, &quot;type&quot;: &quot;application/json&quot;}, {&quot;rel&quot;: &quot;root&quot;, &quot;href&quot;: &quot;https://planetarycomputer.microsoft.com/api/stac/v1&quot;, &quot;type&quot;: &quot;application/json&quot;, &quot;title&quot;: &quot;Microsoft Planetary Computer STAC API&quot;}, {&quot;rel&quot;: &quot;self&quot;, &quot;href&quot;: &quot;https://planetarycomputer.microsoft.com/api/stac/v1/collections/modis-13Q1-061/items/MOD13Q1.A2023273.h35v08.061.2023290141752&quot;, &quot;type&quot;: &quot;application/geo+json&quot;}, {&quot;rel&quot;: &quot;preview&quot;, &quot;href&quot;: &quot;https://planetarycomputer.microsoft.com/api/data/v1/item/map?collection=modis-13Q1-061&amp;item=MOD13Q1.A2023273.h35v08.061.2023290141752&quot;, &quot;type&quot;: &quot;text/html&quot;, &quot;title&quot;: &quot;Map of item&quot;}], &quot;assets&quot;: {&quot;hdf&quot;: {&quot;href&quot;: &quot;https://modiseuwest.blob.core.windows.net/modis-061/MOD13Q1/35/08/2023273/MOD13Q1.A2023273.h35v08.061.2023290141752.hdf&quot;, &quot;type&quot;: &quot;application/x-hdf&quot;, &quot;roles&quot;: [&quot;data&quot;], &quot;title&quot;: &quot;Source data containing all bands&quot;}, &quot;metadata&quot;: {&quot;href&quot;: &quot;https://modiseuwest.blob.core.windows.net/modis-061/MOD13Q1/35/08/2023273/MOD13Q1.A2023273.h35v08.061.2023290141752.hdf.xml&quot;, &quot;type&quot;: &quot;application/xml&quot;, &quot;roles&quot;: [&quot;metadata&quot;], &quot;title&quot;: &quot;Federal Geographic Data Committee (FGDC) Metadata&quot;}, &quot;tilejson&quot;: {&quot;href&quot;: &quot;https://planetarycomputer.microsoft.com/api/data/v1/item/tilejson.json?collection=modis-13Q1-061&amp;item=MOD13Q1.A2023273.h35v08.061.2023290141752&amp;assets=250m_16_days_NDVI&amp;tile_format=png&amp;colormap_name=modis-13A1%7CQ1&amp;rescale=0%2C10000&amp;format=png&quot;, &quot;type&quot;: &quot;application/json&quot;, &quot;roles&quot;: [&quot;tiles&quot;], &quot;title&quot;: &quot;TileJSON with default rendering&quot;}, &quot;250m_16_days_EVI&quot;: {&quot;href&quot;: &quot;https://modiseuwest.blob.core.windows.net/modis-061-cogs/MOD13Q1/35/08/2023273/MOD13Q1.A2023273.h35v08.061.2023290141752_250m_16_days_EVI.tif&quot;, &quot;type&quot;: &quot;image/tiff; application=geotiff; profile=cloud-optimized&quot;, &quot;roles&quot;: [&quot;data&quot;], &quot;title&quot;: &quot;16 day EVI&quot;, &quot;raster:bands&quot;: [{&quot;unit&quot;: &quot;EVI&quot;, &quot;scale&quot;: 0.0001, &quot;data_type&quot;: &quot;int16&quot;, &quot;spatial_resolution&quot;: 250}]}, &quot;rendered_preview&quot;: {&quot;rel&quot;: &quot;preview&quot;, &quot;href&quot;: &quot;https://planetarycomputer.microsoft.com/api/data/v1/item/preview.png?collection=modis-13Q1-061&amp;item=MOD13Q1.A2023273.h35v08.061.2023290141752&amp;assets=250m_16_days_NDVI&amp;tile_format=png&amp;colormap_name=modis-13A1%7CQ1&amp;rescale=0%2C10000&amp;format=png&quot;, &quot;type&quot;: &quot;image/png&quot;, &quot;roles&quot;: [&quot;overview&quot;], &quot;title&quot;: &quot;Rendered preview&quot;}, &quot;250m_16_days_NDVI&quot;: {&quot;href&quot;: &quot;https://modiseuwest.blob.core.windows.net/modis-061-cogs/MOD13Q1/35/08/2023273/MOD13Q1.A2023273.h35v08.061.2023290141752_250m_16_days_NDVI.tif&quot;, &quot;type&quot;: &quot;image/tiff; application=geotiff; profile=cloud-optimized&quot;, &quot;roles&quot;: [&quot;data&quot;], &quot;title&quot;: &quot;16 day NDVI&quot;, &quot;raster:bands&quot;: [{&quot;unit&quot;: &quot;NDVI&quot;, &quot;scale&quot;: 0.0001, &quot;data_type&quot;: &quot;int16&quot;, &quot;spatial_resolution&quot;: 250}]}, &quot;250m_16_days_VI_Quality&quot;: {&quot;href&quot;: &quot;https://modiseuwest.blob.core.windows.net/modis-061-cogs/MOD13Q1/35/08/2023273/MOD13Q1.A2023273.h35v08.061.2023290141752_250m_16_days_VI_Quality.tif&quot;, &quot;type&quot;: &quot;image/tiff; application=geotiff; profile=cloud-optimized&quot;, &quot;roles&quot;: [&quot;data&quot;], &quot;title&quot;: &quot;VI quality indicators&quot;, &quot;raster:bands&quot;: [{&quot;data_type&quot;: &quot;uint16&quot;, &quot;spatial_resolution&quot;: 250}]}, &quot;250m_16_days_MIR_reflectance&quot;: {&quot;href&quot;: &quot;https://modiseuwest.blob.core.windows.net/modis-061-cogs/MOD13Q1/35/08/2023273/MOD13Q1.A2023273.h35v08.061.2023290141752_250m_16_days_MIR_reflectance.tif&quot;, &quot;type&quot;: &quot;image/tiff; application=geotiff; profile=cloud-optimized&quot;, &quot;roles&quot;: [&quot;data&quot;], &quot;title&quot;: &quot;Surface Reflectance Band 7&quot;, &quot;raster:bands&quot;: [{&quot;scale&quot;: 0.0001, &quot;data_type&quot;: &quot;int16&quot;, &quot;spatial_resolution&quot;: 250}]}, &quot;250m_16_days_NIR_reflectance&quot;: {&quot;href&quot;: &quot;https://modiseuwest.blob.core.windows.net/modis-061-cogs/MOD13Q1/35/08/2023273/MOD13Q1.A2023273.h35v08.061.2023290141752_250m_16_days_NIR_reflectance.tif&quot;, &quot;type&quot;: &quot;image/tiff; application=geotiff; profile=cloud-optimized&quot;, &quot;roles&quot;: [&quot;data&quot;], &quot;title&quot;: &quot;Surface Reflectance Band 2&quot;, &quot;raster:bands&quot;: [{&quot;scale&quot;: 0.0001, &quot;data_type&quot;: &quot;int16&quot;, &quot;spatial_resolution&quot;: 250}]}, &quot;250m_16_days_red_reflectance&quot;: {&quot;href&quot;: &quot;https://modiseuwest.blob.core.windows.net/modis-061-cogs/MOD13Q1/35/08/2023273/MOD13Q1.A2023273.h35v08.061.2023290141752_250m_16_days_red_reflectance.tif&quot;, &quot;type&quot;: &quot;image/tiff; application=geotiff; profile=cloud-optimized&quot;, &quot;roles&quot;: [&quot;data&quot;], &quot;title&quot;: &quot;Surface Reflectance Band 1&quot;, &quot;raster:bands&quot;: [{&quot;scale&quot;: 0.0001, &quot;data_type&quot;: &quot;int16&quot;, &quot;spatial_resolution&quot;: 250}]}, &quot;250m_16_days_blue_reflectance&quot;: {&quot;href&quot;: &quot;https://modiseuwest.blob.core.windows.net/modis-061-cogs/MOD13Q1/35/08/2023273/MOD13Q1.A2023273.h35v08.061.2023290141752_250m_16_days_blue_reflectance.tif&quot;, &quot;type&quot;: &quot;image/tiff; application=geotiff; profile=cloud-optimized&quot;, &quot;roles&quot;: [&quot;data&quot;], &quot;title&quot;: &quot;Surface Reflectance Band 3&quot;, &quot;raster:bands&quot;: [{&quot;scale&quot;: 0.0001, &quot;data_type&quot;: &quot;int16&quot;, &quot;spatial_resolution&quot;: 250}]}, &quot;250m_16_days_sun_zenith_angle&quot;: {&quot;href&quot;: &quot;https://modiseuwest.blob.core.windows.net/modis-061-cogs/MOD13Q1/35/08/2023273/MOD13Q1.A2023273.h35v08.061.2023290141752_250m_16_days_sun_zenith_angle.tif&quot;, &quot;type&quot;: &quot;image/tiff; application=geotiff; profile=cloud-optimized&quot;, &quot;roles&quot;: [&quot;data&quot;], &quot;title&quot;: &quot;Sun zenith angle of VI pixel&quot;, &quot;raster:bands&quot;: [{&quot;unit&quot;: &quot;Degree&quot;, &quot;scale&quot;: 0.01, &quot;data_type&quot;: &quot;int16&quot;, &quot;spatial_resolution&quot;: 250}]}, &quot;250m_16_days_pixel_reliability&quot;: {&quot;href&quot;: &quot;https://modiseuwest.blob.core.windows.net/modis-061-cogs/MOD13Q1/35/08/2023273/MOD13Q1.A2023273.h35v08.061.2023290141752_250m_16_days_pixel_reliability.tif&quot;, &quot;type&quot;: &quot;image/tiff; application=geotiff; profile=cloud-optimized&quot;, &quot;roles&quot;: [&quot;data&quot;], &quot;title&quot;: &quot;Quality reliability of VI pixel&quot;, &quot;raster:bands&quot;: [{&quot;unit&quot;: &quot;Rank&quot;, &quot;data_type&quot;: &quot;int8&quot;, &quot;spatial_resolution&quot;: 250}], &quot;classification:classes&quot;: [{&quot;value&quot;: 0, &quot;description&quot;: &quot;Good data, use with confidence&quot;}, {&quot;value&quot;: 1, &quot;description&quot;: &quot;Marginal data, useful, but look at other QA information&quot;}, {&quot;value&quot;: 2, &quot;description&quot;: &quot;Snow/Ice Target covered with snow/ice&quot;}, {&quot;value&quot;: 3, &quot;description&quot;: &quot;Cloudy data&quot;}]}, &quot;250m_16_days_view_zenith_angle&quot;: {&quot;href&quot;: &quot;https://modiseuwest.blob.core.windows.net/modis-061-cogs/MOD13Q1/35/08/2023273/MOD13Q1.A2023273.h35v08.061.2023290141752_250m_16_days_view_zenith_angle.tif&quot;, &quot;type&quot;: &quot;image/tiff; application=geotiff; profile=cloud-optimized&quot;, &quot;roles&quot;: [&quot;data&quot;], &quot;title&quot;: &quot;View zenith angle of VI Pixel&quot;, &quot;raster:bands&quot;: [{&quot;unit&quot;: &quot;Degree&quot;, &quot;scale&quot;: 0.01, &quot;data_type&quot;: &quot;int16&quot;, &quot;spatial_resolution&quot;: 250}]}, &quot;250m_16_days_relative_azimuth_angle&quot;: {&quot;href&quot;: &quot;https://modiseuwest.blob.core.windows.net/modis-061-cogs/MOD13Q1/35/08/2023273/MOD13Q1.A2023273.h35v08.061.2023290141752_250m_16_days_relative_azimuth_angle.tif&quot;, &quot;type&quot;: &quot;image/tiff; application=geotiff; profile=cloud-optimized&quot;, &quot;roles&quot;: [&quot;data&quot;], &quot;title&quot;: &quot;Relative azimuth angle of VI pixel&quot;, &quot;raster:bands&quot;: [{&quot;unit&quot;: &quot;Degree&quot;, &quot;scale&quot;: 0.01, &quot;data_type&quot;: &quot;int16&quot;, &quot;spatial_resolution&quot;: 250}]}, &quot;250m_16_days_composite_day_of_the_year&quot;: {&quot;href&quot;: &quot;https://modiseuwest.blob.core.windows.net/modis-061-cogs/MOD13Q1/35/08/2023273/MOD13Q1.A2023273.h35v08.061.2023290141752_250m_16_days_composite_day_of_the_year.tif&quot;, &quot;type&quot;: &quot;image/tiff; application=geotiff; profile=cloud-optimized&quot;, &quot;roles&quot;: [&quot;data&quot;], &quot;title&quot;: &quot;Day of year VI pixel&quot;, &quot;raster:bands&quot;: [{&quot;unit&quot;: &quot;Julian Day&quot;, &quot;data_type&quot;: &quot;int16&quot;, &quot;spatial_resolution&quot;: 250}]}}, &quot;geometry&quot;: {&quot;type&quot;: &quot;Polygon&quot;, &quot;coordinates&quot;: [[[169.999999984734, -0.000000000000000795138670365879], [179.999892115948, -0.00688901997272678], [180.071523386456, 9.99897790814368], [169.928592841145, 9.99112932513571], [169.999999984734, -0.000000000000000795138670365879]]]}, &quot;collection&quot;: &quot;modis-13Q1-061&quot;, &quot;properties&quot;: {&quot;created&quot;: &quot;2023-10-17T18:17:52Z&quot;, &quot;updated&quot;: &quot;2023-10-17T13:20:41.324000Z&quot;, &quot;platform&quot;: &quot;terra&quot;, &quot;proj:wkt2&quot;: &quot;PROJCS[\\&quot;unnamed\\&quot;,GEOGCS[\\&quot;Unknown datum based upon the custom spheroid\\&quot;,DATUM[\\&quot;Not specified (based on custom spheroid)\\&quot;,SPHEROID[\\&quot;Custom spheroid\\&quot;,6371007.181,0]],PRIMEM[\\&quot;Greenwich\\&quot;,0],UNIT[\\&quot;degree\\&quot;,0.0174532925199433,AUTHORITY[\\&quot;EPSG\\&quot;,\\&quot;9122\\&quot;]]],PROJECTION[\\&quot;Sinusoidal\\&quot;],PARAMETER[\\&quot;longitude_of_center\\&quot;,0],PARAMETER[\\&quot;false_easting\\&quot;,0],PARAMETER[\\&quot;false_northing\\&quot;,0],UNIT[\\&quot;Meter\\&quot;,1],AXIS[\\&quot;Easting\\&quot;,EAST],AXIS[\\&quot;Northing\\&quot;,NORTH]]&quot;, &quot;proj:shape&quot;: [4800, 4800], &quot;instruments&quot;: [&quot;modis&quot;], &quot;end_datetime&quot;: &quot;2023-10-15T23:59:59Z&quot;, &quot;modis:tile-id&quot;: &quot;51035008&quot;, &quot;proj:geometry&quot;: {&quot;type&quot;: &quot;Polygon&quot;, &quot;coordinates&quot;: [[[20015109.354, 0.0], [20015109.354, 1111950.519667], [18903158.834333, 1111950.519667], [18903158.834333, 0.0], [20015109.354, 0.0]]]}, &quot;proj:transform&quot;: [231.65635826395825, 0.0, 18903158.834333, 0.0, -231.65635826395834, 1111950.519667], &quot;start_datetime&quot;: &quot;2023-09-30T00:00:00Z&quot;, &quot;modis:vertical-tile&quot;: 8, &quot;modis:horizontal-tile&quot;: 35}, &quot;stac_version&quot;: &quot;1.0.0&quot;, &quot;stac_extensions&quot;: [&quot;https://stac-extensions.github.io/projection/v1.1.0/schema.json&quot;, &quot;https://stac-extensions.github.io/raster/v1.1.0/schema.json&quot;, &quot;https://stac-extensions.github.io/classification/v1.0.0/schema.json&quot;]}, {&quot;id&quot;: &quot;MOD13Q1.A2023273.h34v10.061.2023290142351&quot;, &quot;bbox&quot;: [162.218267000741, -20.2678807324399, 180.047981891695, -9.72442246620711], &quot;type&quot;: &quot;Feature&quot;, &quot;links&quot;: [{&quot;rel&quot;: &quot;collection&quot;, &quot;href&quot;: &quot;https://planetarycomputer.microsoft.com/api/stac/v1/collections/modis-13Q1-061&quot;, &quot;type&quot;: &quot;application/json&quot;}, {&quot;rel&quot;: &quot;parent&quot;, &quot;href&quot;: &quot;https://planetarycomputer.microsoft.com/api/stac/v1/collections/modis-13Q1-061&quot;, &quot;type&quot;: &quot;application/json&quot;}, {&quot;rel&quot;: &quot;root&quot;, &quot;href&quot;: &quot;https://planetarycomputer.microsoft.com/api/stac/v1&quot;, &quot;type&quot;: &quot;application/json&quot;, &quot;title&quot;: &quot;Microsoft Planetary Computer STAC API&quot;}, {&quot;rel&quot;: &quot;self&quot;, &quot;href&quot;: &quot;https://planetarycomputer.microsoft.com/api/stac/v1/collections/modis-13Q1-061/items/MOD13Q1.A2023273.h34v10.061.2023290142351&quot;, &quot;type&quot;: &quot;application/geo+json&quot;}, {&quot;rel&quot;: &quot;preview&quot;, &quot;href&quot;: &quot;https://planetarycomputer.microsoft.com/api/data/v1/item/map?collection=modis-13Q1-061&amp;item=MOD13Q1.A2023273.h34v10.061.2023290142351&quot;, &quot;type&quot;: &quot;text/html&quot;, &quot;title&quot;: &quot;Map of item&quot;}], &quot;assets&quot;: {&quot;hdf&quot;: {&quot;href&quot;: &quot;https://modiseuwest.blob.core.windows.net/modis-061/MOD13Q1/34/10/2023273/MOD13Q1.A2023273.h34v10.061.2023290142351.hdf&quot;, &quot;type&quot;: &quot;application/x-hdf&quot;, &quot;roles&quot;: [&quot;data&quot;], &quot;title&quot;: &quot;Source data containing all bands&quot;}, &quot;metadata&quot;: {&quot;href&quot;: &quot;https://modiseuwest.blob.core.windows.net/modis-061/MOD13Q1/34/10/2023273/MOD13Q1.A2023273.h34v10.061.2023290142351.hdf.xml&quot;, &quot;type&quot;: &quot;application/xml&quot;, &quot;roles&quot;: [&quot;metadata&quot;], &quot;title&quot;: &quot;Federal Geographic Data Committee (FGDC) Metadata&quot;}, &quot;tilejson&quot;: {&quot;href&quot;: &quot;https://planetarycomputer.microsoft.com/api/data/v1/item/tilejson.json?collection=modis-13Q1-061&amp;item=MOD13Q1.A2023273.h34v10.061.2023290142351&amp;assets=250m_16_days_NDVI&amp;tile_format=png&amp;colormap_name=modis-13A1%7CQ1&amp;rescale=0%2C10000&amp;format=png&quot;, &quot;type&quot;: &quot;application/json&quot;, &quot;roles&quot;: [&quot;tiles&quot;], &quot;title&quot;: &quot;TileJSON with default rendering&quot;}, &quot;250m_16_days_EVI&quot;: {&quot;href&quot;: &quot;https://modiseuwest.blob.core.windows.net/modis-061-cogs/MOD13Q1/34/10/2023273/MOD13Q1.A2023273.h34v10.061.2023290142351_250m_16_days_EVI.tif&quot;, &quot;type&quot;: &quot;image/tiff; application=geotiff; profile=cloud-optimized&quot;, &quot;roles&quot;: [&quot;data&quot;], &quot;title&quot;: &quot;16 day EVI&quot;, &quot;raster:bands&quot;: [{&quot;unit&quot;: &quot;EVI&quot;, &quot;scale&quot;: 0.0001, &quot;data_type&quot;: &quot;int16&quot;, &quot;spatial_resolution&quot;: 250}]}, &quot;rendered_preview&quot;: {&quot;rel&quot;: &quot;preview&quot;, &quot;href&quot;: &quot;https://planetarycomputer.microsoft.com/api/data/v1/item/preview.png?collection=modis-13Q1-061&amp;item=MOD13Q1.A2023273.h34v10.061.2023290142351&amp;assets=250m_16_days_NDVI&amp;tile_format=png&amp;colormap_name=modis-13A1%7CQ1&amp;rescale=0%2C10000&amp;format=png&quot;, &quot;type&quot;: &quot;image/png&quot;, &quot;roles&quot;: [&quot;overview&quot;], &quot;title&quot;: &quot;Rendered preview&quot;}, &quot;250m_16_days_NDVI&quot;: {&quot;href&quot;: &quot;https://modiseuwest.blob.core.windows.net/modis-061-cogs/MOD13Q1/34/10/2023273/MOD13Q1.A2023273.h34v10.061.2023290142351_250m_16_days_NDVI.tif&quot;, &quot;type&quot;: &quot;image/tiff; application=geotiff; profile=cloud-optimized&quot;, &quot;roles&quot;: [&quot;data&quot;], &quot;title&quot;: &quot;16 day NDVI&quot;, &quot;raster:bands&quot;: [{&quot;unit&quot;: &quot;NDVI&quot;, &quot;scale&quot;: 0.0001, &quot;data_type&quot;: &quot;int16&quot;, &quot;spatial_resolution&quot;: 250}]}, &quot;250m_16_days_VI_Quality&quot;: {&quot;href&quot;: &quot;https://modiseuwest.blob.core.windows.net/modis-061-cogs/MOD13Q1/34/10/2023273/MOD13Q1.A2023273.h34v10.061.2023290142351_250m_16_days_VI_Quality.tif&quot;, &quot;type&quot;: &quot;image/tiff; application=geotiff; profile=cloud-optimized&quot;, &quot;roles&quot;: [&quot;data&quot;], &quot;title&quot;: &quot;VI quality indicators&quot;, &quot;raster:bands&quot;: [{&quot;data_type&quot;: &quot;uint16&quot;, &quot;spatial_resolution&quot;: 250}]}, &quot;250m_16_days_MIR_reflectance&quot;: {&quot;href&quot;: &quot;https://modiseuwest.blob.core.windows.net/modis-061-cogs/MOD13Q1/34/10/2023273/MOD13Q1.A2023273.h34v10.061.2023290142351_250m_16_days_MIR_reflectance.tif&quot;, &quot;type&quot;: &quot;image/tiff; application=geotiff; profile=cloud-optimized&quot;, &quot;roles&quot;: [&quot;data&quot;], &quot;title&quot;: &quot;Surface Reflectance Band 7&quot;, &quot;raster:bands&quot;: [{&quot;scale&quot;: 0.0001, &quot;data_type&quot;: &quot;int16&quot;, &quot;spatial_resolution&quot;: 250}]}, &quot;250m_16_days_NIR_reflectance&quot;: {&quot;href&quot;: &quot;https://modiseuwest.blob.core.windows.net/modis-061-cogs/MOD13Q1/34/10/2023273/MOD13Q1.A2023273.h34v10.061.2023290142351_250m_16_days_NIR_reflectance.tif&quot;, &quot;type&quot;: &quot;image/tiff; application=geotiff; profile=cloud-optimized&quot;, &quot;roles&quot;: [&quot;data&quot;], &quot;title&quot;: &quot;Surface Reflectance Band 2&quot;, &quot;raster:bands&quot;: [{&quot;scale&quot;: 0.0001, &quot;data_type&quot;: &quot;int16&quot;, &quot;spatial_resolution&quot;: 250}]}, &quot;250m_16_days_red_reflectance&quot;: {&quot;href&quot;: &quot;https://modiseuwest.blob.core.windows.net/modis-061-cogs/MOD13Q1/34/10/2023273/MOD13Q1.A2023273.h34v10.061.2023290142351_250m_16_days_red_reflectance.tif&quot;, &quot;type&quot;: &quot;image/tiff; application=geotiff; profile=cloud-optimized&quot;, &quot;roles&quot;: [&quot;data&quot;], &quot;title&quot;: &quot;Surface Reflectance Band 1&quot;, &quot;raster:bands&quot;: [{&quot;scale&quot;: 0.0001, &quot;data_type&quot;: &quot;int16&quot;, &quot;spatial_resolution&quot;: 250}]}, &quot;250m_16_days_blue_reflectance&quot;: {&quot;href&quot;: &quot;https://modiseuwest.blob.core.windows.net/modis-061-cogs/MOD13Q1/34/10/2023273/MOD13Q1.A2023273.h34v10.061.2023290142351_250m_16_days_blue_reflectance.tif&quot;, &quot;type&quot;: &quot;image/tiff; application=geotiff; profile=cloud-optimized&quot;, &quot;roles&quot;: [&quot;data&quot;], &quot;title&quot;: &quot;Surface Reflectance Band 3&quot;, &quot;raster:bands&quot;: [{&quot;scale&quot;: 0.0001, &quot;data_type&quot;: &quot;int16&quot;, &quot;spatial_resolution&quot;: 250}]}, &quot;250m_16_days_sun_zenith_angle&quot;: {&quot;href&quot;: &quot;https://modiseuwest.blob.core.windows.net/modis-061-cogs/MOD13Q1/34/10/2023273/MOD13Q1.A2023273.h34v10.061.2023290142351_250m_16_days_sun_zenith_angle.tif&quot;, &quot;type&quot;: &quot;image/tiff; application=geotiff; profile=cloud-optimized&quot;, &quot;roles&quot;: [&quot;data&quot;], &quot;title&quot;: &quot;Sun zenith angle of VI pixel&quot;, &quot;raster:bands&quot;: [{&quot;unit&quot;: &quot;Degree&quot;, &quot;scale&quot;: 0.01, &quot;data_type&quot;: &quot;int16&quot;, &quot;spatial_resolution&quot;: 250}]}, &quot;250m_16_days_pixel_reliability&quot;: {&quot;href&quot;: &quot;https://modiseuwest.blob.core.windows.net/modis-061-cogs/MOD13Q1/34/10/2023273/MOD13Q1.A2023273.h34v10.061.2023290142351_250m_16_days_pixel_reliability.tif&quot;, &quot;type&quot;: &quot;image/tiff; application=geotiff; profile=cloud-optimized&quot;, &quot;roles&quot;: [&quot;data&quot;], &quot;title&quot;: &quot;Quality reliability of VI pixel&quot;, &quot;raster:bands&quot;: [{&quot;unit&quot;: &quot;Rank&quot;, &quot;data_type&quot;: &quot;int8&quot;, &quot;spatial_resolution&quot;: 250}], &quot;classification:classes&quot;: [{&quot;value&quot;: 0, &quot;description&quot;: &quot;Good data, use with confidence&quot;}, {&quot;value&quot;: 1, &quot;description&quot;: &quot;Marginal data, useful, but look at other QA information&quot;}, {&quot;value&quot;: 2, &quot;description&quot;: &quot;Snow/Ice Target covered with snow/ice&quot;}, {&quot;value&quot;: 3, &quot;description&quot;: &quot;Cloudy data&quot;}]}, &quot;250m_16_days_view_zenith_angle&quot;: {&quot;href&quot;: &quot;https://modiseuwest.blob.core.windows.net/modis-061-cogs/MOD13Q1/34/10/2023273/MOD13Q1.A2023273.h34v10.061.2023290142351_250m_16_days_view_zenith_angle.tif&quot;, &quot;type&quot;: &quot;image/tiff; application=geotiff; profile=cloud-optimized&quot;, &quot;roles&quot;: [&quot;data&quot;], &quot;title&quot;: &quot;View zenith angle of VI Pixel&quot;, &quot;raster:bands&quot;: [{&quot;unit&quot;: &quot;Degree&quot;, &quot;scale&quot;: 0.01, &quot;data_type&quot;: &quot;int16&quot;, &quot;spatial_resolution&quot;: 250}]}, &quot;250m_16_days_relative_azimuth_angle&quot;: {&quot;href&quot;: &quot;https://modiseuwest.blob.core.windows.net/modis-061-cogs/MOD13Q1/34/10/2023273/MOD13Q1.A2023273.h34v10.061.2023290142351_250m_16_days_relative_azimuth_angle.tif&quot;, &quot;type&quot;: &quot;image/tiff; application=geotiff; profile=cloud-optimized&quot;, &quot;roles&quot;: [&quot;data&quot;], &quot;title&quot;: &quot;Relative azimuth angle of VI pixel&quot;, &quot;raster:bands&quot;: [{&quot;unit&quot;: &quot;Degree&quot;, &quot;scale&quot;: 0.01, &quot;data_type&quot;: &quot;int16&quot;, &quot;spatial_resolution&quot;: 250}]}, &quot;250m_16_days_composite_day_of_the_year&quot;: {&quot;href&quot;: &quot;https://modiseuwest.blob.core.windows.net/modis-061-cogs/MOD13Q1/34/10/2023273/MOD13Q1.A2023273.h34v10.061.2023290142351_250m_16_days_composite_day_of_the_year.tif&quot;, &quot;type&quot;: &quot;image/tiff; application=geotiff; profile=cloud-optimized&quot;, &quot;roles&quot;: [&quot;data&quot;], &quot;title&quot;: &quot;Day of year VI pixel&quot;, &quot;raster:bands&quot;: [{&quot;unit&quot;: &quot;Julian Day&quot;, &quot;data_type&quot;: &quot;int16&quot;, &quot;spatial_resolution&quot;: 250}]}}, &quot;geometry&quot;: {&quot;type&quot;: &quot;Polygon&quot;, &quot;coordinates&quot;: [[[162.218267000741, -20.2678807324399], [180.047981891695, -19.9968452811343], [179.464584854786, -9.72442246620711], [162.468655437091, -9.98294861056589], [162.218267000741, -20.2678807324399]]]}, &quot;collection&quot;: &quot;modis-13Q1-061&quot;, &quot;properties&quot;: {&quot;created&quot;: &quot;2023-10-17T18:23:51Z&quot;, &quot;updated&quot;: &quot;2023-10-17T13:28:32.376000Z&quot;, &quot;platform&quot;: &quot;terra&quot;, &quot;proj:wkt2&quot;: &quot;PROJCS[\\&quot;unnamed\\&quot;,GEOGCS[\\&quot;Unknown datum based upon the custom spheroid\\&quot;,DATUM[\\&quot;Not specified (based on custom spheroid)\\&quot;,SPHEROID[\\&quot;Custom spheroid\\&quot;,6371007.181,0]],PRIMEM[\\&quot;Greenwich\\&quot;,0],UNIT[\\&quot;degree\\&quot;,0.0174532925199433,AUTHORITY[\\&quot;EPSG\\&quot;,\\&quot;9122\\&quot;]]],PROJECTION[\\&quot;Sinusoidal\\&quot;],PARAMETER[\\&quot;longitude_of_center\\&quot;,0],PARAMETER[\\&quot;false_easting\\&quot;,0],PARAMETER[\\&quot;false_northing\\&quot;,0],UNIT[\\&quot;Meter\\&quot;,1],AXIS[\\&quot;Easting\\&quot;,EAST],AXIS[\\&quot;Northing\\&quot;,NORTH]]&quot;, &quot;proj:shape&quot;: [4800, 4800], &quot;instruments&quot;: [&quot;modis&quot;], &quot;end_datetime&quot;: &quot;2023-10-15T23:59:59Z&quot;, &quot;modis:tile-id&quot;: &quot;51034010&quot;, &quot;proj:geometry&quot;: {&quot;type&quot;: &quot;Polygon&quot;, &quot;coordinates&quot;: [[[18903158.834333, -2223901.039333], [18903158.834333, -1111950.519667], [17791208.314667, -1111950.519667], [17791208.314667, -2223901.039333], [18903158.834333, -2223901.039333]]]}, &quot;proj:transform&quot;: [231.65635826374947, 0.0, 17791208.314667, 0.0, -231.65635826374995, -1111950.519667], &quot;start_datetime&quot;: &quot;2023-09-30T00:00:00Z&quot;, &quot;modis:vertical-tile&quot;: 10, &quot;modis:horizontal-tile&quot;: 34}, &quot;stac_version&quot;: &quot;1.0.0&quot;, &quot;stac_extensions&quot;: [&quot;https://stac-extensions.github.io/projection/v1.1.0/schema.json&quot;, &quot;https://stac-extensions.github.io/raster/v1.1.0/schema.json&quot;, &quot;https://stac-extensions.github.io/classification/v1.0.0/schema.json&quot;]}, {&quot;id&quot;: &quot;MOD13Q1.A2023273.h34v09.061.2023290142428&quot;, &quot;bbox&quot;: [159.40190039747, -10.0140501371706, 172.624340995627, 0.0160513468129103], &quot;type&quot;: &quot;Feature&quot;, &quot;links&quot;: [{&quot;rel&quot;: &quot;collection&quot;, &quot;href&quot;: &quot;https://planetarycomputer.microsoft.com/api/stac/v1/collections/modis-13Q1-061&quot;, &quot;type&quot;: &quot;application/json&quot;}, {&quot;rel&quot;: &quot;parent&quot;, &quot;href&quot;: &quot;https://planetarycomputer.microsoft.com/api/stac/v1/collections/modis-13Q1-061&quot;, &quot;type&quot;: &quot;application/json&quot;}, {&quot;rel&quot;: &quot;root&quot;, &quot;href&quot;: &quot;https://planetarycomputer.microsoft.com/api/stac/v1&quot;, &quot;type&quot;: &quot;application/json&quot;, &quot;title&quot;: &quot;Microsoft Planetary Computer STAC API&quot;}, {&quot;rel&quot;: &quot;self&quot;, &quot;href&quot;: &quot;https://planetarycomputer.microsoft.com/api/stac/v1/collections/modis-13Q1-061/items/MOD13Q1.A2023273.h34v09.061.2023290142428&quot;, &quot;type&quot;: &quot;application/geo+json&quot;}, {&quot;rel&quot;: &quot;preview&quot;, &quot;href&quot;: &quot;https://planetarycomputer.microsoft.com/api/data/v1/item/map?collection=modis-13Q1-061&amp;item=MOD13Q1.A2023273.h34v09.061.2023290142428&quot;, &quot;type&quot;: &quot;text/html&quot;, &quot;title&quot;: &quot;Map of item&quot;}], &quot;assets&quot;: {&quot;hdf&quot;: {&quot;href&quot;: &quot;https://modiseuwest.blob.core.windows.net/modis-061/MOD13Q1/34/09/2023273/MOD13Q1.A2023273.h34v09.061.2023290142428.hdf&quot;, &quot;type&quot;: &quot;application/x-hdf&quot;, &quot;roles&quot;: [&quot;data&quot;], &quot;title&quot;: &quot;Source data containing all bands&quot;}, &quot;metadata&quot;: {&quot;href&quot;: &quot;https://modiseuwest.blob.core.windows.net/modis-061/MOD13Q1/34/09/2023273/MOD13Q1.A2023273.h34v09.061.2023290142428.hdf.xml&quot;, &quot;type&quot;: &quot;application/xml&quot;, &quot;roles&quot;: [&quot;metadata&quot;], &quot;title&quot;: &quot;Federal Geographic Data Committee (FGDC) Metadata&quot;}, &quot;tilejson&quot;: {&quot;href&quot;: &quot;https://planetarycomputer.microsoft.com/api/data/v1/item/tilejson.json?collection=modis-13Q1-061&amp;item=MOD13Q1.A2023273.h34v09.061.2023290142428&amp;assets=250m_16_days_NDVI&amp;tile_format=png&amp;colormap_name=modis-13A1%7CQ1&amp;rescale=0%2C10000&amp;format=png&quot;, &quot;type&quot;: &quot;application/json&quot;, &quot;roles&quot;: [&quot;tiles&quot;], &quot;title&quot;: &quot;TileJSON with default rendering&quot;}, &quot;250m_16_days_EVI&quot;: {&quot;href&quot;: &quot;https://modiseuwest.blob.core.windows.net/modis-061-cogs/MOD13Q1/34/09/2023273/MOD13Q1.A2023273.h34v09.061.2023290142428_250m_16_days_EVI.tif&quot;, &quot;type&quot;: &quot;image/tiff; application=geotiff; profile=cloud-optimized&quot;, &quot;roles&quot;: [&quot;data&quot;], &quot;title&quot;: &quot;16 day EVI&quot;, &quot;raster:bands&quot;: [{&quot;unit&quot;: &quot;EVI&quot;, &quot;scale&quot;: 0.0001, &quot;data_type&quot;: &quot;int16&quot;, &quot;spatial_resolution&quot;: 250}]}, &quot;rendered_preview&quot;: {&quot;rel&quot;: &quot;preview&quot;, &quot;href&quot;: &quot;https://planetarycomputer.microsoft.com/api/data/v1/item/preview.png?collection=modis-13Q1-061&amp;item=MOD13Q1.A2023273.h34v09.061.2023290142428&amp;assets=250m_16_days_NDVI&amp;tile_format=png&amp;colormap_name=modis-13A1%7CQ1&amp;rescale=0%2C10000&amp;format=png&quot;, &quot;type&quot;: &quot;image/png&quot;, &quot;roles&quot;: [&quot;overview&quot;], &quot;title&quot;: &quot;Rendered preview&quot;}, &quot;250m_16_days_NDVI&quot;: {&quot;href&quot;: &quot;https://modiseuwest.blob.core.windows.net/modis-061-cogs/MOD13Q1/34/09/2023273/MOD13Q1.A2023273.h34v09.061.2023290142428_250m_16_days_NDVI.tif&quot;, &quot;type&quot;: &quot;image/tiff; application=geotiff; profile=cloud-optimized&quot;, &quot;roles&quot;: [&quot;data&quot;], &quot;title&quot;: &quot;16 day NDVI&quot;, &quot;raster:bands&quot;: [{&quot;unit&quot;: &quot;NDVI&quot;, &quot;scale&quot;: 0.0001, &quot;data_type&quot;: &quot;int16&quot;, &quot;spatial_resolution&quot;: 250}]}, &quot;250m_16_days_VI_Quality&quot;: {&quot;href&quot;: &quot;https://modiseuwest.blob.core.windows.net/modis-061-cogs/MOD13Q1/34/09/2023273/MOD13Q1.A2023273.h34v09.061.2023290142428_250m_16_days_VI_Quality.tif&quot;, &quot;type&quot;: &quot;image/tiff; application=geotiff; profile=cloud-optimized&quot;, &quot;roles&quot;: [&quot;data&quot;], &quot;title&quot;: &quot;VI quality indicators&quot;, &quot;raster:bands&quot;: [{&quot;data_type&quot;: &quot;uint16&quot;, &quot;spatial_resolution&quot;: 250}]}, &quot;250m_16_days_MIR_reflectance&quot;: {&quot;href&quot;: &quot;https://modiseuwest.blob.core.windows.net/modis-061-cogs/MOD13Q1/34/09/2023273/MOD13Q1.A2023273.h34v09.061.2023290142428_250m_16_days_MIR_reflectance.tif&quot;, &quot;type&quot;: &quot;image/tiff; application=geotiff; profile=cloud-optimized&quot;, &quot;roles&quot;: [&quot;data&quot;], &quot;title&quot;: &quot;Surface Reflectance Band 7&quot;, &quot;raster:bands&quot;: [{&quot;scale&quot;: 0.0001, &quot;data_type&quot;: &quot;int16&quot;, &quot;spatial_resolution&quot;: 250}]}, &quot;250m_16_days_NIR_reflectance&quot;: {&quot;href&quot;: &quot;https://modiseuwest.blob.core.windows.net/modis-061-cogs/MOD13Q1/34/09/2023273/MOD13Q1.A2023273.h34v09.061.2023290142428_250m_16_days_NIR_reflectance.tif&quot;, &quot;type&quot;: &quot;image/tiff; application=geotiff; profile=cloud-optimized&quot;, &quot;roles&quot;: [&quot;data&quot;], &quot;title&quot;: &quot;Surface Reflectance Band 2&quot;, &quot;raster:bands&quot;: [{&quot;scale&quot;: 0.0001, &quot;data_type&quot;: &quot;int16&quot;, &quot;spatial_resolution&quot;: 250}]}, &quot;250m_16_days_red_reflectance&quot;: {&quot;href&quot;: &quot;https://modiseuwest.blob.core.windows.net/modis-061-cogs/MOD13Q1/34/09/2023273/MOD13Q1.A2023273.h34v09.061.2023290142428_250m_16_days_red_reflectance.tif&quot;, &quot;type&quot;: &quot;image/tiff; application=geotiff; profile=cloud-optimized&quot;, &quot;roles&quot;: [&quot;data&quot;], &quot;title&quot;: &quot;Surface Reflectance Band 1&quot;, &quot;raster:bands&quot;: [{&quot;scale&quot;: 0.0001, &quot;data_type&quot;: &quot;int16&quot;, &quot;spatial_resolution&quot;: 250}]}, &quot;250m_16_days_blue_reflectance&quot;: {&quot;href&quot;: &quot;https://modiseuwest.blob.core.windows.net/modis-061-cogs/MOD13Q1/34/09/2023273/MOD13Q1.A2023273.h34v09.061.2023290142428_250m_16_days_blue_reflectance.tif&quot;, &quot;type&quot;: &quot;image/tiff; application=geotiff; profile=cloud-optimized&quot;, &quot;roles&quot;: [&quot;data&quot;], &quot;title&quot;: &quot;Surface Reflectance Band 3&quot;, &quot;raster:bands&quot;: [{&quot;scale&quot;: 0.0001, &quot;data_type&quot;: &quot;int16&quot;, &quot;spatial_resolution&quot;: 250}]}, &quot;250m_16_days_sun_zenith_angle&quot;: {&quot;href&quot;: &quot;https://modiseuwest.blob.core.windows.net/modis-061-cogs/MOD13Q1/34/09/2023273/MOD13Q1.A2023273.h34v09.061.2023290142428_250m_16_days_sun_zenith_angle.tif&quot;, &quot;type&quot;: &quot;image/tiff; application=geotiff; profile=cloud-optimized&quot;, &quot;roles&quot;: [&quot;data&quot;], &quot;title&quot;: &quot;Sun zenith angle of VI pixel&quot;, &quot;raster:bands&quot;: [{&quot;unit&quot;: &quot;Degree&quot;, &quot;scale&quot;: 0.01, &quot;data_type&quot;: &quot;int16&quot;, &quot;spatial_resolution&quot;: 250}]}, &quot;250m_16_days_pixel_reliability&quot;: {&quot;href&quot;: &quot;https://modiseuwest.blob.core.windows.net/modis-061-cogs/MOD13Q1/34/09/2023273/MOD13Q1.A2023273.h34v09.061.2023290142428_250m_16_days_pixel_reliability.tif&quot;, &quot;type&quot;: &quot;image/tiff; application=geotiff; profile=cloud-optimized&quot;, &quot;roles&quot;: [&quot;data&quot;], &quot;title&quot;: &quot;Quality reliability of VI pixel&quot;, &quot;raster:bands&quot;: [{&quot;unit&quot;: &quot;Rank&quot;, &quot;data_type&quot;: &quot;int8&quot;, &quot;spatial_resolution&quot;: 250}], &quot;classification:classes&quot;: [{&quot;value&quot;: 0, &quot;description&quot;: &quot;Good data, use with confidence&quot;}, {&quot;value&quot;: 1, &quot;description&quot;: &quot;Marginal data, useful, but look at other QA information&quot;}, {&quot;value&quot;: 2, &quot;description&quot;: &quot;Snow/Ice Target covered with snow/ice&quot;}, {&quot;value&quot;: 3, &quot;description&quot;: &quot;Cloudy data&quot;}]}, &quot;250m_16_days_view_zenith_angle&quot;: {&quot;href&quot;: &quot;https://modiseuwest.blob.core.windows.net/modis-061-cogs/MOD13Q1/34/09/2023273/MOD13Q1.A2023273.h34v09.061.2023290142428_250m_16_days_view_zenith_angle.tif&quot;, &quot;type&quot;: &quot;image/tiff; application=geotiff; profile=cloud-optimized&quot;, &quot;roles&quot;: [&quot;data&quot;], &quot;title&quot;: &quot;View zenith angle of VI Pixel&quot;, &quot;raster:bands&quot;: [{&quot;unit&quot;: &quot;Degree&quot;, &quot;scale&quot;: 0.01, &quot;data_type&quot;: &quot;int16&quot;, &quot;spatial_resolution&quot;: 250}]}, &quot;250m_16_days_relative_azimuth_angle&quot;: {&quot;href&quot;: &quot;https://modiseuwest.blob.core.windows.net/modis-061-cogs/MOD13Q1/34/09/2023273/MOD13Q1.A2023273.h34v09.061.2023290142428_250m_16_days_relative_azimuth_angle.tif&quot;, &quot;type&quot;: &quot;image/tiff; application=geotiff; profile=cloud-optimized&quot;, &quot;roles&quot;: [&quot;data&quot;], &quot;title&quot;: &quot;Relative azimuth angle of VI pixel&quot;, &quot;raster:bands&quot;: [{&quot;unit&quot;: &quot;Degree&quot;, &quot;scale&quot;: 0.01, &quot;data_type&quot;: &quot;int16&quot;, &quot;spatial_resolution&quot;: 250}]}, &quot;250m_16_days_composite_day_of_the_year&quot;: {&quot;href&quot;: &quot;https://modiseuwest.blob.core.windows.net/modis-061-cogs/MOD13Q1/34/09/2023273/MOD13Q1.A2023273.h34v09.061.2023290142428_250m_16_days_composite_day_of_the_year.tif&quot;, &quot;type&quot;: &quot;image/tiff; application=geotiff; profile=cloud-optimized&quot;, &quot;roles&quot;: [&quot;data&quot;], &quot;title&quot;: &quot;Day of year VI pixel&quot;, &quot;raster:bands&quot;: [{&quot;unit&quot;: &quot;Julian Day&quot;, &quot;data_type&quot;: &quot;int16&quot;, &quot;spatial_resolution&quot;: 250}]}}, &quot;geometry&quot;: {&quot;type&quot;: &quot;Polygon&quot;, &quot;coordinates&quot;: [[[161.843301930763, -10.0140501371706], [159.40190039747, -0.000962695951550389], [170.023175852499, 0.0160513468129103], [172.624340995627, -9.9999682964894], [161.843301930763, -10.0140501371706]]]}, &quot;collection&quot;: &quot;modis-13Q1-061&quot;, &quot;properties&quot;: {&quot;created&quot;: &quot;2023-10-17T18:24:28Z&quot;, &quot;updated&quot;: &quot;2023-10-17T13:28:21.258000Z&quot;, &quot;platform&quot;: &quot;terra&quot;, &quot;proj:wkt2&quot;: &quot;PROJCS[\\&quot;unnamed\\&quot;,GEOGCS[\\&quot;Unknown datum based upon the custom spheroid\\&quot;,DATUM[\\&quot;Not specified (based on custom spheroid)\\&quot;,SPHEROID[\\&quot;Custom spheroid\\&quot;,6371007.181,0]],PRIMEM[\\&quot;Greenwich\\&quot;,0],UNIT[\\&quot;degree\\&quot;,0.0174532925199433,AUTHORITY[\\&quot;EPSG\\&quot;,\\&quot;9122\\&quot;]]],PROJECTION[\\&quot;Sinusoidal\\&quot;],PARAMETER[\\&quot;longitude_of_center\\&quot;,0],PARAMETER[\\&quot;false_easting\\&quot;,0],PARAMETER[\\&quot;false_northing\\&quot;,0],UNIT[\\&quot;Meter\\&quot;,1],AXIS[\\&quot;Easting\\&quot;,EAST],AXIS[\\&quot;Northing\\&quot;,NORTH]]&quot;, &quot;proj:shape&quot;: [4800, 4800], &quot;instruments&quot;: [&quot;modis&quot;], &quot;end_datetime&quot;: &quot;2023-10-15T23:59:59Z&quot;, &quot;modis:tile-id&quot;: &quot;51034009&quot;, &quot;proj:geometry&quot;: {&quot;type&quot;: &quot;Polygon&quot;, &quot;coordinates&quot;: [[[18903158.834333, -1111950.519667], [18903158.834333, 0.0], [17791208.314667, 0.0], [17791208.314667, -1111950.519667], [18903158.834333, -1111950.519667]]]}, &quot;proj:transform&quot;: [231.65635826374947, 0.0, 17791208.314667, 0.0, -231.65635826395834, 0.0], &quot;start_datetime&quot;: &quot;2023-09-30T00:00:00Z&quot;, &quot;modis:vertical-tile&quot;: 9, &quot;modis:horizontal-tile&quot;: 34}, &quot;stac_version&quot;: &quot;1.0.0&quot;, &quot;stac_extensions&quot;: [&quot;https://stac-extensions.github.io/projection/v1.1.0/schema.json&quot;, &quot;https://stac-extensions.github.io/raster/v1.1.0/schema.json&quot;, &quot;https://stac-extensions.github.io/classification/v1.0.0/schema.json&quot;]}, {&quot;id&quot;: &quot;MOD13Q1.A2023273.h34v08.061.2023290143333&quot;, &quot;bbox&quot;: [159.401904891107, -0.0160681308193304, 172.633154206439, 10.0140323226274], &quot;type&quot;: &quot;Feature&quot;, &quot;links&quot;: [{&quot;rel&quot;: &quot;collection&quot;, &quot;href&quot;: &quot;https://planetarycomputer.microsoft.com/api/stac/v1/collections/modis-13Q1-061&quot;, &quot;type&quot;: &quot;application/json&quot;}, {&quot;rel&quot;: &quot;parent&quot;, &quot;href&quot;: &quot;https://planetarycomputer.microsoft.com/api/stac/v1/collections/modis-13Q1-061&quot;, &quot;type&quot;: &quot;application/json&quot;}, {&quot;rel&quot;: &quot;root&quot;, &quot;href&quot;: &quot;https://planetarycomputer.microsoft.com/api/stac/v1&quot;, &quot;type&quot;: &quot;application/json&quot;, &quot;title&quot;: &quot;Microsoft Planetary Computer STAC API&quot;}, {&quot;rel&quot;: &quot;self&quot;, &quot;href&quot;: &quot;https://planetarycomputer.microsoft.com/api/stac/v1/collections/modis-13Q1-061/items/MOD13Q1.A2023273.h34v08.061.2023290143333&quot;, &quot;type&quot;: &quot;application/geo+json&quot;}, {&quot;rel&quot;: &quot;preview&quot;, &quot;href&quot;: &quot;https://planetarycomputer.microsoft.com/api/data/v1/item/map?collection=modis-13Q1-061&amp;item=MOD13Q1.A2023273.h34v08.061.2023290143333&quot;, &quot;type&quot;: &quot;text/html&quot;, &quot;title&quot;: &quot;Map of item&quot;}], &quot;assets&quot;: {&quot;hdf&quot;: {&quot;href&quot;: &quot;https://modiseuwest.blob.core.windows.net/modis-061/MOD13Q1/34/08/2023273/MOD13Q1.A2023273.h34v08.061.2023290143333.hdf&quot;, &quot;type&quot;: &quot;application/x-hdf&quot;, &quot;roles&quot;: [&quot;data&quot;], &quot;title&quot;: &quot;Source data containing all bands&quot;}, &quot;metadata&quot;: {&quot;href&quot;: &quot;https://modiseuwest.blob.core.windows.net/modis-061/MOD13Q1/34/08/2023273/MOD13Q1.A2023273.h34v08.061.2023290143333.hdf.xml&quot;, &quot;type&quot;: &quot;application/xml&quot;, &quot;roles&quot;: [&quot;metadata&quot;], &quot;title&quot;: &quot;Federal Geographic Data Committee (FGDC) Metadata&quot;}, &quot;tilejson&quot;: {&quot;href&quot;: &quot;https://planetarycomputer.microsoft.com/api/data/v1/item/tilejson.json?collection=modis-13Q1-061&amp;item=MOD13Q1.A2023273.h34v08.061.2023290143333&amp;assets=250m_16_days_NDVI&amp;tile_format=png&amp;colormap_name=modis-13A1%7CQ1&amp;rescale=0%2C10000&amp;format=png&quot;, &quot;type&quot;: &quot;application/json&quot;, &quot;roles&quot;: [&quot;tiles&quot;], &quot;title&quot;: &quot;TileJSON with default rendering&quot;}, &quot;250m_16_days_EVI&quot;: {&quot;href&quot;: &quot;https://modiseuwest.blob.core.windows.net/modis-061-cogs/MOD13Q1/34/08/2023273/MOD13Q1.A2023273.h34v08.061.2023290143333_250m_16_days_EVI.tif&quot;, &quot;type&quot;: &quot;image/tiff; application=geotiff; profile=cloud-optimized&quot;, &quot;roles&quot;: [&quot;data&quot;], &quot;title&quot;: &quot;16 day EVI&quot;, &quot;raster:bands&quot;: [{&quot;unit&quot;: &quot;EVI&quot;, &quot;scale&quot;: 0.0001, &quot;data_type&quot;: &quot;int16&quot;, &quot;spatial_resolution&quot;: 250}]}, &quot;rendered_preview&quot;: {&quot;rel&quot;: &quot;preview&quot;, &quot;href&quot;: &quot;https://planetarycomputer.microsoft.com/api/data/v1/item/preview.png?collection=modis-13Q1-061&amp;item=MOD13Q1.A2023273.h34v08.061.2023290143333&amp;assets=250m_16_days_NDVI&amp;tile_format=png&amp;colormap_name=modis-13A1%7CQ1&amp;rescale=0%2C10000&amp;format=png&quot;, &quot;type&quot;: &quot;image/png&quot;, &quot;roles&quot;: [&quot;overview&quot;], &quot;title&quot;: &quot;Rendered preview&quot;}, &quot;250m_16_days_NDVI&quot;: {&quot;href&quot;: &quot;https://modiseuwest.blob.core.windows.net/modis-061-cogs/MOD13Q1/34/08/2023273/MOD13Q1.A2023273.h34v08.061.2023290143333_250m_16_days_NDVI.tif&quot;, &quot;type&quot;: &quot;image/tiff; application=geotiff; profile=cloud-optimized&quot;, &quot;roles&quot;: [&quot;data&quot;], &quot;title&quot;: &quot;16 day NDVI&quot;, &quot;raster:bands&quot;: [{&quot;unit&quot;: &quot;NDVI&quot;, &quot;scale&quot;: 0.0001, &quot;data_type&quot;: &quot;int16&quot;, &quot;spatial_resolution&quot;: 250}]}, &quot;250m_16_days_VI_Quality&quot;: {&quot;href&quot;: &quot;https://modiseuwest.blob.core.windows.net/modis-061-cogs/MOD13Q1/34/08/2023273/MOD13Q1.A2023273.h34v08.061.2023290143333_250m_16_days_VI_Quality.tif&quot;, &quot;type&quot;: &quot;image/tiff; application=geotiff; profile=cloud-optimized&quot;, &quot;roles&quot;: [&quot;data&quot;], &quot;title&quot;: &quot;VI quality indicators&quot;, &quot;raster:bands&quot;: [{&quot;data_type&quot;: &quot;uint16&quot;, &quot;spatial_resolution&quot;: 250}]}, &quot;250m_16_days_MIR_reflectance&quot;: {&quot;href&quot;: &quot;https://modiseuwest.blob.core.windows.net/modis-061-cogs/MOD13Q1/34/08/2023273/MOD13Q1.A2023273.h34v08.061.2023290143333_250m_16_days_MIR_reflectance.tif&quot;, &quot;type&quot;: &quot;image/tiff; application=geotiff; profile=cloud-optimized&quot;, &quot;roles&quot;: [&quot;data&quot;], &quot;title&quot;: &quot;Surface Reflectance Band 7&quot;, &quot;raster:bands&quot;: [{&quot;scale&quot;: 0.0001, &quot;data_type&quot;: &quot;int16&quot;, &quot;spatial_resolution&quot;: 250}]}, &quot;250m_16_days_NIR_reflectance&quot;: {&quot;href&quot;: &quot;https://modiseuwest.blob.core.windows.net/modis-061-cogs/MOD13Q1/34/08/2023273/MOD13Q1.A2023273.h34v08.061.2023290143333_250m_16_days_NIR_reflectance.tif&quot;, &quot;type&quot;: &quot;image/tiff; application=geotiff; profile=cloud-optimized&quot;, &quot;roles&quot;: [&quot;data&quot;], &quot;title&quot;: &quot;Surface Reflectance Band 2&quot;, &quot;raster:bands&quot;: [{&quot;scale&quot;: 0.0001, &quot;data_type&quot;: &quot;int16&quot;, &quot;spatial_resolution&quot;: 250}]}, &quot;250m_16_days_red_reflectance&quot;: {&quot;href&quot;: &quot;https://modiseuwest.blob.core.windows.net/modis-061-cogs/MOD13Q1/34/08/2023273/MOD13Q1.A2023273.h34v08.061.2023290143333_250m_16_days_red_reflectance.tif&quot;, &quot;type&quot;: &quot;image/tiff; application=geotiff; profile=cloud-optimized&quot;, &quot;roles&quot;: [&quot;data&quot;], &quot;title&quot;: &quot;Surface Reflectance Band 1&quot;, &quot;raster:bands&quot;: [{&quot;scale&quot;: 0.0001, &quot;data_type&quot;: &quot;int16&quot;, &quot;spatial_resolution&quot;: 250}]}, &quot;250m_16_days_blue_reflectance&quot;: {&quot;href&quot;: &quot;https://modiseuwest.blob.core.windows.net/modis-061-cogs/MOD13Q1/34/08/2023273/MOD13Q1.A2023273.h34v08.061.2023290143333_250m_16_days_blue_reflectance.tif&quot;, &quot;type&quot;: &quot;image/tiff; application=geotiff; profile=cloud-optimized&quot;, &quot;roles&quot;: [&quot;data&quot;], &quot;title&quot;: &quot;Surface Reflectance Band 3&quot;, &quot;raster:bands&quot;: [{&quot;scale&quot;: 0.0001, &quot;data_type&quot;: &quot;int16&quot;, &quot;spatial_resolution&quot;: 250}]}, &quot;250m_16_days_sun_zenith_angle&quot;: {&quot;href&quot;: &quot;https://modiseuwest.blob.core.windows.net/modis-061-cogs/MOD13Q1/34/08/2023273/MOD13Q1.A2023273.h34v08.061.2023290143333_250m_16_days_sun_zenith_angle.tif&quot;, &quot;type&quot;: &quot;image/tiff; application=geotiff; profile=cloud-optimized&quot;, &quot;roles&quot;: [&quot;data&quot;], &quot;title&quot;: &quot;Sun zenith angle of VI pixel&quot;, &quot;raster:bands&quot;: [{&quot;unit&quot;: &quot;Degree&quot;, &quot;scale&quot;: 0.01, &quot;data_type&quot;: &quot;int16&quot;, &quot;spatial_resolution&quot;: 250}]}, &quot;250m_16_days_pixel_reliability&quot;: {&quot;href&quot;: &quot;https://modiseuwest.blob.core.windows.net/modis-061-cogs/MOD13Q1/34/08/2023273/MOD13Q1.A2023273.h34v08.061.2023290143333_250m_16_days_pixel_reliability.tif&quot;, &quot;type&quot;: &quot;image/tiff; application=geotiff; profile=cloud-optimized&quot;, &quot;roles&quot;: [&quot;data&quot;], &quot;title&quot;: &quot;Quality reliability of VI pixel&quot;, &quot;raster:bands&quot;: [{&quot;unit&quot;: &quot;Rank&quot;, &quot;data_type&quot;: &quot;int8&quot;, &quot;spatial_resolution&quot;: 250}], &quot;classification:classes&quot;: [{&quot;value&quot;: 0, &quot;description&quot;: &quot;Good data, use with confidence&quot;}, {&quot;value&quot;: 1, &quot;description&quot;: &quot;Marginal data, useful, but look at other QA information&quot;}, {&quot;value&quot;: 2, &quot;description&quot;: &quot;Snow/Ice Target covered with snow/ice&quot;}, {&quot;value&quot;: 3, &quot;description&quot;: &quot;Cloudy data&quot;}]}, &quot;250m_16_days_view_zenith_angle&quot;: {&quot;href&quot;: &quot;https://modiseuwest.blob.core.windows.net/modis-061-cogs/MOD13Q1/34/08/2023273/MOD13Q1.A2023273.h34v08.061.2023290143333_250m_16_days_view_zenith_angle.tif&quot;, &quot;type&quot;: &quot;image/tiff; application=geotiff; profile=cloud-optimized&quot;, &quot;roles&quot;: [&quot;data&quot;], &quot;title&quot;: &quot;View zenith angle of VI Pixel&quot;, &quot;raster:bands&quot;: [{&quot;unit&quot;: &quot;Degree&quot;, &quot;scale&quot;: 0.01, &quot;data_type&quot;: &quot;int16&quot;, &quot;spatial_resolution&quot;: 250}]}, &quot;250m_16_days_relative_azimuth_angle&quot;: {&quot;href&quot;: &quot;https://modiseuwest.blob.core.windows.net/modis-061-cogs/MOD13Q1/34/08/2023273/MOD13Q1.A2023273.h34v08.061.2023290143333_250m_16_days_relative_azimuth_angle.tif&quot;, &quot;type&quot;: &quot;image/tiff; application=geotiff; profile=cloud-optimized&quot;, &quot;roles&quot;: [&quot;data&quot;], &quot;title&quot;: &quot;Relative azimuth angle of VI pixel&quot;, &quot;raster:bands&quot;: [{&quot;unit&quot;: &quot;Degree&quot;, &quot;scale&quot;: 0.01, &quot;data_type&quot;: &quot;int16&quot;, &quot;spatial_resolution&quot;: 250}]}, &quot;250m_16_days_composite_day_of_the_year&quot;: {&quot;href&quot;: &quot;https://modiseuwest.blob.core.windows.net/modis-061-cogs/MOD13Q1/34/08/2023273/MOD13Q1.A2023273.h34v08.061.2023290143333_250m_16_days_composite_day_of_the_year.tif&quot;, &quot;type&quot;: &quot;image/tiff; application=geotiff; profile=cloud-optimized&quot;, &quot;roles&quot;: [&quot;data&quot;], &quot;title&quot;: &quot;Day of year VI pixel&quot;, &quot;raster:bands&quot;: [{&quot;unit&quot;: &quot;Julian Day&quot;, &quot;data_type&quot;: &quot;int16&quot;, &quot;spatial_resolution&quot;: 250}]}}, &quot;geometry&quot;: {&quot;type&quot;: &quot;Polygon&quot;, &quot;coordinates&quot;: [[[159.401904891107, 0.000963687575697164], [161.843293083131, 10.0140323226274], [172.633154206439, 9.99981440242935], [170.023257540113, -0.0160681308193304], [159.401904891107, 0.000963687575697164]]]}, &quot;collection&quot;: &quot;modis-13Q1-061&quot;, &quot;properties&quot;: {&quot;created&quot;: &quot;2023-10-17T18:33:33Z&quot;, &quot;updated&quot;: &quot;2023-10-17T13:40:11.465000Z&quot;, &quot;platform&quot;: &quot;terra&quot;, &quot;proj:wkt2&quot;: &quot;PROJCS[\\&quot;unnamed\\&quot;,GEOGCS[\\&quot;Unknown datum based upon the custom spheroid\\&quot;,DATUM[\\&quot;Not specified (based on custom spheroid)\\&quot;,SPHEROID[\\&quot;Custom spheroid\\&quot;,6371007.181,0]],PRIMEM[\\&quot;Greenwich\\&quot;,0],UNIT[\\&quot;degree\\&quot;,0.0174532925199433,AUTHORITY[\\&quot;EPSG\\&quot;,\\&quot;9122\\&quot;]]],PROJECTION[\\&quot;Sinusoidal\\&quot;],PARAMETER[\\&quot;longitude_of_center\\&quot;,0],PARAMETER[\\&quot;false_easting\\&quot;,0],PARAMETER[\\&quot;false_northing\\&quot;,0],UNIT[\\&quot;Meter\\&quot;,1],AXIS[\\&quot;Easting\\&quot;,EAST],AXIS[\\&quot;Northing\\&quot;,NORTH]]&quot;, &quot;proj:shape&quot;: [4800, 4800], &quot;instruments&quot;: [&quot;modis&quot;], &quot;end_datetime&quot;: &quot;2023-10-15T23:59:59Z&quot;, &quot;modis:tile-id&quot;: &quot;51034008&quot;, &quot;proj:geometry&quot;: {&quot;type&quot;: &quot;Polygon&quot;, &quot;coordinates&quot;: [[[18903158.834333, 0.0], [18903158.834333, 1111950.519667], [17791208.314667, 1111950.519667], [17791208.314667, 0.0], [18903158.834333, 0.0]]]}, &quot;proj:transform&quot;: [231.65635826374947, 0.0, 17791208.314667, 0.0, -231.65635826395834, 1111950.519667], &quot;start_datetime&quot;: &quot;2023-09-30T00:00:00Z&quot;, &quot;modis:vertical-tile&quot;: 8, &quot;modis:horizontal-tile&quot;: 34}, &quot;stac_version&quot;: &quot;1.0.0&quot;, &quot;stac_extensions&quot;: [&quot;https://stac-extensions.github.io/projection/v1.1.0/schema.json&quot;, &quot;https://stac-extensions.github.io/raster/v1.1.0/schema.json&quot;, &quot;https://stac-extensions.github.io/classification/v1.0.0/schema.json&quot;]}, {&quot;id&quot;: &quot;MOD13Q1.A2023273.h34v07.061.2023290140925&quot;, &quot;bbox&quot;: [162.218267079146, 9.72432164126745, 180.048970382293, 20.2677999045792], &quot;type&quot;: &quot;Feature&quot;, &quot;links&quot;: [{&quot;rel&quot;: &quot;collection&quot;, &quot;href&quot;: &quot;https://planetarycomputer.microsoft.com/api/stac/v1/collections/modis-13Q1-061&quot;, &quot;type&quot;: &quot;application/json&quot;}, {&quot;rel&quot;: &quot;parent&quot;, &quot;href&quot;: &quot;https://planetarycomputer.microsoft.com/api/stac/v1/collections/modis-13Q1-061&quot;, &quot;type&quot;: &quot;application/json&quot;}, {&quot;rel&quot;: &quot;root&quot;, &quot;href&quot;: &quot;https://planetarycomputer.microsoft.com/api/stac/v1&quot;, &quot;type&quot;: &quot;application/json&quot;, &quot;title&quot;: &quot;Microsoft Planetary Computer STAC API&quot;}, {&quot;rel&quot;: &quot;self&quot;, &quot;href&quot;: &quot;https://planetarycomputer.microsoft.com/api/stac/v1/collections/modis-13Q1-061/items/MOD13Q1.A2023273.h34v07.061.2023290140925&quot;, &quot;type&quot;: &quot;application/geo+json&quot;}, {&quot;rel&quot;: &quot;preview&quot;, &quot;href&quot;: &quot;https://planetarycomputer.microsoft.com/api/data/v1/item/map?collection=modis-13Q1-061&amp;item=MOD13Q1.A2023273.h34v07.061.2023290140925&quot;, &quot;type&quot;: &quot;text/html&quot;, &quot;title&quot;: &quot;Map of item&quot;}], &quot;assets&quot;: {&quot;hdf&quot;: {&quot;href&quot;: &quot;https://modiseuwest.blob.core.windows.net/modis-061/MOD13Q1/34/07/2023273/MOD13Q1.A2023273.h34v07.061.2023290140925.hdf&quot;, &quot;type&quot;: &quot;application/x-hdf&quot;, &quot;roles&quot;: [&quot;data&quot;], &quot;title&quot;: &quot;Source data containing all bands&quot;}, &quot;metadata&quot;: {&quot;href&quot;: &quot;https://modiseuwest.blob.core.windows.net/modis-061/MOD13Q1/34/07/2023273/MOD13Q1.A2023273.h34v07.061.2023290140925.hdf.xml&quot;, &quot;type&quot;: &quot;application/xml&quot;, &quot;roles&quot;: [&quot;metadata&quot;], &quot;title&quot;: &quot;Federal Geographic Data Committee (FGDC) Metadata&quot;}, &quot;tilejson&quot;: {&quot;href&quot;: &quot;https://planetarycomputer.microsoft.com/api/data/v1/item/tilejson.json?collection=modis-13Q1-061&amp;item=MOD13Q1.A2023273.h34v07.061.2023290140925&amp;assets=250m_16_days_NDVI&amp;tile_format=png&amp;colormap_name=modis-13A1%7CQ1&amp;rescale=0%2C10000&amp;format=png&quot;, &quot;type&quot;: &quot;application/json&quot;, &quot;roles&quot;: [&quot;tiles&quot;], &quot;title&quot;: &quot;TileJSON with default rendering&quot;}, &quot;250m_16_days_EVI&quot;: {&quot;href&quot;: &quot;https://modiseuwest.blob.core.windows.net/modis-061-cogs/MOD13Q1/34/07/2023273/MOD13Q1.A2023273.h34v07.061.2023290140925_250m_16_days_EVI.tif&quot;, &quot;type&quot;: &quot;image/tiff; application=geotiff; profile=cloud-optimized&quot;, &quot;roles&quot;: [&quot;data&quot;], &quot;title&quot;: &quot;16 day EVI&quot;, &quot;raster:bands&quot;: [{&quot;unit&quot;: &quot;EVI&quot;, &quot;scale&quot;: 0.0001, &quot;data_type&quot;: &quot;int16&quot;, &quot;spatial_resolution&quot;: 250}]}, &quot;rendered_preview&quot;: {&quot;rel&quot;: &quot;preview&quot;, &quot;href&quot;: &quot;https://planetarycomputer.microsoft.com/api/data/v1/item/preview.png?collection=modis-13Q1-061&amp;item=MOD13Q1.A2023273.h34v07.061.2023290140925&amp;assets=250m_16_days_NDVI&amp;tile_format=png&amp;colormap_name=modis-13A1%7CQ1&amp;rescale=0%2C10000&amp;format=png&quot;, &quot;type&quot;: &quot;image/png&quot;, &quot;roles&quot;: [&quot;overview&quot;], &quot;title&quot;: &quot;Rendered preview&quot;}, &quot;250m_16_days_NDVI&quot;: {&quot;href&quot;: &quot;https://modiseuwest.blob.core.windows.net/modis-061-cogs/MOD13Q1/34/07/2023273/MOD13Q1.A2023273.h34v07.061.2023290140925_250m_16_days_NDVI.tif&quot;, &quot;type&quot;: &quot;image/tiff; application=geotiff; profile=cloud-optimized&quot;, &quot;roles&quot;: [&quot;data&quot;], &quot;title&quot;: &quot;16 day NDVI&quot;, &quot;raster:bands&quot;: [{&quot;unit&quot;: &quot;NDVI&quot;, &quot;scale&quot;: 0.0001, &quot;data_type&quot;: &quot;int16&quot;, &quot;spatial_resolution&quot;: 250}]}, &quot;250m_16_days_VI_Quality&quot;: {&quot;href&quot;: &quot;https://modiseuwest.blob.core.windows.net/modis-061-cogs/MOD13Q1/34/07/2023273/MOD13Q1.A2023273.h34v07.061.2023290140925_250m_16_days_VI_Quality.tif&quot;, &quot;type&quot;: &quot;image/tiff; application=geotiff; profile=cloud-optimized&quot;, &quot;roles&quot;: [&quot;data&quot;], &quot;title&quot;: &quot;VI quality indicators&quot;, &quot;raster:bands&quot;: [{&quot;data_type&quot;: &quot;uint16&quot;, &quot;spatial_resolution&quot;: 250}]}, &quot;250m_16_days_MIR_reflectance&quot;: {&quot;href&quot;: &quot;https://modiseuwest.blob.core.windows.net/modis-061-cogs/MOD13Q1/34/07/2023273/MOD13Q1.A2023273.h34v07.061.2023290140925_250m_16_days_MIR_reflectance.tif&quot;, &quot;type&quot;: &quot;image/tiff; application=geotiff; profile=cloud-optimized&quot;, &quot;roles&quot;: [&quot;data&quot;], &quot;title&quot;: &quot;Surface Reflectance Band 7&quot;, &quot;raster:bands&quot;: [{&quot;scale&quot;: 0.0001, &quot;data_type&quot;: &quot;int16&quot;, &quot;spatial_resolution&quot;: 250}]}, &quot;250m_16_days_NIR_reflectance&quot;: {&quot;href&quot;: &quot;https://modiseuwest.blob.core.windows.net/modis-061-cogs/MOD13Q1/34/07/2023273/MOD13Q1.A2023273.h34v07.061.2023290140925_250m_16_days_NIR_reflectance.tif&quot;, &quot;type&quot;: &quot;image/tiff; application=geotiff; profile=cloud-optimized&quot;, &quot;roles&quot;: [&quot;data&quot;], &quot;title&quot;: &quot;Surface Reflectance Band 2&quot;, &quot;raster:bands&quot;: [{&quot;scale&quot;: 0.0001, &quot;data_type&quot;: &quot;int16&quot;, &quot;spatial_resolution&quot;: 250}]}, &quot;250m_16_days_red_reflectance&quot;: {&quot;href&quot;: &quot;https://modiseuwest.blob.core.windows.net/modis-061-cogs/MOD13Q1/34/07/2023273/MOD13Q1.A2023273.h34v07.061.2023290140925_250m_16_days_red_reflectance.tif&quot;, &quot;type&quot;: &quot;image/tiff; application=geotiff; profile=cloud-optimized&quot;, &quot;roles&quot;: [&quot;data&quot;], &quot;title&quot;: &quot;Surface Reflectance Band 1&quot;, &quot;raster:bands&quot;: [{&quot;scale&quot;: 0.0001, &quot;data_type&quot;: &quot;int16&quot;, &quot;spatial_resolution&quot;: 250}]}, &quot;250m_16_days_blue_reflectance&quot;: {&quot;href&quot;: &quot;https://modiseuwest.blob.core.windows.net/modis-061-cogs/MOD13Q1/34/07/2023273/MOD13Q1.A2023273.h34v07.061.2023290140925_250m_16_days_blue_reflectance.tif&quot;, &quot;type&quot;: &quot;image/tiff; application=geotiff; profile=cloud-optimized&quot;, &quot;roles&quot;: [&quot;data&quot;], &quot;title&quot;: &quot;Surface Reflectance Band 3&quot;, &quot;raster:bands&quot;: [{&quot;scale&quot;: 0.0001, &quot;data_type&quot;: &quot;int16&quot;, &quot;spatial_resolution&quot;: 250}]}, &quot;250m_16_days_sun_zenith_angle&quot;: {&quot;href&quot;: &quot;https://modiseuwest.blob.core.windows.net/modis-061-cogs/MOD13Q1/34/07/2023273/MOD13Q1.A2023273.h34v07.061.2023290140925_250m_16_days_sun_zenith_angle.tif&quot;, &quot;type&quot;: &quot;image/tiff; application=geotiff; profile=cloud-optimized&quot;, &quot;roles&quot;: [&quot;data&quot;], &quot;title&quot;: &quot;Sun zenith angle of VI pixel&quot;, &quot;raster:bands&quot;: [{&quot;unit&quot;: &quot;Degree&quot;, &quot;scale&quot;: 0.01, &quot;data_type&quot;: &quot;int16&quot;, &quot;spatial_resolution&quot;: 250}]}, &quot;250m_16_days_pixel_reliability&quot;: {&quot;href&quot;: &quot;https://modiseuwest.blob.core.windows.net/modis-061-cogs/MOD13Q1/34/07/2023273/MOD13Q1.A2023273.h34v07.061.2023290140925_250m_16_days_pixel_reliability.tif&quot;, &quot;type&quot;: &quot;image/tiff; application=geotiff; profile=cloud-optimized&quot;, &quot;roles&quot;: [&quot;data&quot;], &quot;title&quot;: &quot;Quality reliability of VI pixel&quot;, &quot;raster:bands&quot;: [{&quot;unit&quot;: &quot;Rank&quot;, &quot;data_type&quot;: &quot;int8&quot;, &quot;spatial_resolution&quot;: 250}], &quot;classification:classes&quot;: [{&quot;value&quot;: 0, &quot;description&quot;: &quot;Good data, use with confidence&quot;}, {&quot;value&quot;: 1, &quot;description&quot;: &quot;Marginal data, useful, but look at other QA information&quot;}, {&quot;value&quot;: 2, &quot;description&quot;: &quot;Snow/Ice Target covered with snow/ice&quot;}, {&quot;value&quot;: 3, &quot;description&quot;: &quot;Cloudy data&quot;}]}, &quot;250m_16_days_view_zenith_angle&quot;: {&quot;href&quot;: &quot;https://modiseuwest.blob.core.windows.net/modis-061-cogs/MOD13Q1/34/07/2023273/MOD13Q1.A2023273.h34v07.061.2023290140925_250m_16_days_view_zenith_angle.tif&quot;, &quot;type&quot;: &quot;image/tiff; application=geotiff; profile=cloud-optimized&quot;, &quot;roles&quot;: [&quot;data&quot;], &quot;title&quot;: &quot;View zenith angle of VI Pixel&quot;, &quot;raster:bands&quot;: [{&quot;unit&quot;: &quot;Degree&quot;, &quot;scale&quot;: 0.01, &quot;data_type&quot;: &quot;int16&quot;, &quot;spatial_resolution&quot;: 250}]}, &quot;250m_16_days_relative_azimuth_angle&quot;: {&quot;href&quot;: &quot;https://modiseuwest.blob.core.windows.net/modis-061-cogs/MOD13Q1/34/07/2023273/MOD13Q1.A2023273.h34v07.061.2023290140925_250m_16_days_relative_azimuth_angle.tif&quot;, &quot;type&quot;: &quot;image/tiff; application=geotiff; profile=cloud-optimized&quot;, &quot;roles&quot;: [&quot;data&quot;], &quot;title&quot;: &quot;Relative azimuth angle of VI pixel&quot;, &quot;raster:bands&quot;: [{&quot;unit&quot;: &quot;Degree&quot;, &quot;scale&quot;: 0.01, &quot;data_type&quot;: &quot;int16&quot;, &quot;spatial_resolution&quot;: 250}]}, &quot;250m_16_days_composite_day_of_the_year&quot;: {&quot;href&quot;: &quot;https://modiseuwest.blob.core.windows.net/modis-061-cogs/MOD13Q1/34/07/2023273/MOD13Q1.A2023273.h34v07.061.2023290140925_250m_16_days_composite_day_of_the_year.tif&quot;, &quot;type&quot;: &quot;image/tiff; application=geotiff; profile=cloud-optimized&quot;, &quot;roles&quot;: [&quot;data&quot;], &quot;title&quot;: &quot;Day of year VI pixel&quot;, &quot;raster:bands&quot;: [{&quot;unit&quot;: &quot;Julian Day&quot;, &quot;data_type&quot;: &quot;int16&quot;, &quot;spatial_resolution&quot;: 250}]}}, &quot;geometry&quot;: {&quot;type&quot;: &quot;Polygon&quot;, &quot;coordinates&quot;: [[[162.468655072985, 9.98296436450166], [179.465521528851, 9.72432164126745], [180.048970382293, 19.9967803797242], [162.218267079146, 20.2677999045792], [162.468655072985, 9.98296436450166]]]}, &quot;collection&quot;: &quot;modis-13Q1-061&quot;, &quot;properties&quot;: {&quot;created&quot;: &quot;2023-10-17T18:09:25Z&quot;, &quot;updated&quot;: &quot;2023-10-17T13:16:31.796000Z&quot;, &quot;platform&quot;: &quot;terra&quot;, &quot;proj:wkt2&quot;: &quot;PROJCS[\\&quot;unnamed\\&quot;,GEOGCS[\\&quot;Unknown datum based upon the custom spheroid\\&quot;,DATUM[\\&quot;Not specified (based on custom spheroid)\\&quot;,SPHEROID[\\&quot;Custom spheroid\\&quot;,6371007.181,0]],PRIMEM[\\&quot;Greenwich\\&quot;,0],UNIT[\\&quot;degree\\&quot;,0.0174532925199433,AUTHORITY[\\&quot;EPSG\\&quot;,\\&quot;9122\\&quot;]]],PROJECTION[\\&quot;Sinusoidal\\&quot;],PARAMETER[\\&quot;longitude_of_center\\&quot;,0],PARAMETER[\\&quot;false_easting\\&quot;,0],PARAMETER[\\&quot;false_northing\\&quot;,0],UNIT[\\&quot;Meter\\&quot;,1],AXIS[\\&quot;Easting\\&quot;,EAST],AXIS[\\&quot;Northing\\&quot;,NORTH]]&quot;, &quot;proj:shape&quot;: [4800, 4800], &quot;instruments&quot;: [&quot;modis&quot;], &quot;end_datetime&quot;: &quot;2023-10-15T23:59:59Z&quot;, &quot;modis:tile-id&quot;: &quot;51034007&quot;, &quot;proj:geometry&quot;: {&quot;type&quot;: &quot;Polygon&quot;, &quot;coordinates&quot;: [[[18903158.834333, 1111950.519667], [18903158.834333, 2223901.039333], [17791208.314667, 2223901.039333], [17791208.314667, 1111950.519667], [18903158.834333, 1111950.519667]]]}, &quot;proj:transform&quot;: [231.65635826374947, 0.0, 17791208.314667, 0.0, -231.65635826374995, 2223901.039333], &quot;start_datetime&quot;: &quot;2023-09-30T00:00:00Z&quot;, &quot;modis:vertical-tile&quot;: 7, &quot;modis:horizontal-tile&quot;: 34}, &quot;stac_version&quot;: &quot;1.0.0&quot;, &quot;stac_extensions&quot;: [&quot;https://stac-extensions.github.io/projection/v1.1.0/schema.json&quot;, &quot;https://stac-extensions.github.io/raster/v1.1.0/schema.json&quot;, &quot;https://stac-extensions.github.io/classification/v1.0.0/schema.json&quot;]}, {&quot;id&quot;: &quot;MOD13Q1.A2023273.h33v11.061.2023290143105&quot;, &quot;bbox&quot;: [159.15191110065, -30.5860517493714, 180.338520479382, -19.3488112087257], &quot;type&quot;: &quot;Feature&quot;, &quot;links&quot;: [{&quot;rel&quot;: &quot;collection&quot;, &quot;href&quot;: &quot;https://planetarycomputer.microsoft.com/api/stac/v1/collections/modis-13Q1-061&quot;, &quot;type&quot;: &quot;application/json&quot;}, {&quot;rel&quot;: &quot;parent&quot;, &quot;href&quot;: &quot;https://planetarycomputer.microsoft.com/api/stac/v1/collections/modis-13Q1-061&quot;, &quot;type&quot;: &quot;application/json&quot;}, {&quot;rel&quot;: &quot;root&quot;, &quot;href&quot;: &quot;https://planetarycomputer.microsoft.com/api/stac/v1&quot;, &quot;type&quot;: &quot;application/json&quot;, &quot;title&quot;: &quot;Microsoft Planetary Computer STAC API&quot;}, {&quot;rel&quot;: &quot;self&quot;, &quot;href&quot;: &quot;https://planetarycomputer.microsoft.com/api/stac/v1/collections/modis-13Q1-061/items/MOD13Q1.A2023273.h33v11.061.2023290143105&quot;, &quot;type&quot;: &quot;application/geo+json&quot;}, {&quot;rel&quot;: &quot;preview&quot;, &quot;href&quot;: &quot;https://planetarycomputer.microsoft.com/api/data/v1/item/map?collection=modis-13Q1-061&amp;item=MOD13Q1.A2023273.h33v11.061.2023290143105&quot;, &quot;type&quot;: &quot;text/html&quot;, &quot;title&quot;: &quot;Map of item&quot;}], &quot;assets&quot;: {&quot;hdf&quot;: {&quot;href&quot;: &quot;https://modiseuwest.blob.core.windows.net/modis-061/MOD13Q1/33/11/2023273/MOD13Q1.A2023273.h33v11.061.2023290143105.hdf&quot;, &quot;type&quot;: &quot;application/x-hdf&quot;, &quot;roles&quot;: [&quot;data&quot;], &quot;title&quot;: &quot;Source data containing all bands&quot;}, &quot;metadata&quot;: {&quot;href&quot;: &quot;https://modiseuwest.blob.core.windows.net/modis-061/MOD13Q1/33/11/2023273/MOD13Q1.A2023273.h33v11.061.2023290143105.hdf.xml&quot;, &quot;type&quot;: &quot;application/xml&quot;, &quot;roles&quot;: [&quot;metadata&quot;], &quot;title&quot;: &quot;Federal Geographic Data Committee (FGDC) Metadata&quot;}, &quot;tilejson&quot;: {&quot;href&quot;: &quot;https://planetarycomputer.microsoft.com/api/data/v1/item/tilejson.json?collection=modis-13Q1-061&amp;item=MOD13Q1.A2023273.h33v11.061.2023290143105&amp;assets=250m_16_days_NDVI&amp;tile_format=png&amp;colormap_name=modis-13A1%7CQ1&amp;rescale=0%2C10000&amp;format=png&quot;, &quot;type&quot;: &quot;application/json&quot;, &quot;roles&quot;: [&quot;tiles&quot;], &quot;title&quot;: &quot;TileJSON with default rendering&quot;}, &quot;250m_16_days_EVI&quot;: {&quot;href&quot;: &quot;https://modiseuwest.blob.core.windows.net/modis-061-cogs/MOD13Q1/33/11/2023273/MOD13Q1.A2023273.h33v11.061.2023290143105_250m_16_days_EVI.tif&quot;, &quot;type&quot;: &quot;image/tiff; application=geotiff; profile=cloud-optimized&quot;, &quot;roles&quot;: [&quot;data&quot;], &quot;title&quot;: &quot;16 day EVI&quot;, &quot;raster:bands&quot;: [{&quot;unit&quot;: &quot;EVI&quot;, &quot;scale&quot;: 0.0001, &quot;data_type&quot;: &quot;int16&quot;, &quot;spatial_resolution&quot;: 250}]}, &quot;rendered_preview&quot;: {&quot;rel&quot;: &quot;preview&quot;, &quot;href&quot;: &quot;https://planetarycomputer.microsoft.com/api/data/v1/item/preview.png?collection=modis-13Q1-061&amp;item=MOD13Q1.A2023273.h33v11.061.2023290143105&amp;assets=250m_16_days_NDVI&amp;tile_format=png&amp;colormap_name=modis-13A1%7CQ1&amp;rescale=0%2C10000&amp;format=png&quot;, &quot;type&quot;: &quot;image/png&quot;, &quot;roles&quot;: [&quot;overview&quot;], &quot;title&quot;: &quot;Rendered preview&quot;}, &quot;250m_16_days_NDVI&quot;: {&quot;href&quot;: &quot;https://modiseuwest.blob.core.windows.net/modis-061-cogs/MOD13Q1/33/11/2023273/MOD13Q1.A2023273.h33v11.061.2023290143105_250m_16_days_NDVI.tif&quot;, &quot;type&quot;: &quot;image/tiff; application=geotiff; profile=cloud-optimized&quot;, &quot;roles&quot;: [&quot;data&quot;], &quot;title&quot;: &quot;16 day NDVI&quot;, &quot;raster:bands&quot;: [{&quot;unit&quot;: &quot;NDVI&quot;, &quot;scale&quot;: 0.0001, &quot;data_type&quot;: &quot;int16&quot;, &quot;spatial_resolution&quot;: 250}]}, &quot;250m_16_days_VI_Quality&quot;: {&quot;href&quot;: &quot;https://modiseuwest.blob.core.windows.net/modis-061-cogs/MOD13Q1/33/11/2023273/MOD13Q1.A2023273.h33v11.061.2023290143105_250m_16_days_VI_Quality.tif&quot;, &quot;type&quot;: &quot;image/tiff; application=geotiff; profile=cloud-optimized&quot;, &quot;roles&quot;: [&quot;data&quot;], &quot;title&quot;: &quot;VI quality indicators&quot;, &quot;raster:bands&quot;: [{&quot;data_type&quot;: &quot;uint16&quot;, &quot;spatial_resolution&quot;: 250}]}, &quot;250m_16_days_MIR_reflectance&quot;: {&quot;href&quot;: &quot;https://modiseuwest.blob.core.windows.net/modis-061-cogs/MOD13Q1/33/11/2023273/MOD13Q1.A2023273.h33v11.061.2023290143105_250m_16_days_MIR_reflectance.tif&quot;, &quot;type&quot;: &quot;image/tiff; application=geotiff; profile=cloud-optimized&quot;, &quot;roles&quot;: [&quot;data&quot;], &quot;title&quot;: &quot;Surface Reflectance Band 7&quot;, &quot;raster:bands&quot;: [{&quot;scale&quot;: 0.0001, &quot;data_type&quot;: &quot;int16&quot;, &quot;spatial_resolution&quot;: 250}]}, &quot;250m_16_days_NIR_reflectance&quot;: {&quot;href&quot;: &quot;https://modiseuwest.blob.core.windows.net/modis-061-cogs/MOD13Q1/33/11/2023273/MOD13Q1.A2023273.h33v11.061.2023290143105_250m_16_days_NIR_reflectance.tif&quot;, &quot;type&quot;: &quot;image/tiff; application=geotiff; profile=cloud-optimized&quot;, &quot;roles&quot;: [&quot;data&quot;], &quot;title&quot;: &quot;Surface Reflectance Band 2&quot;, &quot;raster:bands&quot;: [{&quot;scale&quot;: 0.0001, &quot;data_type&quot;: &quot;int16&quot;, &quot;spatial_resolution&quot;: 250}]}, &quot;250m_16_days_red_reflectance&quot;: {&quot;href&quot;: &quot;https://modiseuwest.blob.core.windows.net/modis-061-cogs/MOD13Q1/33/11/2023273/MOD13Q1.A2023273.h33v11.061.2023290143105_250m_16_days_red_reflectance.tif&quot;, &quot;type&quot;: &quot;image/tiff; application=geotiff; profile=cloud-optimized&quot;, &quot;roles&quot;: [&quot;data&quot;], &quot;title&quot;: &quot;Surface Reflectance Band 1&quot;, &quot;raster:bands&quot;: [{&quot;scale&quot;: 0.0001, &quot;data_type&quot;: &quot;int16&quot;, &quot;spatial_resolution&quot;: 250}]}, &quot;250m_16_days_blue_reflectance&quot;: {&quot;href&quot;: &quot;https://modiseuwest.blob.core.windows.net/modis-061-cogs/MOD13Q1/33/11/2023273/MOD13Q1.A2023273.h33v11.061.2023290143105_250m_16_days_blue_reflectance.tif&quot;, &quot;type&quot;: &quot;image/tiff; application=geotiff; profile=cloud-optimized&quot;, &quot;roles&quot;: [&quot;data&quot;], &quot;title&quot;: &quot;Surface Reflectance Band 3&quot;, &quot;raster:bands&quot;: [{&quot;scale&quot;: 0.0001, &quot;data_type&quot;: &quot;int16&quot;, &quot;spatial_resolution&quot;: 250}]}, &quot;250m_16_days_sun_zenith_angle&quot;: {&quot;href&quot;: &quot;https://modiseuwest.blob.core.windows.net/modis-061-cogs/MOD13Q1/33/11/2023273/MOD13Q1.A2023273.h33v11.061.2023290143105_250m_16_days_sun_zenith_angle.tif&quot;, &quot;type&quot;: &quot;image/tiff; application=geotiff; profile=cloud-optimized&quot;, &quot;roles&quot;: [&quot;data&quot;], &quot;title&quot;: &quot;Sun zenith angle of VI pixel&quot;, &quot;raster:bands&quot;: [{&quot;unit&quot;: &quot;Degree&quot;, &quot;scale&quot;: 0.01, &quot;data_type&quot;: &quot;int16&quot;, &quot;spatial_resolution&quot;: 250}]}, &quot;250m_16_days_pixel_reliability&quot;: {&quot;href&quot;: &quot;https://modiseuwest.blob.core.windows.net/modis-061-cogs/MOD13Q1/33/11/2023273/MOD13Q1.A2023273.h33v11.061.2023290143105_250m_16_days_pixel_reliability.tif&quot;, &quot;type&quot;: &quot;image/tiff; application=geotiff; profile=cloud-optimized&quot;, &quot;roles&quot;: [&quot;data&quot;], &quot;title&quot;: &quot;Quality reliability of VI pixel&quot;, &quot;raster:bands&quot;: [{&quot;unit&quot;: &quot;Rank&quot;, &quot;data_type&quot;: &quot;int8&quot;, &quot;spatial_resolution&quot;: 250}], &quot;classification:classes&quot;: [{&quot;value&quot;: 0, &quot;description&quot;: &quot;Good data, use with confidence&quot;}, {&quot;value&quot;: 1, &quot;description&quot;: &quot;Marginal data, useful, but look at other QA information&quot;}, {&quot;value&quot;: 2, &quot;description&quot;: &quot;Snow/Ice Target covered with snow/ice&quot;}, {&quot;value&quot;: 3, &quot;description&quot;: &quot;Cloudy data&quot;}]}, &quot;250m_16_days_view_zenith_angle&quot;: {&quot;href&quot;: &quot;https://modiseuwest.blob.core.windows.net/modis-061-cogs/MOD13Q1/33/11/2023273/MOD13Q1.A2023273.h33v11.061.2023290143105_250m_16_days_view_zenith_angle.tif&quot;, &quot;type&quot;: &quot;image/tiff; application=geotiff; profile=cloud-optimized&quot;, &quot;roles&quot;: [&quot;data&quot;], &quot;title&quot;: &quot;View zenith angle of VI Pixel&quot;, &quot;raster:bands&quot;: [{&quot;unit&quot;: &quot;Degree&quot;, &quot;scale&quot;: 0.01, &quot;data_type&quot;: &quot;int16&quot;, &quot;spatial_resolution&quot;: 250}]}, &quot;250m_16_days_relative_azimuth_angle&quot;: {&quot;href&quot;: &quot;https://modiseuwest.blob.core.windows.net/modis-061-cogs/MOD13Q1/33/11/2023273/MOD13Q1.A2023273.h33v11.061.2023290143105_250m_16_days_relative_azimuth_angle.tif&quot;, &quot;type&quot;: &quot;image/tiff; application=geotiff; profile=cloud-optimized&quot;, &quot;roles&quot;: [&quot;data&quot;], &quot;title&quot;: &quot;Relative azimuth angle of VI pixel&quot;, &quot;raster:bands&quot;: [{&quot;unit&quot;: &quot;Degree&quot;, &quot;scale&quot;: 0.01, &quot;data_type&quot;: &quot;int16&quot;, &quot;spatial_resolution&quot;: 250}]}, &quot;250m_16_days_composite_day_of_the_year&quot;: {&quot;href&quot;: &quot;https://modiseuwest.blob.core.windows.net/modis-061-cogs/MOD13Q1/33/11/2023273/MOD13Q1.A2023273.h33v11.061.2023290143105_250m_16_days_composite_day_of_the_year.tif&quot;, &quot;type&quot;: &quot;image/tiff; application=geotiff; profile=cloud-optimized&quot;, &quot;roles&quot;: [&quot;data&quot;], &quot;title&quot;: &quot;Day of year VI pixel&quot;, &quot;raster:bands&quot;: [{&quot;unit&quot;: &quot;Julian Day&quot;, &quot;data_type&quot;: &quot;int16&quot;, &quot;spatial_resolution&quot;: 250}]}}, &quot;geometry&quot;: {&quot;type&quot;: &quot;Polygon&quot;, &quot;coordinates&quot;: [[[159.15191110065, -30.5860517493714], [180.338520479382, -29.9627990954245], [179.086419118062, -19.3488112087257], [159.628715323551, -19.9503809756581], [159.15191110065, -30.5860517493714]]]}, &quot;collection&quot;: &quot;modis-13Q1-061&quot;, &quot;properties&quot;: {&quot;created&quot;: &quot;2023-10-17T18:31:05Z&quot;, &quot;updated&quot;: &quot;2023-10-17T13:36:34.136000Z&quot;, &quot;platform&quot;: &quot;terra&quot;, &quot;proj:wkt2&quot;: &quot;PROJCS[\\&quot;unnamed\\&quot;,GEOGCS[\\&quot;Unknown datum based upon the custom spheroid\\&quot;,DATUM[\\&quot;Not specified (based on custom spheroid)\\&quot;,SPHEROID[\\&quot;Custom spheroid\\&quot;,6371007.181,0]],PRIMEM[\\&quot;Greenwich\\&quot;,0],UNIT[\\&quot;degree\\&quot;,0.0174532925199433,AUTHORITY[\\&quot;EPSG\\&quot;,\\&quot;9122\\&quot;]]],PROJECTION[\\&quot;Sinusoidal\\&quot;],PARAMETER[\\&quot;longitude_of_center\\&quot;,0],PARAMETER[\\&quot;false_easting\\&quot;,0],PARAMETER[\\&quot;false_northing\\&quot;,0],UNIT[\\&quot;Meter\\&quot;,1],AXIS[\\&quot;Easting\\&quot;,EAST],AXIS[\\&quot;Northing\\&quot;,NORTH]]&quot;, &quot;proj:shape&quot;: [4800, 4800], &quot;instruments&quot;: [&quot;modis&quot;], &quot;end_datetime&quot;: &quot;2023-10-15T23:59:59Z&quot;, &quot;modis:tile-id&quot;: &quot;51033011&quot;, &quot;proj:geometry&quot;: {&quot;type&quot;: &quot;Polygon&quot;, &quot;coordinates&quot;: [[[17791208.314667, -3335851.559], [17791208.314667, -2223901.039333], [16679257.795, -2223901.039333], [16679257.795, -3335851.559], [17791208.314667, -3335851.559]]]}, &quot;proj:transform&quot;: [231.65635826395862, 0.0, 16679257.795, 0.0, -231.65635826395834, -2223901.039333], &quot;start_datetime&quot;: &quot;2023-09-30T00:00:00Z&quot;, &quot;modis:vertical-tile&quot;: 11, &quot;modis:horizontal-tile&quot;: 33}, &quot;stac_version&quot;: &quot;1.0.0&quot;, &quot;stac_extensions&quot;: [&quot;https://stac-extensions.github.io/projection/v1.1.0/schema.json&quot;, &quot;https://stac-extensions.github.io/raster/v1.1.0/schema.json&quot;, &quot;https://stac-extensions.github.io/classification/v1.0.0/schema.json&quot;]}, {&quot;id&quot;: &quot;MOD13Q1.A2023273.h33v10.061.2023290143322&quot;, &quot;bbox&quot;: [151.773414615977, -20.0446579085825, 170.268443578913, -9.93076309615818], &quot;type&quot;: &quot;Feature&quot;, &quot;links&quot;: [{&quot;rel&quot;: &quot;collection&quot;, &quot;href&quot;: &quot;https://planetarycomputer.microsoft.com/api/stac/v1/collections/modis-13Q1-061&quot;, &quot;type&quot;: &quot;application/json&quot;}, {&quot;rel&quot;: &quot;parent&quot;, &quot;href&quot;: &quot;https://planetarycomputer.microsoft.com/api/stac/v1/collections/modis-13Q1-061&quot;, &quot;type&quot;: &quot;application/json&quot;}, {&quot;rel&quot;: &quot;root&quot;, &quot;href&quot;: &quot;https://planetarycomputer.microsoft.com/api/stac/v1&quot;, &quot;type&quot;: &quot;application/json&quot;, &quot;title&quot;: &quot;Microsoft Planetary Computer STAC API&quot;}, {&quot;rel&quot;: &quot;self&quot;, &quot;href&quot;: &quot;https://planetarycomputer.microsoft.com/api/stac/v1/collections/modis-13Q1-061/items/MOD13Q1.A2023273.h33v10.061.2023290143322&quot;, &quot;type&quot;: &quot;application/geo+json&quot;}, {&quot;rel&quot;: &quot;preview&quot;, &quot;href&quot;: &quot;https://planetarycomputer.microsoft.com/api/data/v1/item/map?collection=modis-13Q1-061&amp;item=MOD13Q1.A2023273.h33v10.061.2023290143322&quot;, &quot;type&quot;: &quot;text/html&quot;, &quot;title&quot;: &quot;Map of item&quot;}], &quot;assets&quot;: {&quot;hdf&quot;: {&quot;href&quot;: &quot;https://modiseuwest.blob.core.windows.net/modis-061/MOD13Q1/33/10/2023273/MOD13Q1.A2023273.h33v10.061.2023290143322.hdf&quot;, &quot;type&quot;: &quot;application/x-hdf&quot;, &quot;roles&quot;: [&quot;data&quot;], &quot;title&quot;: &quot;Source data containing all bands&quot;}, &quot;metadata&quot;: {&quot;href&quot;: &quot;https://modiseuwest.blob.core.windows.net/modis-061/MOD13Q1/33/10/2023273/MOD13Q1.A2023273.h33v10.061.2023290143322.hdf.xml&quot;, &quot;type&quot;: &quot;application/xml&quot;, &quot;roles&quot;: [&quot;metadata&quot;], &quot;title&quot;: &quot;Federal Geographic Data Committee (FGDC) Metadata&quot;}, &quot;tilejson&quot;: {&quot;href&quot;: &quot;https://planetarycomputer.microsoft.com/api/data/v1/item/tilejson.json?collection=modis-13Q1-061&amp;item=MOD13Q1.A2023273.h33v10.061.2023290143322&amp;assets=250m_16_days_NDVI&amp;tile_format=png&amp;colormap_name=modis-13A1%7CQ1&amp;rescale=0%2C10000&amp;format=png&quot;, &quot;type&quot;: &quot;application/json&quot;, &quot;roles&quot;: [&quot;tiles&quot;], &quot;title&quot;: &quot;TileJSON with default rendering&quot;}, &quot;250m_16_days_EVI&quot;: {&quot;href&quot;: &quot;https://modiseuwest.blob.core.windows.net/modis-061-cogs/MOD13Q1/33/10/2023273/MOD13Q1.A2023273.h33v10.061.2023290143322_250m_16_days_EVI.tif&quot;, &quot;type&quot;: &quot;image/tiff; application=geotiff; profile=cloud-optimized&quot;, &quot;roles&quot;: [&quot;data&quot;], &quot;title&quot;: &quot;16 day EVI&quot;, &quot;raster:bands&quot;: [{&quot;unit&quot;: &quot;EVI&quot;, &quot;scale&quot;: 0.0001, &quot;data_type&quot;: &quot;int16&quot;, &quot;spatial_resolution&quot;: 250}]}, &quot;rendered_preview&quot;: {&quot;rel&quot;: &quot;preview&quot;, &quot;href&quot;: &quot;https://planetarycomputer.microsoft.com/api/data/v1/item/preview.png?collection=modis-13Q1-061&amp;item=MOD13Q1.A2023273.h33v10.061.2023290143322&amp;assets=250m_16_days_NDVI&amp;tile_format=png&amp;colormap_name=modis-13A1%7CQ1&amp;rescale=0%2C10000&amp;format=png&quot;, &quot;type&quot;: &quot;image/png&quot;, &quot;roles&quot;: [&quot;overview&quot;], &quot;title&quot;: &quot;Rendered preview&quot;}, &quot;250m_16_days_NDVI&quot;: {&quot;href&quot;: &quot;https://modiseuwest.blob.core.windows.net/modis-061-cogs/MOD13Q1/33/10/2023273/MOD13Q1.A2023273.h33v10.061.2023290143322_250m_16_days_NDVI.tif&quot;, &quot;type&quot;: &quot;image/tiff; application=geotiff; profile=cloud-optimized&quot;, &quot;roles&quot;: [&quot;data&quot;], &quot;title&quot;: &quot;16 day NDVI&quot;, &quot;raster:bands&quot;: [{&quot;unit&quot;: &quot;NDVI&quot;, &quot;scale&quot;: 0.0001, &quot;data_type&quot;: &quot;int16&quot;, &quot;spatial_resolution&quot;: 250}]}, &quot;250m_16_days_VI_Quality&quot;: {&quot;href&quot;: &quot;https://modiseuwest.blob.core.windows.net/modis-061-cogs/MOD13Q1/33/10/2023273/MOD13Q1.A2023273.h33v10.061.2023290143322_250m_16_days_VI_Quality.tif&quot;, &quot;type&quot;: &quot;image/tiff; application=geotiff; profile=cloud-optimized&quot;, &quot;roles&quot;: [&quot;data&quot;], &quot;title&quot;: &quot;VI quality indicators&quot;, &quot;raster:bands&quot;: [{&quot;data_type&quot;: &quot;uint16&quot;, &quot;spatial_resolution&quot;: 250}]}, &quot;250m_16_days_MIR_reflectance&quot;: {&quot;href&quot;: &quot;https://modiseuwest.blob.core.windows.net/modis-061-cogs/MOD13Q1/33/10/2023273/MOD13Q1.A2023273.h33v10.061.2023290143322_250m_16_days_MIR_reflectance.tif&quot;, &quot;type&quot;: &quot;image/tiff; application=geotiff; profile=cloud-optimized&quot;, &quot;roles&quot;: [&quot;data&quot;], &quot;title&quot;: &quot;Surface Reflectance Band 7&quot;, &quot;raster:bands&quot;: [{&quot;scale&quot;: 0.0001, &quot;data_type&quot;: &quot;int16&quot;, &quot;spatial_resolution&quot;: 250}]}, &quot;250m_16_days_NIR_reflectance&quot;: {&quot;href&quot;: &quot;https://modiseuwest.blob.core.windows.net/modis-061-cogs/MOD13Q1/33/10/2023273/MOD13Q1.A2023273.h33v10.061.2023290143322_250m_16_days_NIR_reflectance.tif&quot;, &quot;type&quot;: &quot;image/tiff; application=geotiff; profile=cloud-optimized&quot;, &quot;roles&quot;: [&quot;data&quot;], &quot;title&quot;: &quot;Surface Reflectance Band 2&quot;, &quot;raster:bands&quot;: [{&quot;scale&quot;: 0.0001, &quot;data_type&quot;: &quot;int16&quot;, &quot;spatial_resolution&quot;: 250}]}, &quot;250m_16_days_red_reflectance&quot;: {&quot;href&quot;: &quot;https://modiseuwest.blob.core.windows.net/modis-061-cogs/MOD13Q1/33/10/2023273/MOD13Q1.A2023273.h33v10.061.2023290143322_250m_16_days_red_reflectance.tif&quot;, &quot;type&quot;: &quot;image/tiff; application=geotiff; profile=cloud-optimized&quot;, &quot;roles&quot;: [&quot;data&quot;], &quot;title&quot;: &quot;Surface Reflectance Band 1&quot;, &quot;raster:bands&quot;: [{&quot;scale&quot;: 0.0001, &quot;data_type&quot;: &quot;int16&quot;, &quot;spatial_resolution&quot;: 250}]}, &quot;250m_16_days_blue_reflectance&quot;: {&quot;href&quot;: &quot;https://modiseuwest.blob.core.windows.net/modis-061-cogs/MOD13Q1/33/10/2023273/MOD13Q1.A2023273.h33v10.061.2023290143322_250m_16_days_blue_reflectance.tif&quot;, &quot;type&quot;: &quot;image/tiff; application=geotiff; profile=cloud-optimized&quot;, &quot;roles&quot;: [&quot;data&quot;], &quot;title&quot;: &quot;Surface Reflectance Band 3&quot;, &quot;raster:bands&quot;: [{&quot;scale&quot;: 0.0001, &quot;data_type&quot;: &quot;int16&quot;, &quot;spatial_resolution&quot;: 250}]}, &quot;250m_16_days_sun_zenith_angle&quot;: {&quot;href&quot;: &quot;https://modiseuwest.blob.core.windows.net/modis-061-cogs/MOD13Q1/33/10/2023273/MOD13Q1.A2023273.h33v10.061.2023290143322_250m_16_days_sun_zenith_angle.tif&quot;, &quot;type&quot;: &quot;image/tiff; application=geotiff; profile=cloud-optimized&quot;, &quot;roles&quot;: [&quot;data&quot;], &quot;title&quot;: &quot;Sun zenith angle of VI pixel&quot;, &quot;raster:bands&quot;: [{&quot;unit&quot;: &quot;Degree&quot;, &quot;scale&quot;: 0.01, &quot;data_type&quot;: &quot;int16&quot;, &quot;spatial_resolution&quot;: 250}]}, &quot;250m_16_days_pixel_reliability&quot;: {&quot;href&quot;: &quot;https://modiseuwest.blob.core.windows.net/modis-061-cogs/MOD13Q1/33/10/2023273/MOD13Q1.A2023273.h33v10.061.2023290143322_250m_16_days_pixel_reliability.tif&quot;, &quot;type&quot;: &quot;image/tiff; application=geotiff; profile=cloud-optimized&quot;, &quot;roles&quot;: [&quot;data&quot;], &quot;title&quot;: &quot;Quality reliability of VI pixel&quot;, &quot;raster:bands&quot;: [{&quot;unit&quot;: &quot;Rank&quot;, &quot;data_type&quot;: &quot;int8&quot;, &quot;spatial_resolution&quot;: 250}], &quot;classification:classes&quot;: [{&quot;value&quot;: 0, &quot;description&quot;: &quot;Good data, use with confidence&quot;}, {&quot;value&quot;: 1, &quot;description&quot;: &quot;Marginal data, useful, but look at other QA information&quot;}, {&quot;value&quot;: 2, &quot;description&quot;: &quot;Snow/Ice Target covered with snow/ice&quot;}, {&quot;value&quot;: 3, &quot;description&quot;: &quot;Cloudy data&quot;}]}, &quot;250m_16_days_view_zenith_angle&quot;: {&quot;href&quot;: &quot;https://modiseuwest.blob.core.windows.net/modis-061-cogs/MOD13Q1/33/10/2023273/MOD13Q1.A2023273.h33v10.061.2023290143322_250m_16_days_view_zenith_angle.tif&quot;, &quot;type&quot;: &quot;image/tiff; application=geotiff; profile=cloud-optimized&quot;, &quot;roles&quot;: [&quot;data&quot;], &quot;title&quot;: &quot;View zenith angle of VI Pixel&quot;, &quot;raster:bands&quot;: [{&quot;unit&quot;: &quot;Degree&quot;, &quot;scale&quot;: 0.01, &quot;data_type&quot;: &quot;int16&quot;, &quot;spatial_resolution&quot;: 250}]}, &quot;250m_16_days_relative_azimuth_angle&quot;: {&quot;href&quot;: &quot;https://modiseuwest.blob.core.windows.net/modis-061-cogs/MOD13Q1/33/10/2023273/MOD13Q1.A2023273.h33v10.061.2023290143322_250m_16_days_relative_azimuth_angle.tif&quot;, &quot;type&quot;: &quot;image/tiff; application=geotiff; profile=cloud-optimized&quot;, &quot;roles&quot;: [&quot;data&quot;], &quot;title&quot;: &quot;Relative azimuth angle of VI pixel&quot;, &quot;raster:bands&quot;: [{&quot;unit&quot;: &quot;Degree&quot;, &quot;scale&quot;: 0.01, &quot;data_type&quot;: &quot;int16&quot;, &quot;spatial_resolution&quot;: 250}]}, &quot;250m_16_days_composite_day_of_the_year&quot;: {&quot;href&quot;: &quot;https://modiseuwest.blob.core.windows.net/modis-061-cogs/MOD13Q1/33/10/2023273/MOD13Q1.A2023273.h33v10.061.2023290143322_250m_16_days_composite_day_of_the_year.tif&quot;, &quot;type&quot;: &quot;image/tiff; application=geotiff; profile=cloud-optimized&quot;, &quot;roles&quot;: [&quot;data&quot;], &quot;title&quot;: &quot;Day of year VI pixel&quot;, &quot;raster:bands&quot;: [{&quot;unit&quot;: &quot;Julian Day&quot;, &quot;data_type&quot;: &quot;int16&quot;, &quot;spatial_resolution&quot;: 250}]}}, &quot;geometry&quot;: {&quot;type&quot;: &quot;Polygon&quot;, &quot;coordinates&quot;: [[[159.037155638548, -20.0446579085825], [151.773414615977, -9.97735872020488], [162.483768283086, -9.93076309615818], [170.268443578913, -19.999999998204], [159.037155638548, -20.0446579085825]]]}, &quot;collection&quot;: &quot;modis-13Q1-061&quot;, &quot;properties&quot;: {&quot;created&quot;: &quot;2023-10-17T18:33:22Z&quot;, &quot;updated&quot;: &quot;2023-10-17T13:40:23.022000Z&quot;, &quot;platform&quot;: &quot;terra&quot;, &quot;proj:wkt2&quot;: &quot;PROJCS[\\&quot;unnamed\\&quot;,GEOGCS[\\&quot;Unknown datum based upon the custom spheroid\\&quot;,DATUM[\\&quot;Not specified (based on custom spheroid)\\&quot;,SPHEROID[\\&quot;Custom spheroid\\&quot;,6371007.181,0]],PRIMEM[\\&quot;Greenwich\\&quot;,0],UNIT[\\&quot;degree\\&quot;,0.0174532925199433,AUTHORITY[\\&quot;EPSG\\&quot;,\\&quot;9122\\&quot;]]],PROJECTION[\\&quot;Sinusoidal\\&quot;],PARAMETER[\\&quot;longitude_of_center\\&quot;,0],PARAMETER[\\&quot;false_easting\\&quot;,0],PARAMETER[\\&quot;false_northing\\&quot;,0],UNIT[\\&quot;Meter\\&quot;,1],AXIS[\\&quot;Easting\\&quot;,EAST],AXIS[\\&quot;Northing\\&quot;,NORTH]]&quot;, &quot;proj:shape&quot;: [4800, 4800], &quot;instruments&quot;: [&quot;modis&quot;], &quot;end_datetime&quot;: &quot;2023-10-15T23:59:59Z&quot;, &quot;modis:tile-id&quot;: &quot;51033010&quot;, &quot;proj:geometry&quot;: {&quot;type&quot;: &quot;Polygon&quot;, &quot;coordinates&quot;: [[[17791208.314667, -2223901.039333], [17791208.314667, -1111950.519667], [16679257.795, -1111950.519667], [16679257.795, -2223901.039333], [17791208.314667, -2223901.039333]]]}, &quot;proj:transform&quot;: [231.65635826395862, 0.0, 16679257.795, 0.0, -231.65635826374995, -1111950.519667], &quot;start_datetime&quot;: &quot;2023-09-30T00:00:00Z&quot;, &quot;modis:vertical-tile&quot;: 10, &quot;modis:horizontal-tile&quot;: 33}, &quot;stac_version&quot;: &quot;1.0.0&quot;, &quot;stac_extensions&quot;: [&quot;https://stac-extensions.github.io/projection/v1.1.0/schema.json&quot;, &quot;https://stac-extensions.github.io/raster/v1.1.0/schema.json&quot;, &quot;https://stac-extensions.github.io/classification/v1.0.0/schema.json&quot;]}, {&quot;id&quot;: &quot;MOD13Q1.A2023273.h33v09.061.2023290142939&quot;, &quot;bbox&quot;: [149.4391832907, -10.0131633224636, 162.470464063139, 0.0150770994363422], &quot;type&quot;: &quot;Feature&quot;, &quot;links&quot;: [{&quot;rel&quot;: &quot;collection&quot;, &quot;href&quot;: &quot;https://planetarycomputer.microsoft.com/api/stac/v1/collections/modis-13Q1-061&quot;, &quot;type&quot;: &quot;application/json&quot;}, {&quot;rel&quot;: &quot;parent&quot;, &quot;href&quot;: &quot;https://planetarycomputer.microsoft.com/api/stac/v1/collections/modis-13Q1-061&quot;, &quot;type&quot;: &quot;application/json&quot;}, {&quot;rel&quot;: &quot;root&quot;, &quot;href&quot;: &quot;https://planetarycomputer.microsoft.com/api/stac/v1&quot;, &quot;type&quot;: &quot;application/json&quot;, &quot;title&quot;: &quot;Microsoft Planetary Computer STAC API&quot;}, {&quot;rel&quot;: &quot;self&quot;, &quot;href&quot;: &quot;https://planetarycomputer.microsoft.com/api/stac/v1/collections/modis-13Q1-061/items/MOD13Q1.A2023273.h33v09.061.2023290142939&quot;, &quot;type&quot;: &quot;application/geo+json&quot;}, {&quot;rel&quot;: &quot;preview&quot;, &quot;href&quot;: &quot;https://planetarycomputer.microsoft.com/api/data/v1/item/map?collection=modis-13Q1-061&amp;item=MOD13Q1.A2023273.h33v09.061.2023290142939&quot;, &quot;type&quot;: &quot;text/html&quot;, &quot;title&quot;: &quot;Map of item&quot;}], &quot;assets&quot;: {&quot;hdf&quot;: {&quot;href&quot;: &quot;https://modiseuwest.blob.core.windows.net/modis-061/MOD13Q1/33/09/2023273/MOD13Q1.A2023273.h33v09.061.2023290142939.hdf&quot;, &quot;type&quot;: &quot;application/x-hdf&quot;, &quot;roles&quot;: [&quot;data&quot;], &quot;title&quot;: &quot;Source data containing all bands&quot;}, &quot;metadata&quot;: {&quot;href&quot;: &quot;https://modiseuwest.blob.core.windows.net/modis-061/MOD13Q1/33/09/2023273/MOD13Q1.A2023273.h33v09.061.2023290142939.hdf.xml&quot;, &quot;type&quot;: &quot;application/xml&quot;, &quot;roles&quot;: [&quot;metadata&quot;], &quot;title&quot;: &quot;Federal Geographic Data Committee (FGDC) Metadata&quot;}, &quot;tilejson&quot;: {&quot;href&quot;: &quot;https://planetarycomputer.microsoft.com/api/data/v1/item/tilejson.json?collection=modis-13Q1-061&amp;item=MOD13Q1.A2023273.h33v09.061.2023290142939&amp;assets=250m_16_days_NDVI&amp;tile_format=png&amp;colormap_name=modis-13A1%7CQ1&amp;rescale=0%2C10000&amp;format=png&quot;, &quot;type&quot;: &quot;application/json&quot;, &quot;roles&quot;: [&quot;tiles&quot;], &quot;title&quot;: &quot;TileJSON with default rendering&quot;}, &quot;250m_16_days_EVI&quot;: {&quot;href&quot;: &quot;https://modiseuwest.blob.core.windows.net/modis-061-cogs/MOD13Q1/33/09/2023273/MOD13Q1.A2023273.h33v09.061.2023290142939_250m_16_days_EVI.tif&quot;, &quot;type&quot;: &quot;image/tiff; application=geotiff; profile=cloud-optimized&quot;, &quot;roles&quot;: [&quot;data&quot;], &quot;title&quot;: &quot;16 day EVI&quot;, &quot;raster:bands&quot;: [{&quot;unit&quot;: &quot;EVI&quot;, &quot;scale&quot;: 0.0001, &quot;data_type&quot;: &quot;int16&quot;, &quot;spatial_resolution&quot;: 250}]}, &quot;rendered_preview&quot;: {&quot;rel&quot;: &quot;preview&quot;, &quot;href&quot;: &quot;https://planetarycomputer.microsoft.com/api/data/v1/item/preview.png?collection=modis-13Q1-061&amp;item=MOD13Q1.A2023273.h33v09.061.2023290142939&amp;assets=250m_16_days_NDVI&amp;tile_format=png&amp;colormap_name=modis-13A1%7CQ1&amp;rescale=0%2C10000&amp;format=png&quot;, &quot;type&quot;: &quot;image/png&quot;, &quot;roles&quot;: [&quot;overview&quot;], &quot;title&quot;: &quot;Rendered preview&quot;}, &quot;250m_16_days_NDVI&quot;: {&quot;href&quot;: &quot;https://modiseuwest.blob.core.windows.net/modis-061-cogs/MOD13Q1/33/09/2023273/MOD13Q1.A2023273.h33v09.061.2023290142939_250m_16_days_NDVI.tif&quot;, &quot;type&quot;: &quot;image/tiff; application=geotiff; profile=cloud-optimized&quot;, &quot;roles&quot;: [&quot;data&quot;], &quot;title&quot;: &quot;16 day NDVI&quot;, &quot;raster:bands&quot;: [{&quot;unit&quot;: &quot;NDVI&quot;, &quot;scale&quot;: 0.0001, &quot;data_type&quot;: &quot;int16&quot;, &quot;spatial_resolution&quot;: 250}]}, &quot;250m_16_days_VI_Quality&quot;: {&quot;href&quot;: &quot;https://modiseuwest.blob.core.windows.net/modis-061-cogs/MOD13Q1/33/09/2023273/MOD13Q1.A2023273.h33v09.061.2023290142939_250m_16_days_VI_Quality.tif&quot;, &quot;type&quot;: &quot;image/tiff; application=geotiff; profile=cloud-optimized&quot;, &quot;roles&quot;: [&quot;data&quot;], &quot;title&quot;: &quot;VI quality indicators&quot;, &quot;raster:bands&quot;: [{&quot;data_type&quot;: &quot;uint16&quot;, &quot;spatial_resolution&quot;: 250}]}, &quot;250m_16_days_MIR_reflectance&quot;: {&quot;href&quot;: &quot;https://modiseuwest.blob.core.windows.net/modis-061-cogs/MOD13Q1/33/09/2023273/MOD13Q1.A2023273.h33v09.061.2023290142939_250m_16_days_MIR_reflectance.tif&quot;, &quot;type&quot;: &quot;image/tiff; application=geotiff; profile=cloud-optimized&quot;, &quot;roles&quot;: [&quot;data&quot;], &quot;title&quot;: &quot;Surface Reflectance Band 7&quot;, &quot;raster:bands&quot;: [{&quot;scale&quot;: 0.0001, &quot;data_type&quot;: &quot;int16&quot;, &quot;spatial_resolution&quot;: 250}]}, &quot;250m_16_days_NIR_reflectance&quot;: {&quot;href&quot;: &quot;https://modiseuwest.blob.core.windows.net/modis-061-cogs/MOD13Q1/33/09/2023273/MOD13Q1.A2023273.h33v09.061.2023290142939_250m_16_days_NIR_reflectance.tif&quot;, &quot;type&quot;: &quot;image/tiff; application=geotiff; profile=cloud-optimized&quot;, &quot;roles&quot;: [&quot;data&quot;], &quot;title&quot;: &quot;Surface Reflectance Band 2&quot;, &quot;raster:bands&quot;: [{&quot;scale&quot;: 0.0001, &quot;data_type&quot;: &quot;int16&quot;, &quot;spatial_resolution&quot;: 250}]}, &quot;250m_16_days_red_reflectance&quot;: {&quot;href&quot;: &quot;https://modiseuwest.blob.core.windows.net/modis-061-cogs/MOD13Q1/33/09/2023273/MOD13Q1.A2023273.h33v09.061.2023290142939_250m_16_days_red_reflectance.tif&quot;, &quot;type&quot;: &quot;image/tiff; application=geotiff; profile=cloud-optimized&quot;, &quot;roles&quot;: [&quot;data&quot;], &quot;title&quot;: &quot;Surface Reflectance Band 1&quot;, &quot;raster:bands&quot;: [{&quot;scale&quot;: 0.0001, &quot;data_type&quot;: &quot;int16&quot;, &quot;spatial_resolution&quot;: 250}]}, &quot;250m_16_days_blue_reflectance&quot;: {&quot;href&quot;: &quot;https://modiseuwest.blob.core.windows.net/modis-061-cogs/MOD13Q1/33/09/2023273/MOD13Q1.A2023273.h33v09.061.2023290142939_250m_16_days_blue_reflectance.tif&quot;, &quot;type&quot;: &quot;image/tiff; application=geotiff; profile=cloud-optimized&quot;, &quot;roles&quot;: [&quot;data&quot;], &quot;title&quot;: &quot;Surface Reflectance Band 3&quot;, &quot;raster:bands&quot;: [{&quot;scale&quot;: 0.0001, &quot;data_type&quot;: &quot;int16&quot;, &quot;spatial_resolution&quot;: 250}]}, &quot;250m_16_days_sun_zenith_angle&quot;: {&quot;href&quot;: &quot;https://modiseuwest.blob.core.windows.net/modis-061-cogs/MOD13Q1/33/09/2023273/MOD13Q1.A2023273.h33v09.061.2023290142939_250m_16_days_sun_zenith_angle.tif&quot;, &quot;type&quot;: &quot;image/tiff; application=geotiff; profile=cloud-optimized&quot;, &quot;roles&quot;: [&quot;data&quot;], &quot;title&quot;: &quot;Sun zenith angle of VI pixel&quot;, &quot;raster:bands&quot;: [{&quot;unit&quot;: &quot;Degree&quot;, &quot;scale&quot;: 0.01, &quot;data_type&quot;: &quot;int16&quot;, &quot;spatial_resolution&quot;: 250}]}, &quot;250m_16_days_pixel_reliability&quot;: {&quot;href&quot;: &quot;https://modiseuwest.blob.core.windows.net/modis-061-cogs/MOD13Q1/33/09/2023273/MOD13Q1.A2023273.h33v09.061.2023290142939_250m_16_days_pixel_reliability.tif&quot;, &quot;type&quot;: &quot;image/tiff; application=geotiff; profile=cloud-optimized&quot;, &quot;roles&quot;: [&quot;data&quot;], &quot;title&quot;: &quot;Quality reliability of VI pixel&quot;, &quot;raster:bands&quot;: [{&quot;unit&quot;: &quot;Rank&quot;, &quot;data_type&quot;: &quot;int8&quot;, &quot;spatial_resolution&quot;: 250}], &quot;classification:classes&quot;: [{&quot;value&quot;: 0, &quot;description&quot;: &quot;Good data, use with confidence&quot;}, {&quot;value&quot;: 1, &quot;description&quot;: &quot;Marginal data, useful, but look at other QA information&quot;}, {&quot;value&quot;: 2, &quot;description&quot;: &quot;Snow/Ice Target covered with snow/ice&quot;}, {&quot;value&quot;: 3, &quot;description&quot;: &quot;Cloudy data&quot;}]}, &quot;250m_16_days_view_zenith_angle&quot;: {&quot;href&quot;: &quot;https://modiseuwest.blob.core.windows.net/modis-061-cogs/MOD13Q1/33/09/2023273/MOD13Q1.A2023273.h33v09.061.2023290142939_250m_16_days_view_zenith_angle.tif&quot;, &quot;type&quot;: &quot;image/tiff; application=geotiff; profile=cloud-optimized&quot;, &quot;roles&quot;: [&quot;data&quot;], &quot;title&quot;: &quot;View zenith angle of VI Pixel&quot;, &quot;raster:bands&quot;: [{&quot;unit&quot;: &quot;Degree&quot;, &quot;scale&quot;: 0.01, &quot;data_type&quot;: &quot;int16&quot;, &quot;spatial_resolution&quot;: 250}]}, &quot;250m_16_days_relative_azimuth_angle&quot;: {&quot;href&quot;: &quot;https://modiseuwest.blob.core.windows.net/modis-061-cogs/MOD13Q1/33/09/2023273/MOD13Q1.A2023273.h33v09.061.2023290142939_250m_16_days_relative_azimuth_angle.tif&quot;, &quot;type&quot;: &quot;image/tiff; application=geotiff; profile=cloud-optimized&quot;, &quot;roles&quot;: [&quot;data&quot;], &quot;title&quot;: &quot;Relative azimuth angle of VI pixel&quot;, &quot;raster:bands&quot;: [{&quot;unit&quot;: &quot;Degree&quot;, &quot;scale&quot;: 0.01, &quot;data_type&quot;: &quot;int16&quot;, &quot;spatial_resolution&quot;: 250}]}, &quot;250m_16_days_composite_day_of_the_year&quot;: {&quot;href&quot;: &quot;https://modiseuwest.blob.core.windows.net/modis-061-cogs/MOD13Q1/33/09/2023273/MOD13Q1.A2023273.h33v09.061.2023290142939_250m_16_days_composite_day_of_the_year.tif&quot;, &quot;type&quot;: &quot;image/tiff; application=geotiff; profile=cloud-optimized&quot;, &quot;roles&quot;: [&quot;data&quot;], &quot;title&quot;: &quot;Day of year VI pixel&quot;, &quot;raster:bands&quot;: [{&quot;unit&quot;: &quot;Julian Day&quot;, &quot;data_type&quot;: &quot;int16&quot;, &quot;spatial_resolution&quot;: 250}]}}, &quot;geometry&quot;: {&quot;type&quot;: &quot;Polygon&quot;, &quot;coordinates&quot;: [[[151.727899894851, -10.0131633224636], [149.4391832907, -0.000847962750389563], [160.02240812128, 0.0150770994363422], [162.470464063139, -9.99996180674589], [151.727899894851, -10.0131633224636]]]}, &quot;collection&quot;: &quot;modis-13Q1-061&quot;, &quot;properties&quot;: {&quot;created&quot;: &quot;2023-10-17T18:29:39Z&quot;, &quot;updated&quot;: &quot;2023-10-17T13:36:12.245000Z&quot;, &quot;platform&quot;: &quot;terra&quot;, &quot;proj:wkt2&quot;: &quot;PROJCS[\\&quot;unnamed\\&quot;,GEOGCS[\\&quot;Unknown datum based upon the custom spheroid\\&quot;,DATUM[\\&quot;Not specified (based on custom spheroid)\\&quot;,SPHEROID[\\&quot;Custom spheroid\\&quot;,6371007.181,0]],PRIMEM[\\&quot;Greenwich\\&quot;,0],UNIT[\\&quot;degree\\&quot;,0.0174532925199433,AUTHORITY[\\&quot;EPSG\\&quot;,\\&quot;9122\\&quot;]]],PROJECTION[\\&quot;Sinusoidal\\&quot;],PARAMETER[\\&quot;longitude_of_center\\&quot;,0],PARAMETER[\\&quot;false_easting\\&quot;,0],PARAMETER[\\&quot;false_northing\\&quot;,0],UNIT[\\&quot;Meter\\&quot;,1],AXIS[\\&quot;Easting\\&quot;,EAST],AXIS[\\&quot;Northing\\&quot;,NORTH]]&quot;, &quot;proj:shape&quot;: [4800, 4800], &quot;instruments&quot;: [&quot;modis&quot;], &quot;end_datetime&quot;: &quot;2023-10-15T23:59:59Z&quot;, &quot;modis:tile-id&quot;: &quot;51033009&quot;, &quot;proj:geometry&quot;: {&quot;type&quot;: &quot;Polygon&quot;, &quot;coordinates&quot;: [[[17791208.314667, -1111950.519667], [17791208.314667, 0.0], [16679257.795, 0.0], [16679257.795, -1111950.519667], [17791208.314667, -1111950.519667]]]}, &quot;proj:transform&quot;: [231.65635826395862, 0.0, 16679257.795, 0.0, -231.65635826395834, 0.0], &quot;start_datetime&quot;: &quot;2023-09-30T00:00:00Z&quot;, &quot;modis:vertical-tile&quot;: 9, &quot;modis:horizontal-tile&quot;: 33}, &quot;stac_version&quot;: &quot;1.0.0&quot;, &quot;stac_extensions&quot;: [&quot;https://stac-extensions.github.io/projection/v1.1.0/schema.json&quot;, &quot;https://stac-extensions.github.io/raster/v1.1.0/schema.json&quot;, &quot;https://stac-extensions.github.io/classification/v1.0.0/schema.json&quot;]}]}</td>\n",
       "  </tr>\n",
       "</table>\n",
       "<p>(1 row)<br />\n",
       "</p>\n"
      ],
      "text/plain": [
       "<IPython.core.display.HTML object>"
      ]
     },
     "metadata": {},
     "output_type": "display_data"
    }
   ],
   "source": [
    "%%psql\n",
    "SELECT search();"
   ]
  },
  {
   "cell_type": "markdown",
   "id": "95364750-878e-4e5e-af38-a8d246233609",
   "metadata": {},
   "source": [
    "You can see that the query was broken up into two chunks. From 2023-10-01 to 2023-11-01 and then from 2023-09-01 to 2023-10-01. Since we are sorting by datetime descending, we know that we can search the data in small segments and only continue if there are more rows to fetch. If we switch the sort to datetime ascending, we see that we end up running even more smaller queries. And instead we start scanning in chunks from the bottom."
   ]
  },
  {
   "cell_type": "code",
   "execution_count": 25,
   "id": "4598d583-cb55-4e89-b038-8a61a457215d",
   "metadata": {},
   "outputs": [
    {
     "name": "stdout",
     "output_type": "stream",
     "text": [
      "psql:/dev/stdin:1: NOTICE:  Items Count: 0\n",
      "psql:/dev/stdin:1: NOTICE:  FILTER: <NULL>\n",
      "psql:/dev/stdin:1: NOTICE:  SEARCH:TOKEN: <NULL>\n",
      "psql:/dev/stdin:1: NOTICE:  ***TOKEN: <NULL>\n",
      "psql:/dev/stdin:1: NOTICE:  FULL WHERE CLAUSE:  TRUE \n",
      "psql:/dev/stdin:1: NOTICE:  Time to get counts and build query 13.199\n",
      "psql:/dev/stdin:1: NOTICE:  Getting hydrated data.\n",
      "psql:/dev/stdin:1: NOTICE:  CACHE SET TO f\n",
      "psql:/dev/stdin:1: NOTICE:  Time to set hydration/formatting 0.157\n",
      "psql:/dev/stdin:1: NOTICE:  Getting chunks for  TRUE  datetime ASC, id DESC\n",
      "psql:/dev/stdin:1: NOTICE:  Running Query for 2020-01-01 00:00:00+00 to 2020-02-01 00:00:00+00. 1.756\n",
      "psql:/dev/stdin:1: NOTICE:  Returned 1/11 Rows From 2020-01-01 00:00:00+00 to 2020-02-01 00:00:00+00. 10 to go. Time: 0.271ms\n",
      "psql:/dev/stdin:1: NOTICE:  Running Query for 2020-02-01 00:00:00+00 to 2020-03-01 00:00:00+00. 2.154\n",
      "psql:/dev/stdin:1: NOTICE:  Returned 1/11 Rows From 2020-02-01 00:00:00+00 to 2020-03-01 00:00:00+00. 9 to go. Time: 0.135ms\n",
      "psql:/dev/stdin:1: NOTICE:  Running Query for 2020-03-01 00:00:00+00 to 2020-04-01 00:00:00+00. 2.34\n",
      "psql:/dev/stdin:1: NOTICE:  Returned 0/11 Rows From 2020-03-01 00:00:00+00 to 2020-04-01 00:00:00+00. 9 to go. Time: 0.049ms\n",
      "psql:/dev/stdin:1: NOTICE:  Running Query for 2020-04-01 00:00:00+00 to 2023-08-01 00:00:00+00. 2.423\n",
      "psql:/dev/stdin:1: NOTICE:  Returned 0/11 Rows From 2020-04-01 00:00:00+00 to 2023-08-01 00:00:00+00. 9 to go. Time: 0.038ms\n",
      "psql:/dev/stdin:1: NOTICE:  Running Query for 2023-08-01 00:00:00+00 to 2023-09-01 00:00:00+00. 2.489\n",
      "psql:/dev/stdin:1: NOTICE:  Returned 9/11 Rows From 2023-08-01 00:00:00+00 to 2023-09-01 00:00:00+00. 0 to go. Time: 0.199ms\n",
      "psql:/dev/stdin:1: NOTICE:  SEARCH_ROWS TOOK 2.755ms\n",
      "psql:/dev/stdin:1: NOTICE:  Time to fetch rows 35.529\n",
      "psql:/dev/stdin:1: NOTICE:  Query returned 11 records.\n",
      "psql:/dev/stdin:1: NOTICE:  HAS NEXT | modis-13Q1-061:MOD13Q1.A2023241.h33v11.061.2023258001841\n",
      "psql:/dev/stdin:1: NOTICE:  Time to get prev/next 0.532\n",
      "psql:/dev/stdin:1: NOTICE:  Time to build final json 0.388\n",
      "psql:/dev/stdin:1: NOTICE:  Total Time: 52.169\n",
      "psql:/dev/stdin:1: NOTICE:  RETURNING 10 records. NEXT: modis-13Q1-061:MOD13Q1.A2023241.h33v11.061.2023258001841. PREV: <NULL>\n",
      "\n"
     ]
    },
    {
     "data": {
      "text/html": [
       "<table border=\"1\">\n",
       "  <tr>\n",
       "    <th align=\"center\">search</th>\n",
       "  </tr>\n",
       "  <tr valign=\"top\">\n",
       "    <td align=\"left\">{&quot;next&quot;: &quot;modis-13Q1-061:MOD13Q1.A2023241.h33v11.061.2023258001841&quot;, &quot;prev&quot;: null, &quot;type&quot;: &quot;FeatureCollection&quot;, &quot;context&quot;: {&quot;limit&quot;: 10, &quot;returned&quot;: 10}, &quot;features&quot;: [{&quot;id&quot;: &quot;mynewitem1&quot;, &quot;type&quot;: &quot;Feature&quot;, &quot;geometry&quot;: {&quot;type&quot;: &quot;Point&quot;, &quot;coordinates&quot;: [125.6, 10.1]}, &quot;collection&quot;: &quot;modis-13Q1-061&quot;, &quot;properties&quot;: {&quot;datetime&quot;: &quot;2020-01-01 00:00:00+00&quot;}}, {&quot;id&quot;: &quot;mynewitem2&quot;, &quot;type&quot;: &quot;Feature&quot;, &quot;geometry&quot;: {&quot;type&quot;: &quot;Point&quot;, &quot;coordinates&quot;: [125.6, 10.1]}, &quot;collection&quot;: &quot;modis-13Q1-061&quot;, &quot;properties&quot;: {&quot;datetime&quot;: &quot;2020-02-01 00:00:00+00&quot;}}, {&quot;id&quot;: &quot;MOD13Q1.A2023241.h35v10.061.2023258000322&quot;, &quot;bbox&quot;: [172.479315908761, -19.180676222654, 180.143592885496, -9.97534112170732], &quot;type&quot;: &quot;Feature&quot;, &quot;links&quot;: [{&quot;rel&quot;: &quot;collection&quot;, &quot;href&quot;: &quot;https://planetarycomputer.microsoft.com/api/stac/v1/collections/modis-13Q1-061&quot;, &quot;type&quot;: &quot;application/json&quot;}, {&quot;rel&quot;: &quot;parent&quot;, &quot;href&quot;: &quot;https://planetarycomputer.microsoft.com/api/stac/v1/collections/modis-13Q1-061&quot;, &quot;type&quot;: &quot;application/json&quot;}, {&quot;rel&quot;: &quot;root&quot;, &quot;href&quot;: &quot;https://planetarycomputer.microsoft.com/api/stac/v1&quot;, &quot;type&quot;: &quot;application/json&quot;, &quot;title&quot;: &quot;Microsoft Planetary Computer STAC API&quot;}, {&quot;rel&quot;: &quot;self&quot;, &quot;href&quot;: &quot;https://planetarycomputer.microsoft.com/api/stac/v1/collections/modis-13Q1-061/items/MOD13Q1.A2023241.h35v10.061.2023258000322&quot;, &quot;type&quot;: &quot;application/geo+json&quot;}, {&quot;rel&quot;: &quot;preview&quot;, &quot;href&quot;: &quot;https://planetarycomputer.microsoft.com/api/data/v1/item/map?collection=modis-13Q1-061&amp;item=MOD13Q1.A2023241.h35v10.061.2023258000322&quot;, &quot;type&quot;: &quot;text/html&quot;, &quot;title&quot;: &quot;Map of item&quot;}], &quot;assets&quot;: {&quot;hdf&quot;: {&quot;href&quot;: &quot;https://modiseuwest.blob.core.windows.net/modis-061/MOD13Q1/35/10/2023241/MOD13Q1.A2023241.h35v10.061.2023258000322.hdf&quot;, &quot;type&quot;: &quot;application/x-hdf&quot;, &quot;roles&quot;: [&quot;data&quot;], &quot;title&quot;: &quot;Source data containing all bands&quot;}, &quot;metadata&quot;: {&quot;href&quot;: &quot;https://modiseuwest.blob.core.windows.net/modis-061/MOD13Q1/35/10/2023241/MOD13Q1.A2023241.h35v10.061.2023258000322.hdf.xml&quot;, &quot;type&quot;: &quot;application/xml&quot;, &quot;roles&quot;: [&quot;metadata&quot;], &quot;title&quot;: &quot;Federal Geographic Data Committee (FGDC) Metadata&quot;}, &quot;tilejson&quot;: {&quot;href&quot;: &quot;https://planetarycomputer.microsoft.com/api/data/v1/item/tilejson.json?collection=modis-13Q1-061&amp;item=MOD13Q1.A2023241.h35v10.061.2023258000322&amp;assets=250m_16_days_NDVI&amp;tile_format=png&amp;colormap_name=modis-13A1%7CQ1&amp;rescale=0%2C10000&amp;format=png&quot;, &quot;type&quot;: &quot;application/json&quot;, &quot;roles&quot;: [&quot;tiles&quot;], &quot;title&quot;: &quot;TileJSON with default rendering&quot;}, &quot;250m_16_days_EVI&quot;: {&quot;href&quot;: &quot;https://modiseuwest.blob.core.windows.net/modis-061-cogs/MOD13Q1/35/10/2023241/MOD13Q1.A2023241.h35v10.061.2023258000322_250m_16_days_EVI.tif&quot;, &quot;type&quot;: &quot;image/tiff; application=geotiff; profile=cloud-optimized&quot;, &quot;roles&quot;: [&quot;data&quot;], &quot;title&quot;: &quot;16 day EVI&quot;, &quot;raster:bands&quot;: [{&quot;unit&quot;: &quot;EVI&quot;, &quot;scale&quot;: 0.0001, &quot;data_type&quot;: &quot;int16&quot;, &quot;spatial_resolution&quot;: 250}]}, &quot;rendered_preview&quot;: {&quot;rel&quot;: &quot;preview&quot;, &quot;href&quot;: &quot;https://planetarycomputer.microsoft.com/api/data/v1/item/preview.png?collection=modis-13Q1-061&amp;item=MOD13Q1.A2023241.h35v10.061.2023258000322&amp;assets=250m_16_days_NDVI&amp;tile_format=png&amp;colormap_name=modis-13A1%7CQ1&amp;rescale=0%2C10000&amp;format=png&quot;, &quot;type&quot;: &quot;image/png&quot;, &quot;roles&quot;: [&quot;overview&quot;], &quot;title&quot;: &quot;Rendered preview&quot;}, &quot;250m_16_days_NDVI&quot;: {&quot;href&quot;: &quot;https://modiseuwest.blob.core.windows.net/modis-061-cogs/MOD13Q1/35/10/2023241/MOD13Q1.A2023241.h35v10.061.2023258000322_250m_16_days_NDVI.tif&quot;, &quot;type&quot;: &quot;image/tiff; application=geotiff; profile=cloud-optimized&quot;, &quot;roles&quot;: [&quot;data&quot;], &quot;title&quot;: &quot;16 day NDVI&quot;, &quot;raster:bands&quot;: [{&quot;unit&quot;: &quot;NDVI&quot;, &quot;scale&quot;: 0.0001, &quot;data_type&quot;: &quot;int16&quot;, &quot;spatial_resolution&quot;: 250}]}, &quot;250m_16_days_VI_Quality&quot;: {&quot;href&quot;: &quot;https://modiseuwest.blob.core.windows.net/modis-061-cogs/MOD13Q1/35/10/2023241/MOD13Q1.A2023241.h35v10.061.2023258000322_250m_16_days_VI_Quality.tif&quot;, &quot;type&quot;: &quot;image/tiff; application=geotiff; profile=cloud-optimized&quot;, &quot;roles&quot;: [&quot;data&quot;], &quot;title&quot;: &quot;VI quality indicators&quot;, &quot;raster:bands&quot;: [{&quot;data_type&quot;: &quot;uint16&quot;, &quot;spatial_resolution&quot;: 250}]}, &quot;250m_16_days_MIR_reflectance&quot;: {&quot;href&quot;: &quot;https://modiseuwest.blob.core.windows.net/modis-061-cogs/MOD13Q1/35/10/2023241/MOD13Q1.A2023241.h35v10.061.2023258000322_250m_16_days_MIR_reflectance.tif&quot;, &quot;type&quot;: &quot;image/tiff; application=geotiff; profile=cloud-optimized&quot;, &quot;roles&quot;: [&quot;data&quot;], &quot;title&quot;: &quot;Surface Reflectance Band 7&quot;, &quot;raster:bands&quot;: [{&quot;scale&quot;: 0.0001, &quot;data_type&quot;: &quot;int16&quot;, &quot;spatial_resolution&quot;: 250}]}, &quot;250m_16_days_NIR_reflectance&quot;: {&quot;href&quot;: &quot;https://modiseuwest.blob.core.windows.net/modis-061-cogs/MOD13Q1/35/10/2023241/MOD13Q1.A2023241.h35v10.061.2023258000322_250m_16_days_NIR_reflectance.tif&quot;, &quot;type&quot;: &quot;image/tiff; application=geotiff; profile=cloud-optimized&quot;, &quot;roles&quot;: [&quot;data&quot;], &quot;title&quot;: &quot;Surface Reflectance Band 2&quot;, &quot;raster:bands&quot;: [{&quot;scale&quot;: 0.0001, &quot;data_type&quot;: &quot;int16&quot;, &quot;spatial_resolution&quot;: 250}]}, &quot;250m_16_days_red_reflectance&quot;: {&quot;href&quot;: &quot;https://modiseuwest.blob.core.windows.net/modis-061-cogs/MOD13Q1/35/10/2023241/MOD13Q1.A2023241.h35v10.061.2023258000322_250m_16_days_red_reflectance.tif&quot;, &quot;type&quot;: &quot;image/tiff; application=geotiff; profile=cloud-optimized&quot;, &quot;roles&quot;: [&quot;data&quot;], &quot;title&quot;: &quot;Surface Reflectance Band 1&quot;, &quot;raster:bands&quot;: [{&quot;scale&quot;: 0.0001, &quot;data_type&quot;: &quot;int16&quot;, &quot;spatial_resolution&quot;: 250}]}, &quot;250m_16_days_blue_reflectance&quot;: {&quot;href&quot;: &quot;https://modiseuwest.blob.core.windows.net/modis-061-cogs/MOD13Q1/35/10/2023241/MOD13Q1.A2023241.h35v10.061.2023258000322_250m_16_days_blue_reflectance.tif&quot;, &quot;type&quot;: &quot;image/tiff; application=geotiff; profile=cloud-optimized&quot;, &quot;roles&quot;: [&quot;data&quot;], &quot;title&quot;: &quot;Surface Reflectance Band 3&quot;, &quot;raster:bands&quot;: [{&quot;scale&quot;: 0.0001, &quot;data_type&quot;: &quot;int16&quot;, &quot;spatial_resolution&quot;: 250}]}, &quot;250m_16_days_sun_zenith_angle&quot;: {&quot;href&quot;: &quot;https://modiseuwest.blob.core.windows.net/modis-061-cogs/MOD13Q1/35/10/2023241/MOD13Q1.A2023241.h35v10.061.2023258000322_250m_16_days_sun_zenith_angle.tif&quot;, &quot;type&quot;: &quot;image/tiff; application=geotiff; profile=cloud-optimized&quot;, &quot;roles&quot;: [&quot;data&quot;], &quot;title&quot;: &quot;Sun zenith angle of VI pixel&quot;, &quot;raster:bands&quot;: [{&quot;unit&quot;: &quot;Degree&quot;, &quot;scale&quot;: 0.01, &quot;data_type&quot;: &quot;int16&quot;, &quot;spatial_resolution&quot;: 250}]}, &quot;250m_16_days_pixel_reliability&quot;: {&quot;href&quot;: &quot;https://modiseuwest.blob.core.windows.net/modis-061-cogs/MOD13Q1/35/10/2023241/MOD13Q1.A2023241.h35v10.061.2023258000322_250m_16_days_pixel_reliability.tif&quot;, &quot;type&quot;: &quot;image/tiff; application=geotiff; profile=cloud-optimized&quot;, &quot;roles&quot;: [&quot;data&quot;], &quot;title&quot;: &quot;Quality reliability of VI pixel&quot;, &quot;raster:bands&quot;: [{&quot;unit&quot;: &quot;Rank&quot;, &quot;data_type&quot;: &quot;int8&quot;, &quot;spatial_resolution&quot;: 250}], &quot;classification:classes&quot;: [{&quot;value&quot;: 0, &quot;description&quot;: &quot;Good data, use with confidence&quot;}, {&quot;value&quot;: 1, &quot;description&quot;: &quot;Marginal data, useful, but look at other QA information&quot;}, {&quot;value&quot;: 2, &quot;description&quot;: &quot;Snow/Ice Target covered with snow/ice&quot;}, {&quot;value&quot;: 3, &quot;description&quot;: &quot;Cloudy data&quot;}]}, &quot;250m_16_days_view_zenith_angle&quot;: {&quot;href&quot;: &quot;https://modiseuwest.blob.core.windows.net/modis-061-cogs/MOD13Q1/35/10/2023241/MOD13Q1.A2023241.h35v10.061.2023258000322_250m_16_days_view_zenith_angle.tif&quot;, &quot;type&quot;: &quot;image/tiff; application=geotiff; profile=cloud-optimized&quot;, &quot;roles&quot;: [&quot;data&quot;], &quot;title&quot;: &quot;View zenith angle of VI Pixel&quot;, &quot;raster:bands&quot;: [{&quot;unit&quot;: &quot;Degree&quot;, &quot;scale&quot;: 0.01, &quot;data_type&quot;: &quot;int16&quot;, &quot;spatial_resolution&quot;: 250}]}, &quot;250m_16_days_relative_azimuth_angle&quot;: {&quot;href&quot;: &quot;https://modiseuwest.blob.core.windows.net/modis-061-cogs/MOD13Q1/35/10/2023241/MOD13Q1.A2023241.h35v10.061.2023258000322_250m_16_days_relative_azimuth_angle.tif&quot;, &quot;type&quot;: &quot;image/tiff; application=geotiff; profile=cloud-optimized&quot;, &quot;roles&quot;: [&quot;data&quot;], &quot;title&quot;: &quot;Relative azimuth angle of VI pixel&quot;, &quot;raster:bands&quot;: [{&quot;unit&quot;: &quot;Degree&quot;, &quot;scale&quot;: 0.01, &quot;data_type&quot;: &quot;int16&quot;, &quot;spatial_resolution&quot;: 250}]}, &quot;250m_16_days_composite_day_of_the_year&quot;: {&quot;href&quot;: &quot;https://modiseuwest.blob.core.windows.net/modis-061-cogs/MOD13Q1/35/10/2023241/MOD13Q1.A2023241.h35v10.061.2023258000322_250m_16_days_composite_day_of_the_year.tif&quot;, &quot;type&quot;: &quot;image/tiff; application=geotiff; profile=cloud-optimized&quot;, &quot;roles&quot;: [&quot;data&quot;], &quot;title&quot;: &quot;Day of year VI pixel&quot;, &quot;raster:bands&quot;: [{&quot;unit&quot;: &quot;Julian Day&quot;, &quot;data_type&quot;: &quot;int16&quot;, &quot;spatial_resolution&quot;: 250}]}}, &quot;geometry&quot;: {&quot;type&quot;: &quot;Polygon&quot;, &quot;coordinates&quot;: [[[172.479315908761, -19.1662177463598], [180.143592885496, -19.180676222654], [179.999502554976, -9.97534112170732], [172.622770159185, -9.98364248250805], [172.479315908761, -19.1662177463598]]]}, &quot;collection&quot;: &quot;modis-13Q1-061&quot;, &quot;properties&quot;: {&quot;created&quot;: &quot;2023-09-15T04:03:22Z&quot;, &quot;updated&quot;: &quot;2023-09-14T23:13:18.848000Z&quot;, &quot;platform&quot;: &quot;terra&quot;, &quot;proj:wkt2&quot;: &quot;PROJCS[\\&quot;unnamed\\&quot;,GEOGCS[\\&quot;Unknown datum based upon the custom spheroid\\&quot;,DATUM[\\&quot;Not specified (based on custom spheroid)\\&quot;,SPHEROID[\\&quot;Custom spheroid\\&quot;,6371007.181,0]],PRIMEM[\\&quot;Greenwich\\&quot;,0],UNIT[\\&quot;degree\\&quot;,0.0174532925199433,AUTHORITY[\\&quot;EPSG\\&quot;,\\&quot;9122\\&quot;]]],PROJECTION[\\&quot;Sinusoidal\\&quot;],PARAMETER[\\&quot;longitude_of_center\\&quot;,0],PARAMETER[\\&quot;false_easting\\&quot;,0],PARAMETER[\\&quot;false_northing\\&quot;,0],UNIT[\\&quot;Meter\\&quot;,1],AXIS[\\&quot;Easting\\&quot;,EAST],AXIS[\\&quot;Northing\\&quot;,NORTH]]&quot;, &quot;proj:shape&quot;: [4800, 4800], &quot;instruments&quot;: [&quot;modis&quot;], &quot;end_datetime&quot;: &quot;2023-09-13T23:59:59Z&quot;, &quot;modis:tile-id&quot;: &quot;51035010&quot;, &quot;proj:geometry&quot;: {&quot;type&quot;: &quot;Polygon&quot;, &quot;coordinates&quot;: [[[20015109.354, -2223901.039333], [20015109.354, -1111950.519667], [18903158.834333, -1111950.519667], [18903158.834333, -2223901.039333], [20015109.354, -2223901.039333]]]}, &quot;proj:transform&quot;: [231.65635826395825, 0.0, 18903158.834333, 0.0, -231.65635826374995, -1111950.519667], &quot;start_datetime&quot;: &quot;2023-08-29T00:00:00Z&quot;, &quot;modis:vertical-tile&quot;: 10, &quot;modis:horizontal-tile&quot;: 35}, &quot;stac_version&quot;: &quot;1.0.0&quot;, &quot;stac_extensions&quot;: [&quot;https://stac-extensions.github.io/projection/v1.1.0/schema.json&quot;, &quot;https://stac-extensions.github.io/raster/v1.1.0/schema.json&quot;, &quot;https://stac-extensions.github.io/classification/v1.0.0/schema.json&quot;]}, {&quot;id&quot;: &quot;MOD13Q1.A2023241.h35v09.061.2023258001846&quot;, &quot;bbox&quot;: [169.928592841145, -9.99897790814368, 180.071523386457, 0.00688901997272997], &quot;type&quot;: &quot;Feature&quot;, &quot;links&quot;: [{&quot;rel&quot;: &quot;collection&quot;, &quot;href&quot;: &quot;https://planetarycomputer.microsoft.com/api/stac/v1/collections/modis-13Q1-061&quot;, &quot;type&quot;: &quot;application/json&quot;}, {&quot;rel&quot;: &quot;parent&quot;, &quot;href&quot;: &quot;https://planetarycomputer.microsoft.com/api/stac/v1/collections/modis-13Q1-061&quot;, &quot;type&quot;: &quot;application/json&quot;}, {&quot;rel&quot;: &quot;root&quot;, &quot;href&quot;: &quot;https://planetarycomputer.microsoft.com/api/stac/v1&quot;, &quot;type&quot;: &quot;application/json&quot;, &quot;title&quot;: &quot;Microsoft Planetary Computer STAC API&quot;}, {&quot;rel&quot;: &quot;self&quot;, &quot;href&quot;: &quot;https://planetarycomputer.microsoft.com/api/stac/v1/collections/modis-13Q1-061/items/MOD13Q1.A2023241.h35v09.061.2023258001846&quot;, &quot;type&quot;: &quot;application/geo+json&quot;}, {&quot;rel&quot;: &quot;preview&quot;, &quot;href&quot;: &quot;https://planetarycomputer.microsoft.com/api/data/v1/item/map?collection=modis-13Q1-061&amp;item=MOD13Q1.A2023241.h35v09.061.2023258001846&quot;, &quot;type&quot;: &quot;text/html&quot;, &quot;title&quot;: &quot;Map of item&quot;}], &quot;assets&quot;: {&quot;hdf&quot;: {&quot;href&quot;: &quot;https://modiseuwest.blob.core.windows.net/modis-061/MOD13Q1/35/09/2023241/MOD13Q1.A2023241.h35v09.061.2023258001846.hdf&quot;, &quot;type&quot;: &quot;application/x-hdf&quot;, &quot;roles&quot;: [&quot;data&quot;], &quot;title&quot;: &quot;Source data containing all bands&quot;}, &quot;metadata&quot;: {&quot;href&quot;: &quot;https://modiseuwest.blob.core.windows.net/modis-061/MOD13Q1/35/09/2023241/MOD13Q1.A2023241.h35v09.061.2023258001846.hdf.xml&quot;, &quot;type&quot;: &quot;application/xml&quot;, &quot;roles&quot;: [&quot;metadata&quot;], &quot;title&quot;: &quot;Federal Geographic Data Committee (FGDC) Metadata&quot;}, &quot;tilejson&quot;: {&quot;href&quot;: &quot;https://planetarycomputer.microsoft.com/api/data/v1/item/tilejson.json?collection=modis-13Q1-061&amp;item=MOD13Q1.A2023241.h35v09.061.2023258001846&amp;assets=250m_16_days_NDVI&amp;tile_format=png&amp;colormap_name=modis-13A1%7CQ1&amp;rescale=0%2C10000&amp;format=png&quot;, &quot;type&quot;: &quot;application/json&quot;, &quot;roles&quot;: [&quot;tiles&quot;], &quot;title&quot;: &quot;TileJSON with default rendering&quot;}, &quot;250m_16_days_EVI&quot;: {&quot;href&quot;: &quot;https://modiseuwest.blob.core.windows.net/modis-061-cogs/MOD13Q1/35/09/2023241/MOD13Q1.A2023241.h35v09.061.2023258001846_250m_16_days_EVI.tif&quot;, &quot;type&quot;: &quot;image/tiff; application=geotiff; profile=cloud-optimized&quot;, &quot;roles&quot;: [&quot;data&quot;], &quot;title&quot;: &quot;16 day EVI&quot;, &quot;raster:bands&quot;: [{&quot;unit&quot;: &quot;EVI&quot;, &quot;scale&quot;: 0.0001, &quot;data_type&quot;: &quot;int16&quot;, &quot;spatial_resolution&quot;: 250}]}, &quot;rendered_preview&quot;: {&quot;rel&quot;: &quot;preview&quot;, &quot;href&quot;: &quot;https://planetarycomputer.microsoft.com/api/data/v1/item/preview.png?collection=modis-13Q1-061&amp;item=MOD13Q1.A2023241.h35v09.061.2023258001846&amp;assets=250m_16_days_NDVI&amp;tile_format=png&amp;colormap_name=modis-13A1%7CQ1&amp;rescale=0%2C10000&amp;format=png&quot;, &quot;type&quot;: &quot;image/png&quot;, &quot;roles&quot;: [&quot;overview&quot;], &quot;title&quot;: &quot;Rendered preview&quot;}, &quot;250m_16_days_NDVI&quot;: {&quot;href&quot;: &quot;https://modiseuwest.blob.core.windows.net/modis-061-cogs/MOD13Q1/35/09/2023241/MOD13Q1.A2023241.h35v09.061.2023258001846_250m_16_days_NDVI.tif&quot;, &quot;type&quot;: &quot;image/tiff; application=geotiff; profile=cloud-optimized&quot;, &quot;roles&quot;: [&quot;data&quot;], &quot;title&quot;: &quot;16 day NDVI&quot;, &quot;raster:bands&quot;: [{&quot;unit&quot;: &quot;NDVI&quot;, &quot;scale&quot;: 0.0001, &quot;data_type&quot;: &quot;int16&quot;, &quot;spatial_resolution&quot;: 250}]}, &quot;250m_16_days_VI_Quality&quot;: {&quot;href&quot;: &quot;https://modiseuwest.blob.core.windows.net/modis-061-cogs/MOD13Q1/35/09/2023241/MOD13Q1.A2023241.h35v09.061.2023258001846_250m_16_days_VI_Quality.tif&quot;, &quot;type&quot;: &quot;image/tiff; application=geotiff; profile=cloud-optimized&quot;, &quot;roles&quot;: [&quot;data&quot;], &quot;title&quot;: &quot;VI quality indicators&quot;, &quot;raster:bands&quot;: [{&quot;data_type&quot;: &quot;uint16&quot;, &quot;spatial_resolution&quot;: 250}]}, &quot;250m_16_days_MIR_reflectance&quot;: {&quot;href&quot;: &quot;https://modiseuwest.blob.core.windows.net/modis-061-cogs/MOD13Q1/35/09/2023241/MOD13Q1.A2023241.h35v09.061.2023258001846_250m_16_days_MIR_reflectance.tif&quot;, &quot;type&quot;: &quot;image/tiff; application=geotiff; profile=cloud-optimized&quot;, &quot;roles&quot;: [&quot;data&quot;], &quot;title&quot;: &quot;Surface Reflectance Band 7&quot;, &quot;raster:bands&quot;: [{&quot;scale&quot;: 0.0001, &quot;data_type&quot;: &quot;int16&quot;, &quot;spatial_resolution&quot;: 250}]}, &quot;250m_16_days_NIR_reflectance&quot;: {&quot;href&quot;: &quot;https://modiseuwest.blob.core.windows.net/modis-061-cogs/MOD13Q1/35/09/2023241/MOD13Q1.A2023241.h35v09.061.2023258001846_250m_16_days_NIR_reflectance.tif&quot;, &quot;type&quot;: &quot;image/tiff; application=geotiff; profile=cloud-optimized&quot;, &quot;roles&quot;: [&quot;data&quot;], &quot;title&quot;: &quot;Surface Reflectance Band 2&quot;, &quot;raster:bands&quot;: [{&quot;scale&quot;: 0.0001, &quot;data_type&quot;: &quot;int16&quot;, &quot;spatial_resolution&quot;: 250}]}, &quot;250m_16_days_red_reflectance&quot;: {&quot;href&quot;: &quot;https://modiseuwest.blob.core.windows.net/modis-061-cogs/MOD13Q1/35/09/2023241/MOD13Q1.A2023241.h35v09.061.2023258001846_250m_16_days_red_reflectance.tif&quot;, &quot;type&quot;: &quot;image/tiff; application=geotiff; profile=cloud-optimized&quot;, &quot;roles&quot;: [&quot;data&quot;], &quot;title&quot;: &quot;Surface Reflectance Band 1&quot;, &quot;raster:bands&quot;: [{&quot;scale&quot;: 0.0001, &quot;data_type&quot;: &quot;int16&quot;, &quot;spatial_resolution&quot;: 250}]}, &quot;250m_16_days_blue_reflectance&quot;: {&quot;href&quot;: &quot;https://modiseuwest.blob.core.windows.net/modis-061-cogs/MOD13Q1/35/09/2023241/MOD13Q1.A2023241.h35v09.061.2023258001846_250m_16_days_blue_reflectance.tif&quot;, &quot;type&quot;: &quot;image/tiff; application=geotiff; profile=cloud-optimized&quot;, &quot;roles&quot;: [&quot;data&quot;], &quot;title&quot;: &quot;Surface Reflectance Band 3&quot;, &quot;raster:bands&quot;: [{&quot;scale&quot;: 0.0001, &quot;data_type&quot;: &quot;int16&quot;, &quot;spatial_resolution&quot;: 250}]}, &quot;250m_16_days_sun_zenith_angle&quot;: {&quot;href&quot;: &quot;https://modiseuwest.blob.core.windows.net/modis-061-cogs/MOD13Q1/35/09/2023241/MOD13Q1.A2023241.h35v09.061.2023258001846_250m_16_days_sun_zenith_angle.tif&quot;, &quot;type&quot;: &quot;image/tiff; application=geotiff; profile=cloud-optimized&quot;, &quot;roles&quot;: [&quot;data&quot;], &quot;title&quot;: &quot;Sun zenith angle of VI pixel&quot;, &quot;raster:bands&quot;: [{&quot;unit&quot;: &quot;Degree&quot;, &quot;scale&quot;: 0.01, &quot;data_type&quot;: &quot;int16&quot;, &quot;spatial_resolution&quot;: 250}]}, &quot;250m_16_days_pixel_reliability&quot;: {&quot;href&quot;: &quot;https://modiseuwest.blob.core.windows.net/modis-061-cogs/MOD13Q1/35/09/2023241/MOD13Q1.A2023241.h35v09.061.2023258001846_250m_16_days_pixel_reliability.tif&quot;, &quot;type&quot;: &quot;image/tiff; application=geotiff; profile=cloud-optimized&quot;, &quot;roles&quot;: [&quot;data&quot;], &quot;title&quot;: &quot;Quality reliability of VI pixel&quot;, &quot;raster:bands&quot;: [{&quot;unit&quot;: &quot;Rank&quot;, &quot;data_type&quot;: &quot;int8&quot;, &quot;spatial_resolution&quot;: 250}], &quot;classification:classes&quot;: [{&quot;value&quot;: 0, &quot;description&quot;: &quot;Good data, use with confidence&quot;}, {&quot;value&quot;: 1, &quot;description&quot;: &quot;Marginal data, useful, but look at other QA information&quot;}, {&quot;value&quot;: 2, &quot;description&quot;: &quot;Snow/Ice Target covered with snow/ice&quot;}, {&quot;value&quot;: 3, &quot;description&quot;: &quot;Cloudy data&quot;}]}, &quot;250m_16_days_view_zenith_angle&quot;: {&quot;href&quot;: &quot;https://modiseuwest.blob.core.windows.net/modis-061-cogs/MOD13Q1/35/09/2023241/MOD13Q1.A2023241.h35v09.061.2023258001846_250m_16_days_view_zenith_angle.tif&quot;, &quot;type&quot;: &quot;image/tiff; application=geotiff; profile=cloud-optimized&quot;, &quot;roles&quot;: [&quot;data&quot;], &quot;title&quot;: &quot;View zenith angle of VI Pixel&quot;, &quot;raster:bands&quot;: [{&quot;unit&quot;: &quot;Degree&quot;, &quot;scale&quot;: 0.01, &quot;data_type&quot;: &quot;int16&quot;, &quot;spatial_resolution&quot;: 250}]}, &quot;250m_16_days_relative_azimuth_angle&quot;: {&quot;href&quot;: &quot;https://modiseuwest.blob.core.windows.net/modis-061-cogs/MOD13Q1/35/09/2023241/MOD13Q1.A2023241.h35v09.061.2023258001846_250m_16_days_relative_azimuth_angle.tif&quot;, &quot;type&quot;: &quot;image/tiff; application=geotiff; profile=cloud-optimized&quot;, &quot;roles&quot;: [&quot;data&quot;], &quot;title&quot;: &quot;Relative azimuth angle of VI pixel&quot;, &quot;raster:bands&quot;: [{&quot;unit&quot;: &quot;Degree&quot;, &quot;scale&quot;: 0.01, &quot;data_type&quot;: &quot;int16&quot;, &quot;spatial_resolution&quot;: 250}]}, &quot;250m_16_days_composite_day_of_the_year&quot;: {&quot;href&quot;: &quot;https://modiseuwest.blob.core.windows.net/modis-061-cogs/MOD13Q1/35/09/2023241/MOD13Q1.A2023241.h35v09.061.2023258001846_250m_16_days_composite_day_of_the_year.tif&quot;, &quot;type&quot;: &quot;image/tiff; application=geotiff; profile=cloud-optimized&quot;, &quot;roles&quot;: [&quot;data&quot;], &quot;title&quot;: &quot;Day of year VI pixel&quot;, &quot;raster:bands&quot;: [{&quot;unit&quot;: &quot;Julian Day&quot;, &quot;data_type&quot;: &quot;int16&quot;, &quot;spatial_resolution&quot;: 250}]}}, &quot;geometry&quot;: {&quot;type&quot;: &quot;Polygon&quot;, &quot;coordinates&quot;: [[[169.928592841145, -9.99112932513571], [180.071523386457, -9.99897790814368], [179.999892115949, 0.00688901997272997], [169.999999984734, 0.000000000000000795138670365879], [169.928592841145, -9.99112932513571]]]}, &quot;collection&quot;: &quot;modis-13Q1-061&quot;, &quot;properties&quot;: {&quot;created&quot;: &quot;2023-09-15T04:18:46Z&quot;, &quot;updated&quot;: &quot;2023-09-14T23:29:00.124000Z&quot;, &quot;platform&quot;: &quot;terra&quot;, &quot;proj:wkt2&quot;: &quot;PROJCS[\\&quot;unnamed\\&quot;,GEOGCS[\\&quot;Unknown datum based upon the custom spheroid\\&quot;,DATUM[\\&quot;Not specified (based on custom spheroid)\\&quot;,SPHEROID[\\&quot;Custom spheroid\\&quot;,6371007.181,0]],PRIMEM[\\&quot;Greenwich\\&quot;,0],UNIT[\\&quot;degree\\&quot;,0.0174532925199433,AUTHORITY[\\&quot;EPSG\\&quot;,\\&quot;9122\\&quot;]]],PROJECTION[\\&quot;Sinusoidal\\&quot;],PARAMETER[\\&quot;longitude_of_center\\&quot;,0],PARAMETER[\\&quot;false_easting\\&quot;,0],PARAMETER[\\&quot;false_northing\\&quot;,0],UNIT[\\&quot;Meter\\&quot;,1],AXIS[\\&quot;Easting\\&quot;,EAST],AXIS[\\&quot;Northing\\&quot;,NORTH]]&quot;, &quot;proj:shape&quot;: [4800, 4800], &quot;instruments&quot;: [&quot;modis&quot;], &quot;end_datetime&quot;: &quot;2023-09-13T23:59:59Z&quot;, &quot;modis:tile-id&quot;: &quot;51035009&quot;, &quot;proj:geometry&quot;: {&quot;type&quot;: &quot;Polygon&quot;, &quot;coordinates&quot;: [[[20015109.354, -1111950.519667], [20015109.354, 0.0], [18903158.834333, 0.0], [18903158.834333, -1111950.519667], [20015109.354, -1111950.519667]]]}, &quot;proj:transform&quot;: [231.65635826395825, 0.0, 18903158.834333, 0.0, -231.65635826395834, 0.0], &quot;start_datetime&quot;: &quot;2023-08-29T00:00:00Z&quot;, &quot;modis:vertical-tile&quot;: 9, &quot;modis:horizontal-tile&quot;: 35}, &quot;stac_version&quot;: &quot;1.0.0&quot;, &quot;stac_extensions&quot;: [&quot;https://stac-extensions.github.io/projection/v1.1.0/schema.json&quot;, &quot;https://stac-extensions.github.io/raster/v1.1.0/schema.json&quot;, &quot;https://stac-extensions.github.io/classification/v1.0.0/schema.json&quot;]}, {&quot;id&quot;: &quot;MOD13Q1.A2023241.h35v08.061.2023258000738&quot;, &quot;bbox&quot;: [169.928592841145, -0.00688901997272678, 180.071523386456, 9.99897790814368], &quot;type&quot;: &quot;Feature&quot;, &quot;links&quot;: [{&quot;rel&quot;: &quot;collection&quot;, &quot;href&quot;: &quot;https://planetarycomputer.microsoft.com/api/stac/v1/collections/modis-13Q1-061&quot;, &quot;type&quot;: &quot;application/json&quot;}, {&quot;rel&quot;: &quot;parent&quot;, &quot;href&quot;: &quot;https://planetarycomputer.microsoft.com/api/stac/v1/collections/modis-13Q1-061&quot;, &quot;type&quot;: &quot;application/json&quot;}, {&quot;rel&quot;: &quot;root&quot;, &quot;href&quot;: &quot;https://planetarycomputer.microsoft.com/api/stac/v1&quot;, &quot;type&quot;: &quot;application/json&quot;, &quot;title&quot;: &quot;Microsoft Planetary Computer STAC API&quot;}, {&quot;rel&quot;: &quot;self&quot;, &quot;href&quot;: &quot;https://planetarycomputer.microsoft.com/api/stac/v1/collections/modis-13Q1-061/items/MOD13Q1.A2023241.h35v08.061.2023258000738&quot;, &quot;type&quot;: &quot;application/geo+json&quot;}, {&quot;rel&quot;: &quot;preview&quot;, &quot;href&quot;: &quot;https://planetarycomputer.microsoft.com/api/data/v1/item/map?collection=modis-13Q1-061&amp;item=MOD13Q1.A2023241.h35v08.061.2023258000738&quot;, &quot;type&quot;: &quot;text/html&quot;, &quot;title&quot;: &quot;Map of item&quot;}], &quot;assets&quot;: {&quot;hdf&quot;: {&quot;href&quot;: &quot;https://modiseuwest.blob.core.windows.net/modis-061/MOD13Q1/35/08/2023241/MOD13Q1.A2023241.h35v08.061.2023258000738.hdf&quot;, &quot;type&quot;: &quot;application/x-hdf&quot;, &quot;roles&quot;: [&quot;data&quot;], &quot;title&quot;: &quot;Source data containing all bands&quot;}, &quot;metadata&quot;: {&quot;href&quot;: &quot;https://modiseuwest.blob.core.windows.net/modis-061/MOD13Q1/35/08/2023241/MOD13Q1.A2023241.h35v08.061.2023258000738.hdf.xml&quot;, &quot;type&quot;: &quot;application/xml&quot;, &quot;roles&quot;: [&quot;metadata&quot;], &quot;title&quot;: &quot;Federal Geographic Data Committee (FGDC) Metadata&quot;}, &quot;tilejson&quot;: {&quot;href&quot;: &quot;https://planetarycomputer.microsoft.com/api/data/v1/item/tilejson.json?collection=modis-13Q1-061&amp;item=MOD13Q1.A2023241.h35v08.061.2023258000738&amp;assets=250m_16_days_NDVI&amp;tile_format=png&amp;colormap_name=modis-13A1%7CQ1&amp;rescale=0%2C10000&amp;format=png&quot;, &quot;type&quot;: &quot;application/json&quot;, &quot;roles&quot;: [&quot;tiles&quot;], &quot;title&quot;: &quot;TileJSON with default rendering&quot;}, &quot;250m_16_days_EVI&quot;: {&quot;href&quot;: &quot;https://modiseuwest.blob.core.windows.net/modis-061-cogs/MOD13Q1/35/08/2023241/MOD13Q1.A2023241.h35v08.061.2023258000738_250m_16_days_EVI.tif&quot;, &quot;type&quot;: &quot;image/tiff; application=geotiff; profile=cloud-optimized&quot;, &quot;roles&quot;: [&quot;data&quot;], &quot;title&quot;: &quot;16 day EVI&quot;, &quot;raster:bands&quot;: [{&quot;unit&quot;: &quot;EVI&quot;, &quot;scale&quot;: 0.0001, &quot;data_type&quot;: &quot;int16&quot;, &quot;spatial_resolution&quot;: 250}]}, &quot;rendered_preview&quot;: {&quot;rel&quot;: &quot;preview&quot;, &quot;href&quot;: &quot;https://planetarycomputer.microsoft.com/api/data/v1/item/preview.png?collection=modis-13Q1-061&amp;item=MOD13Q1.A2023241.h35v08.061.2023258000738&amp;assets=250m_16_days_NDVI&amp;tile_format=png&amp;colormap_name=modis-13A1%7CQ1&amp;rescale=0%2C10000&amp;format=png&quot;, &quot;type&quot;: &quot;image/png&quot;, &quot;roles&quot;: [&quot;overview&quot;], &quot;title&quot;: &quot;Rendered preview&quot;}, &quot;250m_16_days_NDVI&quot;: {&quot;href&quot;: &quot;https://modiseuwest.blob.core.windows.net/modis-061-cogs/MOD13Q1/35/08/2023241/MOD13Q1.A2023241.h35v08.061.2023258000738_250m_16_days_NDVI.tif&quot;, &quot;type&quot;: &quot;image/tiff; application=geotiff; profile=cloud-optimized&quot;, &quot;roles&quot;: [&quot;data&quot;], &quot;title&quot;: &quot;16 day NDVI&quot;, &quot;raster:bands&quot;: [{&quot;unit&quot;: &quot;NDVI&quot;, &quot;scale&quot;: 0.0001, &quot;data_type&quot;: &quot;int16&quot;, &quot;spatial_resolution&quot;: 250}]}, &quot;250m_16_days_VI_Quality&quot;: {&quot;href&quot;: &quot;https://modiseuwest.blob.core.windows.net/modis-061-cogs/MOD13Q1/35/08/2023241/MOD13Q1.A2023241.h35v08.061.2023258000738_250m_16_days_VI_Quality.tif&quot;, &quot;type&quot;: &quot;image/tiff; application=geotiff; profile=cloud-optimized&quot;, &quot;roles&quot;: [&quot;data&quot;], &quot;title&quot;: &quot;VI quality indicators&quot;, &quot;raster:bands&quot;: [{&quot;data_type&quot;: &quot;uint16&quot;, &quot;spatial_resolution&quot;: 250}]}, &quot;250m_16_days_MIR_reflectance&quot;: {&quot;href&quot;: &quot;https://modiseuwest.blob.core.windows.net/modis-061-cogs/MOD13Q1/35/08/2023241/MOD13Q1.A2023241.h35v08.061.2023258000738_250m_16_days_MIR_reflectance.tif&quot;, &quot;type&quot;: &quot;image/tiff; application=geotiff; profile=cloud-optimized&quot;, &quot;roles&quot;: [&quot;data&quot;], &quot;title&quot;: &quot;Surface Reflectance Band 7&quot;, &quot;raster:bands&quot;: [{&quot;scale&quot;: 0.0001, &quot;data_type&quot;: &quot;int16&quot;, &quot;spatial_resolution&quot;: 250}]}, &quot;250m_16_days_NIR_reflectance&quot;: {&quot;href&quot;: &quot;https://modiseuwest.blob.core.windows.net/modis-061-cogs/MOD13Q1/35/08/2023241/MOD13Q1.A2023241.h35v08.061.2023258000738_250m_16_days_NIR_reflectance.tif&quot;, &quot;type&quot;: &quot;image/tiff; application=geotiff; profile=cloud-optimized&quot;, &quot;roles&quot;: [&quot;data&quot;], &quot;title&quot;: &quot;Surface Reflectance Band 2&quot;, &quot;raster:bands&quot;: [{&quot;scale&quot;: 0.0001, &quot;data_type&quot;: &quot;int16&quot;, &quot;spatial_resolution&quot;: 250}]}, &quot;250m_16_days_red_reflectance&quot;: {&quot;href&quot;: &quot;https://modiseuwest.blob.core.windows.net/modis-061-cogs/MOD13Q1/35/08/2023241/MOD13Q1.A2023241.h35v08.061.2023258000738_250m_16_days_red_reflectance.tif&quot;, &quot;type&quot;: &quot;image/tiff; application=geotiff; profile=cloud-optimized&quot;, &quot;roles&quot;: [&quot;data&quot;], &quot;title&quot;: &quot;Surface Reflectance Band 1&quot;, &quot;raster:bands&quot;: [{&quot;scale&quot;: 0.0001, &quot;data_type&quot;: &quot;int16&quot;, &quot;spatial_resolution&quot;: 250}]}, &quot;250m_16_days_blue_reflectance&quot;: {&quot;href&quot;: &quot;https://modiseuwest.blob.core.windows.net/modis-061-cogs/MOD13Q1/35/08/2023241/MOD13Q1.A2023241.h35v08.061.2023258000738_250m_16_days_blue_reflectance.tif&quot;, &quot;type&quot;: &quot;image/tiff; application=geotiff; profile=cloud-optimized&quot;, &quot;roles&quot;: [&quot;data&quot;], &quot;title&quot;: &quot;Surface Reflectance Band 3&quot;, &quot;raster:bands&quot;: [{&quot;scale&quot;: 0.0001, &quot;data_type&quot;: &quot;int16&quot;, &quot;spatial_resolution&quot;: 250}]}, &quot;250m_16_days_sun_zenith_angle&quot;: {&quot;href&quot;: &quot;https://modiseuwest.blob.core.windows.net/modis-061-cogs/MOD13Q1/35/08/2023241/MOD13Q1.A2023241.h35v08.061.2023258000738_250m_16_days_sun_zenith_angle.tif&quot;, &quot;type&quot;: &quot;image/tiff; application=geotiff; profile=cloud-optimized&quot;, &quot;roles&quot;: [&quot;data&quot;], &quot;title&quot;: &quot;Sun zenith angle of VI pixel&quot;, &quot;raster:bands&quot;: [{&quot;unit&quot;: &quot;Degree&quot;, &quot;scale&quot;: 0.01, &quot;data_type&quot;: &quot;int16&quot;, &quot;spatial_resolution&quot;: 250}]}, &quot;250m_16_days_pixel_reliability&quot;: {&quot;href&quot;: &quot;https://modiseuwest.blob.core.windows.net/modis-061-cogs/MOD13Q1/35/08/2023241/MOD13Q1.A2023241.h35v08.061.2023258000738_250m_16_days_pixel_reliability.tif&quot;, &quot;type&quot;: &quot;image/tiff; application=geotiff; profile=cloud-optimized&quot;, &quot;roles&quot;: [&quot;data&quot;], &quot;title&quot;: &quot;Quality reliability of VI pixel&quot;, &quot;raster:bands&quot;: [{&quot;unit&quot;: &quot;Rank&quot;, &quot;data_type&quot;: &quot;int8&quot;, &quot;spatial_resolution&quot;: 250}], &quot;classification:classes&quot;: [{&quot;value&quot;: 0, &quot;description&quot;: &quot;Good data, use with confidence&quot;}, {&quot;value&quot;: 1, &quot;description&quot;: &quot;Marginal data, useful, but look at other QA information&quot;}, {&quot;value&quot;: 2, &quot;description&quot;: &quot;Snow/Ice Target covered with snow/ice&quot;}, {&quot;value&quot;: 3, &quot;description&quot;: &quot;Cloudy data&quot;}]}, &quot;250m_16_days_view_zenith_angle&quot;: {&quot;href&quot;: &quot;https://modiseuwest.blob.core.windows.net/modis-061-cogs/MOD13Q1/35/08/2023241/MOD13Q1.A2023241.h35v08.061.2023258000738_250m_16_days_view_zenith_angle.tif&quot;, &quot;type&quot;: &quot;image/tiff; application=geotiff; profile=cloud-optimized&quot;, &quot;roles&quot;: [&quot;data&quot;], &quot;title&quot;: &quot;View zenith angle of VI Pixel&quot;, &quot;raster:bands&quot;: [{&quot;unit&quot;: &quot;Degree&quot;, &quot;scale&quot;: 0.01, &quot;data_type&quot;: &quot;int16&quot;, &quot;spatial_resolution&quot;: 250}]}, &quot;250m_16_days_relative_azimuth_angle&quot;: {&quot;href&quot;: &quot;https://modiseuwest.blob.core.windows.net/modis-061-cogs/MOD13Q1/35/08/2023241/MOD13Q1.A2023241.h35v08.061.2023258000738_250m_16_days_relative_azimuth_angle.tif&quot;, &quot;type&quot;: &quot;image/tiff; application=geotiff; profile=cloud-optimized&quot;, &quot;roles&quot;: [&quot;data&quot;], &quot;title&quot;: &quot;Relative azimuth angle of VI pixel&quot;, &quot;raster:bands&quot;: [{&quot;unit&quot;: &quot;Degree&quot;, &quot;scale&quot;: 0.01, &quot;data_type&quot;: &quot;int16&quot;, &quot;spatial_resolution&quot;: 250}]}, &quot;250m_16_days_composite_day_of_the_year&quot;: {&quot;href&quot;: &quot;https://modiseuwest.blob.core.windows.net/modis-061-cogs/MOD13Q1/35/08/2023241/MOD13Q1.A2023241.h35v08.061.2023258000738_250m_16_days_composite_day_of_the_year.tif&quot;, &quot;type&quot;: &quot;image/tiff; application=geotiff; profile=cloud-optimized&quot;, &quot;roles&quot;: [&quot;data&quot;], &quot;title&quot;: &quot;Day of year VI pixel&quot;, &quot;raster:bands&quot;: [{&quot;unit&quot;: &quot;Julian Day&quot;, &quot;data_type&quot;: &quot;int16&quot;, &quot;spatial_resolution&quot;: 250}]}}, &quot;geometry&quot;: {&quot;type&quot;: &quot;Polygon&quot;, &quot;coordinates&quot;: [[[169.999999984734, -0.000000000000000795138670365879], [179.999892115948, -0.00688901997272678], [180.071523386456, 9.99897790814368], [169.928592841145, 9.99112932513571], [169.999999984734, -0.000000000000000795138670365879]]]}, &quot;collection&quot;: &quot;modis-13Q1-061&quot;, &quot;properties&quot;: {&quot;created&quot;: &quot;2023-09-15T04:07:38Z&quot;, &quot;updated&quot;: &quot;2023-09-14T23:13:30.113000Z&quot;, &quot;platform&quot;: &quot;terra&quot;, &quot;proj:wkt2&quot;: &quot;PROJCS[\\&quot;unnamed\\&quot;,GEOGCS[\\&quot;Unknown datum based upon the custom spheroid\\&quot;,DATUM[\\&quot;Not specified (based on custom spheroid)\\&quot;,SPHEROID[\\&quot;Custom spheroid\\&quot;,6371007.181,0]],PRIMEM[\\&quot;Greenwich\\&quot;,0],UNIT[\\&quot;degree\\&quot;,0.0174532925199433,AUTHORITY[\\&quot;EPSG\\&quot;,\\&quot;9122\\&quot;]]],PROJECTION[\\&quot;Sinusoidal\\&quot;],PARAMETER[\\&quot;longitude_of_center\\&quot;,0],PARAMETER[\\&quot;false_easting\\&quot;,0],PARAMETER[\\&quot;false_northing\\&quot;,0],UNIT[\\&quot;Meter\\&quot;,1],AXIS[\\&quot;Easting\\&quot;,EAST],AXIS[\\&quot;Northing\\&quot;,NORTH]]&quot;, &quot;proj:shape&quot;: [4800, 4800], &quot;instruments&quot;: [&quot;modis&quot;], &quot;end_datetime&quot;: &quot;2023-09-13T23:59:59Z&quot;, &quot;modis:tile-id&quot;: &quot;51035008&quot;, &quot;proj:geometry&quot;: {&quot;type&quot;: &quot;Polygon&quot;, &quot;coordinates&quot;: [[[20015109.354, 0.0], [20015109.354, 1111950.519667], [18903158.834333, 1111950.519667], [18903158.834333, 0.0], [20015109.354, 0.0]]]}, &quot;proj:transform&quot;: [231.65635826395825, 0.0, 18903158.834333, 0.0, -231.65635826395834, 1111950.519667], &quot;start_datetime&quot;: &quot;2023-08-29T00:00:00Z&quot;, &quot;modis:vertical-tile&quot;: 8, &quot;modis:horizontal-tile&quot;: 35}, &quot;stac_version&quot;: &quot;1.0.0&quot;, &quot;stac_extensions&quot;: [&quot;https://stac-extensions.github.io/projection/v1.1.0/schema.json&quot;, &quot;https://stac-extensions.github.io/raster/v1.1.0/schema.json&quot;, &quot;https://stac-extensions.github.io/classification/v1.0.0/schema.json&quot;]}, {&quot;id&quot;: &quot;MOD13Q1.A2023241.h34v10.061.2023258002514&quot;, &quot;bbox&quot;: [162.218267000741, -20.2678807324399, 180.047981891695, -9.72442246620711], &quot;type&quot;: &quot;Feature&quot;, &quot;links&quot;: [{&quot;rel&quot;: &quot;collection&quot;, &quot;href&quot;: &quot;https://planetarycomputer.microsoft.com/api/stac/v1/collections/modis-13Q1-061&quot;, &quot;type&quot;: &quot;application/json&quot;}, {&quot;rel&quot;: &quot;parent&quot;, &quot;href&quot;: &quot;https://planetarycomputer.microsoft.com/api/stac/v1/collections/modis-13Q1-061&quot;, &quot;type&quot;: &quot;application/json&quot;}, {&quot;rel&quot;: &quot;root&quot;, &quot;href&quot;: &quot;https://planetarycomputer.microsoft.com/api/stac/v1&quot;, &quot;type&quot;: &quot;application/json&quot;, &quot;title&quot;: &quot;Microsoft Planetary Computer STAC API&quot;}, {&quot;rel&quot;: &quot;self&quot;, &quot;href&quot;: &quot;https://planetarycomputer.microsoft.com/api/stac/v1/collections/modis-13Q1-061/items/MOD13Q1.A2023241.h34v10.061.2023258002514&quot;, &quot;type&quot;: &quot;application/geo+json&quot;}, {&quot;rel&quot;: &quot;preview&quot;, &quot;href&quot;: &quot;https://planetarycomputer.microsoft.com/api/data/v1/item/map?collection=modis-13Q1-061&amp;item=MOD13Q1.A2023241.h34v10.061.2023258002514&quot;, &quot;type&quot;: &quot;text/html&quot;, &quot;title&quot;: &quot;Map of item&quot;}], &quot;assets&quot;: {&quot;hdf&quot;: {&quot;href&quot;: &quot;https://modiseuwest.blob.core.windows.net/modis-061/MOD13Q1/34/10/2023241/MOD13Q1.A2023241.h34v10.061.2023258002514.hdf&quot;, &quot;type&quot;: &quot;application/x-hdf&quot;, &quot;roles&quot;: [&quot;data&quot;], &quot;title&quot;: &quot;Source data containing all bands&quot;}, &quot;metadata&quot;: {&quot;href&quot;: &quot;https://modiseuwest.blob.core.windows.net/modis-061/MOD13Q1/34/10/2023241/MOD13Q1.A2023241.h34v10.061.2023258002514.hdf.xml&quot;, &quot;type&quot;: &quot;application/xml&quot;, &quot;roles&quot;: [&quot;metadata&quot;], &quot;title&quot;: &quot;Federal Geographic Data Committee (FGDC) Metadata&quot;}, &quot;tilejson&quot;: {&quot;href&quot;: &quot;https://planetarycomputer.microsoft.com/api/data/v1/item/tilejson.json?collection=modis-13Q1-061&amp;item=MOD13Q1.A2023241.h34v10.061.2023258002514&amp;assets=250m_16_days_NDVI&amp;tile_format=png&amp;colormap_name=modis-13A1%7CQ1&amp;rescale=0%2C10000&amp;format=png&quot;, &quot;type&quot;: &quot;application/json&quot;, &quot;roles&quot;: [&quot;tiles&quot;], &quot;title&quot;: &quot;TileJSON with default rendering&quot;}, &quot;250m_16_days_EVI&quot;: {&quot;href&quot;: &quot;https://modiseuwest.blob.core.windows.net/modis-061-cogs/MOD13Q1/34/10/2023241/MOD13Q1.A2023241.h34v10.061.2023258002514_250m_16_days_EVI.tif&quot;, &quot;type&quot;: &quot;image/tiff; application=geotiff; profile=cloud-optimized&quot;, &quot;roles&quot;: [&quot;data&quot;], &quot;title&quot;: &quot;16 day EVI&quot;, &quot;raster:bands&quot;: [{&quot;unit&quot;: &quot;EVI&quot;, &quot;scale&quot;: 0.0001, &quot;data_type&quot;: &quot;int16&quot;, &quot;spatial_resolution&quot;: 250}]}, &quot;rendered_preview&quot;: {&quot;rel&quot;: &quot;preview&quot;, &quot;href&quot;: &quot;https://planetarycomputer.microsoft.com/api/data/v1/item/preview.png?collection=modis-13Q1-061&amp;item=MOD13Q1.A2023241.h34v10.061.2023258002514&amp;assets=250m_16_days_NDVI&amp;tile_format=png&amp;colormap_name=modis-13A1%7CQ1&amp;rescale=0%2C10000&amp;format=png&quot;, &quot;type&quot;: &quot;image/png&quot;, &quot;roles&quot;: [&quot;overview&quot;], &quot;title&quot;: &quot;Rendered preview&quot;}, &quot;250m_16_days_NDVI&quot;: {&quot;href&quot;: &quot;https://modiseuwest.blob.core.windows.net/modis-061-cogs/MOD13Q1/34/10/2023241/MOD13Q1.A2023241.h34v10.061.2023258002514_250m_16_days_NDVI.tif&quot;, &quot;type&quot;: &quot;image/tiff; application=geotiff; profile=cloud-optimized&quot;, &quot;roles&quot;: [&quot;data&quot;], &quot;title&quot;: &quot;16 day NDVI&quot;, &quot;raster:bands&quot;: [{&quot;unit&quot;: &quot;NDVI&quot;, &quot;scale&quot;: 0.0001, &quot;data_type&quot;: &quot;int16&quot;, &quot;spatial_resolution&quot;: 250}]}, &quot;250m_16_days_VI_Quality&quot;: {&quot;href&quot;: &quot;https://modiseuwest.blob.core.windows.net/modis-061-cogs/MOD13Q1/34/10/2023241/MOD13Q1.A2023241.h34v10.061.2023258002514_250m_16_days_VI_Quality.tif&quot;, &quot;type&quot;: &quot;image/tiff; application=geotiff; profile=cloud-optimized&quot;, &quot;roles&quot;: [&quot;data&quot;], &quot;title&quot;: &quot;VI quality indicators&quot;, &quot;raster:bands&quot;: [{&quot;data_type&quot;: &quot;uint16&quot;, &quot;spatial_resolution&quot;: 250}]}, &quot;250m_16_days_MIR_reflectance&quot;: {&quot;href&quot;: &quot;https://modiseuwest.blob.core.windows.net/modis-061-cogs/MOD13Q1/34/10/2023241/MOD13Q1.A2023241.h34v10.061.2023258002514_250m_16_days_MIR_reflectance.tif&quot;, &quot;type&quot;: &quot;image/tiff; application=geotiff; profile=cloud-optimized&quot;, &quot;roles&quot;: [&quot;data&quot;], &quot;title&quot;: &quot;Surface Reflectance Band 7&quot;, &quot;raster:bands&quot;: [{&quot;scale&quot;: 0.0001, &quot;data_type&quot;: &quot;int16&quot;, &quot;spatial_resolution&quot;: 250}]}, &quot;250m_16_days_NIR_reflectance&quot;: {&quot;href&quot;: &quot;https://modiseuwest.blob.core.windows.net/modis-061-cogs/MOD13Q1/34/10/2023241/MOD13Q1.A2023241.h34v10.061.2023258002514_250m_16_days_NIR_reflectance.tif&quot;, &quot;type&quot;: &quot;image/tiff; application=geotiff; profile=cloud-optimized&quot;, &quot;roles&quot;: [&quot;data&quot;], &quot;title&quot;: &quot;Surface Reflectance Band 2&quot;, &quot;raster:bands&quot;: [{&quot;scale&quot;: 0.0001, &quot;data_type&quot;: &quot;int16&quot;, &quot;spatial_resolution&quot;: 250}]}, &quot;250m_16_days_red_reflectance&quot;: {&quot;href&quot;: &quot;https://modiseuwest.blob.core.windows.net/modis-061-cogs/MOD13Q1/34/10/2023241/MOD13Q1.A2023241.h34v10.061.2023258002514_250m_16_days_red_reflectance.tif&quot;, &quot;type&quot;: &quot;image/tiff; application=geotiff; profile=cloud-optimized&quot;, &quot;roles&quot;: [&quot;data&quot;], &quot;title&quot;: &quot;Surface Reflectance Band 1&quot;, &quot;raster:bands&quot;: [{&quot;scale&quot;: 0.0001, &quot;data_type&quot;: &quot;int16&quot;, &quot;spatial_resolution&quot;: 250}]}, &quot;250m_16_days_blue_reflectance&quot;: {&quot;href&quot;: &quot;https://modiseuwest.blob.core.windows.net/modis-061-cogs/MOD13Q1/34/10/2023241/MOD13Q1.A2023241.h34v10.061.2023258002514_250m_16_days_blue_reflectance.tif&quot;, &quot;type&quot;: &quot;image/tiff; application=geotiff; profile=cloud-optimized&quot;, &quot;roles&quot;: [&quot;data&quot;], &quot;title&quot;: &quot;Surface Reflectance Band 3&quot;, &quot;raster:bands&quot;: [{&quot;scale&quot;: 0.0001, &quot;data_type&quot;: &quot;int16&quot;, &quot;spatial_resolution&quot;: 250}]}, &quot;250m_16_days_sun_zenith_angle&quot;: {&quot;href&quot;: &quot;https://modiseuwest.blob.core.windows.net/modis-061-cogs/MOD13Q1/34/10/2023241/MOD13Q1.A2023241.h34v10.061.2023258002514_250m_16_days_sun_zenith_angle.tif&quot;, &quot;type&quot;: &quot;image/tiff; application=geotiff; profile=cloud-optimized&quot;, &quot;roles&quot;: [&quot;data&quot;], &quot;title&quot;: &quot;Sun zenith angle of VI pixel&quot;, &quot;raster:bands&quot;: [{&quot;unit&quot;: &quot;Degree&quot;, &quot;scale&quot;: 0.01, &quot;data_type&quot;: &quot;int16&quot;, &quot;spatial_resolution&quot;: 250}]}, &quot;250m_16_days_pixel_reliability&quot;: {&quot;href&quot;: &quot;https://modiseuwest.blob.core.windows.net/modis-061-cogs/MOD13Q1/34/10/2023241/MOD13Q1.A2023241.h34v10.061.2023258002514_250m_16_days_pixel_reliability.tif&quot;, &quot;type&quot;: &quot;image/tiff; application=geotiff; profile=cloud-optimized&quot;, &quot;roles&quot;: [&quot;data&quot;], &quot;title&quot;: &quot;Quality reliability of VI pixel&quot;, &quot;raster:bands&quot;: [{&quot;unit&quot;: &quot;Rank&quot;, &quot;data_type&quot;: &quot;int8&quot;, &quot;spatial_resolution&quot;: 250}], &quot;classification:classes&quot;: [{&quot;value&quot;: 0, &quot;description&quot;: &quot;Good data, use with confidence&quot;}, {&quot;value&quot;: 1, &quot;description&quot;: &quot;Marginal data, useful, but look at other QA information&quot;}, {&quot;value&quot;: 2, &quot;description&quot;: &quot;Snow/Ice Target covered with snow/ice&quot;}, {&quot;value&quot;: 3, &quot;description&quot;: &quot;Cloudy data&quot;}]}, &quot;250m_16_days_view_zenith_angle&quot;: {&quot;href&quot;: &quot;https://modiseuwest.blob.core.windows.net/modis-061-cogs/MOD13Q1/34/10/2023241/MOD13Q1.A2023241.h34v10.061.2023258002514_250m_16_days_view_zenith_angle.tif&quot;, &quot;type&quot;: &quot;image/tiff; application=geotiff; profile=cloud-optimized&quot;, &quot;roles&quot;: [&quot;data&quot;], &quot;title&quot;: &quot;View zenith angle of VI Pixel&quot;, &quot;raster:bands&quot;: [{&quot;unit&quot;: &quot;Degree&quot;, &quot;scale&quot;: 0.01, &quot;data_type&quot;: &quot;int16&quot;, &quot;spatial_resolution&quot;: 250}]}, &quot;250m_16_days_relative_azimuth_angle&quot;: {&quot;href&quot;: &quot;https://modiseuwest.blob.core.windows.net/modis-061-cogs/MOD13Q1/34/10/2023241/MOD13Q1.A2023241.h34v10.061.2023258002514_250m_16_days_relative_azimuth_angle.tif&quot;, &quot;type&quot;: &quot;image/tiff; application=geotiff; profile=cloud-optimized&quot;, &quot;roles&quot;: [&quot;data&quot;], &quot;title&quot;: &quot;Relative azimuth angle of VI pixel&quot;, &quot;raster:bands&quot;: [{&quot;unit&quot;: &quot;Degree&quot;, &quot;scale&quot;: 0.01, &quot;data_type&quot;: &quot;int16&quot;, &quot;spatial_resolution&quot;: 250}]}, &quot;250m_16_days_composite_day_of_the_year&quot;: {&quot;href&quot;: &quot;https://modiseuwest.blob.core.windows.net/modis-061-cogs/MOD13Q1/34/10/2023241/MOD13Q1.A2023241.h34v10.061.2023258002514_250m_16_days_composite_day_of_the_year.tif&quot;, &quot;type&quot;: &quot;image/tiff; application=geotiff; profile=cloud-optimized&quot;, &quot;roles&quot;: [&quot;data&quot;], &quot;title&quot;: &quot;Day of year VI pixel&quot;, &quot;raster:bands&quot;: [{&quot;unit&quot;: &quot;Julian Day&quot;, &quot;data_type&quot;: &quot;int16&quot;, &quot;spatial_resolution&quot;: 250}]}}, &quot;geometry&quot;: {&quot;type&quot;: &quot;Polygon&quot;, &quot;coordinates&quot;: [[[162.218267000741, -20.2678807324399], [180.047981891695, -19.9968452811343], [179.464584854786, -9.72442246620711], [162.468655437091, -9.98294861056589], [162.218267000741, -20.2678807324399]]]}, &quot;collection&quot;: &quot;modis-13Q1-061&quot;, &quot;properties&quot;: {&quot;created&quot;: &quot;2023-09-15T04:25:14Z&quot;, &quot;updated&quot;: &quot;2023-09-14T23:37:19.717000Z&quot;, &quot;platform&quot;: &quot;terra&quot;, &quot;proj:wkt2&quot;: &quot;PROJCS[\\&quot;unnamed\\&quot;,GEOGCS[\\&quot;Unknown datum based upon the custom spheroid\\&quot;,DATUM[\\&quot;Not specified (based on custom spheroid)\\&quot;,SPHEROID[\\&quot;Custom spheroid\\&quot;,6371007.181,0]],PRIMEM[\\&quot;Greenwich\\&quot;,0],UNIT[\\&quot;degree\\&quot;,0.0174532925199433,AUTHORITY[\\&quot;EPSG\\&quot;,\\&quot;9122\\&quot;]]],PROJECTION[\\&quot;Sinusoidal\\&quot;],PARAMETER[\\&quot;longitude_of_center\\&quot;,0],PARAMETER[\\&quot;false_easting\\&quot;,0],PARAMETER[\\&quot;false_northing\\&quot;,0],UNIT[\\&quot;Meter\\&quot;,1],AXIS[\\&quot;Easting\\&quot;,EAST],AXIS[\\&quot;Northing\\&quot;,NORTH]]&quot;, &quot;proj:shape&quot;: [4800, 4800], &quot;instruments&quot;: [&quot;modis&quot;], &quot;end_datetime&quot;: &quot;2023-09-13T23:59:59Z&quot;, &quot;modis:tile-id&quot;: &quot;51034010&quot;, &quot;proj:geometry&quot;: {&quot;type&quot;: &quot;Polygon&quot;, &quot;coordinates&quot;: [[[18903158.834333, -2223901.039333], [18903158.834333, -1111950.519667], [17791208.314667, -1111950.519667], [17791208.314667, -2223901.039333], [18903158.834333, -2223901.039333]]]}, &quot;proj:transform&quot;: [231.65635826374947, 0.0, 17791208.314667, 0.0, -231.65635826374995, -1111950.519667], &quot;start_datetime&quot;: &quot;2023-08-29T00:00:00Z&quot;, &quot;modis:vertical-tile&quot;: 10, &quot;modis:horizontal-tile&quot;: 34}, &quot;stac_version&quot;: &quot;1.0.0&quot;, &quot;stac_extensions&quot;: [&quot;https://stac-extensions.github.io/projection/v1.1.0/schema.json&quot;, &quot;https://stac-extensions.github.io/raster/v1.1.0/schema.json&quot;, &quot;https://stac-extensions.github.io/classification/v1.0.0/schema.json&quot;]}, {&quot;id&quot;: &quot;MOD13Q1.A2023241.h34v09.061.2023258001705&quot;, &quot;bbox&quot;: [159.40190039747, -10.0140501371706, 172.624340995627, 0.0160513468129103], &quot;type&quot;: &quot;Feature&quot;, &quot;links&quot;: [{&quot;rel&quot;: &quot;collection&quot;, &quot;href&quot;: &quot;https://planetarycomputer.microsoft.com/api/stac/v1/collections/modis-13Q1-061&quot;, &quot;type&quot;: &quot;application/json&quot;}, {&quot;rel&quot;: &quot;parent&quot;, &quot;href&quot;: &quot;https://planetarycomputer.microsoft.com/api/stac/v1/collections/modis-13Q1-061&quot;, &quot;type&quot;: &quot;application/json&quot;}, {&quot;rel&quot;: &quot;root&quot;, &quot;href&quot;: &quot;https://planetarycomputer.microsoft.com/api/stac/v1&quot;, &quot;type&quot;: &quot;application/json&quot;, &quot;title&quot;: &quot;Microsoft Planetary Computer STAC API&quot;}, {&quot;rel&quot;: &quot;self&quot;, &quot;href&quot;: &quot;https://planetarycomputer.microsoft.com/api/stac/v1/collections/modis-13Q1-061/items/MOD13Q1.A2023241.h34v09.061.2023258001705&quot;, &quot;type&quot;: &quot;application/geo+json&quot;}, {&quot;rel&quot;: &quot;preview&quot;, &quot;href&quot;: &quot;https://planetarycomputer.microsoft.com/api/data/v1/item/map?collection=modis-13Q1-061&amp;item=MOD13Q1.A2023241.h34v09.061.2023258001705&quot;, &quot;type&quot;: &quot;text/html&quot;, &quot;title&quot;: &quot;Map of item&quot;}], &quot;assets&quot;: {&quot;hdf&quot;: {&quot;href&quot;: &quot;https://modiseuwest.blob.core.windows.net/modis-061/MOD13Q1/34/09/2023241/MOD13Q1.A2023241.h34v09.061.2023258001705.hdf&quot;, &quot;type&quot;: &quot;application/x-hdf&quot;, &quot;roles&quot;: [&quot;data&quot;], &quot;title&quot;: &quot;Source data containing all bands&quot;}, &quot;metadata&quot;: {&quot;href&quot;: &quot;https://modiseuwest.blob.core.windows.net/modis-061/MOD13Q1/34/09/2023241/MOD13Q1.A2023241.h34v09.061.2023258001705.hdf.xml&quot;, &quot;type&quot;: &quot;application/xml&quot;, &quot;roles&quot;: [&quot;metadata&quot;], &quot;title&quot;: &quot;Federal Geographic Data Committee (FGDC) Metadata&quot;}, &quot;tilejson&quot;: {&quot;href&quot;: &quot;https://planetarycomputer.microsoft.com/api/data/v1/item/tilejson.json?collection=modis-13Q1-061&amp;item=MOD13Q1.A2023241.h34v09.061.2023258001705&amp;assets=250m_16_days_NDVI&amp;tile_format=png&amp;colormap_name=modis-13A1%7CQ1&amp;rescale=0%2C10000&amp;format=png&quot;, &quot;type&quot;: &quot;application/json&quot;, &quot;roles&quot;: [&quot;tiles&quot;], &quot;title&quot;: &quot;TileJSON with default rendering&quot;}, &quot;250m_16_days_EVI&quot;: {&quot;href&quot;: &quot;https://modiseuwest.blob.core.windows.net/modis-061-cogs/MOD13Q1/34/09/2023241/MOD13Q1.A2023241.h34v09.061.2023258001705_250m_16_days_EVI.tif&quot;, &quot;type&quot;: &quot;image/tiff; application=geotiff; profile=cloud-optimized&quot;, &quot;roles&quot;: [&quot;data&quot;], &quot;title&quot;: &quot;16 day EVI&quot;, &quot;raster:bands&quot;: [{&quot;unit&quot;: &quot;EVI&quot;, &quot;scale&quot;: 0.0001, &quot;data_type&quot;: &quot;int16&quot;, &quot;spatial_resolution&quot;: 250}]}, &quot;rendered_preview&quot;: {&quot;rel&quot;: &quot;preview&quot;, &quot;href&quot;: &quot;https://planetarycomputer.microsoft.com/api/data/v1/item/preview.png?collection=modis-13Q1-061&amp;item=MOD13Q1.A2023241.h34v09.061.2023258001705&amp;assets=250m_16_days_NDVI&amp;tile_format=png&amp;colormap_name=modis-13A1%7CQ1&amp;rescale=0%2C10000&amp;format=png&quot;, &quot;type&quot;: &quot;image/png&quot;, &quot;roles&quot;: [&quot;overview&quot;], &quot;title&quot;: &quot;Rendered preview&quot;}, &quot;250m_16_days_NDVI&quot;: {&quot;href&quot;: &quot;https://modiseuwest.blob.core.windows.net/modis-061-cogs/MOD13Q1/34/09/2023241/MOD13Q1.A2023241.h34v09.061.2023258001705_250m_16_days_NDVI.tif&quot;, &quot;type&quot;: &quot;image/tiff; application=geotiff; profile=cloud-optimized&quot;, &quot;roles&quot;: [&quot;data&quot;], &quot;title&quot;: &quot;16 day NDVI&quot;, &quot;raster:bands&quot;: [{&quot;unit&quot;: &quot;NDVI&quot;, &quot;scale&quot;: 0.0001, &quot;data_type&quot;: &quot;int16&quot;, &quot;spatial_resolution&quot;: 250}]}, &quot;250m_16_days_VI_Quality&quot;: {&quot;href&quot;: &quot;https://modiseuwest.blob.core.windows.net/modis-061-cogs/MOD13Q1/34/09/2023241/MOD13Q1.A2023241.h34v09.061.2023258001705_250m_16_days_VI_Quality.tif&quot;, &quot;type&quot;: &quot;image/tiff; application=geotiff; profile=cloud-optimized&quot;, &quot;roles&quot;: [&quot;data&quot;], &quot;title&quot;: &quot;VI quality indicators&quot;, &quot;raster:bands&quot;: [{&quot;data_type&quot;: &quot;uint16&quot;, &quot;spatial_resolution&quot;: 250}]}, &quot;250m_16_days_MIR_reflectance&quot;: {&quot;href&quot;: &quot;https://modiseuwest.blob.core.windows.net/modis-061-cogs/MOD13Q1/34/09/2023241/MOD13Q1.A2023241.h34v09.061.2023258001705_250m_16_days_MIR_reflectance.tif&quot;, &quot;type&quot;: &quot;image/tiff; application=geotiff; profile=cloud-optimized&quot;, &quot;roles&quot;: [&quot;data&quot;], &quot;title&quot;: &quot;Surface Reflectance Band 7&quot;, &quot;raster:bands&quot;: [{&quot;scale&quot;: 0.0001, &quot;data_type&quot;: &quot;int16&quot;, &quot;spatial_resolution&quot;: 250}]}, &quot;250m_16_days_NIR_reflectance&quot;: {&quot;href&quot;: &quot;https://modiseuwest.blob.core.windows.net/modis-061-cogs/MOD13Q1/34/09/2023241/MOD13Q1.A2023241.h34v09.061.2023258001705_250m_16_days_NIR_reflectance.tif&quot;, &quot;type&quot;: &quot;image/tiff; application=geotiff; profile=cloud-optimized&quot;, &quot;roles&quot;: [&quot;data&quot;], &quot;title&quot;: &quot;Surface Reflectance Band 2&quot;, &quot;raster:bands&quot;: [{&quot;scale&quot;: 0.0001, &quot;data_type&quot;: &quot;int16&quot;, &quot;spatial_resolution&quot;: 250}]}, &quot;250m_16_days_red_reflectance&quot;: {&quot;href&quot;: &quot;https://modiseuwest.blob.core.windows.net/modis-061-cogs/MOD13Q1/34/09/2023241/MOD13Q1.A2023241.h34v09.061.2023258001705_250m_16_days_red_reflectance.tif&quot;, &quot;type&quot;: &quot;image/tiff; application=geotiff; profile=cloud-optimized&quot;, &quot;roles&quot;: [&quot;data&quot;], &quot;title&quot;: &quot;Surface Reflectance Band 1&quot;, &quot;raster:bands&quot;: [{&quot;scale&quot;: 0.0001, &quot;data_type&quot;: &quot;int16&quot;, &quot;spatial_resolution&quot;: 250}]}, &quot;250m_16_days_blue_reflectance&quot;: {&quot;href&quot;: &quot;https://modiseuwest.blob.core.windows.net/modis-061-cogs/MOD13Q1/34/09/2023241/MOD13Q1.A2023241.h34v09.061.2023258001705_250m_16_days_blue_reflectance.tif&quot;, &quot;type&quot;: &quot;image/tiff; application=geotiff; profile=cloud-optimized&quot;, &quot;roles&quot;: [&quot;data&quot;], &quot;title&quot;: &quot;Surface Reflectance Band 3&quot;, &quot;raster:bands&quot;: [{&quot;scale&quot;: 0.0001, &quot;data_type&quot;: &quot;int16&quot;, &quot;spatial_resolution&quot;: 250}]}, &quot;250m_16_days_sun_zenith_angle&quot;: {&quot;href&quot;: &quot;https://modiseuwest.blob.core.windows.net/modis-061-cogs/MOD13Q1/34/09/2023241/MOD13Q1.A2023241.h34v09.061.2023258001705_250m_16_days_sun_zenith_angle.tif&quot;, &quot;type&quot;: &quot;image/tiff; application=geotiff; profile=cloud-optimized&quot;, &quot;roles&quot;: [&quot;data&quot;], &quot;title&quot;: &quot;Sun zenith angle of VI pixel&quot;, &quot;raster:bands&quot;: [{&quot;unit&quot;: &quot;Degree&quot;, &quot;scale&quot;: 0.01, &quot;data_type&quot;: &quot;int16&quot;, &quot;spatial_resolution&quot;: 250}]}, &quot;250m_16_days_pixel_reliability&quot;: {&quot;href&quot;: &quot;https://modiseuwest.blob.core.windows.net/modis-061-cogs/MOD13Q1/34/09/2023241/MOD13Q1.A2023241.h34v09.061.2023258001705_250m_16_days_pixel_reliability.tif&quot;, &quot;type&quot;: &quot;image/tiff; application=geotiff; profile=cloud-optimized&quot;, &quot;roles&quot;: [&quot;data&quot;], &quot;title&quot;: &quot;Quality reliability of VI pixel&quot;, &quot;raster:bands&quot;: [{&quot;unit&quot;: &quot;Rank&quot;, &quot;data_type&quot;: &quot;int8&quot;, &quot;spatial_resolution&quot;: 250}], &quot;classification:classes&quot;: [{&quot;value&quot;: 0, &quot;description&quot;: &quot;Good data, use with confidence&quot;}, {&quot;value&quot;: 1, &quot;description&quot;: &quot;Marginal data, useful, but look at other QA information&quot;}, {&quot;value&quot;: 2, &quot;description&quot;: &quot;Snow/Ice Target covered with snow/ice&quot;}, {&quot;value&quot;: 3, &quot;description&quot;: &quot;Cloudy data&quot;}]}, &quot;250m_16_days_view_zenith_angle&quot;: {&quot;href&quot;: &quot;https://modiseuwest.blob.core.windows.net/modis-061-cogs/MOD13Q1/34/09/2023241/MOD13Q1.A2023241.h34v09.061.2023258001705_250m_16_days_view_zenith_angle.tif&quot;, &quot;type&quot;: &quot;image/tiff; application=geotiff; profile=cloud-optimized&quot;, &quot;roles&quot;: [&quot;data&quot;], &quot;title&quot;: &quot;View zenith angle of VI Pixel&quot;, &quot;raster:bands&quot;: [{&quot;unit&quot;: &quot;Degree&quot;, &quot;scale&quot;: 0.01, &quot;data_type&quot;: &quot;int16&quot;, &quot;spatial_resolution&quot;: 250}]}, &quot;250m_16_days_relative_azimuth_angle&quot;: {&quot;href&quot;: &quot;https://modiseuwest.blob.core.windows.net/modis-061-cogs/MOD13Q1/34/09/2023241/MOD13Q1.A2023241.h34v09.061.2023258001705_250m_16_days_relative_azimuth_angle.tif&quot;, &quot;type&quot;: &quot;image/tiff; application=geotiff; profile=cloud-optimized&quot;, &quot;roles&quot;: [&quot;data&quot;], &quot;title&quot;: &quot;Relative azimuth angle of VI pixel&quot;, &quot;raster:bands&quot;: [{&quot;unit&quot;: &quot;Degree&quot;, &quot;scale&quot;: 0.01, &quot;data_type&quot;: &quot;int16&quot;, &quot;spatial_resolution&quot;: 250}]}, &quot;250m_16_days_composite_day_of_the_year&quot;: {&quot;href&quot;: &quot;https://modiseuwest.blob.core.windows.net/modis-061-cogs/MOD13Q1/34/09/2023241/MOD13Q1.A2023241.h34v09.061.2023258001705_250m_16_days_composite_day_of_the_year.tif&quot;, &quot;type&quot;: &quot;image/tiff; application=geotiff; profile=cloud-optimized&quot;, &quot;roles&quot;: [&quot;data&quot;], &quot;title&quot;: &quot;Day of year VI pixel&quot;, &quot;raster:bands&quot;: [{&quot;unit&quot;: &quot;Julian Day&quot;, &quot;data_type&quot;: &quot;int16&quot;, &quot;spatial_resolution&quot;: 250}]}}, &quot;geometry&quot;: {&quot;type&quot;: &quot;Polygon&quot;, &quot;coordinates&quot;: [[[161.843301930763, -10.0140501371706], [159.40190039747, -0.000962695951550389], [170.023175852499, 0.0160513468129103], [172.624340995627, -9.9999682964894], [161.843301930763, -10.0140501371706]]]}, &quot;collection&quot;: &quot;modis-13Q1-061&quot;, &quot;properties&quot;: {&quot;created&quot;: &quot;2023-09-15T04:17:05Z&quot;, &quot;updated&quot;: &quot;2023-09-14T23:29:18.751000Z&quot;, &quot;platform&quot;: &quot;terra&quot;, &quot;proj:wkt2&quot;: &quot;PROJCS[\\&quot;unnamed\\&quot;,GEOGCS[\\&quot;Unknown datum based upon the custom spheroid\\&quot;,DATUM[\\&quot;Not specified (based on custom spheroid)\\&quot;,SPHEROID[\\&quot;Custom spheroid\\&quot;,6371007.181,0]],PRIMEM[\\&quot;Greenwich\\&quot;,0],UNIT[\\&quot;degree\\&quot;,0.0174532925199433,AUTHORITY[\\&quot;EPSG\\&quot;,\\&quot;9122\\&quot;]]],PROJECTION[\\&quot;Sinusoidal\\&quot;],PARAMETER[\\&quot;longitude_of_center\\&quot;,0],PARAMETER[\\&quot;false_easting\\&quot;,0],PARAMETER[\\&quot;false_northing\\&quot;,0],UNIT[\\&quot;Meter\\&quot;,1],AXIS[\\&quot;Easting\\&quot;,EAST],AXIS[\\&quot;Northing\\&quot;,NORTH]]&quot;, &quot;proj:shape&quot;: [4800, 4800], &quot;instruments&quot;: [&quot;modis&quot;], &quot;end_datetime&quot;: &quot;2023-09-13T23:59:59Z&quot;, &quot;modis:tile-id&quot;: &quot;51034009&quot;, &quot;proj:geometry&quot;: {&quot;type&quot;: &quot;Polygon&quot;, &quot;coordinates&quot;: [[[18903158.834333, -1111950.519667], [18903158.834333, 0.0], [17791208.314667, 0.0], [17791208.314667, -1111950.519667], [18903158.834333, -1111950.519667]]]}, &quot;proj:transform&quot;: [231.65635826374947, 0.0, 17791208.314667, 0.0, -231.65635826395834, 0.0], &quot;start_datetime&quot;: &quot;2023-08-29T00:00:00Z&quot;, &quot;modis:vertical-tile&quot;: 9, &quot;modis:horizontal-tile&quot;: 34}, &quot;stac_version&quot;: &quot;1.0.0&quot;, &quot;stac_extensions&quot;: [&quot;https://stac-extensions.github.io/projection/v1.1.0/schema.json&quot;, &quot;https://stac-extensions.github.io/raster/v1.1.0/schema.json&quot;, &quot;https://stac-extensions.github.io/classification/v1.0.0/schema.json&quot;]}, {&quot;id&quot;: &quot;MOD13Q1.A2023241.h34v08.061.2023258000547&quot;, &quot;bbox&quot;: [159.401904891107, -0.0160681308193304, 172.633154206439, 10.0140323226274], &quot;type&quot;: &quot;Feature&quot;, &quot;links&quot;: [{&quot;rel&quot;: &quot;collection&quot;, &quot;href&quot;: &quot;https://planetarycomputer.microsoft.com/api/stac/v1/collections/modis-13Q1-061&quot;, &quot;type&quot;: &quot;application/json&quot;}, {&quot;rel&quot;: &quot;parent&quot;, &quot;href&quot;: &quot;https://planetarycomputer.microsoft.com/api/stac/v1/collections/modis-13Q1-061&quot;, &quot;type&quot;: &quot;application/json&quot;}, {&quot;rel&quot;: &quot;root&quot;, &quot;href&quot;: &quot;https://planetarycomputer.microsoft.com/api/stac/v1&quot;, &quot;type&quot;: &quot;application/json&quot;, &quot;title&quot;: &quot;Microsoft Planetary Computer STAC API&quot;}, {&quot;rel&quot;: &quot;self&quot;, &quot;href&quot;: &quot;https://planetarycomputer.microsoft.com/api/stac/v1/collections/modis-13Q1-061/items/MOD13Q1.A2023241.h34v08.061.2023258000547&quot;, &quot;type&quot;: &quot;application/geo+json&quot;}, {&quot;rel&quot;: &quot;preview&quot;, &quot;href&quot;: &quot;https://planetarycomputer.microsoft.com/api/data/v1/item/map?collection=modis-13Q1-061&amp;item=MOD13Q1.A2023241.h34v08.061.2023258000547&quot;, &quot;type&quot;: &quot;text/html&quot;, &quot;title&quot;: &quot;Map of item&quot;}], &quot;assets&quot;: {&quot;hdf&quot;: {&quot;href&quot;: &quot;https://modiseuwest.blob.core.windows.net/modis-061/MOD13Q1/34/08/2023241/MOD13Q1.A2023241.h34v08.061.2023258000547.hdf&quot;, &quot;type&quot;: &quot;application/x-hdf&quot;, &quot;roles&quot;: [&quot;data&quot;], &quot;title&quot;: &quot;Source data containing all bands&quot;}, &quot;metadata&quot;: {&quot;href&quot;: &quot;https://modiseuwest.blob.core.windows.net/modis-061/MOD13Q1/34/08/2023241/MOD13Q1.A2023241.h34v08.061.2023258000547.hdf.xml&quot;, &quot;type&quot;: &quot;application/xml&quot;, &quot;roles&quot;: [&quot;metadata&quot;], &quot;title&quot;: &quot;Federal Geographic Data Committee (FGDC) Metadata&quot;}, &quot;tilejson&quot;: {&quot;href&quot;: &quot;https://planetarycomputer.microsoft.com/api/data/v1/item/tilejson.json?collection=modis-13Q1-061&amp;item=MOD13Q1.A2023241.h34v08.061.2023258000547&amp;assets=250m_16_days_NDVI&amp;tile_format=png&amp;colormap_name=modis-13A1%7CQ1&amp;rescale=0%2C10000&amp;format=png&quot;, &quot;type&quot;: &quot;application/json&quot;, &quot;roles&quot;: [&quot;tiles&quot;], &quot;title&quot;: &quot;TileJSON with default rendering&quot;}, &quot;250m_16_days_EVI&quot;: {&quot;href&quot;: &quot;https://modiseuwest.blob.core.windows.net/modis-061-cogs/MOD13Q1/34/08/2023241/MOD13Q1.A2023241.h34v08.061.2023258000547_250m_16_days_EVI.tif&quot;, &quot;type&quot;: &quot;image/tiff; application=geotiff; profile=cloud-optimized&quot;, &quot;roles&quot;: [&quot;data&quot;], &quot;title&quot;: &quot;16 day EVI&quot;, &quot;raster:bands&quot;: [{&quot;unit&quot;: &quot;EVI&quot;, &quot;scale&quot;: 0.0001, &quot;data_type&quot;: &quot;int16&quot;, &quot;spatial_resolution&quot;: 250}]}, &quot;rendered_preview&quot;: {&quot;rel&quot;: &quot;preview&quot;, &quot;href&quot;: &quot;https://planetarycomputer.microsoft.com/api/data/v1/item/preview.png?collection=modis-13Q1-061&amp;item=MOD13Q1.A2023241.h34v08.061.2023258000547&amp;assets=250m_16_days_NDVI&amp;tile_format=png&amp;colormap_name=modis-13A1%7CQ1&amp;rescale=0%2C10000&amp;format=png&quot;, &quot;type&quot;: &quot;image/png&quot;, &quot;roles&quot;: [&quot;overview&quot;], &quot;title&quot;: &quot;Rendered preview&quot;}, &quot;250m_16_days_NDVI&quot;: {&quot;href&quot;: &quot;https://modiseuwest.blob.core.windows.net/modis-061-cogs/MOD13Q1/34/08/2023241/MOD13Q1.A2023241.h34v08.061.2023258000547_250m_16_days_NDVI.tif&quot;, &quot;type&quot;: &quot;image/tiff; application=geotiff; profile=cloud-optimized&quot;, &quot;roles&quot;: [&quot;data&quot;], &quot;title&quot;: &quot;16 day NDVI&quot;, &quot;raster:bands&quot;: [{&quot;unit&quot;: &quot;NDVI&quot;, &quot;scale&quot;: 0.0001, &quot;data_type&quot;: &quot;int16&quot;, &quot;spatial_resolution&quot;: 250}]}, &quot;250m_16_days_VI_Quality&quot;: {&quot;href&quot;: &quot;https://modiseuwest.blob.core.windows.net/modis-061-cogs/MOD13Q1/34/08/2023241/MOD13Q1.A2023241.h34v08.061.2023258000547_250m_16_days_VI_Quality.tif&quot;, &quot;type&quot;: &quot;image/tiff; application=geotiff; profile=cloud-optimized&quot;, &quot;roles&quot;: [&quot;data&quot;], &quot;title&quot;: &quot;VI quality indicators&quot;, &quot;raster:bands&quot;: [{&quot;data_type&quot;: &quot;uint16&quot;, &quot;spatial_resolution&quot;: 250}]}, &quot;250m_16_days_MIR_reflectance&quot;: {&quot;href&quot;: &quot;https://modiseuwest.blob.core.windows.net/modis-061-cogs/MOD13Q1/34/08/2023241/MOD13Q1.A2023241.h34v08.061.2023258000547_250m_16_days_MIR_reflectance.tif&quot;, &quot;type&quot;: &quot;image/tiff; application=geotiff; profile=cloud-optimized&quot;, &quot;roles&quot;: [&quot;data&quot;], &quot;title&quot;: &quot;Surface Reflectance Band 7&quot;, &quot;raster:bands&quot;: [{&quot;scale&quot;: 0.0001, &quot;data_type&quot;: &quot;int16&quot;, &quot;spatial_resolution&quot;: 250}]}, &quot;250m_16_days_NIR_reflectance&quot;: {&quot;href&quot;: &quot;https://modiseuwest.blob.core.windows.net/modis-061-cogs/MOD13Q1/34/08/2023241/MOD13Q1.A2023241.h34v08.061.2023258000547_250m_16_days_NIR_reflectance.tif&quot;, &quot;type&quot;: &quot;image/tiff; application=geotiff; profile=cloud-optimized&quot;, &quot;roles&quot;: [&quot;data&quot;], &quot;title&quot;: &quot;Surface Reflectance Band 2&quot;, &quot;raster:bands&quot;: [{&quot;scale&quot;: 0.0001, &quot;data_type&quot;: &quot;int16&quot;, &quot;spatial_resolution&quot;: 250}]}, &quot;250m_16_days_red_reflectance&quot;: {&quot;href&quot;: &quot;https://modiseuwest.blob.core.windows.net/modis-061-cogs/MOD13Q1/34/08/2023241/MOD13Q1.A2023241.h34v08.061.2023258000547_250m_16_days_red_reflectance.tif&quot;, &quot;type&quot;: &quot;image/tiff; application=geotiff; profile=cloud-optimized&quot;, &quot;roles&quot;: [&quot;data&quot;], &quot;title&quot;: &quot;Surface Reflectance Band 1&quot;, &quot;raster:bands&quot;: [{&quot;scale&quot;: 0.0001, &quot;data_type&quot;: &quot;int16&quot;, &quot;spatial_resolution&quot;: 250}]}, &quot;250m_16_days_blue_reflectance&quot;: {&quot;href&quot;: &quot;https://modiseuwest.blob.core.windows.net/modis-061-cogs/MOD13Q1/34/08/2023241/MOD13Q1.A2023241.h34v08.061.2023258000547_250m_16_days_blue_reflectance.tif&quot;, &quot;type&quot;: &quot;image/tiff; application=geotiff; profile=cloud-optimized&quot;, &quot;roles&quot;: [&quot;data&quot;], &quot;title&quot;: &quot;Surface Reflectance Band 3&quot;, &quot;raster:bands&quot;: [{&quot;scale&quot;: 0.0001, &quot;data_type&quot;: &quot;int16&quot;, &quot;spatial_resolution&quot;: 250}]}, &quot;250m_16_days_sun_zenith_angle&quot;: {&quot;href&quot;: &quot;https://modiseuwest.blob.core.windows.net/modis-061-cogs/MOD13Q1/34/08/2023241/MOD13Q1.A2023241.h34v08.061.2023258000547_250m_16_days_sun_zenith_angle.tif&quot;, &quot;type&quot;: &quot;image/tiff; application=geotiff; profile=cloud-optimized&quot;, &quot;roles&quot;: [&quot;data&quot;], &quot;title&quot;: &quot;Sun zenith angle of VI pixel&quot;, &quot;raster:bands&quot;: [{&quot;unit&quot;: &quot;Degree&quot;, &quot;scale&quot;: 0.01, &quot;data_type&quot;: &quot;int16&quot;, &quot;spatial_resolution&quot;: 250}]}, &quot;250m_16_days_pixel_reliability&quot;: {&quot;href&quot;: &quot;https://modiseuwest.blob.core.windows.net/modis-061-cogs/MOD13Q1/34/08/2023241/MOD13Q1.A2023241.h34v08.061.2023258000547_250m_16_days_pixel_reliability.tif&quot;, &quot;type&quot;: &quot;image/tiff; application=geotiff; profile=cloud-optimized&quot;, &quot;roles&quot;: [&quot;data&quot;], &quot;title&quot;: &quot;Quality reliability of VI pixel&quot;, &quot;raster:bands&quot;: [{&quot;unit&quot;: &quot;Rank&quot;, &quot;data_type&quot;: &quot;int8&quot;, &quot;spatial_resolution&quot;: 250}], &quot;classification:classes&quot;: [{&quot;value&quot;: 0, &quot;description&quot;: &quot;Good data, use with confidence&quot;}, {&quot;value&quot;: 1, &quot;description&quot;: &quot;Marginal data, useful, but look at other QA information&quot;}, {&quot;value&quot;: 2, &quot;description&quot;: &quot;Snow/Ice Target covered with snow/ice&quot;}, {&quot;value&quot;: 3, &quot;description&quot;: &quot;Cloudy data&quot;}]}, &quot;250m_16_days_view_zenith_angle&quot;: {&quot;href&quot;: &quot;https://modiseuwest.blob.core.windows.net/modis-061-cogs/MOD13Q1/34/08/2023241/MOD13Q1.A2023241.h34v08.061.2023258000547_250m_16_days_view_zenith_angle.tif&quot;, &quot;type&quot;: &quot;image/tiff; application=geotiff; profile=cloud-optimized&quot;, &quot;roles&quot;: [&quot;data&quot;], &quot;title&quot;: &quot;View zenith angle of VI Pixel&quot;, &quot;raster:bands&quot;: [{&quot;unit&quot;: &quot;Degree&quot;, &quot;scale&quot;: 0.01, &quot;data_type&quot;: &quot;int16&quot;, &quot;spatial_resolution&quot;: 250}]}, &quot;250m_16_days_relative_azimuth_angle&quot;: {&quot;href&quot;: &quot;https://modiseuwest.blob.core.windows.net/modis-061-cogs/MOD13Q1/34/08/2023241/MOD13Q1.A2023241.h34v08.061.2023258000547_250m_16_days_relative_azimuth_angle.tif&quot;, &quot;type&quot;: &quot;image/tiff; application=geotiff; profile=cloud-optimized&quot;, &quot;roles&quot;: [&quot;data&quot;], &quot;title&quot;: &quot;Relative azimuth angle of VI pixel&quot;, &quot;raster:bands&quot;: [{&quot;unit&quot;: &quot;Degree&quot;, &quot;scale&quot;: 0.01, &quot;data_type&quot;: &quot;int16&quot;, &quot;spatial_resolution&quot;: 250}]}, &quot;250m_16_days_composite_day_of_the_year&quot;: {&quot;href&quot;: &quot;https://modiseuwest.blob.core.windows.net/modis-061-cogs/MOD13Q1/34/08/2023241/MOD13Q1.A2023241.h34v08.061.2023258000547_250m_16_days_composite_day_of_the_year.tif&quot;, &quot;type&quot;: &quot;image/tiff; application=geotiff; profile=cloud-optimized&quot;, &quot;roles&quot;: [&quot;data&quot;], &quot;title&quot;: &quot;Day of year VI pixel&quot;, &quot;raster:bands&quot;: [{&quot;unit&quot;: &quot;Julian Day&quot;, &quot;data_type&quot;: &quot;int16&quot;, &quot;spatial_resolution&quot;: 250}]}}, &quot;geometry&quot;: {&quot;type&quot;: &quot;Polygon&quot;, &quot;coordinates&quot;: [[[159.401904891107, 0.000963687575697164], [161.843293083131, 10.0140323226274], [172.633154206439, 9.99981440242935], [170.023257540113, -0.0160681308193304], [159.401904891107, 0.000963687575697164]]]}, &quot;collection&quot;: &quot;modis-13Q1-061&quot;, &quot;properties&quot;: {&quot;created&quot;: &quot;2023-09-15T04:05:48Z&quot;, &quot;updated&quot;: &quot;2023-09-14T23:13:19.036000Z&quot;, &quot;platform&quot;: &quot;terra&quot;, &quot;proj:wkt2&quot;: &quot;PROJCS[\\&quot;unnamed\\&quot;,GEOGCS[\\&quot;Unknown datum based upon the custom spheroid\\&quot;,DATUM[\\&quot;Not specified (based on custom spheroid)\\&quot;,SPHEROID[\\&quot;Custom spheroid\\&quot;,6371007.181,0]],PRIMEM[\\&quot;Greenwich\\&quot;,0],UNIT[\\&quot;degree\\&quot;,0.0174532925199433,AUTHORITY[\\&quot;EPSG\\&quot;,\\&quot;9122\\&quot;]]],PROJECTION[\\&quot;Sinusoidal\\&quot;],PARAMETER[\\&quot;longitude_of_center\\&quot;,0],PARAMETER[\\&quot;false_easting\\&quot;,0],PARAMETER[\\&quot;false_northing\\&quot;,0],UNIT[\\&quot;Meter\\&quot;,1],AXIS[\\&quot;Easting\\&quot;,EAST],AXIS[\\&quot;Northing\\&quot;,NORTH]]&quot;, &quot;proj:shape&quot;: [4800, 4800], &quot;instruments&quot;: [&quot;modis&quot;], &quot;end_datetime&quot;: &quot;2023-09-13T23:59:59Z&quot;, &quot;modis:tile-id&quot;: &quot;51034008&quot;, &quot;proj:geometry&quot;: {&quot;type&quot;: &quot;Polygon&quot;, &quot;coordinates&quot;: [[[18903158.834333, 0.0], [18903158.834333, 1111950.519667], [17791208.314667, 1111950.519667], [17791208.314667, 0.0], [18903158.834333, 0.0]]]}, &quot;proj:transform&quot;: [231.65635826374947, 0.0, 17791208.314667, 0.0, -231.65635826395834, 1111950.519667], &quot;start_datetime&quot;: &quot;2023-08-29T00:00:00Z&quot;, &quot;modis:vertical-tile&quot;: 8, &quot;modis:horizontal-tile&quot;: 34}, &quot;stac_version&quot;: &quot;1.0.0&quot;, &quot;stac_extensions&quot;: [&quot;https://stac-extensions.github.io/projection/v1.1.0/schema.json&quot;, &quot;https://stac-extensions.github.io/raster/v1.1.0/schema.json&quot;, &quot;https://stac-extensions.github.io/classification/v1.0.0/schema.json&quot;]}, {&quot;id&quot;: &quot;MOD13Q1.A2023241.h34v07.061.2023258000548&quot;, &quot;bbox&quot;: [162.218267079146, 9.72432164126745, 180.048970382293, 20.2677999045792], &quot;type&quot;: &quot;Feature&quot;, &quot;links&quot;: [{&quot;rel&quot;: &quot;collection&quot;, &quot;href&quot;: &quot;https://planetarycomputer.microsoft.com/api/stac/v1/collections/modis-13Q1-061&quot;, &quot;type&quot;: &quot;application/json&quot;}, {&quot;rel&quot;: &quot;parent&quot;, &quot;href&quot;: &quot;https://planetarycomputer.microsoft.com/api/stac/v1/collections/modis-13Q1-061&quot;, &quot;type&quot;: &quot;application/json&quot;}, {&quot;rel&quot;: &quot;root&quot;, &quot;href&quot;: &quot;https://planetarycomputer.microsoft.com/api/stac/v1&quot;, &quot;type&quot;: &quot;application/json&quot;, &quot;title&quot;: &quot;Microsoft Planetary Computer STAC API&quot;}, {&quot;rel&quot;: &quot;self&quot;, &quot;href&quot;: &quot;https://planetarycomputer.microsoft.com/api/stac/v1/collections/modis-13Q1-061/items/MOD13Q1.A2023241.h34v07.061.2023258000548&quot;, &quot;type&quot;: &quot;application/geo+json&quot;}, {&quot;rel&quot;: &quot;preview&quot;, &quot;href&quot;: &quot;https://planetarycomputer.microsoft.com/api/data/v1/item/map?collection=modis-13Q1-061&amp;item=MOD13Q1.A2023241.h34v07.061.2023258000548&quot;, &quot;type&quot;: &quot;text/html&quot;, &quot;title&quot;: &quot;Map of item&quot;}], &quot;assets&quot;: {&quot;hdf&quot;: {&quot;href&quot;: &quot;https://modiseuwest.blob.core.windows.net/modis-061/MOD13Q1/34/07/2023241/MOD13Q1.A2023241.h34v07.061.2023258000548.hdf&quot;, &quot;type&quot;: &quot;application/x-hdf&quot;, &quot;roles&quot;: [&quot;data&quot;], &quot;title&quot;: &quot;Source data containing all bands&quot;}, &quot;metadata&quot;: {&quot;href&quot;: &quot;https://modiseuwest.blob.core.windows.net/modis-061/MOD13Q1/34/07/2023241/MOD13Q1.A2023241.h34v07.061.2023258000548.hdf.xml&quot;, &quot;type&quot;: &quot;application/xml&quot;, &quot;roles&quot;: [&quot;metadata&quot;], &quot;title&quot;: &quot;Federal Geographic Data Committee (FGDC) Metadata&quot;}, &quot;tilejson&quot;: {&quot;href&quot;: &quot;https://planetarycomputer.microsoft.com/api/data/v1/item/tilejson.json?collection=modis-13Q1-061&amp;item=MOD13Q1.A2023241.h34v07.061.2023258000548&amp;assets=250m_16_days_NDVI&amp;tile_format=png&amp;colormap_name=modis-13A1%7CQ1&amp;rescale=0%2C10000&amp;format=png&quot;, &quot;type&quot;: &quot;application/json&quot;, &quot;roles&quot;: [&quot;tiles&quot;], &quot;title&quot;: &quot;TileJSON with default rendering&quot;}, &quot;250m_16_days_EVI&quot;: {&quot;href&quot;: &quot;https://modiseuwest.blob.core.windows.net/modis-061-cogs/MOD13Q1/34/07/2023241/MOD13Q1.A2023241.h34v07.061.2023258000548_250m_16_days_EVI.tif&quot;, &quot;type&quot;: &quot;image/tiff; application=geotiff; profile=cloud-optimized&quot;, &quot;roles&quot;: [&quot;data&quot;], &quot;title&quot;: &quot;16 day EVI&quot;, &quot;raster:bands&quot;: [{&quot;unit&quot;: &quot;EVI&quot;, &quot;scale&quot;: 0.0001, &quot;data_type&quot;: &quot;int16&quot;, &quot;spatial_resolution&quot;: 250}]}, &quot;rendered_preview&quot;: {&quot;rel&quot;: &quot;preview&quot;, &quot;href&quot;: &quot;https://planetarycomputer.microsoft.com/api/data/v1/item/preview.png?collection=modis-13Q1-061&amp;item=MOD13Q1.A2023241.h34v07.061.2023258000548&amp;assets=250m_16_days_NDVI&amp;tile_format=png&amp;colormap_name=modis-13A1%7CQ1&amp;rescale=0%2C10000&amp;format=png&quot;, &quot;type&quot;: &quot;image/png&quot;, &quot;roles&quot;: [&quot;overview&quot;], &quot;title&quot;: &quot;Rendered preview&quot;}, &quot;250m_16_days_NDVI&quot;: {&quot;href&quot;: &quot;https://modiseuwest.blob.core.windows.net/modis-061-cogs/MOD13Q1/34/07/2023241/MOD13Q1.A2023241.h34v07.061.2023258000548_250m_16_days_NDVI.tif&quot;, &quot;type&quot;: &quot;image/tiff; application=geotiff; profile=cloud-optimized&quot;, &quot;roles&quot;: [&quot;data&quot;], &quot;title&quot;: &quot;16 day NDVI&quot;, &quot;raster:bands&quot;: [{&quot;unit&quot;: &quot;NDVI&quot;, &quot;scale&quot;: 0.0001, &quot;data_type&quot;: &quot;int16&quot;, &quot;spatial_resolution&quot;: 250}]}, &quot;250m_16_days_VI_Quality&quot;: {&quot;href&quot;: &quot;https://modiseuwest.blob.core.windows.net/modis-061-cogs/MOD13Q1/34/07/2023241/MOD13Q1.A2023241.h34v07.061.2023258000548_250m_16_days_VI_Quality.tif&quot;, &quot;type&quot;: &quot;image/tiff; application=geotiff; profile=cloud-optimized&quot;, &quot;roles&quot;: [&quot;data&quot;], &quot;title&quot;: &quot;VI quality indicators&quot;, &quot;raster:bands&quot;: [{&quot;data_type&quot;: &quot;uint16&quot;, &quot;spatial_resolution&quot;: 250}]}, &quot;250m_16_days_MIR_reflectance&quot;: {&quot;href&quot;: &quot;https://modiseuwest.blob.core.windows.net/modis-061-cogs/MOD13Q1/34/07/2023241/MOD13Q1.A2023241.h34v07.061.2023258000548_250m_16_days_MIR_reflectance.tif&quot;, &quot;type&quot;: &quot;image/tiff; application=geotiff; profile=cloud-optimized&quot;, &quot;roles&quot;: [&quot;data&quot;], &quot;title&quot;: &quot;Surface Reflectance Band 7&quot;, &quot;raster:bands&quot;: [{&quot;scale&quot;: 0.0001, &quot;data_type&quot;: &quot;int16&quot;, &quot;spatial_resolution&quot;: 250}]}, &quot;250m_16_days_NIR_reflectance&quot;: {&quot;href&quot;: &quot;https://modiseuwest.blob.core.windows.net/modis-061-cogs/MOD13Q1/34/07/2023241/MOD13Q1.A2023241.h34v07.061.2023258000548_250m_16_days_NIR_reflectance.tif&quot;, &quot;type&quot;: &quot;image/tiff; application=geotiff; profile=cloud-optimized&quot;, &quot;roles&quot;: [&quot;data&quot;], &quot;title&quot;: &quot;Surface Reflectance Band 2&quot;, &quot;raster:bands&quot;: [{&quot;scale&quot;: 0.0001, &quot;data_type&quot;: &quot;int16&quot;, &quot;spatial_resolution&quot;: 250}]}, &quot;250m_16_days_red_reflectance&quot;: {&quot;href&quot;: &quot;https://modiseuwest.blob.core.windows.net/modis-061-cogs/MOD13Q1/34/07/2023241/MOD13Q1.A2023241.h34v07.061.2023258000548_250m_16_days_red_reflectance.tif&quot;, &quot;type&quot;: &quot;image/tiff; application=geotiff; profile=cloud-optimized&quot;, &quot;roles&quot;: [&quot;data&quot;], &quot;title&quot;: &quot;Surface Reflectance Band 1&quot;, &quot;raster:bands&quot;: [{&quot;scale&quot;: 0.0001, &quot;data_type&quot;: &quot;int16&quot;, &quot;spatial_resolution&quot;: 250}]}, &quot;250m_16_days_blue_reflectance&quot;: {&quot;href&quot;: &quot;https://modiseuwest.blob.core.windows.net/modis-061-cogs/MOD13Q1/34/07/2023241/MOD13Q1.A2023241.h34v07.061.2023258000548_250m_16_days_blue_reflectance.tif&quot;, &quot;type&quot;: &quot;image/tiff; application=geotiff; profile=cloud-optimized&quot;, &quot;roles&quot;: [&quot;data&quot;], &quot;title&quot;: &quot;Surface Reflectance Band 3&quot;, &quot;raster:bands&quot;: [{&quot;scale&quot;: 0.0001, &quot;data_type&quot;: &quot;int16&quot;, &quot;spatial_resolution&quot;: 250}]}, &quot;250m_16_days_sun_zenith_angle&quot;: {&quot;href&quot;: &quot;https://modiseuwest.blob.core.windows.net/modis-061-cogs/MOD13Q1/34/07/2023241/MOD13Q1.A2023241.h34v07.061.2023258000548_250m_16_days_sun_zenith_angle.tif&quot;, &quot;type&quot;: &quot;image/tiff; application=geotiff; profile=cloud-optimized&quot;, &quot;roles&quot;: [&quot;data&quot;], &quot;title&quot;: &quot;Sun zenith angle of VI pixel&quot;, &quot;raster:bands&quot;: [{&quot;unit&quot;: &quot;Degree&quot;, &quot;scale&quot;: 0.01, &quot;data_type&quot;: &quot;int16&quot;, &quot;spatial_resolution&quot;: 250}]}, &quot;250m_16_days_pixel_reliability&quot;: {&quot;href&quot;: &quot;https://modiseuwest.blob.core.windows.net/modis-061-cogs/MOD13Q1/34/07/2023241/MOD13Q1.A2023241.h34v07.061.2023258000548_250m_16_days_pixel_reliability.tif&quot;, &quot;type&quot;: &quot;image/tiff; application=geotiff; profile=cloud-optimized&quot;, &quot;roles&quot;: [&quot;data&quot;], &quot;title&quot;: &quot;Quality reliability of VI pixel&quot;, &quot;raster:bands&quot;: [{&quot;unit&quot;: &quot;Rank&quot;, &quot;data_type&quot;: &quot;int8&quot;, &quot;spatial_resolution&quot;: 250}], &quot;classification:classes&quot;: [{&quot;value&quot;: 0, &quot;description&quot;: &quot;Good data, use with confidence&quot;}, {&quot;value&quot;: 1, &quot;description&quot;: &quot;Marginal data, useful, but look at other QA information&quot;}, {&quot;value&quot;: 2, &quot;description&quot;: &quot;Snow/Ice Target covered with snow/ice&quot;}, {&quot;value&quot;: 3, &quot;description&quot;: &quot;Cloudy data&quot;}]}, &quot;250m_16_days_view_zenith_angle&quot;: {&quot;href&quot;: &quot;https://modiseuwest.blob.core.windows.net/modis-061-cogs/MOD13Q1/34/07/2023241/MOD13Q1.A2023241.h34v07.061.2023258000548_250m_16_days_view_zenith_angle.tif&quot;, &quot;type&quot;: &quot;image/tiff; application=geotiff; profile=cloud-optimized&quot;, &quot;roles&quot;: [&quot;data&quot;], &quot;title&quot;: &quot;View zenith angle of VI Pixel&quot;, &quot;raster:bands&quot;: [{&quot;unit&quot;: &quot;Degree&quot;, &quot;scale&quot;: 0.01, &quot;data_type&quot;: &quot;int16&quot;, &quot;spatial_resolution&quot;: 250}]}, &quot;250m_16_days_relative_azimuth_angle&quot;: {&quot;href&quot;: &quot;https://modiseuwest.blob.core.windows.net/modis-061-cogs/MOD13Q1/34/07/2023241/MOD13Q1.A2023241.h34v07.061.2023258000548_250m_16_days_relative_azimuth_angle.tif&quot;, &quot;type&quot;: &quot;image/tiff; application=geotiff; profile=cloud-optimized&quot;, &quot;roles&quot;: [&quot;data&quot;], &quot;title&quot;: &quot;Relative azimuth angle of VI pixel&quot;, &quot;raster:bands&quot;: [{&quot;unit&quot;: &quot;Degree&quot;, &quot;scale&quot;: 0.01, &quot;data_type&quot;: &quot;int16&quot;, &quot;spatial_resolution&quot;: 250}]}, &quot;250m_16_days_composite_day_of_the_year&quot;: {&quot;href&quot;: &quot;https://modiseuwest.blob.core.windows.net/modis-061-cogs/MOD13Q1/34/07/2023241/MOD13Q1.A2023241.h34v07.061.2023258000548_250m_16_days_composite_day_of_the_year.tif&quot;, &quot;type&quot;: &quot;image/tiff; application=geotiff; profile=cloud-optimized&quot;, &quot;roles&quot;: [&quot;data&quot;], &quot;title&quot;: &quot;Day of year VI pixel&quot;, &quot;raster:bands&quot;: [{&quot;unit&quot;: &quot;Julian Day&quot;, &quot;data_type&quot;: &quot;int16&quot;, &quot;spatial_resolution&quot;: 250}]}}, &quot;geometry&quot;: {&quot;type&quot;: &quot;Polygon&quot;, &quot;coordinates&quot;: [[[162.468655072985, 9.98296436450166], [179.465521528851, 9.72432164126745], [180.048970382293, 19.9967803797242], [162.218267079146, 20.2677999045792], [162.468655072985, 9.98296436450166]]]}, &quot;collection&quot;: &quot;modis-13Q1-061&quot;, &quot;properties&quot;: {&quot;created&quot;: &quot;2023-09-15T04:05:48Z&quot;, &quot;updated&quot;: &quot;2023-09-14T23:13:18.971000Z&quot;, &quot;platform&quot;: &quot;terra&quot;, &quot;proj:wkt2&quot;: &quot;PROJCS[\\&quot;unnamed\\&quot;,GEOGCS[\\&quot;Unknown datum based upon the custom spheroid\\&quot;,DATUM[\\&quot;Not specified (based on custom spheroid)\\&quot;,SPHEROID[\\&quot;Custom spheroid\\&quot;,6371007.181,0]],PRIMEM[\\&quot;Greenwich\\&quot;,0],UNIT[\\&quot;degree\\&quot;,0.0174532925199433,AUTHORITY[\\&quot;EPSG\\&quot;,\\&quot;9122\\&quot;]]],PROJECTION[\\&quot;Sinusoidal\\&quot;],PARAMETER[\\&quot;longitude_of_center\\&quot;,0],PARAMETER[\\&quot;false_easting\\&quot;,0],PARAMETER[\\&quot;false_northing\\&quot;,0],UNIT[\\&quot;Meter\\&quot;,1],AXIS[\\&quot;Easting\\&quot;,EAST],AXIS[\\&quot;Northing\\&quot;,NORTH]]&quot;, &quot;proj:shape&quot;: [4800, 4800], &quot;instruments&quot;: [&quot;modis&quot;], &quot;end_datetime&quot;: &quot;2023-09-13T23:59:59Z&quot;, &quot;modis:tile-id&quot;: &quot;51034007&quot;, &quot;proj:geometry&quot;: {&quot;type&quot;: &quot;Polygon&quot;, &quot;coordinates&quot;: [[[18903158.834333, 1111950.519667], [18903158.834333, 2223901.039333], [17791208.314667, 2223901.039333], [17791208.314667, 1111950.519667], [18903158.834333, 1111950.519667]]]}, &quot;proj:transform&quot;: [231.65635826374947, 0.0, 17791208.314667, 0.0, -231.65635826374995, 2223901.039333], &quot;start_datetime&quot;: &quot;2023-08-29T00:00:00Z&quot;, &quot;modis:vertical-tile&quot;: 7, &quot;modis:horizontal-tile&quot;: 34}, &quot;stac_version&quot;: &quot;1.0.0&quot;, &quot;stac_extensions&quot;: [&quot;https://stac-extensions.github.io/projection/v1.1.0/schema.json&quot;, &quot;https://stac-extensions.github.io/raster/v1.1.0/schema.json&quot;, &quot;https://stac-extensions.github.io/classification/v1.0.0/schema.json&quot;]}, {&quot;id&quot;: &quot;MOD13Q1.A2023241.h33v11.061.2023258001841&quot;, &quot;bbox&quot;: [159.15191110065, -30.5860517493714, 180.338520479382, -19.3488112087257], &quot;type&quot;: &quot;Feature&quot;, &quot;links&quot;: [{&quot;rel&quot;: &quot;collection&quot;, &quot;href&quot;: &quot;https://planetarycomputer.microsoft.com/api/stac/v1/collections/modis-13Q1-061&quot;, &quot;type&quot;: &quot;application/json&quot;}, {&quot;rel&quot;: &quot;parent&quot;, &quot;href&quot;: &quot;https://planetarycomputer.microsoft.com/api/stac/v1/collections/modis-13Q1-061&quot;, &quot;type&quot;: &quot;application/json&quot;}, {&quot;rel&quot;: &quot;root&quot;, &quot;href&quot;: &quot;https://planetarycomputer.microsoft.com/api/stac/v1&quot;, &quot;type&quot;: &quot;application/json&quot;, &quot;title&quot;: &quot;Microsoft Planetary Computer STAC API&quot;}, {&quot;rel&quot;: &quot;self&quot;, &quot;href&quot;: &quot;https://planetarycomputer.microsoft.com/api/stac/v1/collections/modis-13Q1-061/items/MOD13Q1.A2023241.h33v11.061.2023258001841&quot;, &quot;type&quot;: &quot;application/geo+json&quot;}, {&quot;rel&quot;: &quot;preview&quot;, &quot;href&quot;: &quot;https://planetarycomputer.microsoft.com/api/data/v1/item/map?collection=modis-13Q1-061&amp;item=MOD13Q1.A2023241.h33v11.061.2023258001841&quot;, &quot;type&quot;: &quot;text/html&quot;, &quot;title&quot;: &quot;Map of item&quot;}], &quot;assets&quot;: {&quot;hdf&quot;: {&quot;href&quot;: &quot;https://modiseuwest.blob.core.windows.net/modis-061/MOD13Q1/33/11/2023241/MOD13Q1.A2023241.h33v11.061.2023258001841.hdf&quot;, &quot;type&quot;: &quot;application/x-hdf&quot;, &quot;roles&quot;: [&quot;data&quot;], &quot;title&quot;: &quot;Source data containing all bands&quot;}, &quot;metadata&quot;: {&quot;href&quot;: &quot;https://modiseuwest.blob.core.windows.net/modis-061/MOD13Q1/33/11/2023241/MOD13Q1.A2023241.h33v11.061.2023258001841.hdf.xml&quot;, &quot;type&quot;: &quot;application/xml&quot;, &quot;roles&quot;: [&quot;metadata&quot;], &quot;title&quot;: &quot;Federal Geographic Data Committee (FGDC) Metadata&quot;}, &quot;tilejson&quot;: {&quot;href&quot;: &quot;https://planetarycomputer.microsoft.com/api/data/v1/item/tilejson.json?collection=modis-13Q1-061&amp;item=MOD13Q1.A2023241.h33v11.061.2023258001841&amp;assets=250m_16_days_NDVI&amp;tile_format=png&amp;colormap_name=modis-13A1%7CQ1&amp;rescale=0%2C10000&amp;format=png&quot;, &quot;type&quot;: &quot;application/json&quot;, &quot;roles&quot;: [&quot;tiles&quot;], &quot;title&quot;: &quot;TileJSON with default rendering&quot;}, &quot;250m_16_days_EVI&quot;: {&quot;href&quot;: &quot;https://modiseuwest.blob.core.windows.net/modis-061-cogs/MOD13Q1/33/11/2023241/MOD13Q1.A2023241.h33v11.061.2023258001841_250m_16_days_EVI.tif&quot;, &quot;type&quot;: &quot;image/tiff; application=geotiff; profile=cloud-optimized&quot;, &quot;roles&quot;: [&quot;data&quot;], &quot;title&quot;: &quot;16 day EVI&quot;, &quot;raster:bands&quot;: [{&quot;unit&quot;: &quot;EVI&quot;, &quot;scale&quot;: 0.0001, &quot;data_type&quot;: &quot;int16&quot;, &quot;spatial_resolution&quot;: 250}]}, &quot;rendered_preview&quot;: {&quot;rel&quot;: &quot;preview&quot;, &quot;href&quot;: &quot;https://planetarycomputer.microsoft.com/api/data/v1/item/preview.png?collection=modis-13Q1-061&amp;item=MOD13Q1.A2023241.h33v11.061.2023258001841&amp;assets=250m_16_days_NDVI&amp;tile_format=png&amp;colormap_name=modis-13A1%7CQ1&amp;rescale=0%2C10000&amp;format=png&quot;, &quot;type&quot;: &quot;image/png&quot;, &quot;roles&quot;: [&quot;overview&quot;], &quot;title&quot;: &quot;Rendered preview&quot;}, &quot;250m_16_days_NDVI&quot;: {&quot;href&quot;: &quot;https://modiseuwest.blob.core.windows.net/modis-061-cogs/MOD13Q1/33/11/2023241/MOD13Q1.A2023241.h33v11.061.2023258001841_250m_16_days_NDVI.tif&quot;, &quot;type&quot;: &quot;image/tiff; application=geotiff; profile=cloud-optimized&quot;, &quot;roles&quot;: [&quot;data&quot;], &quot;title&quot;: &quot;16 day NDVI&quot;, &quot;raster:bands&quot;: [{&quot;unit&quot;: &quot;NDVI&quot;, &quot;scale&quot;: 0.0001, &quot;data_type&quot;: &quot;int16&quot;, &quot;spatial_resolution&quot;: 250}]}, &quot;250m_16_days_VI_Quality&quot;: {&quot;href&quot;: &quot;https://modiseuwest.blob.core.windows.net/modis-061-cogs/MOD13Q1/33/11/2023241/MOD13Q1.A2023241.h33v11.061.2023258001841_250m_16_days_VI_Quality.tif&quot;, &quot;type&quot;: &quot;image/tiff; application=geotiff; profile=cloud-optimized&quot;, &quot;roles&quot;: [&quot;data&quot;], &quot;title&quot;: &quot;VI quality indicators&quot;, &quot;raster:bands&quot;: [{&quot;data_type&quot;: &quot;uint16&quot;, &quot;spatial_resolution&quot;: 250}]}, &quot;250m_16_days_MIR_reflectance&quot;: {&quot;href&quot;: &quot;https://modiseuwest.blob.core.windows.net/modis-061-cogs/MOD13Q1/33/11/2023241/MOD13Q1.A2023241.h33v11.061.2023258001841_250m_16_days_MIR_reflectance.tif&quot;, &quot;type&quot;: &quot;image/tiff; application=geotiff; profile=cloud-optimized&quot;, &quot;roles&quot;: [&quot;data&quot;], &quot;title&quot;: &quot;Surface Reflectance Band 7&quot;, &quot;raster:bands&quot;: [{&quot;scale&quot;: 0.0001, &quot;data_type&quot;: &quot;int16&quot;, &quot;spatial_resolution&quot;: 250}]}, &quot;250m_16_days_NIR_reflectance&quot;: {&quot;href&quot;: &quot;https://modiseuwest.blob.core.windows.net/modis-061-cogs/MOD13Q1/33/11/2023241/MOD13Q1.A2023241.h33v11.061.2023258001841_250m_16_days_NIR_reflectance.tif&quot;, &quot;type&quot;: &quot;image/tiff; application=geotiff; profile=cloud-optimized&quot;, &quot;roles&quot;: [&quot;data&quot;], &quot;title&quot;: &quot;Surface Reflectance Band 2&quot;, &quot;raster:bands&quot;: [{&quot;scale&quot;: 0.0001, &quot;data_type&quot;: &quot;int16&quot;, &quot;spatial_resolution&quot;: 250}]}, &quot;250m_16_days_red_reflectance&quot;: {&quot;href&quot;: &quot;https://modiseuwest.blob.core.windows.net/modis-061-cogs/MOD13Q1/33/11/2023241/MOD13Q1.A2023241.h33v11.061.2023258001841_250m_16_days_red_reflectance.tif&quot;, &quot;type&quot;: &quot;image/tiff; application=geotiff; profile=cloud-optimized&quot;, &quot;roles&quot;: [&quot;data&quot;], &quot;title&quot;: &quot;Surface Reflectance Band 1&quot;, &quot;raster:bands&quot;: [{&quot;scale&quot;: 0.0001, &quot;data_type&quot;: &quot;int16&quot;, &quot;spatial_resolution&quot;: 250}]}, &quot;250m_16_days_blue_reflectance&quot;: {&quot;href&quot;: &quot;https://modiseuwest.blob.core.windows.net/modis-061-cogs/MOD13Q1/33/11/2023241/MOD13Q1.A2023241.h33v11.061.2023258001841_250m_16_days_blue_reflectance.tif&quot;, &quot;type&quot;: &quot;image/tiff; application=geotiff; profile=cloud-optimized&quot;, &quot;roles&quot;: [&quot;data&quot;], &quot;title&quot;: &quot;Surface Reflectance Band 3&quot;, &quot;raster:bands&quot;: [{&quot;scale&quot;: 0.0001, &quot;data_type&quot;: &quot;int16&quot;, &quot;spatial_resolution&quot;: 250}]}, &quot;250m_16_days_sun_zenith_angle&quot;: {&quot;href&quot;: &quot;https://modiseuwest.blob.core.windows.net/modis-061-cogs/MOD13Q1/33/11/2023241/MOD13Q1.A2023241.h33v11.061.2023258001841_250m_16_days_sun_zenith_angle.tif&quot;, &quot;type&quot;: &quot;image/tiff; application=geotiff; profile=cloud-optimized&quot;, &quot;roles&quot;: [&quot;data&quot;], &quot;title&quot;: &quot;Sun zenith angle of VI pixel&quot;, &quot;raster:bands&quot;: [{&quot;unit&quot;: &quot;Degree&quot;, &quot;scale&quot;: 0.01, &quot;data_type&quot;: &quot;int16&quot;, &quot;spatial_resolution&quot;: 250}]}, &quot;250m_16_days_pixel_reliability&quot;: {&quot;href&quot;: &quot;https://modiseuwest.blob.core.windows.net/modis-061-cogs/MOD13Q1/33/11/2023241/MOD13Q1.A2023241.h33v11.061.2023258001841_250m_16_days_pixel_reliability.tif&quot;, &quot;type&quot;: &quot;image/tiff; application=geotiff; profile=cloud-optimized&quot;, &quot;roles&quot;: [&quot;data&quot;], &quot;title&quot;: &quot;Quality reliability of VI pixel&quot;, &quot;raster:bands&quot;: [{&quot;unit&quot;: &quot;Rank&quot;, &quot;data_type&quot;: &quot;int8&quot;, &quot;spatial_resolution&quot;: 250}], &quot;classification:classes&quot;: [{&quot;value&quot;: 0, &quot;description&quot;: &quot;Good data, use with confidence&quot;}, {&quot;value&quot;: 1, &quot;description&quot;: &quot;Marginal data, useful, but look at other QA information&quot;}, {&quot;value&quot;: 2, &quot;description&quot;: &quot;Snow/Ice Target covered with snow/ice&quot;}, {&quot;value&quot;: 3, &quot;description&quot;: &quot;Cloudy data&quot;}]}, &quot;250m_16_days_view_zenith_angle&quot;: {&quot;href&quot;: &quot;https://modiseuwest.blob.core.windows.net/modis-061-cogs/MOD13Q1/33/11/2023241/MOD13Q1.A2023241.h33v11.061.2023258001841_250m_16_days_view_zenith_angle.tif&quot;, &quot;type&quot;: &quot;image/tiff; application=geotiff; profile=cloud-optimized&quot;, &quot;roles&quot;: [&quot;data&quot;], &quot;title&quot;: &quot;View zenith angle of VI Pixel&quot;, &quot;raster:bands&quot;: [{&quot;unit&quot;: &quot;Degree&quot;, &quot;scale&quot;: 0.01, &quot;data_type&quot;: &quot;int16&quot;, &quot;spatial_resolution&quot;: 250}]}, &quot;250m_16_days_relative_azimuth_angle&quot;: {&quot;href&quot;: &quot;https://modiseuwest.blob.core.windows.net/modis-061-cogs/MOD13Q1/33/11/2023241/MOD13Q1.A2023241.h33v11.061.2023258001841_250m_16_days_relative_azimuth_angle.tif&quot;, &quot;type&quot;: &quot;image/tiff; application=geotiff; profile=cloud-optimized&quot;, &quot;roles&quot;: [&quot;data&quot;], &quot;title&quot;: &quot;Relative azimuth angle of VI pixel&quot;, &quot;raster:bands&quot;: [{&quot;unit&quot;: &quot;Degree&quot;, &quot;scale&quot;: 0.01, &quot;data_type&quot;: &quot;int16&quot;, &quot;spatial_resolution&quot;: 250}]}, &quot;250m_16_days_composite_day_of_the_year&quot;: {&quot;href&quot;: &quot;https://modiseuwest.blob.core.windows.net/modis-061-cogs/MOD13Q1/33/11/2023241/MOD13Q1.A2023241.h33v11.061.2023258001841_250m_16_days_composite_day_of_the_year.tif&quot;, &quot;type&quot;: &quot;image/tiff; application=geotiff; profile=cloud-optimized&quot;, &quot;roles&quot;: [&quot;data&quot;], &quot;title&quot;: &quot;Day of year VI pixel&quot;, &quot;raster:bands&quot;: [{&quot;unit&quot;: &quot;Julian Day&quot;, &quot;data_type&quot;: &quot;int16&quot;, &quot;spatial_resolution&quot;: 250}]}}, &quot;geometry&quot;: {&quot;type&quot;: &quot;Polygon&quot;, &quot;coordinates&quot;: [[[159.15191110065, -30.5860517493714], [180.338520479382, -29.9627990954245], [179.086419118062, -19.3488112087257], [159.628715323551, -19.9503809756581], [159.15191110065, -30.5860517493714]]]}, &quot;collection&quot;: &quot;modis-13Q1-061&quot;, &quot;properties&quot;: {&quot;created&quot;: &quot;2023-09-15T04:18:42Z&quot;, &quot;updated&quot;: &quot;2023-09-14T23:29:19.687000Z&quot;, &quot;platform&quot;: &quot;terra&quot;, &quot;proj:wkt2&quot;: &quot;PROJCS[\\&quot;unnamed\\&quot;,GEOGCS[\\&quot;Unknown datum based upon the custom spheroid\\&quot;,DATUM[\\&quot;Not specified (based on custom spheroid)\\&quot;,SPHEROID[\\&quot;Custom spheroid\\&quot;,6371007.181,0]],PRIMEM[\\&quot;Greenwich\\&quot;,0],UNIT[\\&quot;degree\\&quot;,0.0174532925199433,AUTHORITY[\\&quot;EPSG\\&quot;,\\&quot;9122\\&quot;]]],PROJECTION[\\&quot;Sinusoidal\\&quot;],PARAMETER[\\&quot;longitude_of_center\\&quot;,0],PARAMETER[\\&quot;false_easting\\&quot;,0],PARAMETER[\\&quot;false_northing\\&quot;,0],UNIT[\\&quot;Meter\\&quot;,1],AXIS[\\&quot;Easting\\&quot;,EAST],AXIS[\\&quot;Northing\\&quot;,NORTH]]&quot;, &quot;proj:shape&quot;: [4800, 4800], &quot;instruments&quot;: [&quot;modis&quot;], &quot;end_datetime&quot;: &quot;2023-09-13T23:59:59Z&quot;, &quot;modis:tile-id&quot;: &quot;51033011&quot;, &quot;proj:geometry&quot;: {&quot;type&quot;: &quot;Polygon&quot;, &quot;coordinates&quot;: [[[17791208.314667, -3335851.559], [17791208.314667, -2223901.039333], [16679257.795, -2223901.039333], [16679257.795, -3335851.559], [17791208.314667, -3335851.559]]]}, &quot;proj:transform&quot;: [231.65635826395862, 0.0, 16679257.795, 0.0, -231.65635826395834, -2223901.039333], &quot;start_datetime&quot;: &quot;2023-08-29T00:00:00Z&quot;, &quot;modis:vertical-tile&quot;: 11, &quot;modis:horizontal-tile&quot;: 33}, &quot;stac_version&quot;: &quot;1.0.0&quot;, &quot;stac_extensions&quot;: [&quot;https://stac-extensions.github.io/projection/v1.1.0/schema.json&quot;, &quot;https://stac-extensions.github.io/raster/v1.1.0/schema.json&quot;, &quot;https://stac-extensions.github.io/classification/v1.0.0/schema.json&quot;]}]}</td>\n",
       "  </tr>\n",
       "</table>\n",
       "<p>(1 row)<br />\n",
       "</p>\n"
      ],
      "text/plain": [
       "<IPython.core.display.HTML object>"
      ]
     },
     "metadata": {},
     "output_type": "display_data"
    }
   ],
   "source": [
    "%%psql\n",
    "SELECT search('{\"sortby\":{\"field\":\"datetime\",\"direction\":\"asc\"}}');"
   ]
  },
  {
   "cell_type": "markdown",
   "id": "d08ae27b-c375-4304-ad2a-d0cbcc3fec05",
   "metadata": {},
   "source": [
    "Where this really comes into play is when we may have complicated queries, CPU intensive queries such as spatial lookups, or queries with properties that we haven't indexed. As long as we are sorting by datetime, we can break the problem up into smaller chunks and still be performant as we can stop looking through the data as soon as we have received the \"limit\" of rows that we have requested.\n",
    "\n",
    "This means that PgSTAC can be incredibly fast for fetching subsets of data that are sorted by time. Ordinarily if we were to run a SQL query like `SELECT * FROM mytable WHERE st_intersects(mygeomcolumn,<geometry>) ORDER BY mycolumn DESC;`, even if we have an index on both mygeomcolumn and mycolumn, Postgres is going to need to decide whether to use the spatial index to subset the data and then manually sort all the records, or it is going to use the mycolumn index to scan through the data in order and run potentially many expensive spatial operations.\n",
    "\n",
    "In the STAC specification, this is made even tougher if we chose to use the Context Extension which displays the total number of rows returned by a filter along with the number of rows that are returned after applying the limit. As you can see, the chunked approach that PgSTAC takes makes returning a smaller subset very fast, but for calculating that total count, it may need to scan through a ton of data to get the results.\n",
    "\n",
    "#### Context Control Settings\n",
    "There are a couple of settings that can be used to help mitigate the limitations of PgSTAC with providing context results.\n",
    "- context (on, off) controls whether we should calculate the total count at all\n",
    "- context_estimated_count (integer) if the estimate produced by the Postgres query planner (the results you get if you were to run EXPLAIN on a SQL query) are smaller than this number, then calculate the actual total count, otherwise just return the estimate\n",
    "- context_estimated_cost (integer) if the cost as reported by the Postgres query planner is higher than this number, return the estimate\n",
    "- context_stats_ttl (interval) Cache the results of the context calculation for this amount of time. This allows not only repeated identical searches to reuse the total context, but is especially important as paging through data as the total amount of rows is the same regardless of any changes in sorting or paging.\n",
    "\n",
    "For very large PgSTAC instances, it is recommended to turn context calculation off or to rely on the ability to use estimated counts. Do note that while for simple queries, the estimates can be quite good, as queries get more complicated, they can occasionally be wildly off.\n",
    "\n"
   ]
  },
  {
   "cell_type": "markdown",
   "id": "b566e379-2efc-4955-b3fa-e775bbd4e7eb",
   "metadata": {},
   "source": [
    "## Indexing \n",
    "\n",
    "Now that we have data in our PgSTAC database, we want to make sure that we can query that data quickly. For that to work, we need to have indexes on the key properties that are used most often in our database. PgSTAC provides a mechanism to make sure that we can build and maintain indexes that will work with the way that PgSTAC creates SQL queries from the CQL2 filters that are passed to the Search function.\n",
    "\n",
    "Creating Indexes in Postgres is a double edged sword. An appropriate Index that is \"hot\" in memory can speed up a query by several orders of magnitude. But if there are too many indexes or the indexes are too large, they can have some pretty severe side effects.\n",
    "-  increasing the amount of time required for inserts/updates to data\n",
    "-  increasing the amount of time required to plan a query and to choose which indexes to use and how to use them\n",
    "-  increasing the amount of on disk data storage\n",
    "-  increasing the amount of contention for staying \"hot\" in memory\n",
    "\n",
    "When it comes to indexes, it is difficult to fight the urge to index everything because when you try a new index that fits an exact query once the difference in speed compared to not having the index can be drastic. When you look at the sum performance of your database, however, there may be another story. You should make sure to monitor the actual usage of your STAC instance and to try to match your indexing strategy to the most common use cases for your data.\n",
    "\n",
    "Given the focus on STAC on SpatioTemporal Data, PgSTAC does automatically include indexes on the id, collection, datetime, end_datetime, and geometry columns. \n",
    "\n",
    "### Queryables\n",
    "In addition to providing a place to store information to be returned by a STAC API queryables endpoint, PgSTAC uses the \"queryables\" table to define what properties of an Item for each Collection to build additional indexes on. Postgres does have the ability to build indexes on JSON fields, but these indexes are limited to help only in cases of equality comparisons and they can become very unwieldly with Items that have many or deeply nested properties."
   ]
  },
  {
   "cell_type": "markdown",
   "id": "7562aa31-47c8-48c5-89a6-546510e3efad",
   "metadata": {},
   "source": [
    "The \"queryables\" table contains the following information:\n",
    "- id - an internal id\n",
    "- name - the property name\n",
    "- collection_ids - an array of collection ids that this entry should apply to (NULL implies that this record applies to all collections)\n",
    "- definition - the json definition to be returned by the queryables endpoint\n",
    "- property_wrapper - a wrapper to cast the json property into a Postgres data type. It is possible to create additional custom wrappers.\n",
    "  - to_text (the default)\n",
    "  - to_int\n",
    "  - to_float\n",
    "  - to_timestamp\n",
    "- property_index_type - If this is set, then a Postgres Index will be built of this type. For most cases, this will either be NULL to set no index, or BTREE which is the default Postgres Index type."
   ]
  },
  {
   "cell_type": "code",
   "execution_count": 26,
   "id": "7c303b0a-90c6-40b4-8545-f19cc621a0c8",
   "metadata": {},
   "outputs": [
    {
     "name": "stdout",
     "output_type": "stream",
     "text": [
      "\n"
     ]
    },
    {
     "data": {
      "text/html": [
       "<table border=\"1\">\n",
       "  <tr>\n",
       "    <th align=\"center\">id</th>\n",
       "    <th align=\"center\">name</th>\n",
       "    <th align=\"center\">collection_ids</th>\n",
       "    <th align=\"center\">definition</th>\n",
       "    <th align=\"center\">property_wrapper</th>\n",
       "    <th align=\"center\">property_index_type</th>\n",
       "  </tr>\n",
       "  <tr valign=\"top\">\n",
       "    <td align=\"right\">1</td>\n",
       "    <td align=\"left\">id</td>\n",
       "    <td align=\"left\">&nbsp; </td>\n",
       "    <td align=\"left\">{&quot;$ref&quot;: &quot;https://schemas.stacspec.org/v1.0.0/item-spec/json-schema/item.json#/definitions/core/allOf/2/properties/id&quot;, &quot;title&quot;: &quot;Item ID&quot;, &quot;description&quot;: &quot;Item identifier&quot;}</td>\n",
       "    <td align=\"left\">&nbsp; </td>\n",
       "    <td align=\"left\">&nbsp; </td>\n",
       "  </tr>\n",
       "  <tr valign=\"top\">\n",
       "    <td align=\"right\">2</td>\n",
       "    <td align=\"left\">geometry</td>\n",
       "    <td align=\"left\">&nbsp; </td>\n",
       "    <td align=\"left\">{&quot;$ref&quot;: &quot;https://geojson.org/schema/Feature.json&quot;, &quot;title&quot;: &quot;Item Geometry&quot;, &quot;description&quot;: &quot;Item Geometry&quot;}</td>\n",
       "    <td align=\"left\">&nbsp; </td>\n",
       "    <td align=\"left\">&nbsp; </td>\n",
       "  </tr>\n",
       "  <tr valign=\"top\">\n",
       "    <td align=\"right\">3</td>\n",
       "    <td align=\"left\">datetime</td>\n",
       "    <td align=\"left\">&nbsp; </td>\n",
       "    <td align=\"left\">{&quot;type&quot;: &quot;string&quot;, &quot;title&quot;: &quot;Acquired&quot;, &quot;format&quot;: &quot;date-time&quot;, &quot;pattern&quot;: &quot;(\\\\+00:00|Z)$&quot;, &quot;description&quot;: &quot;Datetime&quot;}</td>\n",
       "    <td align=\"left\">&nbsp; </td>\n",
       "    <td align=\"left\">&nbsp; </td>\n",
       "  </tr>\n",
       "  <tr valign=\"top\">\n",
       "    <td align=\"right\">4</td>\n",
       "    <td align=\"left\">eo:cloud_cover</td>\n",
       "    <td align=\"left\">&nbsp; </td>\n",
       "    <td align=\"left\">{&quot;$ref&quot;: &quot;https://stac-extensions.github.io/eo/v1.0.0/schema.json#/definitions/fieldsproperties/eo:cloud_cover&quot;}</td>\n",
       "    <td align=\"left\">to_int</td>\n",
       "    <td align=\"left\">BTREE</td>\n",
       "  </tr>\n",
       "</table>\n",
       "<p>(4 rows)<br />\n",
       "</p>\n"
      ],
      "text/plain": [
       "<IPython.core.display.HTML object>"
      ]
     },
     "metadata": {},
     "output_type": "display_data"
    }
   ],
   "source": [
    "%%psql\n",
    "SELECT id, name, collection_ids, definition, property_wrapper, property_index_type FROM queryables;"
   ]
  },
  {
   "cell_type": "markdown",
   "id": "bbb24a83-91d7-4548-af75-981cc619ddaa",
   "metadata": {},
   "source": [
    "Note that in this setup, eo:cloud_cover has been set up to use the to_int wrapper even though the data values can be a float. This allows for smaller indexes and a bit faster ability to search and sort on eo:cloud_cover, but at the expense of a loss of precision in Search.\n",
    "\n",
    "Let's add a new index that will apply only to the modis Collection that we have loaded."
   ]
  },
  {
   "cell_type": "code",
   "execution_count": 27,
   "id": "a50b2b49-c105-445d-961a-3ea809f50a68",
   "metadata": {},
   "outputs": [
    {
     "name": "stdout",
     "output_type": "stream",
     "text": [
      "psql:/dev/stdin:8: NOTICE:  Making sure that name/collection is unique for queryables (5,modis:tile-id,{modis-13Q1-061},\"{\"\"type\"\": \"\"string\"\"}\",,to_text,BTREE)\n",
      "\n"
     ]
    },
    {
     "data": {
      "text/html": [
       "<p>INSERT 0 1</p>\n",
       "<table border=\"1\">\n",
       "  <tr>\n",
       "    <th align=\"center\">schemaname</th>\n",
       "    <th align=\"center\">tablename</th>\n",
       "    <th align=\"center\">indexname</th>\n",
       "    <th align=\"center\">idx</th>\n",
       "    <th align=\"center\">field</th>\n",
       "    <th align=\"center\">index_size</th>\n",
       "    <th align=\"center\">index_size_pretty</th>\n",
       "  </tr>\n",
       "  <tr valign=\"top\">\n",
       "    <td align=\"left\">pgstac</td>\n",
       "    <td align=\"left\">_items_1_202308</td>\n",
       "    <td align=\"left\">_items_1_202308_datetime_end_datetime_idx</td>\n",
       "    <td align=\"left\">CREATE INDEX ON _items_1_202308 USING btree (datetime DESC, end_datetime)</td>\n",
       "    <td align=\"left\">datetime</td>\n",
       "    <td align=\"right\">16384</td>\n",
       "    <td align=\"left\">16 kB</td>\n",
       "  </tr>\n",
       "  <tr valign=\"top\">\n",
       "    <td align=\"left\">pgstac</td>\n",
       "    <td align=\"left\">_items_1_202308</td>\n",
       "    <td align=\"left\">_items_1_202308_geometry_idx</td>\n",
       "    <td align=\"left\">CREATE INDEX ON _items_1_202308 USING gist (geometry)</td>\n",
       "    <td align=\"left\">geometry</td>\n",
       "    <td align=\"right\">8192</td>\n",
       "    <td align=\"left\">8192 bytes</td>\n",
       "  </tr>\n",
       "  <tr valign=\"top\">\n",
       "    <td align=\"left\">pgstac</td>\n",
       "    <td align=\"left\">_items_1_202308</td>\n",
       "    <td align=\"left\">_items_1_202308_pk</td>\n",
       "    <td align=\"left\">CREATE UNIQUE INDEX ON _items_1_202308 USING btree (id)</td>\n",
       "    <td align=\"left\">id</td>\n",
       "    <td align=\"right\">49152</td>\n",
       "    <td align=\"left\">48 kB</td>\n",
       "  </tr>\n",
       "  <tr valign=\"top\">\n",
       "    <td align=\"left\">pgstac</td>\n",
       "    <td align=\"left\">_items_1_202308</td>\n",
       "    <td align=\"left\">_items_1_202308_to_int_idx</td>\n",
       "    <td align=\"left\">CREATE INDEX ON _items_1_202308 USING btree (to_int(((content -&gt; 'properties'::text) -&gt; 'eo:cloud_cover'::text)))</td>\n",
       "    <td align=\"left\">eo:cloud_cover</td>\n",
       "    <td align=\"right\">16384</td>\n",
       "    <td align=\"left\">16 kB</td>\n",
       "  </tr>\n",
       "  <tr valign=\"top\">\n",
       "    <td align=\"left\">pgstac</td>\n",
       "    <td align=\"left\">_items_1_202308</td>\n",
       "    <td align=\"left\">_items_1_202308_to_text_idx</td>\n",
       "    <td align=\"left\">CREATE INDEX ON _items_1_202308 USING btree (to_text(((content -&gt; 'properties'::text) -&gt; 'modis:tile-id'::text)))</td>\n",
       "    <td align=\"left\">modis:tile-id</td>\n",
       "    <td align=\"right\">16384</td>\n",
       "    <td align=\"left\">16 kB</td>\n",
       "  </tr>\n",
       "  <tr valign=\"top\">\n",
       "    <td align=\"left\">pgstac</td>\n",
       "    <td align=\"left\">_items_1_202309</td>\n",
       "    <td align=\"left\">_items_1_202309_datetime_end_datetime_idx</td>\n",
       "    <td align=\"left\">CREATE INDEX ON _items_1_202309 USING btree (datetime DESC, end_datetime)</td>\n",
       "    <td align=\"left\">datetime</td>\n",
       "    <td align=\"right\">16384</td>\n",
       "    <td align=\"left\">16 kB</td>\n",
       "  </tr>\n",
       "  <tr valign=\"top\">\n",
       "    <td align=\"left\">pgstac</td>\n",
       "    <td align=\"left\">_items_1_202309</td>\n",
       "    <td align=\"left\">_items_1_202309_geometry_idx</td>\n",
       "    <td align=\"left\">CREATE INDEX ON _items_1_202309 USING gist (geometry)</td>\n",
       "    <td align=\"left\">geometry</td>\n",
       "    <td align=\"right\">57344</td>\n",
       "    <td align=\"left\">56 kB</td>\n",
       "  </tr>\n",
       "  <tr valign=\"top\">\n",
       "    <td align=\"left\">pgstac</td>\n",
       "    <td align=\"left\">_items_1_202309</td>\n",
       "    <td align=\"left\">_items_1_202309_pk</td>\n",
       "    <td align=\"left\">CREATE UNIQUE INDEX ON _items_1_202309 USING btree (id)</td>\n",
       "    <td align=\"left\">id</td>\n",
       "    <td align=\"right\">155648</td>\n",
       "    <td align=\"left\">152 kB</td>\n",
       "  </tr>\n",
       "  <tr valign=\"top\">\n",
       "    <td align=\"left\">pgstac</td>\n",
       "    <td align=\"left\">_items_1_202309</td>\n",
       "    <td align=\"left\">_items_1_202309_to_int_idx</td>\n",
       "    <td align=\"left\">CREATE INDEX ON _items_1_202309 USING btree (to_int(((content -&gt; 'properties'::text) -&gt; 'eo:cloud_cover'::text)))</td>\n",
       "    <td align=\"left\">eo:cloud_cover</td>\n",
       "    <td align=\"right\">16384</td>\n",
       "    <td align=\"left\">16 kB</td>\n",
       "  </tr>\n",
       "  <tr valign=\"top\">\n",
       "    <td align=\"left\">pgstac</td>\n",
       "    <td align=\"left\">_items_1_202309</td>\n",
       "    <td align=\"left\">_items_1_202309_to_text_idx</td>\n",
       "    <td align=\"left\">CREATE INDEX ON _items_1_202309 USING btree (to_text(((content -&gt; 'properties'::text) -&gt; 'modis:tile-id'::text)))</td>\n",
       "    <td align=\"left\">modis:tile-id</td>\n",
       "    <td align=\"right\">40960</td>\n",
       "    <td align=\"left\">40 kB</td>\n",
       "  </tr>\n",
       "  <tr valign=\"top\">\n",
       "    <td align=\"left\">pgstac</td>\n",
       "    <td align=\"left\">_items_1_202001</td>\n",
       "    <td align=\"left\">_items_1_202001_datetime_end_datetime_idx</td>\n",
       "    <td align=\"left\">CREATE INDEX ON _items_1_202001 USING btree (datetime DESC, end_datetime)</td>\n",
       "    <td align=\"left\">datetime</td>\n",
       "    <td align=\"right\">16384</td>\n",
       "    <td align=\"left\">16 kB</td>\n",
       "  </tr>\n",
       "  <tr valign=\"top\">\n",
       "    <td align=\"left\">pgstac</td>\n",
       "    <td align=\"left\">_items_1_202001</td>\n",
       "    <td align=\"left\">_items_1_202001_geometry_idx</td>\n",
       "    <td align=\"left\">CREATE INDEX ON _items_1_202001 USING gist (geometry)</td>\n",
       "    <td align=\"left\">geometry</td>\n",
       "    <td align=\"right\">8192</td>\n",
       "    <td align=\"left\">8192 bytes</td>\n",
       "  </tr>\n",
       "  <tr valign=\"top\">\n",
       "    <td align=\"left\">pgstac</td>\n",
       "    <td align=\"left\">_items_1_202001</td>\n",
       "    <td align=\"left\">_items_1_202001_pk</td>\n",
       "    <td align=\"left\">CREATE UNIQUE INDEX ON _items_1_202001 USING btree (id)</td>\n",
       "    <td align=\"left\">id</td>\n",
       "    <td align=\"right\">16384</td>\n",
       "    <td align=\"left\">16 kB</td>\n",
       "  </tr>\n",
       "  <tr valign=\"top\">\n",
       "    <td align=\"left\">pgstac</td>\n",
       "    <td align=\"left\">_items_1_202001</td>\n",
       "    <td align=\"left\">_items_1_202001_to_int_idx</td>\n",
       "    <td align=\"left\">CREATE INDEX ON _items_1_202001 USING btree (to_int(((content -&gt; 'properties'::text) -&gt; 'eo:cloud_cover'::text)))</td>\n",
       "    <td align=\"left\">eo:cloud_cover</td>\n",
       "    <td align=\"right\">16384</td>\n",
       "    <td align=\"left\">16 kB</td>\n",
       "  </tr>\n",
       "  <tr valign=\"top\">\n",
       "    <td align=\"left\">pgstac</td>\n",
       "    <td align=\"left\">_items_1_202001</td>\n",
       "    <td align=\"left\">_items_1_202001_to_text_idx</td>\n",
       "    <td align=\"left\">CREATE INDEX ON _items_1_202001 USING btree (to_text(((content -&gt; 'properties'::text) -&gt; 'modis:tile-id'::text)))</td>\n",
       "    <td align=\"left\">modis:tile-id</td>\n",
       "    <td align=\"right\">16384</td>\n",
       "    <td align=\"left\">16 kB</td>\n",
       "  </tr>\n",
       "  <tr valign=\"top\">\n",
       "    <td align=\"left\">pgstac</td>\n",
       "    <td align=\"left\">_items_1_202002</td>\n",
       "    <td align=\"left\">_items_1_202002_datetime_end_datetime_idx</td>\n",
       "    <td align=\"left\">CREATE INDEX ON _items_1_202002 USING btree (datetime DESC, end_datetime)</td>\n",
       "    <td align=\"left\">datetime</td>\n",
       "    <td align=\"right\">16384</td>\n",
       "    <td align=\"left\">16 kB</td>\n",
       "  </tr>\n",
       "  <tr valign=\"top\">\n",
       "    <td align=\"left\">pgstac</td>\n",
       "    <td align=\"left\">_items_1_202002</td>\n",
       "    <td align=\"left\">_items_1_202002_geometry_idx</td>\n",
       "    <td align=\"left\">CREATE INDEX ON _items_1_202002 USING gist (geometry)</td>\n",
       "    <td align=\"left\">geometry</td>\n",
       "    <td align=\"right\">8192</td>\n",
       "    <td align=\"left\">8192 bytes</td>\n",
       "  </tr>\n",
       "  <tr valign=\"top\">\n",
       "    <td align=\"left\">pgstac</td>\n",
       "    <td align=\"left\">_items_1_202002</td>\n",
       "    <td align=\"left\">_items_1_202002_pk</td>\n",
       "    <td align=\"left\">CREATE UNIQUE INDEX ON _items_1_202002 USING btree (id)</td>\n",
       "    <td align=\"left\">id</td>\n",
       "    <td align=\"right\">16384</td>\n",
       "    <td align=\"left\">16 kB</td>\n",
       "  </tr>\n",
       "  <tr valign=\"top\">\n",
       "    <td align=\"left\">pgstac</td>\n",
       "    <td align=\"left\">_items_1_202002</td>\n",
       "    <td align=\"left\">_items_1_202002_to_int_idx</td>\n",
       "    <td align=\"left\">CREATE INDEX ON _items_1_202002 USING btree (to_int(((content -&gt; 'properties'::text) -&gt; 'eo:cloud_cover'::text)))</td>\n",
       "    <td align=\"left\">eo:cloud_cover</td>\n",
       "    <td align=\"right\">16384</td>\n",
       "    <td align=\"left\">16 kB</td>\n",
       "  </tr>\n",
       "  <tr valign=\"top\">\n",
       "    <td align=\"left\">pgstac</td>\n",
       "    <td align=\"left\">_items_1_202002</td>\n",
       "    <td align=\"left\">_items_1_202002_to_text_idx</td>\n",
       "    <td align=\"left\">CREATE INDEX ON _items_1_202002 USING btree (to_text(((content -&gt; 'properties'::text) -&gt; 'modis:tile-id'::text)))</td>\n",
       "    <td align=\"left\">modis:tile-id</td>\n",
       "    <td align=\"right\">16384</td>\n",
       "    <td align=\"left\">16 kB</td>\n",
       "  </tr>\n",
       "</table>\n",
       "<p>(20 rows)<br />\n",
       "</p>\n"
      ],
      "text/plain": [
       "<IPython.core.display.HTML object>"
      ]
     },
     "metadata": {},
     "output_type": "display_data"
    }
   ],
   "source": [
    "%%psql\n",
    "INSERT INTO queryables (name, collection_ids, definition, property_wrapper, property_index_type)\n",
    "VALUES (\n",
    "    'modis:tile-id',\n",
    "    '{modis-13Q1-061}'::text[],\n",
    "    '{\"type\":\"string\"}',\n",
    "    'to_text',\n",
    "    'BTREE'\n",
    ");\n",
    "SELECT * FROM pgstac_indexes;\n",
    "    "
   ]
  },
  {
   "cell_type": "markdown",
   "id": "69c15bb6-6e21-4a7c-9fb1-74cafea85f90",
   "metadata": {},
   "source": [
    "### CQL2\n",
    "\n",
    "The STAC specification uses the \"CQL2\" (Common Query Lanbguage) as the standard for specifying arbitarily nested queries. CQL2 comes in two flavors CQL2-Text which is a very SQL like way of specifying a query and CQL2-JSON which is much more directly machine usable, but not as fun to write by hand. PgSTAC can only parse the JSON variant of CQL2 and also has legacy support for the older CQL-JSON as well as the \"query\" parameter from early in development of the STAC specification. For PgSTAC, the CQL-JSON and query variants should be considered deprecated and CQL2-JSON should only be used going forward.\n",
    "\n",
    "The pygeofilter python library can be used to translate CQL2-Text into CQL2-JSON and is what is used by the stac-fastapi-pgstac library."
   ]
  },
  {
   "cell_type": "code",
   "execution_count": 28,
   "id": "d23e95d1",
   "metadata": {},
   "outputs": [
    {
     "name": "stdout",
     "output_type": "stream",
     "text": [
      "psql:/dev/stdin:12: NOTICE:  Items Count: 0\n",
      "psql:/dev/stdin:12: NOTICE:  FILTER: {\"op\": \"or\", \"args\": [{\"op\": \"gt\", \"args\": [{\"property\": \"modis:tile-id\"}, \"51035010\"]}, {\"op\": \"eq\", \"args\": [{\"property\": \"platform\"}, \"terra\"]}]}\n",
      "psql:/dev/stdin:12: NOTICE:  CQL2_QUERY: {\"op\": \"or\", \"args\": [{\"op\": \"gt\", \"args\": [{\"property\": \"modis:tile-id\"}, \"51035010\"]}, {\"op\": \"eq\", \"args\": [{\"property\": \"platform\"}, \"terra\"]}]}\n",
      "psql:/dev/stdin:12: NOTICE:  ARGS PRE: [{\"op\": \"gt\", \"args\": [{\"property\": \"modis:tile-id\"}, \"51035010\"]}, {\"op\": \"eq\", \"args\": [{\"property\": \"platform\"}, \"terra\"]}]\n",
      "psql:/dev/stdin:12: NOTICE:  CQL2_QUERY: {\"op\": \"gt\", \"args\": [{\"property\": \"modis:tile-id\"}, \"51035010\"]}\n",
      "psql:/dev/stdin:12: NOTICE:  ARGS PRE: [{\"property\": \"modis:tile-id\"}, \"51035010\"]\n",
      "psql:/dev/stdin:12: NOTICE:  Arg: {\"property\": \"modis:tile-id\"}\n",
      "psql:/dev/stdin:12: NOTICE:  Property: {\"property\": \"modis:tile-id\"}, Wrapper: to_text\n",
      "psql:/dev/stdin:12: NOTICE:  CQL2_QUERY: {\"property\": \"modis:tile-id\"}\n",
      "psql:/dev/stdin:12: NOTICE:  ARGS PRE: <NULL>\n",
      "psql:/dev/stdin:12: NOTICE:  ARGS: <NULL>\n",
      "psql:/dev/stdin:12: NOTICE:  Wrapping {\"property\": \"modis:tile-id\"} with to_text\n",
      "psql:/dev/stdin:12: NOTICE:  CQL2_QUERY: \"51035010\"\n",
      "psql:/dev/stdin:12: NOTICE:  ARGS PRE: <NULL>\n",
      "psql:/dev/stdin:12: NOTICE:  ARGS: <NULL>\n",
      "psql:/dev/stdin:12: NOTICE:  Wrapping \"51035010\" with to_text\n",
      "psql:/dev/stdin:12: NOTICE:  ARGS: [\"to_text(content->'properties'->'modis:tile-id')\", \"to_text('\\\"51035010\\\"')\"]\n",
      "psql:/dev/stdin:12: NOTICE:  CQL2_QUERY: {\"op\": \"eq\", \"args\": [{\"property\": \"platform\"}, \"terra\"]}\n",
      "psql:/dev/stdin:12: NOTICE:  ARGS PRE: [{\"property\": \"platform\"}, \"terra\"]\n",
      "psql:/dev/stdin:12: NOTICE:  Arg: {\"property\": \"platform\"}\n",
      "psql:/dev/stdin:12: NOTICE:  Property: {\"property\": \"platform\"}, Wrapper: <NULL>\n",
      "psql:/dev/stdin:12: NOTICE:  CQL2_QUERY: {\"property\": \"platform\"}\n",
      "psql:/dev/stdin:12: NOTICE:  ARGS PRE: <NULL>\n",
      "psql:/dev/stdin:12: NOTICE:  ARGS: <NULL>\n",
      "psql:/dev/stdin:12: NOTICE:  Wrapping {\"property\": \"platform\"} with to_text\n",
      "psql:/dev/stdin:12: NOTICE:  CQL2_QUERY: \"terra\"\n",
      "psql:/dev/stdin:12: NOTICE:  ARGS PRE: <NULL>\n",
      "psql:/dev/stdin:12: NOTICE:  ARGS: <NULL>\n",
      "psql:/dev/stdin:12: NOTICE:  Wrapping \"terra\" with to_text\n",
      "psql:/dev/stdin:12: NOTICE:  ARGS: [\"to_text(content->'properties'->'platform')\", \"to_text('\\\"terra\\\"')\"]\n",
      "psql:/dev/stdin:12: NOTICE:  ARGS: [\"to_text(content->'properties'->'modis:tile-id') > to_text('\\\"51035010\\\"')\", \"to_text(content->'properties'->'platform') = to_text('\\\"terra\\\"')\"]\n",
      "psql:/dev/stdin:12: NOTICE:  SEARCH:TOKEN: <NULL>\n",
      "psql:/dev/stdin:12: NOTICE:  ***TOKEN: <NULL>\n",
      "psql:/dev/stdin:12: NOTICE:  FULL WHERE CLAUSE: (to_text(content->'properties'->'modis:tile-id') > to_text('\"51035010\"') OR to_text(content->'properties'->'platform') = to_text('\"terra\"'))\n",
      "psql:/dev/stdin:12: NOTICE:  Time to get counts and build query 12.584\n",
      "psql:/dev/stdin:12: NOTICE:  Getting hydrated data.\n",
      "psql:/dev/stdin:12: NOTICE:  CACHE SET TO f\n",
      "psql:/dev/stdin:12: NOTICE:  Time to set hydration/formatting 0.145\n",
      "psql:/dev/stdin:12: NOTICE:  Getting chunks for (to_text(content->'properties'->'modis:tile-id') > to_text('\"51035010\"') OR to_text(content->'properties'->'platform') = to_text('\"terra\"')) datetime DESC, id DESC\n",
      "psql:/dev/stdin:12: NOTICE:  Running Query for 2023-10-01 00:00:00+00 to 2023-11-01 00:00:00+00. 1.958\n",
      "psql:/dev/stdin:12: NOTICE:  Returned 0/11 Rows From 2023-10-01 00:00:00+00 to 2023-11-01 00:00:00+00. 11 to go. Time: 0.314ms\n",
      "psql:/dev/stdin:12: NOTICE:  Running Query for 2023-09-01 00:00:00+00 to 2023-10-01 00:00:00+00. 2.412\n",
      "psql:/dev/stdin:12: NOTICE:  Returned 11/11 Rows From 2023-09-01 00:00:00+00 to 2023-10-01 00:00:00+00. 0 to go. Time: 8.285ms\n",
      "psql:/dev/stdin:12: NOTICE:  SEARCH_ROWS TOOK 10.851ms\n",
      "psql:/dev/stdin:12: NOTICE:  Time to fetch rows 50.087\n",
      "psql:/dev/stdin:12: NOTICE:  Query returned 11 records.\n",
      "psql:/dev/stdin:12: NOTICE:  HAS NEXT | modis-13Q1-061:MOD13Q1.A2023273.h33v09.061.2023290142939\n",
      "psql:/dev/stdin:12: NOTICE:  Time to get prev/next 0.511\n",
      "psql:/dev/stdin:12: NOTICE:  Time to build final json 0.382\n",
      "psql:/dev/stdin:12: NOTICE:  Total Time: 65.086\n",
      "psql:/dev/stdin:12: NOTICE:  RETURNING 10 records. NEXT: modis-13Q1-061:MOD13Q1.A2023273.h33v09.061.2023290142939. PREV: <NULL>\n",
      "\n"
     ]
    },
    {
     "data": {
      "text/html": [
       "<table border=\"1\">\n",
       "  <tr>\n",
       "    <th align=\"center\">search</th>\n",
       "  </tr>\n",
       "  <tr valign=\"top\">\n",
       "    <td align=\"left\">{&quot;next&quot;: &quot;modis-13Q1-061:MOD13Q1.A2023273.h33v09.061.2023290142939&quot;, &quot;prev&quot;: null, &quot;type&quot;: &quot;FeatureCollection&quot;, &quot;context&quot;: {&quot;limit&quot;: 10, &quot;returned&quot;: 10}, &quot;features&quot;: [{&quot;id&quot;: &quot;MOD13Q1.A2023273.h35v10.061.2023290142559&quot;, &quot;bbox&quot;: [172.479315908761, -19.180676222654, 180.143592885496, -9.97534112170732], &quot;type&quot;: &quot;Feature&quot;, &quot;links&quot;: [{&quot;rel&quot;: &quot;collection&quot;, &quot;href&quot;: &quot;https://planetarycomputer.microsoft.com/api/stac/v1/collections/modis-13Q1-061&quot;, &quot;type&quot;: &quot;application/json&quot;}, {&quot;rel&quot;: &quot;parent&quot;, &quot;href&quot;: &quot;https://planetarycomputer.microsoft.com/api/stac/v1/collections/modis-13Q1-061&quot;, &quot;type&quot;: &quot;application/json&quot;}, {&quot;rel&quot;: &quot;root&quot;, &quot;href&quot;: &quot;https://planetarycomputer.microsoft.com/api/stac/v1&quot;, &quot;type&quot;: &quot;application/json&quot;, &quot;title&quot;: &quot;Microsoft Planetary Computer STAC API&quot;}, {&quot;rel&quot;: &quot;self&quot;, &quot;href&quot;: &quot;https://planetarycomputer.microsoft.com/api/stac/v1/collections/modis-13Q1-061/items/MOD13Q1.A2023273.h35v10.061.2023290142559&quot;, &quot;type&quot;: &quot;application/geo+json&quot;}, {&quot;rel&quot;: &quot;preview&quot;, &quot;href&quot;: &quot;https://planetarycomputer.microsoft.com/api/data/v1/item/map?collection=modis-13Q1-061&amp;item=MOD13Q1.A2023273.h35v10.061.2023290142559&quot;, &quot;type&quot;: &quot;text/html&quot;, &quot;title&quot;: &quot;Map of item&quot;}], &quot;assets&quot;: {&quot;hdf&quot;: {&quot;href&quot;: &quot;https://modiseuwest.blob.core.windows.net/modis-061/MOD13Q1/35/10/2023273/MOD13Q1.A2023273.h35v10.061.2023290142559.hdf&quot;, &quot;type&quot;: &quot;application/x-hdf&quot;, &quot;roles&quot;: [&quot;data&quot;], &quot;title&quot;: &quot;Source data containing all bands&quot;}, &quot;metadata&quot;: {&quot;href&quot;: &quot;https://modiseuwest.blob.core.windows.net/modis-061/MOD13Q1/35/10/2023273/MOD13Q1.A2023273.h35v10.061.2023290142559.hdf.xml&quot;, &quot;type&quot;: &quot;application/xml&quot;, &quot;roles&quot;: [&quot;metadata&quot;], &quot;title&quot;: &quot;Federal Geographic Data Committee (FGDC) Metadata&quot;}, &quot;tilejson&quot;: {&quot;href&quot;: &quot;https://planetarycomputer.microsoft.com/api/data/v1/item/tilejson.json?collection=modis-13Q1-061&amp;item=MOD13Q1.A2023273.h35v10.061.2023290142559&amp;assets=250m_16_days_NDVI&amp;tile_format=png&amp;colormap_name=modis-13A1%7CQ1&amp;rescale=0%2C10000&amp;format=png&quot;, &quot;type&quot;: &quot;application/json&quot;, &quot;roles&quot;: [&quot;tiles&quot;], &quot;title&quot;: &quot;TileJSON with default rendering&quot;}, &quot;250m_16_days_EVI&quot;: {&quot;href&quot;: &quot;https://modiseuwest.blob.core.windows.net/modis-061-cogs/MOD13Q1/35/10/2023273/MOD13Q1.A2023273.h35v10.061.2023290142559_250m_16_days_EVI.tif&quot;, &quot;type&quot;: &quot;image/tiff; application=geotiff; profile=cloud-optimized&quot;, &quot;roles&quot;: [&quot;data&quot;], &quot;title&quot;: &quot;16 day EVI&quot;, &quot;raster:bands&quot;: [{&quot;unit&quot;: &quot;EVI&quot;, &quot;scale&quot;: 0.0001, &quot;data_type&quot;: &quot;int16&quot;, &quot;spatial_resolution&quot;: 250}]}, &quot;rendered_preview&quot;: {&quot;rel&quot;: &quot;preview&quot;, &quot;href&quot;: &quot;https://planetarycomputer.microsoft.com/api/data/v1/item/preview.png?collection=modis-13Q1-061&amp;item=MOD13Q1.A2023273.h35v10.061.2023290142559&amp;assets=250m_16_days_NDVI&amp;tile_format=png&amp;colormap_name=modis-13A1%7CQ1&amp;rescale=0%2C10000&amp;format=png&quot;, &quot;type&quot;: &quot;image/png&quot;, &quot;roles&quot;: [&quot;overview&quot;], &quot;title&quot;: &quot;Rendered preview&quot;}, &quot;250m_16_days_NDVI&quot;: {&quot;href&quot;: &quot;https://modiseuwest.blob.core.windows.net/modis-061-cogs/MOD13Q1/35/10/2023273/MOD13Q1.A2023273.h35v10.061.2023290142559_250m_16_days_NDVI.tif&quot;, &quot;type&quot;: &quot;image/tiff; application=geotiff; profile=cloud-optimized&quot;, &quot;roles&quot;: [&quot;data&quot;], &quot;title&quot;: &quot;16 day NDVI&quot;, &quot;raster:bands&quot;: [{&quot;unit&quot;: &quot;NDVI&quot;, &quot;scale&quot;: 0.0001, &quot;data_type&quot;: &quot;int16&quot;, &quot;spatial_resolution&quot;: 250}]}, &quot;250m_16_days_VI_Quality&quot;: {&quot;href&quot;: &quot;https://modiseuwest.blob.core.windows.net/modis-061-cogs/MOD13Q1/35/10/2023273/MOD13Q1.A2023273.h35v10.061.2023290142559_250m_16_days_VI_Quality.tif&quot;, &quot;type&quot;: &quot;image/tiff; application=geotiff; profile=cloud-optimized&quot;, &quot;roles&quot;: [&quot;data&quot;], &quot;title&quot;: &quot;VI quality indicators&quot;, &quot;raster:bands&quot;: [{&quot;data_type&quot;: &quot;uint16&quot;, &quot;spatial_resolution&quot;: 250}]}, &quot;250m_16_days_MIR_reflectance&quot;: {&quot;href&quot;: &quot;https://modiseuwest.blob.core.windows.net/modis-061-cogs/MOD13Q1/35/10/2023273/MOD13Q1.A2023273.h35v10.061.2023290142559_250m_16_days_MIR_reflectance.tif&quot;, &quot;type&quot;: &quot;image/tiff; application=geotiff; profile=cloud-optimized&quot;, &quot;roles&quot;: [&quot;data&quot;], &quot;title&quot;: &quot;Surface Reflectance Band 7&quot;, &quot;raster:bands&quot;: [{&quot;scale&quot;: 0.0001, &quot;data_type&quot;: &quot;int16&quot;, &quot;spatial_resolution&quot;: 250}]}, &quot;250m_16_days_NIR_reflectance&quot;: {&quot;href&quot;: &quot;https://modiseuwest.blob.core.windows.net/modis-061-cogs/MOD13Q1/35/10/2023273/MOD13Q1.A2023273.h35v10.061.2023290142559_250m_16_days_NIR_reflectance.tif&quot;, &quot;type&quot;: &quot;image/tiff; application=geotiff; profile=cloud-optimized&quot;, &quot;roles&quot;: [&quot;data&quot;], &quot;title&quot;: &quot;Surface Reflectance Band 2&quot;, &quot;raster:bands&quot;: [{&quot;scale&quot;: 0.0001, &quot;data_type&quot;: &quot;int16&quot;, &quot;spatial_resolution&quot;: 250}]}, &quot;250m_16_days_red_reflectance&quot;: {&quot;href&quot;: &quot;https://modiseuwest.blob.core.windows.net/modis-061-cogs/MOD13Q1/35/10/2023273/MOD13Q1.A2023273.h35v10.061.2023290142559_250m_16_days_red_reflectance.tif&quot;, &quot;type&quot;: &quot;image/tiff; application=geotiff; profile=cloud-optimized&quot;, &quot;roles&quot;: [&quot;data&quot;], &quot;title&quot;: &quot;Surface Reflectance Band 1&quot;, &quot;raster:bands&quot;: [{&quot;scale&quot;: 0.0001, &quot;data_type&quot;: &quot;int16&quot;, &quot;spatial_resolution&quot;: 250}]}, &quot;250m_16_days_blue_reflectance&quot;: {&quot;href&quot;: &quot;https://modiseuwest.blob.core.windows.net/modis-061-cogs/MOD13Q1/35/10/2023273/MOD13Q1.A2023273.h35v10.061.2023290142559_250m_16_days_blue_reflectance.tif&quot;, &quot;type&quot;: &quot;image/tiff; application=geotiff; profile=cloud-optimized&quot;, &quot;roles&quot;: [&quot;data&quot;], &quot;title&quot;: &quot;Surface Reflectance Band 3&quot;, &quot;raster:bands&quot;: [{&quot;scale&quot;: 0.0001, &quot;data_type&quot;: &quot;int16&quot;, &quot;spatial_resolution&quot;: 250}]}, &quot;250m_16_days_sun_zenith_angle&quot;: {&quot;href&quot;: &quot;https://modiseuwest.blob.core.windows.net/modis-061-cogs/MOD13Q1/35/10/2023273/MOD13Q1.A2023273.h35v10.061.2023290142559_250m_16_days_sun_zenith_angle.tif&quot;, &quot;type&quot;: &quot;image/tiff; application=geotiff; profile=cloud-optimized&quot;, &quot;roles&quot;: [&quot;data&quot;], &quot;title&quot;: &quot;Sun zenith angle of VI pixel&quot;, &quot;raster:bands&quot;: [{&quot;unit&quot;: &quot;Degree&quot;, &quot;scale&quot;: 0.01, &quot;data_type&quot;: &quot;int16&quot;, &quot;spatial_resolution&quot;: 250}]}, &quot;250m_16_days_pixel_reliability&quot;: {&quot;href&quot;: &quot;https://modiseuwest.blob.core.windows.net/modis-061-cogs/MOD13Q1/35/10/2023273/MOD13Q1.A2023273.h35v10.061.2023290142559_250m_16_days_pixel_reliability.tif&quot;, &quot;type&quot;: &quot;image/tiff; application=geotiff; profile=cloud-optimized&quot;, &quot;roles&quot;: [&quot;data&quot;], &quot;title&quot;: &quot;Quality reliability of VI pixel&quot;, &quot;raster:bands&quot;: [{&quot;unit&quot;: &quot;Rank&quot;, &quot;data_type&quot;: &quot;int8&quot;, &quot;spatial_resolution&quot;: 250}], &quot;classification:classes&quot;: [{&quot;value&quot;: 0, &quot;description&quot;: &quot;Good data, use with confidence&quot;}, {&quot;value&quot;: 1, &quot;description&quot;: &quot;Marginal data, useful, but look at other QA information&quot;}, {&quot;value&quot;: 2, &quot;description&quot;: &quot;Snow/Ice Target covered with snow/ice&quot;}, {&quot;value&quot;: 3, &quot;description&quot;: &quot;Cloudy data&quot;}]}, &quot;250m_16_days_view_zenith_angle&quot;: {&quot;href&quot;: &quot;https://modiseuwest.blob.core.windows.net/modis-061-cogs/MOD13Q1/35/10/2023273/MOD13Q1.A2023273.h35v10.061.2023290142559_250m_16_days_view_zenith_angle.tif&quot;, &quot;type&quot;: &quot;image/tiff; application=geotiff; profile=cloud-optimized&quot;, &quot;roles&quot;: [&quot;data&quot;], &quot;title&quot;: &quot;View zenith angle of VI Pixel&quot;, &quot;raster:bands&quot;: [{&quot;unit&quot;: &quot;Degree&quot;, &quot;scale&quot;: 0.01, &quot;data_type&quot;: &quot;int16&quot;, &quot;spatial_resolution&quot;: 250}]}, &quot;250m_16_days_relative_azimuth_angle&quot;: {&quot;href&quot;: &quot;https://modiseuwest.blob.core.windows.net/modis-061-cogs/MOD13Q1/35/10/2023273/MOD13Q1.A2023273.h35v10.061.2023290142559_250m_16_days_relative_azimuth_angle.tif&quot;, &quot;type&quot;: &quot;image/tiff; application=geotiff; profile=cloud-optimized&quot;, &quot;roles&quot;: [&quot;data&quot;], &quot;title&quot;: &quot;Relative azimuth angle of VI pixel&quot;, &quot;raster:bands&quot;: [{&quot;unit&quot;: &quot;Degree&quot;, &quot;scale&quot;: 0.01, &quot;data_type&quot;: &quot;int16&quot;, &quot;spatial_resolution&quot;: 250}]}, &quot;250m_16_days_composite_day_of_the_year&quot;: {&quot;href&quot;: &quot;https://modiseuwest.blob.core.windows.net/modis-061-cogs/MOD13Q1/35/10/2023273/MOD13Q1.A2023273.h35v10.061.2023290142559_250m_16_days_composite_day_of_the_year.tif&quot;, &quot;type&quot;: &quot;image/tiff; application=geotiff; profile=cloud-optimized&quot;, &quot;roles&quot;: [&quot;data&quot;], &quot;title&quot;: &quot;Day of year VI pixel&quot;, &quot;raster:bands&quot;: [{&quot;unit&quot;: &quot;Julian Day&quot;, &quot;data_type&quot;: &quot;int16&quot;, &quot;spatial_resolution&quot;: 250}]}}, &quot;geometry&quot;: {&quot;type&quot;: &quot;Polygon&quot;, &quot;coordinates&quot;: [[[172.479315908761, -19.1662177463598], [180.143592885496, -19.180676222654], [179.999502554976, -9.97534112170732], [172.622770159185, -9.98364248250805], [172.479315908761, -19.1662177463598]]]}, &quot;collection&quot;: &quot;modis-13Q1-061&quot;, &quot;properties&quot;: {&quot;created&quot;: &quot;2023-10-17T18:25:59Z&quot;, &quot;updated&quot;: &quot;2023-10-17T13:32:22.857000Z&quot;, &quot;platform&quot;: &quot;terra&quot;, &quot;proj:wkt2&quot;: &quot;PROJCS[\\&quot;unnamed\\&quot;,GEOGCS[\\&quot;Unknown datum based upon the custom spheroid\\&quot;,DATUM[\\&quot;Not specified (based on custom spheroid)\\&quot;,SPHEROID[\\&quot;Custom spheroid\\&quot;,6371007.181,0]],PRIMEM[\\&quot;Greenwich\\&quot;,0],UNIT[\\&quot;degree\\&quot;,0.0174532925199433,AUTHORITY[\\&quot;EPSG\\&quot;,\\&quot;9122\\&quot;]]],PROJECTION[\\&quot;Sinusoidal\\&quot;],PARAMETER[\\&quot;longitude_of_center\\&quot;,0],PARAMETER[\\&quot;false_easting\\&quot;,0],PARAMETER[\\&quot;false_northing\\&quot;,0],UNIT[\\&quot;Meter\\&quot;,1],AXIS[\\&quot;Easting\\&quot;,EAST],AXIS[\\&quot;Northing\\&quot;,NORTH]]&quot;, &quot;proj:shape&quot;: [4800, 4800], &quot;instruments&quot;: [&quot;modis&quot;], &quot;end_datetime&quot;: &quot;2023-10-15T23:59:59Z&quot;, &quot;modis:tile-id&quot;: &quot;51035010&quot;, &quot;proj:geometry&quot;: {&quot;type&quot;: &quot;Polygon&quot;, &quot;coordinates&quot;: [[[20015109.354, -2223901.039333], [20015109.354, -1111950.519667], [18903158.834333, -1111950.519667], [18903158.834333, -2223901.039333], [20015109.354, -2223901.039333]]]}, &quot;proj:transform&quot;: [231.65635826395825, 0.0, 18903158.834333, 0.0, -231.65635826374995, -1111950.519667], &quot;start_datetime&quot;: &quot;2023-09-30T00:00:00Z&quot;, &quot;modis:vertical-tile&quot;: 10, &quot;modis:horizontal-tile&quot;: 35}, &quot;stac_version&quot;: &quot;1.0.0&quot;, &quot;stac_extensions&quot;: [&quot;https://stac-extensions.github.io/projection/v1.1.0/schema.json&quot;, &quot;https://stac-extensions.github.io/raster/v1.1.0/schema.json&quot;, &quot;https://stac-extensions.github.io/classification/v1.0.0/schema.json&quot;]}, {&quot;id&quot;: &quot;MOD13Q1.A2023273.h35v09.061.2023290142608&quot;, &quot;bbox&quot;: [169.928592841145, -9.99897790814368, 180.071523386457, 0.00688901997272997], &quot;type&quot;: &quot;Feature&quot;, &quot;links&quot;: [{&quot;rel&quot;: &quot;collection&quot;, &quot;href&quot;: &quot;https://planetarycomputer.microsoft.com/api/stac/v1/collections/modis-13Q1-061&quot;, &quot;type&quot;: &quot;application/json&quot;}, {&quot;rel&quot;: &quot;parent&quot;, &quot;href&quot;: &quot;https://planetarycomputer.microsoft.com/api/stac/v1/collections/modis-13Q1-061&quot;, &quot;type&quot;: &quot;application/json&quot;}, {&quot;rel&quot;: &quot;root&quot;, &quot;href&quot;: &quot;https://planetarycomputer.microsoft.com/api/stac/v1&quot;, &quot;type&quot;: &quot;application/json&quot;, &quot;title&quot;: &quot;Microsoft Planetary Computer STAC API&quot;}, {&quot;rel&quot;: &quot;self&quot;, &quot;href&quot;: &quot;https://planetarycomputer.microsoft.com/api/stac/v1/collections/modis-13Q1-061/items/MOD13Q1.A2023273.h35v09.061.2023290142608&quot;, &quot;type&quot;: &quot;application/geo+json&quot;}, {&quot;rel&quot;: &quot;preview&quot;, &quot;href&quot;: &quot;https://planetarycomputer.microsoft.com/api/data/v1/item/map?collection=modis-13Q1-061&amp;item=MOD13Q1.A2023273.h35v09.061.2023290142608&quot;, &quot;type&quot;: &quot;text/html&quot;, &quot;title&quot;: &quot;Map of item&quot;}], &quot;assets&quot;: {&quot;hdf&quot;: {&quot;href&quot;: &quot;https://modiseuwest.blob.core.windows.net/modis-061/MOD13Q1/35/09/2023273/MOD13Q1.A2023273.h35v09.061.2023290142608.hdf&quot;, &quot;type&quot;: &quot;application/x-hdf&quot;, &quot;roles&quot;: [&quot;data&quot;], &quot;title&quot;: &quot;Source data containing all bands&quot;}, &quot;metadata&quot;: {&quot;href&quot;: &quot;https://modiseuwest.blob.core.windows.net/modis-061/MOD13Q1/35/09/2023273/MOD13Q1.A2023273.h35v09.061.2023290142608.hdf.xml&quot;, &quot;type&quot;: &quot;application/xml&quot;, &quot;roles&quot;: [&quot;metadata&quot;], &quot;title&quot;: &quot;Federal Geographic Data Committee (FGDC) Metadata&quot;}, &quot;tilejson&quot;: {&quot;href&quot;: &quot;https://planetarycomputer.microsoft.com/api/data/v1/item/tilejson.json?collection=modis-13Q1-061&amp;item=MOD13Q1.A2023273.h35v09.061.2023290142608&amp;assets=250m_16_days_NDVI&amp;tile_format=png&amp;colormap_name=modis-13A1%7CQ1&amp;rescale=0%2C10000&amp;format=png&quot;, &quot;type&quot;: &quot;application/json&quot;, &quot;roles&quot;: [&quot;tiles&quot;], &quot;title&quot;: &quot;TileJSON with default rendering&quot;}, &quot;250m_16_days_EVI&quot;: {&quot;href&quot;: &quot;https://modiseuwest.blob.core.windows.net/modis-061-cogs/MOD13Q1/35/09/2023273/MOD13Q1.A2023273.h35v09.061.2023290142608_250m_16_days_EVI.tif&quot;, &quot;type&quot;: &quot;image/tiff; application=geotiff; profile=cloud-optimized&quot;, &quot;roles&quot;: [&quot;data&quot;], &quot;title&quot;: &quot;16 day EVI&quot;, &quot;raster:bands&quot;: [{&quot;unit&quot;: &quot;EVI&quot;, &quot;scale&quot;: 0.0001, &quot;data_type&quot;: &quot;int16&quot;, &quot;spatial_resolution&quot;: 250}]}, &quot;rendered_preview&quot;: {&quot;rel&quot;: &quot;preview&quot;, &quot;href&quot;: &quot;https://planetarycomputer.microsoft.com/api/data/v1/item/preview.png?collection=modis-13Q1-061&amp;item=MOD13Q1.A2023273.h35v09.061.2023290142608&amp;assets=250m_16_days_NDVI&amp;tile_format=png&amp;colormap_name=modis-13A1%7CQ1&amp;rescale=0%2C10000&amp;format=png&quot;, &quot;type&quot;: &quot;image/png&quot;, &quot;roles&quot;: [&quot;overview&quot;], &quot;title&quot;: &quot;Rendered preview&quot;}, &quot;250m_16_days_NDVI&quot;: {&quot;href&quot;: &quot;https://modiseuwest.blob.core.windows.net/modis-061-cogs/MOD13Q1/35/09/2023273/MOD13Q1.A2023273.h35v09.061.2023290142608_250m_16_days_NDVI.tif&quot;, &quot;type&quot;: &quot;image/tiff; application=geotiff; profile=cloud-optimized&quot;, &quot;roles&quot;: [&quot;data&quot;], &quot;title&quot;: &quot;16 day NDVI&quot;, &quot;raster:bands&quot;: [{&quot;unit&quot;: &quot;NDVI&quot;, &quot;scale&quot;: 0.0001, &quot;data_type&quot;: &quot;int16&quot;, &quot;spatial_resolution&quot;: 250}]}, &quot;250m_16_days_VI_Quality&quot;: {&quot;href&quot;: &quot;https://modiseuwest.blob.core.windows.net/modis-061-cogs/MOD13Q1/35/09/2023273/MOD13Q1.A2023273.h35v09.061.2023290142608_250m_16_days_VI_Quality.tif&quot;, &quot;type&quot;: &quot;image/tiff; application=geotiff; profile=cloud-optimized&quot;, &quot;roles&quot;: [&quot;data&quot;], &quot;title&quot;: &quot;VI quality indicators&quot;, &quot;raster:bands&quot;: [{&quot;data_type&quot;: &quot;uint16&quot;, &quot;spatial_resolution&quot;: 250}]}, &quot;250m_16_days_MIR_reflectance&quot;: {&quot;href&quot;: &quot;https://modiseuwest.blob.core.windows.net/modis-061-cogs/MOD13Q1/35/09/2023273/MOD13Q1.A2023273.h35v09.061.2023290142608_250m_16_days_MIR_reflectance.tif&quot;, &quot;type&quot;: &quot;image/tiff; application=geotiff; profile=cloud-optimized&quot;, &quot;roles&quot;: [&quot;data&quot;], &quot;title&quot;: &quot;Surface Reflectance Band 7&quot;, &quot;raster:bands&quot;: [{&quot;scale&quot;: 0.0001, &quot;data_type&quot;: &quot;int16&quot;, &quot;spatial_resolution&quot;: 250}]}, &quot;250m_16_days_NIR_reflectance&quot;: {&quot;href&quot;: &quot;https://modiseuwest.blob.core.windows.net/modis-061-cogs/MOD13Q1/35/09/2023273/MOD13Q1.A2023273.h35v09.061.2023290142608_250m_16_days_NIR_reflectance.tif&quot;, &quot;type&quot;: &quot;image/tiff; application=geotiff; profile=cloud-optimized&quot;, &quot;roles&quot;: [&quot;data&quot;], &quot;title&quot;: &quot;Surface Reflectance Band 2&quot;, &quot;raster:bands&quot;: [{&quot;scale&quot;: 0.0001, &quot;data_type&quot;: &quot;int16&quot;, &quot;spatial_resolution&quot;: 250}]}, &quot;250m_16_days_red_reflectance&quot;: {&quot;href&quot;: &quot;https://modiseuwest.blob.core.windows.net/modis-061-cogs/MOD13Q1/35/09/2023273/MOD13Q1.A2023273.h35v09.061.2023290142608_250m_16_days_red_reflectance.tif&quot;, &quot;type&quot;: &quot;image/tiff; application=geotiff; profile=cloud-optimized&quot;, &quot;roles&quot;: [&quot;data&quot;], &quot;title&quot;: &quot;Surface Reflectance Band 1&quot;, &quot;raster:bands&quot;: [{&quot;scale&quot;: 0.0001, &quot;data_type&quot;: &quot;int16&quot;, &quot;spatial_resolution&quot;: 250}]}, &quot;250m_16_days_blue_reflectance&quot;: {&quot;href&quot;: &quot;https://modiseuwest.blob.core.windows.net/modis-061-cogs/MOD13Q1/35/09/2023273/MOD13Q1.A2023273.h35v09.061.2023290142608_250m_16_days_blue_reflectance.tif&quot;, &quot;type&quot;: &quot;image/tiff; application=geotiff; profile=cloud-optimized&quot;, &quot;roles&quot;: [&quot;data&quot;], &quot;title&quot;: &quot;Surface Reflectance Band 3&quot;, &quot;raster:bands&quot;: [{&quot;scale&quot;: 0.0001, &quot;data_type&quot;: &quot;int16&quot;, &quot;spatial_resolution&quot;: 250}]}, &quot;250m_16_days_sun_zenith_angle&quot;: {&quot;href&quot;: &quot;https://modiseuwest.blob.core.windows.net/modis-061-cogs/MOD13Q1/35/09/2023273/MOD13Q1.A2023273.h35v09.061.2023290142608_250m_16_days_sun_zenith_angle.tif&quot;, &quot;type&quot;: &quot;image/tiff; application=geotiff; profile=cloud-optimized&quot;, &quot;roles&quot;: [&quot;data&quot;], &quot;title&quot;: &quot;Sun zenith angle of VI pixel&quot;, &quot;raster:bands&quot;: [{&quot;unit&quot;: &quot;Degree&quot;, &quot;scale&quot;: 0.01, &quot;data_type&quot;: &quot;int16&quot;, &quot;spatial_resolution&quot;: 250}]}, &quot;250m_16_days_pixel_reliability&quot;: {&quot;href&quot;: &quot;https://modiseuwest.blob.core.windows.net/modis-061-cogs/MOD13Q1/35/09/2023273/MOD13Q1.A2023273.h35v09.061.2023290142608_250m_16_days_pixel_reliability.tif&quot;, &quot;type&quot;: &quot;image/tiff; application=geotiff; profile=cloud-optimized&quot;, &quot;roles&quot;: [&quot;data&quot;], &quot;title&quot;: &quot;Quality reliability of VI pixel&quot;, &quot;raster:bands&quot;: [{&quot;unit&quot;: &quot;Rank&quot;, &quot;data_type&quot;: &quot;int8&quot;, &quot;spatial_resolution&quot;: 250}], &quot;classification:classes&quot;: [{&quot;value&quot;: 0, &quot;description&quot;: &quot;Good data, use with confidence&quot;}, {&quot;value&quot;: 1, &quot;description&quot;: &quot;Marginal data, useful, but look at other QA information&quot;}, {&quot;value&quot;: 2, &quot;description&quot;: &quot;Snow/Ice Target covered with snow/ice&quot;}, {&quot;value&quot;: 3, &quot;description&quot;: &quot;Cloudy data&quot;}]}, &quot;250m_16_days_view_zenith_angle&quot;: {&quot;href&quot;: &quot;https://modiseuwest.blob.core.windows.net/modis-061-cogs/MOD13Q1/35/09/2023273/MOD13Q1.A2023273.h35v09.061.2023290142608_250m_16_days_view_zenith_angle.tif&quot;, &quot;type&quot;: &quot;image/tiff; application=geotiff; profile=cloud-optimized&quot;, &quot;roles&quot;: [&quot;data&quot;], &quot;title&quot;: &quot;View zenith angle of VI Pixel&quot;, &quot;raster:bands&quot;: [{&quot;unit&quot;: &quot;Degree&quot;, &quot;scale&quot;: 0.01, &quot;data_type&quot;: &quot;int16&quot;, &quot;spatial_resolution&quot;: 250}]}, &quot;250m_16_days_relative_azimuth_angle&quot;: {&quot;href&quot;: &quot;https://modiseuwest.blob.core.windows.net/modis-061-cogs/MOD13Q1/35/09/2023273/MOD13Q1.A2023273.h35v09.061.2023290142608_250m_16_days_relative_azimuth_angle.tif&quot;, &quot;type&quot;: &quot;image/tiff; application=geotiff; profile=cloud-optimized&quot;, &quot;roles&quot;: [&quot;data&quot;], &quot;title&quot;: &quot;Relative azimuth angle of VI pixel&quot;, &quot;raster:bands&quot;: [{&quot;unit&quot;: &quot;Degree&quot;, &quot;scale&quot;: 0.01, &quot;data_type&quot;: &quot;int16&quot;, &quot;spatial_resolution&quot;: 250}]}, &quot;250m_16_days_composite_day_of_the_year&quot;: {&quot;href&quot;: &quot;https://modiseuwest.blob.core.windows.net/modis-061-cogs/MOD13Q1/35/09/2023273/MOD13Q1.A2023273.h35v09.061.2023290142608_250m_16_days_composite_day_of_the_year.tif&quot;, &quot;type&quot;: &quot;image/tiff; application=geotiff; profile=cloud-optimized&quot;, &quot;roles&quot;: [&quot;data&quot;], &quot;title&quot;: &quot;Day of year VI pixel&quot;, &quot;raster:bands&quot;: [{&quot;unit&quot;: &quot;Julian Day&quot;, &quot;data_type&quot;: &quot;int16&quot;, &quot;spatial_resolution&quot;: 250}]}}, &quot;geometry&quot;: {&quot;type&quot;: &quot;Polygon&quot;, &quot;coordinates&quot;: [[[169.928592841145, -9.99112932513571], [180.071523386457, -9.99897790814368], [179.999892115949, 0.00688901997272997], [169.999999984734, 0.000000000000000795138670365879], [169.928592841145, -9.99112932513571]]]}, &quot;collection&quot;: &quot;modis-13Q1-061&quot;, &quot;properties&quot;: {&quot;created&quot;: &quot;2023-10-17T18:26:08Z&quot;, &quot;updated&quot;: &quot;2023-10-17T13:32:31.409000Z&quot;, &quot;platform&quot;: &quot;terra&quot;, &quot;proj:wkt2&quot;: &quot;PROJCS[\\&quot;unnamed\\&quot;,GEOGCS[\\&quot;Unknown datum based upon the custom spheroid\\&quot;,DATUM[\\&quot;Not specified (based on custom spheroid)\\&quot;,SPHEROID[\\&quot;Custom spheroid\\&quot;,6371007.181,0]],PRIMEM[\\&quot;Greenwich\\&quot;,0],UNIT[\\&quot;degree\\&quot;,0.0174532925199433,AUTHORITY[\\&quot;EPSG\\&quot;,\\&quot;9122\\&quot;]]],PROJECTION[\\&quot;Sinusoidal\\&quot;],PARAMETER[\\&quot;longitude_of_center\\&quot;,0],PARAMETER[\\&quot;false_easting\\&quot;,0],PARAMETER[\\&quot;false_northing\\&quot;,0],UNIT[\\&quot;Meter\\&quot;,1],AXIS[\\&quot;Easting\\&quot;,EAST],AXIS[\\&quot;Northing\\&quot;,NORTH]]&quot;, &quot;proj:shape&quot;: [4800, 4800], &quot;instruments&quot;: [&quot;modis&quot;], &quot;end_datetime&quot;: &quot;2023-10-15T23:59:59Z&quot;, &quot;modis:tile-id&quot;: &quot;51035009&quot;, &quot;proj:geometry&quot;: {&quot;type&quot;: &quot;Polygon&quot;, &quot;coordinates&quot;: [[[20015109.354, -1111950.519667], [20015109.354, 0.0], [18903158.834333, 0.0], [18903158.834333, -1111950.519667], [20015109.354, -1111950.519667]]]}, &quot;proj:transform&quot;: [231.65635826395825, 0.0, 18903158.834333, 0.0, -231.65635826395834, 0.0], &quot;start_datetime&quot;: &quot;2023-09-30T00:00:00Z&quot;, &quot;modis:vertical-tile&quot;: 9, &quot;modis:horizontal-tile&quot;: 35}, &quot;stac_version&quot;: &quot;1.0.0&quot;, &quot;stac_extensions&quot;: [&quot;https://stac-extensions.github.io/projection/v1.1.0/schema.json&quot;, &quot;https://stac-extensions.github.io/raster/v1.1.0/schema.json&quot;, &quot;https://stac-extensions.github.io/classification/v1.0.0/schema.json&quot;]}, {&quot;id&quot;: &quot;MOD13Q1.A2023273.h35v08.061.2023290141752&quot;, &quot;bbox&quot;: [169.928592841145, -0.00688901997272678, 180.071523386456, 9.99897790814368], &quot;type&quot;: &quot;Feature&quot;, &quot;links&quot;: [{&quot;rel&quot;: &quot;collection&quot;, &quot;href&quot;: &quot;https://planetarycomputer.microsoft.com/api/stac/v1/collections/modis-13Q1-061&quot;, &quot;type&quot;: &quot;application/json&quot;}, {&quot;rel&quot;: &quot;parent&quot;, &quot;href&quot;: &quot;https://planetarycomputer.microsoft.com/api/stac/v1/collections/modis-13Q1-061&quot;, &quot;type&quot;: &quot;application/json&quot;}, {&quot;rel&quot;: &quot;root&quot;, &quot;href&quot;: &quot;https://planetarycomputer.microsoft.com/api/stac/v1&quot;, &quot;type&quot;: &quot;application/json&quot;, &quot;title&quot;: &quot;Microsoft Planetary Computer STAC API&quot;}, {&quot;rel&quot;: &quot;self&quot;, &quot;href&quot;: &quot;https://planetarycomputer.microsoft.com/api/stac/v1/collections/modis-13Q1-061/items/MOD13Q1.A2023273.h35v08.061.2023290141752&quot;, &quot;type&quot;: &quot;application/geo+json&quot;}, {&quot;rel&quot;: &quot;preview&quot;, &quot;href&quot;: &quot;https://planetarycomputer.microsoft.com/api/data/v1/item/map?collection=modis-13Q1-061&amp;item=MOD13Q1.A2023273.h35v08.061.2023290141752&quot;, &quot;type&quot;: &quot;text/html&quot;, &quot;title&quot;: &quot;Map of item&quot;}], &quot;assets&quot;: {&quot;hdf&quot;: {&quot;href&quot;: &quot;https://modiseuwest.blob.core.windows.net/modis-061/MOD13Q1/35/08/2023273/MOD13Q1.A2023273.h35v08.061.2023290141752.hdf&quot;, &quot;type&quot;: &quot;application/x-hdf&quot;, &quot;roles&quot;: [&quot;data&quot;], &quot;title&quot;: &quot;Source data containing all bands&quot;}, &quot;metadata&quot;: {&quot;href&quot;: &quot;https://modiseuwest.blob.core.windows.net/modis-061/MOD13Q1/35/08/2023273/MOD13Q1.A2023273.h35v08.061.2023290141752.hdf.xml&quot;, &quot;type&quot;: &quot;application/xml&quot;, &quot;roles&quot;: [&quot;metadata&quot;], &quot;title&quot;: &quot;Federal Geographic Data Committee (FGDC) Metadata&quot;}, &quot;tilejson&quot;: {&quot;href&quot;: &quot;https://planetarycomputer.microsoft.com/api/data/v1/item/tilejson.json?collection=modis-13Q1-061&amp;item=MOD13Q1.A2023273.h35v08.061.2023290141752&amp;assets=250m_16_days_NDVI&amp;tile_format=png&amp;colormap_name=modis-13A1%7CQ1&amp;rescale=0%2C10000&amp;format=png&quot;, &quot;type&quot;: &quot;application/json&quot;, &quot;roles&quot;: [&quot;tiles&quot;], &quot;title&quot;: &quot;TileJSON with default rendering&quot;}, &quot;250m_16_days_EVI&quot;: {&quot;href&quot;: &quot;https://modiseuwest.blob.core.windows.net/modis-061-cogs/MOD13Q1/35/08/2023273/MOD13Q1.A2023273.h35v08.061.2023290141752_250m_16_days_EVI.tif&quot;, &quot;type&quot;: &quot;image/tiff; application=geotiff; profile=cloud-optimized&quot;, &quot;roles&quot;: [&quot;data&quot;], &quot;title&quot;: &quot;16 day EVI&quot;, &quot;raster:bands&quot;: [{&quot;unit&quot;: &quot;EVI&quot;, &quot;scale&quot;: 0.0001, &quot;data_type&quot;: &quot;int16&quot;, &quot;spatial_resolution&quot;: 250}]}, &quot;rendered_preview&quot;: {&quot;rel&quot;: &quot;preview&quot;, &quot;href&quot;: &quot;https://planetarycomputer.microsoft.com/api/data/v1/item/preview.png?collection=modis-13Q1-061&amp;item=MOD13Q1.A2023273.h35v08.061.2023290141752&amp;assets=250m_16_days_NDVI&amp;tile_format=png&amp;colormap_name=modis-13A1%7CQ1&amp;rescale=0%2C10000&amp;format=png&quot;, &quot;type&quot;: &quot;image/png&quot;, &quot;roles&quot;: [&quot;overview&quot;], &quot;title&quot;: &quot;Rendered preview&quot;}, &quot;250m_16_days_NDVI&quot;: {&quot;href&quot;: &quot;https://modiseuwest.blob.core.windows.net/modis-061-cogs/MOD13Q1/35/08/2023273/MOD13Q1.A2023273.h35v08.061.2023290141752_250m_16_days_NDVI.tif&quot;, &quot;type&quot;: &quot;image/tiff; application=geotiff; profile=cloud-optimized&quot;, &quot;roles&quot;: [&quot;data&quot;], &quot;title&quot;: &quot;16 day NDVI&quot;, &quot;raster:bands&quot;: [{&quot;unit&quot;: &quot;NDVI&quot;, &quot;scale&quot;: 0.0001, &quot;data_type&quot;: &quot;int16&quot;, &quot;spatial_resolution&quot;: 250}]}, &quot;250m_16_days_VI_Quality&quot;: {&quot;href&quot;: &quot;https://modiseuwest.blob.core.windows.net/modis-061-cogs/MOD13Q1/35/08/2023273/MOD13Q1.A2023273.h35v08.061.2023290141752_250m_16_days_VI_Quality.tif&quot;, &quot;type&quot;: &quot;image/tiff; application=geotiff; profile=cloud-optimized&quot;, &quot;roles&quot;: [&quot;data&quot;], &quot;title&quot;: &quot;VI quality indicators&quot;, &quot;raster:bands&quot;: [{&quot;data_type&quot;: &quot;uint16&quot;, &quot;spatial_resolution&quot;: 250}]}, &quot;250m_16_days_MIR_reflectance&quot;: {&quot;href&quot;: &quot;https://modiseuwest.blob.core.windows.net/modis-061-cogs/MOD13Q1/35/08/2023273/MOD13Q1.A2023273.h35v08.061.2023290141752_250m_16_days_MIR_reflectance.tif&quot;, &quot;type&quot;: &quot;image/tiff; application=geotiff; profile=cloud-optimized&quot;, &quot;roles&quot;: [&quot;data&quot;], &quot;title&quot;: &quot;Surface Reflectance Band 7&quot;, &quot;raster:bands&quot;: [{&quot;scale&quot;: 0.0001, &quot;data_type&quot;: &quot;int16&quot;, &quot;spatial_resolution&quot;: 250}]}, &quot;250m_16_days_NIR_reflectance&quot;: {&quot;href&quot;: &quot;https://modiseuwest.blob.core.windows.net/modis-061-cogs/MOD13Q1/35/08/2023273/MOD13Q1.A2023273.h35v08.061.2023290141752_250m_16_days_NIR_reflectance.tif&quot;, &quot;type&quot;: &quot;image/tiff; application=geotiff; profile=cloud-optimized&quot;, &quot;roles&quot;: [&quot;data&quot;], &quot;title&quot;: &quot;Surface Reflectance Band 2&quot;, &quot;raster:bands&quot;: [{&quot;scale&quot;: 0.0001, &quot;data_type&quot;: &quot;int16&quot;, &quot;spatial_resolution&quot;: 250}]}, &quot;250m_16_days_red_reflectance&quot;: {&quot;href&quot;: &quot;https://modiseuwest.blob.core.windows.net/modis-061-cogs/MOD13Q1/35/08/2023273/MOD13Q1.A2023273.h35v08.061.2023290141752_250m_16_days_red_reflectance.tif&quot;, &quot;type&quot;: &quot;image/tiff; application=geotiff; profile=cloud-optimized&quot;, &quot;roles&quot;: [&quot;data&quot;], &quot;title&quot;: &quot;Surface Reflectance Band 1&quot;, &quot;raster:bands&quot;: [{&quot;scale&quot;: 0.0001, &quot;data_type&quot;: &quot;int16&quot;, &quot;spatial_resolution&quot;: 250}]}, &quot;250m_16_days_blue_reflectance&quot;: {&quot;href&quot;: &quot;https://modiseuwest.blob.core.windows.net/modis-061-cogs/MOD13Q1/35/08/2023273/MOD13Q1.A2023273.h35v08.061.2023290141752_250m_16_days_blue_reflectance.tif&quot;, &quot;type&quot;: &quot;image/tiff; application=geotiff; profile=cloud-optimized&quot;, &quot;roles&quot;: [&quot;data&quot;], &quot;title&quot;: &quot;Surface Reflectance Band 3&quot;, &quot;raster:bands&quot;: [{&quot;scale&quot;: 0.0001, &quot;data_type&quot;: &quot;int16&quot;, &quot;spatial_resolution&quot;: 250}]}, &quot;250m_16_days_sun_zenith_angle&quot;: {&quot;href&quot;: &quot;https://modiseuwest.blob.core.windows.net/modis-061-cogs/MOD13Q1/35/08/2023273/MOD13Q1.A2023273.h35v08.061.2023290141752_250m_16_days_sun_zenith_angle.tif&quot;, &quot;type&quot;: &quot;image/tiff; application=geotiff; profile=cloud-optimized&quot;, &quot;roles&quot;: [&quot;data&quot;], &quot;title&quot;: &quot;Sun zenith angle of VI pixel&quot;, &quot;raster:bands&quot;: [{&quot;unit&quot;: &quot;Degree&quot;, &quot;scale&quot;: 0.01, &quot;data_type&quot;: &quot;int16&quot;, &quot;spatial_resolution&quot;: 250}]}, &quot;250m_16_days_pixel_reliability&quot;: {&quot;href&quot;: &quot;https://modiseuwest.blob.core.windows.net/modis-061-cogs/MOD13Q1/35/08/2023273/MOD13Q1.A2023273.h35v08.061.2023290141752_250m_16_days_pixel_reliability.tif&quot;, &quot;type&quot;: &quot;image/tiff; application=geotiff; profile=cloud-optimized&quot;, &quot;roles&quot;: [&quot;data&quot;], &quot;title&quot;: &quot;Quality reliability of VI pixel&quot;, &quot;raster:bands&quot;: [{&quot;unit&quot;: &quot;Rank&quot;, &quot;data_type&quot;: &quot;int8&quot;, &quot;spatial_resolution&quot;: 250}], &quot;classification:classes&quot;: [{&quot;value&quot;: 0, &quot;description&quot;: &quot;Good data, use with confidence&quot;}, {&quot;value&quot;: 1, &quot;description&quot;: &quot;Marginal data, useful, but look at other QA information&quot;}, {&quot;value&quot;: 2, &quot;description&quot;: &quot;Snow/Ice Target covered with snow/ice&quot;}, {&quot;value&quot;: 3, &quot;description&quot;: &quot;Cloudy data&quot;}]}, &quot;250m_16_days_view_zenith_angle&quot;: {&quot;href&quot;: &quot;https://modiseuwest.blob.core.windows.net/modis-061-cogs/MOD13Q1/35/08/2023273/MOD13Q1.A2023273.h35v08.061.2023290141752_250m_16_days_view_zenith_angle.tif&quot;, &quot;type&quot;: &quot;image/tiff; application=geotiff; profile=cloud-optimized&quot;, &quot;roles&quot;: [&quot;data&quot;], &quot;title&quot;: &quot;View zenith angle of VI Pixel&quot;, &quot;raster:bands&quot;: [{&quot;unit&quot;: &quot;Degree&quot;, &quot;scale&quot;: 0.01, &quot;data_type&quot;: &quot;int16&quot;, &quot;spatial_resolution&quot;: 250}]}, &quot;250m_16_days_relative_azimuth_angle&quot;: {&quot;href&quot;: &quot;https://modiseuwest.blob.core.windows.net/modis-061-cogs/MOD13Q1/35/08/2023273/MOD13Q1.A2023273.h35v08.061.2023290141752_250m_16_days_relative_azimuth_angle.tif&quot;, &quot;type&quot;: &quot;image/tiff; application=geotiff; profile=cloud-optimized&quot;, &quot;roles&quot;: [&quot;data&quot;], &quot;title&quot;: &quot;Relative azimuth angle of VI pixel&quot;, &quot;raster:bands&quot;: [{&quot;unit&quot;: &quot;Degree&quot;, &quot;scale&quot;: 0.01, &quot;data_type&quot;: &quot;int16&quot;, &quot;spatial_resolution&quot;: 250}]}, &quot;250m_16_days_composite_day_of_the_year&quot;: {&quot;href&quot;: &quot;https://modiseuwest.blob.core.windows.net/modis-061-cogs/MOD13Q1/35/08/2023273/MOD13Q1.A2023273.h35v08.061.2023290141752_250m_16_days_composite_day_of_the_year.tif&quot;, &quot;type&quot;: &quot;image/tiff; application=geotiff; profile=cloud-optimized&quot;, &quot;roles&quot;: [&quot;data&quot;], &quot;title&quot;: &quot;Day of year VI pixel&quot;, &quot;raster:bands&quot;: [{&quot;unit&quot;: &quot;Julian Day&quot;, &quot;data_type&quot;: &quot;int16&quot;, &quot;spatial_resolution&quot;: 250}]}}, &quot;geometry&quot;: {&quot;type&quot;: &quot;Polygon&quot;, &quot;coordinates&quot;: [[[169.999999984734, -0.000000000000000795138670365879], [179.999892115948, -0.00688901997272678], [180.071523386456, 9.99897790814368], [169.928592841145, 9.99112932513571], [169.999999984734, -0.000000000000000795138670365879]]]}, &quot;collection&quot;: &quot;modis-13Q1-061&quot;, &quot;properties&quot;: {&quot;created&quot;: &quot;2023-10-17T18:17:52Z&quot;, &quot;updated&quot;: &quot;2023-10-17T13:20:41.324000Z&quot;, &quot;platform&quot;: &quot;terra&quot;, &quot;proj:wkt2&quot;: &quot;PROJCS[\\&quot;unnamed\\&quot;,GEOGCS[\\&quot;Unknown datum based upon the custom spheroid\\&quot;,DATUM[\\&quot;Not specified (based on custom spheroid)\\&quot;,SPHEROID[\\&quot;Custom spheroid\\&quot;,6371007.181,0]],PRIMEM[\\&quot;Greenwich\\&quot;,0],UNIT[\\&quot;degree\\&quot;,0.0174532925199433,AUTHORITY[\\&quot;EPSG\\&quot;,\\&quot;9122\\&quot;]]],PROJECTION[\\&quot;Sinusoidal\\&quot;],PARAMETER[\\&quot;longitude_of_center\\&quot;,0],PARAMETER[\\&quot;false_easting\\&quot;,0],PARAMETER[\\&quot;false_northing\\&quot;,0],UNIT[\\&quot;Meter\\&quot;,1],AXIS[\\&quot;Easting\\&quot;,EAST],AXIS[\\&quot;Northing\\&quot;,NORTH]]&quot;, &quot;proj:shape&quot;: [4800, 4800], &quot;instruments&quot;: [&quot;modis&quot;], &quot;end_datetime&quot;: &quot;2023-10-15T23:59:59Z&quot;, &quot;modis:tile-id&quot;: &quot;51035008&quot;, &quot;proj:geometry&quot;: {&quot;type&quot;: &quot;Polygon&quot;, &quot;coordinates&quot;: [[[20015109.354, 0.0], [20015109.354, 1111950.519667], [18903158.834333, 1111950.519667], [18903158.834333, 0.0], [20015109.354, 0.0]]]}, &quot;proj:transform&quot;: [231.65635826395825, 0.0, 18903158.834333, 0.0, -231.65635826395834, 1111950.519667], &quot;start_datetime&quot;: &quot;2023-09-30T00:00:00Z&quot;, &quot;modis:vertical-tile&quot;: 8, &quot;modis:horizontal-tile&quot;: 35}, &quot;stac_version&quot;: &quot;1.0.0&quot;, &quot;stac_extensions&quot;: [&quot;https://stac-extensions.github.io/projection/v1.1.0/schema.json&quot;, &quot;https://stac-extensions.github.io/raster/v1.1.0/schema.json&quot;, &quot;https://stac-extensions.github.io/classification/v1.0.0/schema.json&quot;]}, {&quot;id&quot;: &quot;MOD13Q1.A2023273.h34v10.061.2023290142351&quot;, &quot;bbox&quot;: [162.218267000741, -20.2678807324399, 180.047981891695, -9.72442246620711], &quot;type&quot;: &quot;Feature&quot;, &quot;links&quot;: [{&quot;rel&quot;: &quot;collection&quot;, &quot;href&quot;: &quot;https://planetarycomputer.microsoft.com/api/stac/v1/collections/modis-13Q1-061&quot;, &quot;type&quot;: &quot;application/json&quot;}, {&quot;rel&quot;: &quot;parent&quot;, &quot;href&quot;: &quot;https://planetarycomputer.microsoft.com/api/stac/v1/collections/modis-13Q1-061&quot;, &quot;type&quot;: &quot;application/json&quot;}, {&quot;rel&quot;: &quot;root&quot;, &quot;href&quot;: &quot;https://planetarycomputer.microsoft.com/api/stac/v1&quot;, &quot;type&quot;: &quot;application/json&quot;, &quot;title&quot;: &quot;Microsoft Planetary Computer STAC API&quot;}, {&quot;rel&quot;: &quot;self&quot;, &quot;href&quot;: &quot;https://planetarycomputer.microsoft.com/api/stac/v1/collections/modis-13Q1-061/items/MOD13Q1.A2023273.h34v10.061.2023290142351&quot;, &quot;type&quot;: &quot;application/geo+json&quot;}, {&quot;rel&quot;: &quot;preview&quot;, &quot;href&quot;: &quot;https://planetarycomputer.microsoft.com/api/data/v1/item/map?collection=modis-13Q1-061&amp;item=MOD13Q1.A2023273.h34v10.061.2023290142351&quot;, &quot;type&quot;: &quot;text/html&quot;, &quot;title&quot;: &quot;Map of item&quot;}], &quot;assets&quot;: {&quot;hdf&quot;: {&quot;href&quot;: &quot;https://modiseuwest.blob.core.windows.net/modis-061/MOD13Q1/34/10/2023273/MOD13Q1.A2023273.h34v10.061.2023290142351.hdf&quot;, &quot;type&quot;: &quot;application/x-hdf&quot;, &quot;roles&quot;: [&quot;data&quot;], &quot;title&quot;: &quot;Source data containing all bands&quot;}, &quot;metadata&quot;: {&quot;href&quot;: &quot;https://modiseuwest.blob.core.windows.net/modis-061/MOD13Q1/34/10/2023273/MOD13Q1.A2023273.h34v10.061.2023290142351.hdf.xml&quot;, &quot;type&quot;: &quot;application/xml&quot;, &quot;roles&quot;: [&quot;metadata&quot;], &quot;title&quot;: &quot;Federal Geographic Data Committee (FGDC) Metadata&quot;}, &quot;tilejson&quot;: {&quot;href&quot;: &quot;https://planetarycomputer.microsoft.com/api/data/v1/item/tilejson.json?collection=modis-13Q1-061&amp;item=MOD13Q1.A2023273.h34v10.061.2023290142351&amp;assets=250m_16_days_NDVI&amp;tile_format=png&amp;colormap_name=modis-13A1%7CQ1&amp;rescale=0%2C10000&amp;format=png&quot;, &quot;type&quot;: &quot;application/json&quot;, &quot;roles&quot;: [&quot;tiles&quot;], &quot;title&quot;: &quot;TileJSON with default rendering&quot;}, &quot;250m_16_days_EVI&quot;: {&quot;href&quot;: &quot;https://modiseuwest.blob.core.windows.net/modis-061-cogs/MOD13Q1/34/10/2023273/MOD13Q1.A2023273.h34v10.061.2023290142351_250m_16_days_EVI.tif&quot;, &quot;type&quot;: &quot;image/tiff; application=geotiff; profile=cloud-optimized&quot;, &quot;roles&quot;: [&quot;data&quot;], &quot;title&quot;: &quot;16 day EVI&quot;, &quot;raster:bands&quot;: [{&quot;unit&quot;: &quot;EVI&quot;, &quot;scale&quot;: 0.0001, &quot;data_type&quot;: &quot;int16&quot;, &quot;spatial_resolution&quot;: 250}]}, &quot;rendered_preview&quot;: {&quot;rel&quot;: &quot;preview&quot;, &quot;href&quot;: &quot;https://planetarycomputer.microsoft.com/api/data/v1/item/preview.png?collection=modis-13Q1-061&amp;item=MOD13Q1.A2023273.h34v10.061.2023290142351&amp;assets=250m_16_days_NDVI&amp;tile_format=png&amp;colormap_name=modis-13A1%7CQ1&amp;rescale=0%2C10000&amp;format=png&quot;, &quot;type&quot;: &quot;image/png&quot;, &quot;roles&quot;: [&quot;overview&quot;], &quot;title&quot;: &quot;Rendered preview&quot;}, &quot;250m_16_days_NDVI&quot;: {&quot;href&quot;: &quot;https://modiseuwest.blob.core.windows.net/modis-061-cogs/MOD13Q1/34/10/2023273/MOD13Q1.A2023273.h34v10.061.2023290142351_250m_16_days_NDVI.tif&quot;, &quot;type&quot;: &quot;image/tiff; application=geotiff; profile=cloud-optimized&quot;, &quot;roles&quot;: [&quot;data&quot;], &quot;title&quot;: &quot;16 day NDVI&quot;, &quot;raster:bands&quot;: [{&quot;unit&quot;: &quot;NDVI&quot;, &quot;scale&quot;: 0.0001, &quot;data_type&quot;: &quot;int16&quot;, &quot;spatial_resolution&quot;: 250}]}, &quot;250m_16_days_VI_Quality&quot;: {&quot;href&quot;: &quot;https://modiseuwest.blob.core.windows.net/modis-061-cogs/MOD13Q1/34/10/2023273/MOD13Q1.A2023273.h34v10.061.2023290142351_250m_16_days_VI_Quality.tif&quot;, &quot;type&quot;: &quot;image/tiff; application=geotiff; profile=cloud-optimized&quot;, &quot;roles&quot;: [&quot;data&quot;], &quot;title&quot;: &quot;VI quality indicators&quot;, &quot;raster:bands&quot;: [{&quot;data_type&quot;: &quot;uint16&quot;, &quot;spatial_resolution&quot;: 250}]}, &quot;250m_16_days_MIR_reflectance&quot;: {&quot;href&quot;: &quot;https://modiseuwest.blob.core.windows.net/modis-061-cogs/MOD13Q1/34/10/2023273/MOD13Q1.A2023273.h34v10.061.2023290142351_250m_16_days_MIR_reflectance.tif&quot;, &quot;type&quot;: &quot;image/tiff; application=geotiff; profile=cloud-optimized&quot;, &quot;roles&quot;: [&quot;data&quot;], &quot;title&quot;: &quot;Surface Reflectance Band 7&quot;, &quot;raster:bands&quot;: [{&quot;scale&quot;: 0.0001, &quot;data_type&quot;: &quot;int16&quot;, &quot;spatial_resolution&quot;: 250}]}, &quot;250m_16_days_NIR_reflectance&quot;: {&quot;href&quot;: &quot;https://modiseuwest.blob.core.windows.net/modis-061-cogs/MOD13Q1/34/10/2023273/MOD13Q1.A2023273.h34v10.061.2023290142351_250m_16_days_NIR_reflectance.tif&quot;, &quot;type&quot;: &quot;image/tiff; application=geotiff; profile=cloud-optimized&quot;, &quot;roles&quot;: [&quot;data&quot;], &quot;title&quot;: &quot;Surface Reflectance Band 2&quot;, &quot;raster:bands&quot;: [{&quot;scale&quot;: 0.0001, &quot;data_type&quot;: &quot;int16&quot;, &quot;spatial_resolution&quot;: 250}]}, &quot;250m_16_days_red_reflectance&quot;: {&quot;href&quot;: &quot;https://modiseuwest.blob.core.windows.net/modis-061-cogs/MOD13Q1/34/10/2023273/MOD13Q1.A2023273.h34v10.061.2023290142351_250m_16_days_red_reflectance.tif&quot;, &quot;type&quot;: &quot;image/tiff; application=geotiff; profile=cloud-optimized&quot;, &quot;roles&quot;: [&quot;data&quot;], &quot;title&quot;: &quot;Surface Reflectance Band 1&quot;, &quot;raster:bands&quot;: [{&quot;scale&quot;: 0.0001, &quot;data_type&quot;: &quot;int16&quot;, &quot;spatial_resolution&quot;: 250}]}, &quot;250m_16_days_blue_reflectance&quot;: {&quot;href&quot;: &quot;https://modiseuwest.blob.core.windows.net/modis-061-cogs/MOD13Q1/34/10/2023273/MOD13Q1.A2023273.h34v10.061.2023290142351_250m_16_days_blue_reflectance.tif&quot;, &quot;type&quot;: &quot;image/tiff; application=geotiff; profile=cloud-optimized&quot;, &quot;roles&quot;: [&quot;data&quot;], &quot;title&quot;: &quot;Surface Reflectance Band 3&quot;, &quot;raster:bands&quot;: [{&quot;scale&quot;: 0.0001, &quot;data_type&quot;: &quot;int16&quot;, &quot;spatial_resolution&quot;: 250}]}, &quot;250m_16_days_sun_zenith_angle&quot;: {&quot;href&quot;: &quot;https://modiseuwest.blob.core.windows.net/modis-061-cogs/MOD13Q1/34/10/2023273/MOD13Q1.A2023273.h34v10.061.2023290142351_250m_16_days_sun_zenith_angle.tif&quot;, &quot;type&quot;: &quot;image/tiff; application=geotiff; profile=cloud-optimized&quot;, &quot;roles&quot;: [&quot;data&quot;], &quot;title&quot;: &quot;Sun zenith angle of VI pixel&quot;, &quot;raster:bands&quot;: [{&quot;unit&quot;: &quot;Degree&quot;, &quot;scale&quot;: 0.01, &quot;data_type&quot;: &quot;int16&quot;, &quot;spatial_resolution&quot;: 250}]}, &quot;250m_16_days_pixel_reliability&quot;: {&quot;href&quot;: &quot;https://modiseuwest.blob.core.windows.net/modis-061-cogs/MOD13Q1/34/10/2023273/MOD13Q1.A2023273.h34v10.061.2023290142351_250m_16_days_pixel_reliability.tif&quot;, &quot;type&quot;: &quot;image/tiff; application=geotiff; profile=cloud-optimized&quot;, &quot;roles&quot;: [&quot;data&quot;], &quot;title&quot;: &quot;Quality reliability of VI pixel&quot;, &quot;raster:bands&quot;: [{&quot;unit&quot;: &quot;Rank&quot;, &quot;data_type&quot;: &quot;int8&quot;, &quot;spatial_resolution&quot;: 250}], &quot;classification:classes&quot;: [{&quot;value&quot;: 0, &quot;description&quot;: &quot;Good data, use with confidence&quot;}, {&quot;value&quot;: 1, &quot;description&quot;: &quot;Marginal data, useful, but look at other QA information&quot;}, {&quot;value&quot;: 2, &quot;description&quot;: &quot;Snow/Ice Target covered with snow/ice&quot;}, {&quot;value&quot;: 3, &quot;description&quot;: &quot;Cloudy data&quot;}]}, &quot;250m_16_days_view_zenith_angle&quot;: {&quot;href&quot;: &quot;https://modiseuwest.blob.core.windows.net/modis-061-cogs/MOD13Q1/34/10/2023273/MOD13Q1.A2023273.h34v10.061.2023290142351_250m_16_days_view_zenith_angle.tif&quot;, &quot;type&quot;: &quot;image/tiff; application=geotiff; profile=cloud-optimized&quot;, &quot;roles&quot;: [&quot;data&quot;], &quot;title&quot;: &quot;View zenith angle of VI Pixel&quot;, &quot;raster:bands&quot;: [{&quot;unit&quot;: &quot;Degree&quot;, &quot;scale&quot;: 0.01, &quot;data_type&quot;: &quot;int16&quot;, &quot;spatial_resolution&quot;: 250}]}, &quot;250m_16_days_relative_azimuth_angle&quot;: {&quot;href&quot;: &quot;https://modiseuwest.blob.core.windows.net/modis-061-cogs/MOD13Q1/34/10/2023273/MOD13Q1.A2023273.h34v10.061.2023290142351_250m_16_days_relative_azimuth_angle.tif&quot;, &quot;type&quot;: &quot;image/tiff; application=geotiff; profile=cloud-optimized&quot;, &quot;roles&quot;: [&quot;data&quot;], &quot;title&quot;: &quot;Relative azimuth angle of VI pixel&quot;, &quot;raster:bands&quot;: [{&quot;unit&quot;: &quot;Degree&quot;, &quot;scale&quot;: 0.01, &quot;data_type&quot;: &quot;int16&quot;, &quot;spatial_resolution&quot;: 250}]}, &quot;250m_16_days_composite_day_of_the_year&quot;: {&quot;href&quot;: &quot;https://modiseuwest.blob.core.windows.net/modis-061-cogs/MOD13Q1/34/10/2023273/MOD13Q1.A2023273.h34v10.061.2023290142351_250m_16_days_composite_day_of_the_year.tif&quot;, &quot;type&quot;: &quot;image/tiff; application=geotiff; profile=cloud-optimized&quot;, &quot;roles&quot;: [&quot;data&quot;], &quot;title&quot;: &quot;Day of year VI pixel&quot;, &quot;raster:bands&quot;: [{&quot;unit&quot;: &quot;Julian Day&quot;, &quot;data_type&quot;: &quot;int16&quot;, &quot;spatial_resolution&quot;: 250}]}}, &quot;geometry&quot;: {&quot;type&quot;: &quot;Polygon&quot;, &quot;coordinates&quot;: [[[162.218267000741, -20.2678807324399], [180.047981891695, -19.9968452811343], [179.464584854786, -9.72442246620711], [162.468655437091, -9.98294861056589], [162.218267000741, -20.2678807324399]]]}, &quot;collection&quot;: &quot;modis-13Q1-061&quot;, &quot;properties&quot;: {&quot;created&quot;: &quot;2023-10-17T18:23:51Z&quot;, &quot;updated&quot;: &quot;2023-10-17T13:28:32.376000Z&quot;, &quot;platform&quot;: &quot;terra&quot;, &quot;proj:wkt2&quot;: &quot;PROJCS[\\&quot;unnamed\\&quot;,GEOGCS[\\&quot;Unknown datum based upon the custom spheroid\\&quot;,DATUM[\\&quot;Not specified (based on custom spheroid)\\&quot;,SPHEROID[\\&quot;Custom spheroid\\&quot;,6371007.181,0]],PRIMEM[\\&quot;Greenwich\\&quot;,0],UNIT[\\&quot;degree\\&quot;,0.0174532925199433,AUTHORITY[\\&quot;EPSG\\&quot;,\\&quot;9122\\&quot;]]],PROJECTION[\\&quot;Sinusoidal\\&quot;],PARAMETER[\\&quot;longitude_of_center\\&quot;,0],PARAMETER[\\&quot;false_easting\\&quot;,0],PARAMETER[\\&quot;false_northing\\&quot;,0],UNIT[\\&quot;Meter\\&quot;,1],AXIS[\\&quot;Easting\\&quot;,EAST],AXIS[\\&quot;Northing\\&quot;,NORTH]]&quot;, &quot;proj:shape&quot;: [4800, 4800], &quot;instruments&quot;: [&quot;modis&quot;], &quot;end_datetime&quot;: &quot;2023-10-15T23:59:59Z&quot;, &quot;modis:tile-id&quot;: &quot;51034010&quot;, &quot;proj:geometry&quot;: {&quot;type&quot;: &quot;Polygon&quot;, &quot;coordinates&quot;: [[[18903158.834333, -2223901.039333], [18903158.834333, -1111950.519667], [17791208.314667, -1111950.519667], [17791208.314667, -2223901.039333], [18903158.834333, -2223901.039333]]]}, &quot;proj:transform&quot;: [231.65635826374947, 0.0, 17791208.314667, 0.0, -231.65635826374995, -1111950.519667], &quot;start_datetime&quot;: &quot;2023-09-30T00:00:00Z&quot;, &quot;modis:vertical-tile&quot;: 10, &quot;modis:horizontal-tile&quot;: 34}, &quot;stac_version&quot;: &quot;1.0.0&quot;, &quot;stac_extensions&quot;: [&quot;https://stac-extensions.github.io/projection/v1.1.0/schema.json&quot;, &quot;https://stac-extensions.github.io/raster/v1.1.0/schema.json&quot;, &quot;https://stac-extensions.github.io/classification/v1.0.0/schema.json&quot;]}, {&quot;id&quot;: &quot;MOD13Q1.A2023273.h34v09.061.2023290142428&quot;, &quot;bbox&quot;: [159.40190039747, -10.0140501371706, 172.624340995627, 0.0160513468129103], &quot;type&quot;: &quot;Feature&quot;, &quot;links&quot;: [{&quot;rel&quot;: &quot;collection&quot;, &quot;href&quot;: &quot;https://planetarycomputer.microsoft.com/api/stac/v1/collections/modis-13Q1-061&quot;, &quot;type&quot;: &quot;application/json&quot;}, {&quot;rel&quot;: &quot;parent&quot;, &quot;href&quot;: &quot;https://planetarycomputer.microsoft.com/api/stac/v1/collections/modis-13Q1-061&quot;, &quot;type&quot;: &quot;application/json&quot;}, {&quot;rel&quot;: &quot;root&quot;, &quot;href&quot;: &quot;https://planetarycomputer.microsoft.com/api/stac/v1&quot;, &quot;type&quot;: &quot;application/json&quot;, &quot;title&quot;: &quot;Microsoft Planetary Computer STAC API&quot;}, {&quot;rel&quot;: &quot;self&quot;, &quot;href&quot;: &quot;https://planetarycomputer.microsoft.com/api/stac/v1/collections/modis-13Q1-061/items/MOD13Q1.A2023273.h34v09.061.2023290142428&quot;, &quot;type&quot;: &quot;application/geo+json&quot;}, {&quot;rel&quot;: &quot;preview&quot;, &quot;href&quot;: &quot;https://planetarycomputer.microsoft.com/api/data/v1/item/map?collection=modis-13Q1-061&amp;item=MOD13Q1.A2023273.h34v09.061.2023290142428&quot;, &quot;type&quot;: &quot;text/html&quot;, &quot;title&quot;: &quot;Map of item&quot;}], &quot;assets&quot;: {&quot;hdf&quot;: {&quot;href&quot;: &quot;https://modiseuwest.blob.core.windows.net/modis-061/MOD13Q1/34/09/2023273/MOD13Q1.A2023273.h34v09.061.2023290142428.hdf&quot;, &quot;type&quot;: &quot;application/x-hdf&quot;, &quot;roles&quot;: [&quot;data&quot;], &quot;title&quot;: &quot;Source data containing all bands&quot;}, &quot;metadata&quot;: {&quot;href&quot;: &quot;https://modiseuwest.blob.core.windows.net/modis-061/MOD13Q1/34/09/2023273/MOD13Q1.A2023273.h34v09.061.2023290142428.hdf.xml&quot;, &quot;type&quot;: &quot;application/xml&quot;, &quot;roles&quot;: [&quot;metadata&quot;], &quot;title&quot;: &quot;Federal Geographic Data Committee (FGDC) Metadata&quot;}, &quot;tilejson&quot;: {&quot;href&quot;: &quot;https://planetarycomputer.microsoft.com/api/data/v1/item/tilejson.json?collection=modis-13Q1-061&amp;item=MOD13Q1.A2023273.h34v09.061.2023290142428&amp;assets=250m_16_days_NDVI&amp;tile_format=png&amp;colormap_name=modis-13A1%7CQ1&amp;rescale=0%2C10000&amp;format=png&quot;, &quot;type&quot;: &quot;application/json&quot;, &quot;roles&quot;: [&quot;tiles&quot;], &quot;title&quot;: &quot;TileJSON with default rendering&quot;}, &quot;250m_16_days_EVI&quot;: {&quot;href&quot;: &quot;https://modiseuwest.blob.core.windows.net/modis-061-cogs/MOD13Q1/34/09/2023273/MOD13Q1.A2023273.h34v09.061.2023290142428_250m_16_days_EVI.tif&quot;, &quot;type&quot;: &quot;image/tiff; application=geotiff; profile=cloud-optimized&quot;, &quot;roles&quot;: [&quot;data&quot;], &quot;title&quot;: &quot;16 day EVI&quot;, &quot;raster:bands&quot;: [{&quot;unit&quot;: &quot;EVI&quot;, &quot;scale&quot;: 0.0001, &quot;data_type&quot;: &quot;int16&quot;, &quot;spatial_resolution&quot;: 250}]}, &quot;rendered_preview&quot;: {&quot;rel&quot;: &quot;preview&quot;, &quot;href&quot;: &quot;https://planetarycomputer.microsoft.com/api/data/v1/item/preview.png?collection=modis-13Q1-061&amp;item=MOD13Q1.A2023273.h34v09.061.2023290142428&amp;assets=250m_16_days_NDVI&amp;tile_format=png&amp;colormap_name=modis-13A1%7CQ1&amp;rescale=0%2C10000&amp;format=png&quot;, &quot;type&quot;: &quot;image/png&quot;, &quot;roles&quot;: [&quot;overview&quot;], &quot;title&quot;: &quot;Rendered preview&quot;}, &quot;250m_16_days_NDVI&quot;: {&quot;href&quot;: &quot;https://modiseuwest.blob.core.windows.net/modis-061-cogs/MOD13Q1/34/09/2023273/MOD13Q1.A2023273.h34v09.061.2023290142428_250m_16_days_NDVI.tif&quot;, &quot;type&quot;: &quot;image/tiff; application=geotiff; profile=cloud-optimized&quot;, &quot;roles&quot;: [&quot;data&quot;], &quot;title&quot;: &quot;16 day NDVI&quot;, &quot;raster:bands&quot;: [{&quot;unit&quot;: &quot;NDVI&quot;, &quot;scale&quot;: 0.0001, &quot;data_type&quot;: &quot;int16&quot;, &quot;spatial_resolution&quot;: 250}]}, &quot;250m_16_days_VI_Quality&quot;: {&quot;href&quot;: &quot;https://modiseuwest.blob.core.windows.net/modis-061-cogs/MOD13Q1/34/09/2023273/MOD13Q1.A2023273.h34v09.061.2023290142428_250m_16_days_VI_Quality.tif&quot;, &quot;type&quot;: &quot;image/tiff; application=geotiff; profile=cloud-optimized&quot;, &quot;roles&quot;: [&quot;data&quot;], &quot;title&quot;: &quot;VI quality indicators&quot;, &quot;raster:bands&quot;: [{&quot;data_type&quot;: &quot;uint16&quot;, &quot;spatial_resolution&quot;: 250}]}, &quot;250m_16_days_MIR_reflectance&quot;: {&quot;href&quot;: &quot;https://modiseuwest.blob.core.windows.net/modis-061-cogs/MOD13Q1/34/09/2023273/MOD13Q1.A2023273.h34v09.061.2023290142428_250m_16_days_MIR_reflectance.tif&quot;, &quot;type&quot;: &quot;image/tiff; application=geotiff; profile=cloud-optimized&quot;, &quot;roles&quot;: [&quot;data&quot;], &quot;title&quot;: &quot;Surface Reflectance Band 7&quot;, &quot;raster:bands&quot;: [{&quot;scale&quot;: 0.0001, &quot;data_type&quot;: &quot;int16&quot;, &quot;spatial_resolution&quot;: 250}]}, &quot;250m_16_days_NIR_reflectance&quot;: {&quot;href&quot;: &quot;https://modiseuwest.blob.core.windows.net/modis-061-cogs/MOD13Q1/34/09/2023273/MOD13Q1.A2023273.h34v09.061.2023290142428_250m_16_days_NIR_reflectance.tif&quot;, &quot;type&quot;: &quot;image/tiff; application=geotiff; profile=cloud-optimized&quot;, &quot;roles&quot;: [&quot;data&quot;], &quot;title&quot;: &quot;Surface Reflectance Band 2&quot;, &quot;raster:bands&quot;: [{&quot;scale&quot;: 0.0001, &quot;data_type&quot;: &quot;int16&quot;, &quot;spatial_resolution&quot;: 250}]}, &quot;250m_16_days_red_reflectance&quot;: {&quot;href&quot;: &quot;https://modiseuwest.blob.core.windows.net/modis-061-cogs/MOD13Q1/34/09/2023273/MOD13Q1.A2023273.h34v09.061.2023290142428_250m_16_days_red_reflectance.tif&quot;, &quot;type&quot;: &quot;image/tiff; application=geotiff; profile=cloud-optimized&quot;, &quot;roles&quot;: [&quot;data&quot;], &quot;title&quot;: &quot;Surface Reflectance Band 1&quot;, &quot;raster:bands&quot;: [{&quot;scale&quot;: 0.0001, &quot;data_type&quot;: &quot;int16&quot;, &quot;spatial_resolution&quot;: 250}]}, &quot;250m_16_days_blue_reflectance&quot;: {&quot;href&quot;: &quot;https://modiseuwest.blob.core.windows.net/modis-061-cogs/MOD13Q1/34/09/2023273/MOD13Q1.A2023273.h34v09.061.2023290142428_250m_16_days_blue_reflectance.tif&quot;, &quot;type&quot;: &quot;image/tiff; application=geotiff; profile=cloud-optimized&quot;, &quot;roles&quot;: [&quot;data&quot;], &quot;title&quot;: &quot;Surface Reflectance Band 3&quot;, &quot;raster:bands&quot;: [{&quot;scale&quot;: 0.0001, &quot;data_type&quot;: &quot;int16&quot;, &quot;spatial_resolution&quot;: 250}]}, &quot;250m_16_days_sun_zenith_angle&quot;: {&quot;href&quot;: &quot;https://modiseuwest.blob.core.windows.net/modis-061-cogs/MOD13Q1/34/09/2023273/MOD13Q1.A2023273.h34v09.061.2023290142428_250m_16_days_sun_zenith_angle.tif&quot;, &quot;type&quot;: &quot;image/tiff; application=geotiff; profile=cloud-optimized&quot;, &quot;roles&quot;: [&quot;data&quot;], &quot;title&quot;: &quot;Sun zenith angle of VI pixel&quot;, &quot;raster:bands&quot;: [{&quot;unit&quot;: &quot;Degree&quot;, &quot;scale&quot;: 0.01, &quot;data_type&quot;: &quot;int16&quot;, &quot;spatial_resolution&quot;: 250}]}, &quot;250m_16_days_pixel_reliability&quot;: {&quot;href&quot;: &quot;https://modiseuwest.blob.core.windows.net/modis-061-cogs/MOD13Q1/34/09/2023273/MOD13Q1.A2023273.h34v09.061.2023290142428_250m_16_days_pixel_reliability.tif&quot;, &quot;type&quot;: &quot;image/tiff; application=geotiff; profile=cloud-optimized&quot;, &quot;roles&quot;: [&quot;data&quot;], &quot;title&quot;: &quot;Quality reliability of VI pixel&quot;, &quot;raster:bands&quot;: [{&quot;unit&quot;: &quot;Rank&quot;, &quot;data_type&quot;: &quot;int8&quot;, &quot;spatial_resolution&quot;: 250}], &quot;classification:classes&quot;: [{&quot;value&quot;: 0, &quot;description&quot;: &quot;Good data, use with confidence&quot;}, {&quot;value&quot;: 1, &quot;description&quot;: &quot;Marginal data, useful, but look at other QA information&quot;}, {&quot;value&quot;: 2, &quot;description&quot;: &quot;Snow/Ice Target covered with snow/ice&quot;}, {&quot;value&quot;: 3, &quot;description&quot;: &quot;Cloudy data&quot;}]}, &quot;250m_16_days_view_zenith_angle&quot;: {&quot;href&quot;: &quot;https://modiseuwest.blob.core.windows.net/modis-061-cogs/MOD13Q1/34/09/2023273/MOD13Q1.A2023273.h34v09.061.2023290142428_250m_16_days_view_zenith_angle.tif&quot;, &quot;type&quot;: &quot;image/tiff; application=geotiff; profile=cloud-optimized&quot;, &quot;roles&quot;: [&quot;data&quot;], &quot;title&quot;: &quot;View zenith angle of VI Pixel&quot;, &quot;raster:bands&quot;: [{&quot;unit&quot;: &quot;Degree&quot;, &quot;scale&quot;: 0.01, &quot;data_type&quot;: &quot;int16&quot;, &quot;spatial_resolution&quot;: 250}]}, &quot;250m_16_days_relative_azimuth_angle&quot;: {&quot;href&quot;: &quot;https://modiseuwest.blob.core.windows.net/modis-061-cogs/MOD13Q1/34/09/2023273/MOD13Q1.A2023273.h34v09.061.2023290142428_250m_16_days_relative_azimuth_angle.tif&quot;, &quot;type&quot;: &quot;image/tiff; application=geotiff; profile=cloud-optimized&quot;, &quot;roles&quot;: [&quot;data&quot;], &quot;title&quot;: &quot;Relative azimuth angle of VI pixel&quot;, &quot;raster:bands&quot;: [{&quot;unit&quot;: &quot;Degree&quot;, &quot;scale&quot;: 0.01, &quot;data_type&quot;: &quot;int16&quot;, &quot;spatial_resolution&quot;: 250}]}, &quot;250m_16_days_composite_day_of_the_year&quot;: {&quot;href&quot;: &quot;https://modiseuwest.blob.core.windows.net/modis-061-cogs/MOD13Q1/34/09/2023273/MOD13Q1.A2023273.h34v09.061.2023290142428_250m_16_days_composite_day_of_the_year.tif&quot;, &quot;type&quot;: &quot;image/tiff; application=geotiff; profile=cloud-optimized&quot;, &quot;roles&quot;: [&quot;data&quot;], &quot;title&quot;: &quot;Day of year VI pixel&quot;, &quot;raster:bands&quot;: [{&quot;unit&quot;: &quot;Julian Day&quot;, &quot;data_type&quot;: &quot;int16&quot;, &quot;spatial_resolution&quot;: 250}]}}, &quot;geometry&quot;: {&quot;type&quot;: &quot;Polygon&quot;, &quot;coordinates&quot;: [[[161.843301930763, -10.0140501371706], [159.40190039747, -0.000962695951550389], [170.023175852499, 0.0160513468129103], [172.624340995627, -9.9999682964894], [161.843301930763, -10.0140501371706]]]}, &quot;collection&quot;: &quot;modis-13Q1-061&quot;, &quot;properties&quot;: {&quot;created&quot;: &quot;2023-10-17T18:24:28Z&quot;, &quot;updated&quot;: &quot;2023-10-17T13:28:21.258000Z&quot;, &quot;platform&quot;: &quot;terra&quot;, &quot;proj:wkt2&quot;: &quot;PROJCS[\\&quot;unnamed\\&quot;,GEOGCS[\\&quot;Unknown datum based upon the custom spheroid\\&quot;,DATUM[\\&quot;Not specified (based on custom spheroid)\\&quot;,SPHEROID[\\&quot;Custom spheroid\\&quot;,6371007.181,0]],PRIMEM[\\&quot;Greenwich\\&quot;,0],UNIT[\\&quot;degree\\&quot;,0.0174532925199433,AUTHORITY[\\&quot;EPSG\\&quot;,\\&quot;9122\\&quot;]]],PROJECTION[\\&quot;Sinusoidal\\&quot;],PARAMETER[\\&quot;longitude_of_center\\&quot;,0],PARAMETER[\\&quot;false_easting\\&quot;,0],PARAMETER[\\&quot;false_northing\\&quot;,0],UNIT[\\&quot;Meter\\&quot;,1],AXIS[\\&quot;Easting\\&quot;,EAST],AXIS[\\&quot;Northing\\&quot;,NORTH]]&quot;, &quot;proj:shape&quot;: [4800, 4800], &quot;instruments&quot;: [&quot;modis&quot;], &quot;end_datetime&quot;: &quot;2023-10-15T23:59:59Z&quot;, &quot;modis:tile-id&quot;: &quot;51034009&quot;, &quot;proj:geometry&quot;: {&quot;type&quot;: &quot;Polygon&quot;, &quot;coordinates&quot;: [[[18903158.834333, -1111950.519667], [18903158.834333, 0.0], [17791208.314667, 0.0], [17791208.314667, -1111950.519667], [18903158.834333, -1111950.519667]]]}, &quot;proj:transform&quot;: [231.65635826374947, 0.0, 17791208.314667, 0.0, -231.65635826395834, 0.0], &quot;start_datetime&quot;: &quot;2023-09-30T00:00:00Z&quot;, &quot;modis:vertical-tile&quot;: 9, &quot;modis:horizontal-tile&quot;: 34}, &quot;stac_version&quot;: &quot;1.0.0&quot;, &quot;stac_extensions&quot;: [&quot;https://stac-extensions.github.io/projection/v1.1.0/schema.json&quot;, &quot;https://stac-extensions.github.io/raster/v1.1.0/schema.json&quot;, &quot;https://stac-extensions.github.io/classification/v1.0.0/schema.json&quot;]}, {&quot;id&quot;: &quot;MOD13Q1.A2023273.h34v08.061.2023290143333&quot;, &quot;bbox&quot;: [159.401904891107, -0.0160681308193304, 172.633154206439, 10.0140323226274], &quot;type&quot;: &quot;Feature&quot;, &quot;links&quot;: [{&quot;rel&quot;: &quot;collection&quot;, &quot;href&quot;: &quot;https://planetarycomputer.microsoft.com/api/stac/v1/collections/modis-13Q1-061&quot;, &quot;type&quot;: &quot;application/json&quot;}, {&quot;rel&quot;: &quot;parent&quot;, &quot;href&quot;: &quot;https://planetarycomputer.microsoft.com/api/stac/v1/collections/modis-13Q1-061&quot;, &quot;type&quot;: &quot;application/json&quot;}, {&quot;rel&quot;: &quot;root&quot;, &quot;href&quot;: &quot;https://planetarycomputer.microsoft.com/api/stac/v1&quot;, &quot;type&quot;: &quot;application/json&quot;, &quot;title&quot;: &quot;Microsoft Planetary Computer STAC API&quot;}, {&quot;rel&quot;: &quot;self&quot;, &quot;href&quot;: &quot;https://planetarycomputer.microsoft.com/api/stac/v1/collections/modis-13Q1-061/items/MOD13Q1.A2023273.h34v08.061.2023290143333&quot;, &quot;type&quot;: &quot;application/geo+json&quot;}, {&quot;rel&quot;: &quot;preview&quot;, &quot;href&quot;: &quot;https://planetarycomputer.microsoft.com/api/data/v1/item/map?collection=modis-13Q1-061&amp;item=MOD13Q1.A2023273.h34v08.061.2023290143333&quot;, &quot;type&quot;: &quot;text/html&quot;, &quot;title&quot;: &quot;Map of item&quot;}], &quot;assets&quot;: {&quot;hdf&quot;: {&quot;href&quot;: &quot;https://modiseuwest.blob.core.windows.net/modis-061/MOD13Q1/34/08/2023273/MOD13Q1.A2023273.h34v08.061.2023290143333.hdf&quot;, &quot;type&quot;: &quot;application/x-hdf&quot;, &quot;roles&quot;: [&quot;data&quot;], &quot;title&quot;: &quot;Source data containing all bands&quot;}, &quot;metadata&quot;: {&quot;href&quot;: &quot;https://modiseuwest.blob.core.windows.net/modis-061/MOD13Q1/34/08/2023273/MOD13Q1.A2023273.h34v08.061.2023290143333.hdf.xml&quot;, &quot;type&quot;: &quot;application/xml&quot;, &quot;roles&quot;: [&quot;metadata&quot;], &quot;title&quot;: &quot;Federal Geographic Data Committee (FGDC) Metadata&quot;}, &quot;tilejson&quot;: {&quot;href&quot;: &quot;https://planetarycomputer.microsoft.com/api/data/v1/item/tilejson.json?collection=modis-13Q1-061&amp;item=MOD13Q1.A2023273.h34v08.061.2023290143333&amp;assets=250m_16_days_NDVI&amp;tile_format=png&amp;colormap_name=modis-13A1%7CQ1&amp;rescale=0%2C10000&amp;format=png&quot;, &quot;type&quot;: &quot;application/json&quot;, &quot;roles&quot;: [&quot;tiles&quot;], &quot;title&quot;: &quot;TileJSON with default rendering&quot;}, &quot;250m_16_days_EVI&quot;: {&quot;href&quot;: &quot;https://modiseuwest.blob.core.windows.net/modis-061-cogs/MOD13Q1/34/08/2023273/MOD13Q1.A2023273.h34v08.061.2023290143333_250m_16_days_EVI.tif&quot;, &quot;type&quot;: &quot;image/tiff; application=geotiff; profile=cloud-optimized&quot;, &quot;roles&quot;: [&quot;data&quot;], &quot;title&quot;: &quot;16 day EVI&quot;, &quot;raster:bands&quot;: [{&quot;unit&quot;: &quot;EVI&quot;, &quot;scale&quot;: 0.0001, &quot;data_type&quot;: &quot;int16&quot;, &quot;spatial_resolution&quot;: 250}]}, &quot;rendered_preview&quot;: {&quot;rel&quot;: &quot;preview&quot;, &quot;href&quot;: &quot;https://planetarycomputer.microsoft.com/api/data/v1/item/preview.png?collection=modis-13Q1-061&amp;item=MOD13Q1.A2023273.h34v08.061.2023290143333&amp;assets=250m_16_days_NDVI&amp;tile_format=png&amp;colormap_name=modis-13A1%7CQ1&amp;rescale=0%2C10000&amp;format=png&quot;, &quot;type&quot;: &quot;image/png&quot;, &quot;roles&quot;: [&quot;overview&quot;], &quot;title&quot;: &quot;Rendered preview&quot;}, &quot;250m_16_days_NDVI&quot;: {&quot;href&quot;: &quot;https://modiseuwest.blob.core.windows.net/modis-061-cogs/MOD13Q1/34/08/2023273/MOD13Q1.A2023273.h34v08.061.2023290143333_250m_16_days_NDVI.tif&quot;, &quot;type&quot;: &quot;image/tiff; application=geotiff; profile=cloud-optimized&quot;, &quot;roles&quot;: [&quot;data&quot;], &quot;title&quot;: &quot;16 day NDVI&quot;, &quot;raster:bands&quot;: [{&quot;unit&quot;: &quot;NDVI&quot;, &quot;scale&quot;: 0.0001, &quot;data_type&quot;: &quot;int16&quot;, &quot;spatial_resolution&quot;: 250}]}, &quot;250m_16_days_VI_Quality&quot;: {&quot;href&quot;: &quot;https://modiseuwest.blob.core.windows.net/modis-061-cogs/MOD13Q1/34/08/2023273/MOD13Q1.A2023273.h34v08.061.2023290143333_250m_16_days_VI_Quality.tif&quot;, &quot;type&quot;: &quot;image/tiff; application=geotiff; profile=cloud-optimized&quot;, &quot;roles&quot;: [&quot;data&quot;], &quot;title&quot;: &quot;VI quality indicators&quot;, &quot;raster:bands&quot;: [{&quot;data_type&quot;: &quot;uint16&quot;, &quot;spatial_resolution&quot;: 250}]}, &quot;250m_16_days_MIR_reflectance&quot;: {&quot;href&quot;: &quot;https://modiseuwest.blob.core.windows.net/modis-061-cogs/MOD13Q1/34/08/2023273/MOD13Q1.A2023273.h34v08.061.2023290143333_250m_16_days_MIR_reflectance.tif&quot;, &quot;type&quot;: &quot;image/tiff; application=geotiff; profile=cloud-optimized&quot;, &quot;roles&quot;: [&quot;data&quot;], &quot;title&quot;: &quot;Surface Reflectance Band 7&quot;, &quot;raster:bands&quot;: [{&quot;scale&quot;: 0.0001, &quot;data_type&quot;: &quot;int16&quot;, &quot;spatial_resolution&quot;: 250}]}, &quot;250m_16_days_NIR_reflectance&quot;: {&quot;href&quot;: &quot;https://modiseuwest.blob.core.windows.net/modis-061-cogs/MOD13Q1/34/08/2023273/MOD13Q1.A2023273.h34v08.061.2023290143333_250m_16_days_NIR_reflectance.tif&quot;, &quot;type&quot;: &quot;image/tiff; application=geotiff; profile=cloud-optimized&quot;, &quot;roles&quot;: [&quot;data&quot;], &quot;title&quot;: &quot;Surface Reflectance Band 2&quot;, &quot;raster:bands&quot;: [{&quot;scale&quot;: 0.0001, &quot;data_type&quot;: &quot;int16&quot;, &quot;spatial_resolution&quot;: 250}]}, &quot;250m_16_days_red_reflectance&quot;: {&quot;href&quot;: &quot;https://modiseuwest.blob.core.windows.net/modis-061-cogs/MOD13Q1/34/08/2023273/MOD13Q1.A2023273.h34v08.061.2023290143333_250m_16_days_red_reflectance.tif&quot;, &quot;type&quot;: &quot;image/tiff; application=geotiff; profile=cloud-optimized&quot;, &quot;roles&quot;: [&quot;data&quot;], &quot;title&quot;: &quot;Surface Reflectance Band 1&quot;, &quot;raster:bands&quot;: [{&quot;scale&quot;: 0.0001, &quot;data_type&quot;: &quot;int16&quot;, &quot;spatial_resolution&quot;: 250}]}, &quot;250m_16_days_blue_reflectance&quot;: {&quot;href&quot;: &quot;https://modiseuwest.blob.core.windows.net/modis-061-cogs/MOD13Q1/34/08/2023273/MOD13Q1.A2023273.h34v08.061.2023290143333_250m_16_days_blue_reflectance.tif&quot;, &quot;type&quot;: &quot;image/tiff; application=geotiff; profile=cloud-optimized&quot;, &quot;roles&quot;: [&quot;data&quot;], &quot;title&quot;: &quot;Surface Reflectance Band 3&quot;, &quot;raster:bands&quot;: [{&quot;scale&quot;: 0.0001, &quot;data_type&quot;: &quot;int16&quot;, &quot;spatial_resolution&quot;: 250}]}, &quot;250m_16_days_sun_zenith_angle&quot;: {&quot;href&quot;: &quot;https://modiseuwest.blob.core.windows.net/modis-061-cogs/MOD13Q1/34/08/2023273/MOD13Q1.A2023273.h34v08.061.2023290143333_250m_16_days_sun_zenith_angle.tif&quot;, &quot;type&quot;: &quot;image/tiff; application=geotiff; profile=cloud-optimized&quot;, &quot;roles&quot;: [&quot;data&quot;], &quot;title&quot;: &quot;Sun zenith angle of VI pixel&quot;, &quot;raster:bands&quot;: [{&quot;unit&quot;: &quot;Degree&quot;, &quot;scale&quot;: 0.01, &quot;data_type&quot;: &quot;int16&quot;, &quot;spatial_resolution&quot;: 250}]}, &quot;250m_16_days_pixel_reliability&quot;: {&quot;href&quot;: &quot;https://modiseuwest.blob.core.windows.net/modis-061-cogs/MOD13Q1/34/08/2023273/MOD13Q1.A2023273.h34v08.061.2023290143333_250m_16_days_pixel_reliability.tif&quot;, &quot;type&quot;: &quot;image/tiff; application=geotiff; profile=cloud-optimized&quot;, &quot;roles&quot;: [&quot;data&quot;], &quot;title&quot;: &quot;Quality reliability of VI pixel&quot;, &quot;raster:bands&quot;: [{&quot;unit&quot;: &quot;Rank&quot;, &quot;data_type&quot;: &quot;int8&quot;, &quot;spatial_resolution&quot;: 250}], &quot;classification:classes&quot;: [{&quot;value&quot;: 0, &quot;description&quot;: &quot;Good data, use with confidence&quot;}, {&quot;value&quot;: 1, &quot;description&quot;: &quot;Marginal data, useful, but look at other QA information&quot;}, {&quot;value&quot;: 2, &quot;description&quot;: &quot;Snow/Ice Target covered with snow/ice&quot;}, {&quot;value&quot;: 3, &quot;description&quot;: &quot;Cloudy data&quot;}]}, &quot;250m_16_days_view_zenith_angle&quot;: {&quot;href&quot;: &quot;https://modiseuwest.blob.core.windows.net/modis-061-cogs/MOD13Q1/34/08/2023273/MOD13Q1.A2023273.h34v08.061.2023290143333_250m_16_days_view_zenith_angle.tif&quot;, &quot;type&quot;: &quot;image/tiff; application=geotiff; profile=cloud-optimized&quot;, &quot;roles&quot;: [&quot;data&quot;], &quot;title&quot;: &quot;View zenith angle of VI Pixel&quot;, &quot;raster:bands&quot;: [{&quot;unit&quot;: &quot;Degree&quot;, &quot;scale&quot;: 0.01, &quot;data_type&quot;: &quot;int16&quot;, &quot;spatial_resolution&quot;: 250}]}, &quot;250m_16_days_relative_azimuth_angle&quot;: {&quot;href&quot;: &quot;https://modiseuwest.blob.core.windows.net/modis-061-cogs/MOD13Q1/34/08/2023273/MOD13Q1.A2023273.h34v08.061.2023290143333_250m_16_days_relative_azimuth_angle.tif&quot;, &quot;type&quot;: &quot;image/tiff; application=geotiff; profile=cloud-optimized&quot;, &quot;roles&quot;: [&quot;data&quot;], &quot;title&quot;: &quot;Relative azimuth angle of VI pixel&quot;, &quot;raster:bands&quot;: [{&quot;unit&quot;: &quot;Degree&quot;, &quot;scale&quot;: 0.01, &quot;data_type&quot;: &quot;int16&quot;, &quot;spatial_resolution&quot;: 250}]}, &quot;250m_16_days_composite_day_of_the_year&quot;: {&quot;href&quot;: &quot;https://modiseuwest.blob.core.windows.net/modis-061-cogs/MOD13Q1/34/08/2023273/MOD13Q1.A2023273.h34v08.061.2023290143333_250m_16_days_composite_day_of_the_year.tif&quot;, &quot;type&quot;: &quot;image/tiff; application=geotiff; profile=cloud-optimized&quot;, &quot;roles&quot;: [&quot;data&quot;], &quot;title&quot;: &quot;Day of year VI pixel&quot;, &quot;raster:bands&quot;: [{&quot;unit&quot;: &quot;Julian Day&quot;, &quot;data_type&quot;: &quot;int16&quot;, &quot;spatial_resolution&quot;: 250}]}}, &quot;geometry&quot;: {&quot;type&quot;: &quot;Polygon&quot;, &quot;coordinates&quot;: [[[159.401904891107, 0.000963687575697164], [161.843293083131, 10.0140323226274], [172.633154206439, 9.99981440242935], [170.023257540113, -0.0160681308193304], [159.401904891107, 0.000963687575697164]]]}, &quot;collection&quot;: &quot;modis-13Q1-061&quot;, &quot;properties&quot;: {&quot;created&quot;: &quot;2023-10-17T18:33:33Z&quot;, &quot;updated&quot;: &quot;2023-10-17T13:40:11.465000Z&quot;, &quot;platform&quot;: &quot;terra&quot;, &quot;proj:wkt2&quot;: &quot;PROJCS[\\&quot;unnamed\\&quot;,GEOGCS[\\&quot;Unknown datum based upon the custom spheroid\\&quot;,DATUM[\\&quot;Not specified (based on custom spheroid)\\&quot;,SPHEROID[\\&quot;Custom spheroid\\&quot;,6371007.181,0]],PRIMEM[\\&quot;Greenwich\\&quot;,0],UNIT[\\&quot;degree\\&quot;,0.0174532925199433,AUTHORITY[\\&quot;EPSG\\&quot;,\\&quot;9122\\&quot;]]],PROJECTION[\\&quot;Sinusoidal\\&quot;],PARAMETER[\\&quot;longitude_of_center\\&quot;,0],PARAMETER[\\&quot;false_easting\\&quot;,0],PARAMETER[\\&quot;false_northing\\&quot;,0],UNIT[\\&quot;Meter\\&quot;,1],AXIS[\\&quot;Easting\\&quot;,EAST],AXIS[\\&quot;Northing\\&quot;,NORTH]]&quot;, &quot;proj:shape&quot;: [4800, 4800], &quot;instruments&quot;: [&quot;modis&quot;], &quot;end_datetime&quot;: &quot;2023-10-15T23:59:59Z&quot;, &quot;modis:tile-id&quot;: &quot;51034008&quot;, &quot;proj:geometry&quot;: {&quot;type&quot;: &quot;Polygon&quot;, &quot;coordinates&quot;: [[[18903158.834333, 0.0], [18903158.834333, 1111950.519667], [17791208.314667, 1111950.519667], [17791208.314667, 0.0], [18903158.834333, 0.0]]]}, &quot;proj:transform&quot;: [231.65635826374947, 0.0, 17791208.314667, 0.0, -231.65635826395834, 1111950.519667], &quot;start_datetime&quot;: &quot;2023-09-30T00:00:00Z&quot;, &quot;modis:vertical-tile&quot;: 8, &quot;modis:horizontal-tile&quot;: 34}, &quot;stac_version&quot;: &quot;1.0.0&quot;, &quot;stac_extensions&quot;: [&quot;https://stac-extensions.github.io/projection/v1.1.0/schema.json&quot;, &quot;https://stac-extensions.github.io/raster/v1.1.0/schema.json&quot;, &quot;https://stac-extensions.github.io/classification/v1.0.0/schema.json&quot;]}, {&quot;id&quot;: &quot;MOD13Q1.A2023273.h34v07.061.2023290140925&quot;, &quot;bbox&quot;: [162.218267079146, 9.72432164126745, 180.048970382293, 20.2677999045792], &quot;type&quot;: &quot;Feature&quot;, &quot;links&quot;: [{&quot;rel&quot;: &quot;collection&quot;, &quot;href&quot;: &quot;https://planetarycomputer.microsoft.com/api/stac/v1/collections/modis-13Q1-061&quot;, &quot;type&quot;: &quot;application/json&quot;}, {&quot;rel&quot;: &quot;parent&quot;, &quot;href&quot;: &quot;https://planetarycomputer.microsoft.com/api/stac/v1/collections/modis-13Q1-061&quot;, &quot;type&quot;: &quot;application/json&quot;}, {&quot;rel&quot;: &quot;root&quot;, &quot;href&quot;: &quot;https://planetarycomputer.microsoft.com/api/stac/v1&quot;, &quot;type&quot;: &quot;application/json&quot;, &quot;title&quot;: &quot;Microsoft Planetary Computer STAC API&quot;}, {&quot;rel&quot;: &quot;self&quot;, &quot;href&quot;: &quot;https://planetarycomputer.microsoft.com/api/stac/v1/collections/modis-13Q1-061/items/MOD13Q1.A2023273.h34v07.061.2023290140925&quot;, &quot;type&quot;: &quot;application/geo+json&quot;}, {&quot;rel&quot;: &quot;preview&quot;, &quot;href&quot;: &quot;https://planetarycomputer.microsoft.com/api/data/v1/item/map?collection=modis-13Q1-061&amp;item=MOD13Q1.A2023273.h34v07.061.2023290140925&quot;, &quot;type&quot;: &quot;text/html&quot;, &quot;title&quot;: &quot;Map of item&quot;}], &quot;assets&quot;: {&quot;hdf&quot;: {&quot;href&quot;: &quot;https://modiseuwest.blob.core.windows.net/modis-061/MOD13Q1/34/07/2023273/MOD13Q1.A2023273.h34v07.061.2023290140925.hdf&quot;, &quot;type&quot;: &quot;application/x-hdf&quot;, &quot;roles&quot;: [&quot;data&quot;], &quot;title&quot;: &quot;Source data containing all bands&quot;}, &quot;metadata&quot;: {&quot;href&quot;: &quot;https://modiseuwest.blob.core.windows.net/modis-061/MOD13Q1/34/07/2023273/MOD13Q1.A2023273.h34v07.061.2023290140925.hdf.xml&quot;, &quot;type&quot;: &quot;application/xml&quot;, &quot;roles&quot;: [&quot;metadata&quot;], &quot;title&quot;: &quot;Federal Geographic Data Committee (FGDC) Metadata&quot;}, &quot;tilejson&quot;: {&quot;href&quot;: &quot;https://planetarycomputer.microsoft.com/api/data/v1/item/tilejson.json?collection=modis-13Q1-061&amp;item=MOD13Q1.A2023273.h34v07.061.2023290140925&amp;assets=250m_16_days_NDVI&amp;tile_format=png&amp;colormap_name=modis-13A1%7CQ1&amp;rescale=0%2C10000&amp;format=png&quot;, &quot;type&quot;: &quot;application/json&quot;, &quot;roles&quot;: [&quot;tiles&quot;], &quot;title&quot;: &quot;TileJSON with default rendering&quot;}, &quot;250m_16_days_EVI&quot;: {&quot;href&quot;: &quot;https://modiseuwest.blob.core.windows.net/modis-061-cogs/MOD13Q1/34/07/2023273/MOD13Q1.A2023273.h34v07.061.2023290140925_250m_16_days_EVI.tif&quot;, &quot;type&quot;: &quot;image/tiff; application=geotiff; profile=cloud-optimized&quot;, &quot;roles&quot;: [&quot;data&quot;], &quot;title&quot;: &quot;16 day EVI&quot;, &quot;raster:bands&quot;: [{&quot;unit&quot;: &quot;EVI&quot;, &quot;scale&quot;: 0.0001, &quot;data_type&quot;: &quot;int16&quot;, &quot;spatial_resolution&quot;: 250}]}, &quot;rendered_preview&quot;: {&quot;rel&quot;: &quot;preview&quot;, &quot;href&quot;: &quot;https://planetarycomputer.microsoft.com/api/data/v1/item/preview.png?collection=modis-13Q1-061&amp;item=MOD13Q1.A2023273.h34v07.061.2023290140925&amp;assets=250m_16_days_NDVI&amp;tile_format=png&amp;colormap_name=modis-13A1%7CQ1&amp;rescale=0%2C10000&amp;format=png&quot;, &quot;type&quot;: &quot;image/png&quot;, &quot;roles&quot;: [&quot;overview&quot;], &quot;title&quot;: &quot;Rendered preview&quot;}, &quot;250m_16_days_NDVI&quot;: {&quot;href&quot;: &quot;https://modiseuwest.blob.core.windows.net/modis-061-cogs/MOD13Q1/34/07/2023273/MOD13Q1.A2023273.h34v07.061.2023290140925_250m_16_days_NDVI.tif&quot;, &quot;type&quot;: &quot;image/tiff; application=geotiff; profile=cloud-optimized&quot;, &quot;roles&quot;: [&quot;data&quot;], &quot;title&quot;: &quot;16 day NDVI&quot;, &quot;raster:bands&quot;: [{&quot;unit&quot;: &quot;NDVI&quot;, &quot;scale&quot;: 0.0001, &quot;data_type&quot;: &quot;int16&quot;, &quot;spatial_resolution&quot;: 250}]}, &quot;250m_16_days_VI_Quality&quot;: {&quot;href&quot;: &quot;https://modiseuwest.blob.core.windows.net/modis-061-cogs/MOD13Q1/34/07/2023273/MOD13Q1.A2023273.h34v07.061.2023290140925_250m_16_days_VI_Quality.tif&quot;, &quot;type&quot;: &quot;image/tiff; application=geotiff; profile=cloud-optimized&quot;, &quot;roles&quot;: [&quot;data&quot;], &quot;title&quot;: &quot;VI quality indicators&quot;, &quot;raster:bands&quot;: [{&quot;data_type&quot;: &quot;uint16&quot;, &quot;spatial_resolution&quot;: 250}]}, &quot;250m_16_days_MIR_reflectance&quot;: {&quot;href&quot;: &quot;https://modiseuwest.blob.core.windows.net/modis-061-cogs/MOD13Q1/34/07/2023273/MOD13Q1.A2023273.h34v07.061.2023290140925_250m_16_days_MIR_reflectance.tif&quot;, &quot;type&quot;: &quot;image/tiff; application=geotiff; profile=cloud-optimized&quot;, &quot;roles&quot;: [&quot;data&quot;], &quot;title&quot;: &quot;Surface Reflectance Band 7&quot;, &quot;raster:bands&quot;: [{&quot;scale&quot;: 0.0001, &quot;data_type&quot;: &quot;int16&quot;, &quot;spatial_resolution&quot;: 250}]}, &quot;250m_16_days_NIR_reflectance&quot;: {&quot;href&quot;: &quot;https://modiseuwest.blob.core.windows.net/modis-061-cogs/MOD13Q1/34/07/2023273/MOD13Q1.A2023273.h34v07.061.2023290140925_250m_16_days_NIR_reflectance.tif&quot;, &quot;type&quot;: &quot;image/tiff; application=geotiff; profile=cloud-optimized&quot;, &quot;roles&quot;: [&quot;data&quot;], &quot;title&quot;: &quot;Surface Reflectance Band 2&quot;, &quot;raster:bands&quot;: [{&quot;scale&quot;: 0.0001, &quot;data_type&quot;: &quot;int16&quot;, &quot;spatial_resolution&quot;: 250}]}, &quot;250m_16_days_red_reflectance&quot;: {&quot;href&quot;: &quot;https://modiseuwest.blob.core.windows.net/modis-061-cogs/MOD13Q1/34/07/2023273/MOD13Q1.A2023273.h34v07.061.2023290140925_250m_16_days_red_reflectance.tif&quot;, &quot;type&quot;: &quot;image/tiff; application=geotiff; profile=cloud-optimized&quot;, &quot;roles&quot;: [&quot;data&quot;], &quot;title&quot;: &quot;Surface Reflectance Band 1&quot;, &quot;raster:bands&quot;: [{&quot;scale&quot;: 0.0001, &quot;data_type&quot;: &quot;int16&quot;, &quot;spatial_resolution&quot;: 250}]}, &quot;250m_16_days_blue_reflectance&quot;: {&quot;href&quot;: &quot;https://modiseuwest.blob.core.windows.net/modis-061-cogs/MOD13Q1/34/07/2023273/MOD13Q1.A2023273.h34v07.061.2023290140925_250m_16_days_blue_reflectance.tif&quot;, &quot;type&quot;: &quot;image/tiff; application=geotiff; profile=cloud-optimized&quot;, &quot;roles&quot;: [&quot;data&quot;], &quot;title&quot;: &quot;Surface Reflectance Band 3&quot;, &quot;raster:bands&quot;: [{&quot;scale&quot;: 0.0001, &quot;data_type&quot;: &quot;int16&quot;, &quot;spatial_resolution&quot;: 250}]}, &quot;250m_16_days_sun_zenith_angle&quot;: {&quot;href&quot;: &quot;https://modiseuwest.blob.core.windows.net/modis-061-cogs/MOD13Q1/34/07/2023273/MOD13Q1.A2023273.h34v07.061.2023290140925_250m_16_days_sun_zenith_angle.tif&quot;, &quot;type&quot;: &quot;image/tiff; application=geotiff; profile=cloud-optimized&quot;, &quot;roles&quot;: [&quot;data&quot;], &quot;title&quot;: &quot;Sun zenith angle of VI pixel&quot;, &quot;raster:bands&quot;: [{&quot;unit&quot;: &quot;Degree&quot;, &quot;scale&quot;: 0.01, &quot;data_type&quot;: &quot;int16&quot;, &quot;spatial_resolution&quot;: 250}]}, &quot;250m_16_days_pixel_reliability&quot;: {&quot;href&quot;: &quot;https://modiseuwest.blob.core.windows.net/modis-061-cogs/MOD13Q1/34/07/2023273/MOD13Q1.A2023273.h34v07.061.2023290140925_250m_16_days_pixel_reliability.tif&quot;, &quot;type&quot;: &quot;image/tiff; application=geotiff; profile=cloud-optimized&quot;, &quot;roles&quot;: [&quot;data&quot;], &quot;title&quot;: &quot;Quality reliability of VI pixel&quot;, &quot;raster:bands&quot;: [{&quot;unit&quot;: &quot;Rank&quot;, &quot;data_type&quot;: &quot;int8&quot;, &quot;spatial_resolution&quot;: 250}], &quot;classification:classes&quot;: [{&quot;value&quot;: 0, &quot;description&quot;: &quot;Good data, use with confidence&quot;}, {&quot;value&quot;: 1, &quot;description&quot;: &quot;Marginal data, useful, but look at other QA information&quot;}, {&quot;value&quot;: 2, &quot;description&quot;: &quot;Snow/Ice Target covered with snow/ice&quot;}, {&quot;value&quot;: 3, &quot;description&quot;: &quot;Cloudy data&quot;}]}, &quot;250m_16_days_view_zenith_angle&quot;: {&quot;href&quot;: &quot;https://modiseuwest.blob.core.windows.net/modis-061-cogs/MOD13Q1/34/07/2023273/MOD13Q1.A2023273.h34v07.061.2023290140925_250m_16_days_view_zenith_angle.tif&quot;, &quot;type&quot;: &quot;image/tiff; application=geotiff; profile=cloud-optimized&quot;, &quot;roles&quot;: [&quot;data&quot;], &quot;title&quot;: &quot;View zenith angle of VI Pixel&quot;, &quot;raster:bands&quot;: [{&quot;unit&quot;: &quot;Degree&quot;, &quot;scale&quot;: 0.01, &quot;data_type&quot;: &quot;int16&quot;, &quot;spatial_resolution&quot;: 250}]}, &quot;250m_16_days_relative_azimuth_angle&quot;: {&quot;href&quot;: &quot;https://modiseuwest.blob.core.windows.net/modis-061-cogs/MOD13Q1/34/07/2023273/MOD13Q1.A2023273.h34v07.061.2023290140925_250m_16_days_relative_azimuth_angle.tif&quot;, &quot;type&quot;: &quot;image/tiff; application=geotiff; profile=cloud-optimized&quot;, &quot;roles&quot;: [&quot;data&quot;], &quot;title&quot;: &quot;Relative azimuth angle of VI pixel&quot;, &quot;raster:bands&quot;: [{&quot;unit&quot;: &quot;Degree&quot;, &quot;scale&quot;: 0.01, &quot;data_type&quot;: &quot;int16&quot;, &quot;spatial_resolution&quot;: 250}]}, &quot;250m_16_days_composite_day_of_the_year&quot;: {&quot;href&quot;: &quot;https://modiseuwest.blob.core.windows.net/modis-061-cogs/MOD13Q1/34/07/2023273/MOD13Q1.A2023273.h34v07.061.2023290140925_250m_16_days_composite_day_of_the_year.tif&quot;, &quot;type&quot;: &quot;image/tiff; application=geotiff; profile=cloud-optimized&quot;, &quot;roles&quot;: [&quot;data&quot;], &quot;title&quot;: &quot;Day of year VI pixel&quot;, &quot;raster:bands&quot;: [{&quot;unit&quot;: &quot;Julian Day&quot;, &quot;data_type&quot;: &quot;int16&quot;, &quot;spatial_resolution&quot;: 250}]}}, &quot;geometry&quot;: {&quot;type&quot;: &quot;Polygon&quot;, &quot;coordinates&quot;: [[[162.468655072985, 9.98296436450166], [179.465521528851, 9.72432164126745], [180.048970382293, 19.9967803797242], [162.218267079146, 20.2677999045792], [162.468655072985, 9.98296436450166]]]}, &quot;collection&quot;: &quot;modis-13Q1-061&quot;, &quot;properties&quot;: {&quot;created&quot;: &quot;2023-10-17T18:09:25Z&quot;, &quot;updated&quot;: &quot;2023-10-17T13:16:31.796000Z&quot;, &quot;platform&quot;: &quot;terra&quot;, &quot;proj:wkt2&quot;: &quot;PROJCS[\\&quot;unnamed\\&quot;,GEOGCS[\\&quot;Unknown datum based upon the custom spheroid\\&quot;,DATUM[\\&quot;Not specified (based on custom spheroid)\\&quot;,SPHEROID[\\&quot;Custom spheroid\\&quot;,6371007.181,0]],PRIMEM[\\&quot;Greenwich\\&quot;,0],UNIT[\\&quot;degree\\&quot;,0.0174532925199433,AUTHORITY[\\&quot;EPSG\\&quot;,\\&quot;9122\\&quot;]]],PROJECTION[\\&quot;Sinusoidal\\&quot;],PARAMETER[\\&quot;longitude_of_center\\&quot;,0],PARAMETER[\\&quot;false_easting\\&quot;,0],PARAMETER[\\&quot;false_northing\\&quot;,0],UNIT[\\&quot;Meter\\&quot;,1],AXIS[\\&quot;Easting\\&quot;,EAST],AXIS[\\&quot;Northing\\&quot;,NORTH]]&quot;, &quot;proj:shape&quot;: [4800, 4800], &quot;instruments&quot;: [&quot;modis&quot;], &quot;end_datetime&quot;: &quot;2023-10-15T23:59:59Z&quot;, &quot;modis:tile-id&quot;: &quot;51034007&quot;, &quot;proj:geometry&quot;: {&quot;type&quot;: &quot;Polygon&quot;, &quot;coordinates&quot;: [[[18903158.834333, 1111950.519667], [18903158.834333, 2223901.039333], [17791208.314667, 2223901.039333], [17791208.314667, 1111950.519667], [18903158.834333, 1111950.519667]]]}, &quot;proj:transform&quot;: [231.65635826374947, 0.0, 17791208.314667, 0.0, -231.65635826374995, 2223901.039333], &quot;start_datetime&quot;: &quot;2023-09-30T00:00:00Z&quot;, &quot;modis:vertical-tile&quot;: 7, &quot;modis:horizontal-tile&quot;: 34}, &quot;stac_version&quot;: &quot;1.0.0&quot;, &quot;stac_extensions&quot;: [&quot;https://stac-extensions.github.io/projection/v1.1.0/schema.json&quot;, &quot;https://stac-extensions.github.io/raster/v1.1.0/schema.json&quot;, &quot;https://stac-extensions.github.io/classification/v1.0.0/schema.json&quot;]}, {&quot;id&quot;: &quot;MOD13Q1.A2023273.h33v11.061.2023290143105&quot;, &quot;bbox&quot;: [159.15191110065, -30.5860517493714, 180.338520479382, -19.3488112087257], &quot;type&quot;: &quot;Feature&quot;, &quot;links&quot;: [{&quot;rel&quot;: &quot;collection&quot;, &quot;href&quot;: &quot;https://planetarycomputer.microsoft.com/api/stac/v1/collections/modis-13Q1-061&quot;, &quot;type&quot;: &quot;application/json&quot;}, {&quot;rel&quot;: &quot;parent&quot;, &quot;href&quot;: &quot;https://planetarycomputer.microsoft.com/api/stac/v1/collections/modis-13Q1-061&quot;, &quot;type&quot;: &quot;application/json&quot;}, {&quot;rel&quot;: &quot;root&quot;, &quot;href&quot;: &quot;https://planetarycomputer.microsoft.com/api/stac/v1&quot;, &quot;type&quot;: &quot;application/json&quot;, &quot;title&quot;: &quot;Microsoft Planetary Computer STAC API&quot;}, {&quot;rel&quot;: &quot;self&quot;, &quot;href&quot;: &quot;https://planetarycomputer.microsoft.com/api/stac/v1/collections/modis-13Q1-061/items/MOD13Q1.A2023273.h33v11.061.2023290143105&quot;, &quot;type&quot;: &quot;application/geo+json&quot;}, {&quot;rel&quot;: &quot;preview&quot;, &quot;href&quot;: &quot;https://planetarycomputer.microsoft.com/api/data/v1/item/map?collection=modis-13Q1-061&amp;item=MOD13Q1.A2023273.h33v11.061.2023290143105&quot;, &quot;type&quot;: &quot;text/html&quot;, &quot;title&quot;: &quot;Map of item&quot;}], &quot;assets&quot;: {&quot;hdf&quot;: {&quot;href&quot;: &quot;https://modiseuwest.blob.core.windows.net/modis-061/MOD13Q1/33/11/2023273/MOD13Q1.A2023273.h33v11.061.2023290143105.hdf&quot;, &quot;type&quot;: &quot;application/x-hdf&quot;, &quot;roles&quot;: [&quot;data&quot;], &quot;title&quot;: &quot;Source data containing all bands&quot;}, &quot;metadata&quot;: {&quot;href&quot;: &quot;https://modiseuwest.blob.core.windows.net/modis-061/MOD13Q1/33/11/2023273/MOD13Q1.A2023273.h33v11.061.2023290143105.hdf.xml&quot;, &quot;type&quot;: &quot;application/xml&quot;, &quot;roles&quot;: [&quot;metadata&quot;], &quot;title&quot;: &quot;Federal Geographic Data Committee (FGDC) Metadata&quot;}, &quot;tilejson&quot;: {&quot;href&quot;: &quot;https://planetarycomputer.microsoft.com/api/data/v1/item/tilejson.json?collection=modis-13Q1-061&amp;item=MOD13Q1.A2023273.h33v11.061.2023290143105&amp;assets=250m_16_days_NDVI&amp;tile_format=png&amp;colormap_name=modis-13A1%7CQ1&amp;rescale=0%2C10000&amp;format=png&quot;, &quot;type&quot;: &quot;application/json&quot;, &quot;roles&quot;: [&quot;tiles&quot;], &quot;title&quot;: &quot;TileJSON with default rendering&quot;}, &quot;250m_16_days_EVI&quot;: {&quot;href&quot;: &quot;https://modiseuwest.blob.core.windows.net/modis-061-cogs/MOD13Q1/33/11/2023273/MOD13Q1.A2023273.h33v11.061.2023290143105_250m_16_days_EVI.tif&quot;, &quot;type&quot;: &quot;image/tiff; application=geotiff; profile=cloud-optimized&quot;, &quot;roles&quot;: [&quot;data&quot;], &quot;title&quot;: &quot;16 day EVI&quot;, &quot;raster:bands&quot;: [{&quot;unit&quot;: &quot;EVI&quot;, &quot;scale&quot;: 0.0001, &quot;data_type&quot;: &quot;int16&quot;, &quot;spatial_resolution&quot;: 250}]}, &quot;rendered_preview&quot;: {&quot;rel&quot;: &quot;preview&quot;, &quot;href&quot;: &quot;https://planetarycomputer.microsoft.com/api/data/v1/item/preview.png?collection=modis-13Q1-061&amp;item=MOD13Q1.A2023273.h33v11.061.2023290143105&amp;assets=250m_16_days_NDVI&amp;tile_format=png&amp;colormap_name=modis-13A1%7CQ1&amp;rescale=0%2C10000&amp;format=png&quot;, &quot;type&quot;: &quot;image/png&quot;, &quot;roles&quot;: [&quot;overview&quot;], &quot;title&quot;: &quot;Rendered preview&quot;}, &quot;250m_16_days_NDVI&quot;: {&quot;href&quot;: &quot;https://modiseuwest.blob.core.windows.net/modis-061-cogs/MOD13Q1/33/11/2023273/MOD13Q1.A2023273.h33v11.061.2023290143105_250m_16_days_NDVI.tif&quot;, &quot;type&quot;: &quot;image/tiff; application=geotiff; profile=cloud-optimized&quot;, &quot;roles&quot;: [&quot;data&quot;], &quot;title&quot;: &quot;16 day NDVI&quot;, &quot;raster:bands&quot;: [{&quot;unit&quot;: &quot;NDVI&quot;, &quot;scale&quot;: 0.0001, &quot;data_type&quot;: &quot;int16&quot;, &quot;spatial_resolution&quot;: 250}]}, &quot;250m_16_days_VI_Quality&quot;: {&quot;href&quot;: &quot;https://modiseuwest.blob.core.windows.net/modis-061-cogs/MOD13Q1/33/11/2023273/MOD13Q1.A2023273.h33v11.061.2023290143105_250m_16_days_VI_Quality.tif&quot;, &quot;type&quot;: &quot;image/tiff; application=geotiff; profile=cloud-optimized&quot;, &quot;roles&quot;: [&quot;data&quot;], &quot;title&quot;: &quot;VI quality indicators&quot;, &quot;raster:bands&quot;: [{&quot;data_type&quot;: &quot;uint16&quot;, &quot;spatial_resolution&quot;: 250}]}, &quot;250m_16_days_MIR_reflectance&quot;: {&quot;href&quot;: &quot;https://modiseuwest.blob.core.windows.net/modis-061-cogs/MOD13Q1/33/11/2023273/MOD13Q1.A2023273.h33v11.061.2023290143105_250m_16_days_MIR_reflectance.tif&quot;, &quot;type&quot;: &quot;image/tiff; application=geotiff; profile=cloud-optimized&quot;, &quot;roles&quot;: [&quot;data&quot;], &quot;title&quot;: &quot;Surface Reflectance Band 7&quot;, &quot;raster:bands&quot;: [{&quot;scale&quot;: 0.0001, &quot;data_type&quot;: &quot;int16&quot;, &quot;spatial_resolution&quot;: 250}]}, &quot;250m_16_days_NIR_reflectance&quot;: {&quot;href&quot;: &quot;https://modiseuwest.blob.core.windows.net/modis-061-cogs/MOD13Q1/33/11/2023273/MOD13Q1.A2023273.h33v11.061.2023290143105_250m_16_days_NIR_reflectance.tif&quot;, &quot;type&quot;: &quot;image/tiff; application=geotiff; profile=cloud-optimized&quot;, &quot;roles&quot;: [&quot;data&quot;], &quot;title&quot;: &quot;Surface Reflectance Band 2&quot;, &quot;raster:bands&quot;: [{&quot;scale&quot;: 0.0001, &quot;data_type&quot;: &quot;int16&quot;, &quot;spatial_resolution&quot;: 250}]}, &quot;250m_16_days_red_reflectance&quot;: {&quot;href&quot;: &quot;https://modiseuwest.blob.core.windows.net/modis-061-cogs/MOD13Q1/33/11/2023273/MOD13Q1.A2023273.h33v11.061.2023290143105_250m_16_days_red_reflectance.tif&quot;, &quot;type&quot;: &quot;image/tiff; application=geotiff; profile=cloud-optimized&quot;, &quot;roles&quot;: [&quot;data&quot;], &quot;title&quot;: &quot;Surface Reflectance Band 1&quot;, &quot;raster:bands&quot;: [{&quot;scale&quot;: 0.0001, &quot;data_type&quot;: &quot;int16&quot;, &quot;spatial_resolution&quot;: 250}]}, &quot;250m_16_days_blue_reflectance&quot;: {&quot;href&quot;: &quot;https://modiseuwest.blob.core.windows.net/modis-061-cogs/MOD13Q1/33/11/2023273/MOD13Q1.A2023273.h33v11.061.2023290143105_250m_16_days_blue_reflectance.tif&quot;, &quot;type&quot;: &quot;image/tiff; application=geotiff; profile=cloud-optimized&quot;, &quot;roles&quot;: [&quot;data&quot;], &quot;title&quot;: &quot;Surface Reflectance Band 3&quot;, &quot;raster:bands&quot;: [{&quot;scale&quot;: 0.0001, &quot;data_type&quot;: &quot;int16&quot;, &quot;spatial_resolution&quot;: 250}]}, &quot;250m_16_days_sun_zenith_angle&quot;: {&quot;href&quot;: &quot;https://modiseuwest.blob.core.windows.net/modis-061-cogs/MOD13Q1/33/11/2023273/MOD13Q1.A2023273.h33v11.061.2023290143105_250m_16_days_sun_zenith_angle.tif&quot;, &quot;type&quot;: &quot;image/tiff; application=geotiff; profile=cloud-optimized&quot;, &quot;roles&quot;: [&quot;data&quot;], &quot;title&quot;: &quot;Sun zenith angle of VI pixel&quot;, &quot;raster:bands&quot;: [{&quot;unit&quot;: &quot;Degree&quot;, &quot;scale&quot;: 0.01, &quot;data_type&quot;: &quot;int16&quot;, &quot;spatial_resolution&quot;: 250}]}, &quot;250m_16_days_pixel_reliability&quot;: {&quot;href&quot;: &quot;https://modiseuwest.blob.core.windows.net/modis-061-cogs/MOD13Q1/33/11/2023273/MOD13Q1.A2023273.h33v11.061.2023290143105_250m_16_days_pixel_reliability.tif&quot;, &quot;type&quot;: &quot;image/tiff; application=geotiff; profile=cloud-optimized&quot;, &quot;roles&quot;: [&quot;data&quot;], &quot;title&quot;: &quot;Quality reliability of VI pixel&quot;, &quot;raster:bands&quot;: [{&quot;unit&quot;: &quot;Rank&quot;, &quot;data_type&quot;: &quot;int8&quot;, &quot;spatial_resolution&quot;: 250}], &quot;classification:classes&quot;: [{&quot;value&quot;: 0, &quot;description&quot;: &quot;Good data, use with confidence&quot;}, {&quot;value&quot;: 1, &quot;description&quot;: &quot;Marginal data, useful, but look at other QA information&quot;}, {&quot;value&quot;: 2, &quot;description&quot;: &quot;Snow/Ice Target covered with snow/ice&quot;}, {&quot;value&quot;: 3, &quot;description&quot;: &quot;Cloudy data&quot;}]}, &quot;250m_16_days_view_zenith_angle&quot;: {&quot;href&quot;: &quot;https://modiseuwest.blob.core.windows.net/modis-061-cogs/MOD13Q1/33/11/2023273/MOD13Q1.A2023273.h33v11.061.2023290143105_250m_16_days_view_zenith_angle.tif&quot;, &quot;type&quot;: &quot;image/tiff; application=geotiff; profile=cloud-optimized&quot;, &quot;roles&quot;: [&quot;data&quot;], &quot;title&quot;: &quot;View zenith angle of VI Pixel&quot;, &quot;raster:bands&quot;: [{&quot;unit&quot;: &quot;Degree&quot;, &quot;scale&quot;: 0.01, &quot;data_type&quot;: &quot;int16&quot;, &quot;spatial_resolution&quot;: 250}]}, &quot;250m_16_days_relative_azimuth_angle&quot;: {&quot;href&quot;: &quot;https://modiseuwest.blob.core.windows.net/modis-061-cogs/MOD13Q1/33/11/2023273/MOD13Q1.A2023273.h33v11.061.2023290143105_250m_16_days_relative_azimuth_angle.tif&quot;, &quot;type&quot;: &quot;image/tiff; application=geotiff; profile=cloud-optimized&quot;, &quot;roles&quot;: [&quot;data&quot;], &quot;title&quot;: &quot;Relative azimuth angle of VI pixel&quot;, &quot;raster:bands&quot;: [{&quot;unit&quot;: &quot;Degree&quot;, &quot;scale&quot;: 0.01, &quot;data_type&quot;: &quot;int16&quot;, &quot;spatial_resolution&quot;: 250}]}, &quot;250m_16_days_composite_day_of_the_year&quot;: {&quot;href&quot;: &quot;https://modiseuwest.blob.core.windows.net/modis-061-cogs/MOD13Q1/33/11/2023273/MOD13Q1.A2023273.h33v11.061.2023290143105_250m_16_days_composite_day_of_the_year.tif&quot;, &quot;type&quot;: &quot;image/tiff; application=geotiff; profile=cloud-optimized&quot;, &quot;roles&quot;: [&quot;data&quot;], &quot;title&quot;: &quot;Day of year VI pixel&quot;, &quot;raster:bands&quot;: [{&quot;unit&quot;: &quot;Julian Day&quot;, &quot;data_type&quot;: &quot;int16&quot;, &quot;spatial_resolution&quot;: 250}]}}, &quot;geometry&quot;: {&quot;type&quot;: &quot;Polygon&quot;, &quot;coordinates&quot;: [[[159.15191110065, -30.5860517493714], [180.338520479382, -29.9627990954245], [179.086419118062, -19.3488112087257], [159.628715323551, -19.9503809756581], [159.15191110065, -30.5860517493714]]]}, &quot;collection&quot;: &quot;modis-13Q1-061&quot;, &quot;properties&quot;: {&quot;created&quot;: &quot;2023-10-17T18:31:05Z&quot;, &quot;updated&quot;: &quot;2023-10-17T13:36:34.136000Z&quot;, &quot;platform&quot;: &quot;terra&quot;, &quot;proj:wkt2&quot;: &quot;PROJCS[\\&quot;unnamed\\&quot;,GEOGCS[\\&quot;Unknown datum based upon the custom spheroid\\&quot;,DATUM[\\&quot;Not specified (based on custom spheroid)\\&quot;,SPHEROID[\\&quot;Custom spheroid\\&quot;,6371007.181,0]],PRIMEM[\\&quot;Greenwich\\&quot;,0],UNIT[\\&quot;degree\\&quot;,0.0174532925199433,AUTHORITY[\\&quot;EPSG\\&quot;,\\&quot;9122\\&quot;]]],PROJECTION[\\&quot;Sinusoidal\\&quot;],PARAMETER[\\&quot;longitude_of_center\\&quot;,0],PARAMETER[\\&quot;false_easting\\&quot;,0],PARAMETER[\\&quot;false_northing\\&quot;,0],UNIT[\\&quot;Meter\\&quot;,1],AXIS[\\&quot;Easting\\&quot;,EAST],AXIS[\\&quot;Northing\\&quot;,NORTH]]&quot;, &quot;proj:shape&quot;: [4800, 4800], &quot;instruments&quot;: [&quot;modis&quot;], &quot;end_datetime&quot;: &quot;2023-10-15T23:59:59Z&quot;, &quot;modis:tile-id&quot;: &quot;51033011&quot;, &quot;proj:geometry&quot;: {&quot;type&quot;: &quot;Polygon&quot;, &quot;coordinates&quot;: [[[17791208.314667, -3335851.559], [17791208.314667, -2223901.039333], [16679257.795, -2223901.039333], [16679257.795, -3335851.559], [17791208.314667, -3335851.559]]]}, &quot;proj:transform&quot;: [231.65635826395862, 0.0, 16679257.795, 0.0, -231.65635826395834, -2223901.039333], &quot;start_datetime&quot;: &quot;2023-09-30T00:00:00Z&quot;, &quot;modis:vertical-tile&quot;: 11, &quot;modis:horizontal-tile&quot;: 33}, &quot;stac_version&quot;: &quot;1.0.0&quot;, &quot;stac_extensions&quot;: [&quot;https://stac-extensions.github.io/projection/v1.1.0/schema.json&quot;, &quot;https://stac-extensions.github.io/raster/v1.1.0/schema.json&quot;, &quot;https://stac-extensions.github.io/classification/v1.0.0/schema.json&quot;]}, {&quot;id&quot;: &quot;MOD13Q1.A2023273.h33v10.061.2023290143322&quot;, &quot;bbox&quot;: [151.773414615977, -20.0446579085825, 170.268443578913, -9.93076309615818], &quot;type&quot;: &quot;Feature&quot;, &quot;links&quot;: [{&quot;rel&quot;: &quot;collection&quot;, &quot;href&quot;: &quot;https://planetarycomputer.microsoft.com/api/stac/v1/collections/modis-13Q1-061&quot;, &quot;type&quot;: &quot;application/json&quot;}, {&quot;rel&quot;: &quot;parent&quot;, &quot;href&quot;: &quot;https://planetarycomputer.microsoft.com/api/stac/v1/collections/modis-13Q1-061&quot;, &quot;type&quot;: &quot;application/json&quot;}, {&quot;rel&quot;: &quot;root&quot;, &quot;href&quot;: &quot;https://planetarycomputer.microsoft.com/api/stac/v1&quot;, &quot;type&quot;: &quot;application/json&quot;, &quot;title&quot;: &quot;Microsoft Planetary Computer STAC API&quot;}, {&quot;rel&quot;: &quot;self&quot;, &quot;href&quot;: &quot;https://planetarycomputer.microsoft.com/api/stac/v1/collections/modis-13Q1-061/items/MOD13Q1.A2023273.h33v10.061.2023290143322&quot;, &quot;type&quot;: &quot;application/geo+json&quot;}, {&quot;rel&quot;: &quot;preview&quot;, &quot;href&quot;: &quot;https://planetarycomputer.microsoft.com/api/data/v1/item/map?collection=modis-13Q1-061&amp;item=MOD13Q1.A2023273.h33v10.061.2023290143322&quot;, &quot;type&quot;: &quot;text/html&quot;, &quot;title&quot;: &quot;Map of item&quot;}], &quot;assets&quot;: {&quot;hdf&quot;: {&quot;href&quot;: &quot;https://modiseuwest.blob.core.windows.net/modis-061/MOD13Q1/33/10/2023273/MOD13Q1.A2023273.h33v10.061.2023290143322.hdf&quot;, &quot;type&quot;: &quot;application/x-hdf&quot;, &quot;roles&quot;: [&quot;data&quot;], &quot;title&quot;: &quot;Source data containing all bands&quot;}, &quot;metadata&quot;: {&quot;href&quot;: &quot;https://modiseuwest.blob.core.windows.net/modis-061/MOD13Q1/33/10/2023273/MOD13Q1.A2023273.h33v10.061.2023290143322.hdf.xml&quot;, &quot;type&quot;: &quot;application/xml&quot;, &quot;roles&quot;: [&quot;metadata&quot;], &quot;title&quot;: &quot;Federal Geographic Data Committee (FGDC) Metadata&quot;}, &quot;tilejson&quot;: {&quot;href&quot;: &quot;https://planetarycomputer.microsoft.com/api/data/v1/item/tilejson.json?collection=modis-13Q1-061&amp;item=MOD13Q1.A2023273.h33v10.061.2023290143322&amp;assets=250m_16_days_NDVI&amp;tile_format=png&amp;colormap_name=modis-13A1%7CQ1&amp;rescale=0%2C10000&amp;format=png&quot;, &quot;type&quot;: &quot;application/json&quot;, &quot;roles&quot;: [&quot;tiles&quot;], &quot;title&quot;: &quot;TileJSON with default rendering&quot;}, &quot;250m_16_days_EVI&quot;: {&quot;href&quot;: &quot;https://modiseuwest.blob.core.windows.net/modis-061-cogs/MOD13Q1/33/10/2023273/MOD13Q1.A2023273.h33v10.061.2023290143322_250m_16_days_EVI.tif&quot;, &quot;type&quot;: &quot;image/tiff; application=geotiff; profile=cloud-optimized&quot;, &quot;roles&quot;: [&quot;data&quot;], &quot;title&quot;: &quot;16 day EVI&quot;, &quot;raster:bands&quot;: [{&quot;unit&quot;: &quot;EVI&quot;, &quot;scale&quot;: 0.0001, &quot;data_type&quot;: &quot;int16&quot;, &quot;spatial_resolution&quot;: 250}]}, &quot;rendered_preview&quot;: {&quot;rel&quot;: &quot;preview&quot;, &quot;href&quot;: &quot;https://planetarycomputer.microsoft.com/api/data/v1/item/preview.png?collection=modis-13Q1-061&amp;item=MOD13Q1.A2023273.h33v10.061.2023290143322&amp;assets=250m_16_days_NDVI&amp;tile_format=png&amp;colormap_name=modis-13A1%7CQ1&amp;rescale=0%2C10000&amp;format=png&quot;, &quot;type&quot;: &quot;image/png&quot;, &quot;roles&quot;: [&quot;overview&quot;], &quot;title&quot;: &quot;Rendered preview&quot;}, &quot;250m_16_days_NDVI&quot;: {&quot;href&quot;: &quot;https://modiseuwest.blob.core.windows.net/modis-061-cogs/MOD13Q1/33/10/2023273/MOD13Q1.A2023273.h33v10.061.2023290143322_250m_16_days_NDVI.tif&quot;, &quot;type&quot;: &quot;image/tiff; application=geotiff; profile=cloud-optimized&quot;, &quot;roles&quot;: [&quot;data&quot;], &quot;title&quot;: &quot;16 day NDVI&quot;, &quot;raster:bands&quot;: [{&quot;unit&quot;: &quot;NDVI&quot;, &quot;scale&quot;: 0.0001, &quot;data_type&quot;: &quot;int16&quot;, &quot;spatial_resolution&quot;: 250}]}, &quot;250m_16_days_VI_Quality&quot;: {&quot;href&quot;: &quot;https://modiseuwest.blob.core.windows.net/modis-061-cogs/MOD13Q1/33/10/2023273/MOD13Q1.A2023273.h33v10.061.2023290143322_250m_16_days_VI_Quality.tif&quot;, &quot;type&quot;: &quot;image/tiff; application=geotiff; profile=cloud-optimized&quot;, &quot;roles&quot;: [&quot;data&quot;], &quot;title&quot;: &quot;VI quality indicators&quot;, &quot;raster:bands&quot;: [{&quot;data_type&quot;: &quot;uint16&quot;, &quot;spatial_resolution&quot;: 250}]}, &quot;250m_16_days_MIR_reflectance&quot;: {&quot;href&quot;: &quot;https://modiseuwest.blob.core.windows.net/modis-061-cogs/MOD13Q1/33/10/2023273/MOD13Q1.A2023273.h33v10.061.2023290143322_250m_16_days_MIR_reflectance.tif&quot;, &quot;type&quot;: &quot;image/tiff; application=geotiff; profile=cloud-optimized&quot;, &quot;roles&quot;: [&quot;data&quot;], &quot;title&quot;: &quot;Surface Reflectance Band 7&quot;, &quot;raster:bands&quot;: [{&quot;scale&quot;: 0.0001, &quot;data_type&quot;: &quot;int16&quot;, &quot;spatial_resolution&quot;: 250}]}, &quot;250m_16_days_NIR_reflectance&quot;: {&quot;href&quot;: &quot;https://modiseuwest.blob.core.windows.net/modis-061-cogs/MOD13Q1/33/10/2023273/MOD13Q1.A2023273.h33v10.061.2023290143322_250m_16_days_NIR_reflectance.tif&quot;, &quot;type&quot;: &quot;image/tiff; application=geotiff; profile=cloud-optimized&quot;, &quot;roles&quot;: [&quot;data&quot;], &quot;title&quot;: &quot;Surface Reflectance Band 2&quot;, &quot;raster:bands&quot;: [{&quot;scale&quot;: 0.0001, &quot;data_type&quot;: &quot;int16&quot;, &quot;spatial_resolution&quot;: 250}]}, &quot;250m_16_days_red_reflectance&quot;: {&quot;href&quot;: &quot;https://modiseuwest.blob.core.windows.net/modis-061-cogs/MOD13Q1/33/10/2023273/MOD13Q1.A2023273.h33v10.061.2023290143322_250m_16_days_red_reflectance.tif&quot;, &quot;type&quot;: &quot;image/tiff; application=geotiff; profile=cloud-optimized&quot;, &quot;roles&quot;: [&quot;data&quot;], &quot;title&quot;: &quot;Surface Reflectance Band 1&quot;, &quot;raster:bands&quot;: [{&quot;scale&quot;: 0.0001, &quot;data_type&quot;: &quot;int16&quot;, &quot;spatial_resolution&quot;: 250}]}, &quot;250m_16_days_blue_reflectance&quot;: {&quot;href&quot;: &quot;https://modiseuwest.blob.core.windows.net/modis-061-cogs/MOD13Q1/33/10/2023273/MOD13Q1.A2023273.h33v10.061.2023290143322_250m_16_days_blue_reflectance.tif&quot;, &quot;type&quot;: &quot;image/tiff; application=geotiff; profile=cloud-optimized&quot;, &quot;roles&quot;: [&quot;data&quot;], &quot;title&quot;: &quot;Surface Reflectance Band 3&quot;, &quot;raster:bands&quot;: [{&quot;scale&quot;: 0.0001, &quot;data_type&quot;: &quot;int16&quot;, &quot;spatial_resolution&quot;: 250}]}, &quot;250m_16_days_sun_zenith_angle&quot;: {&quot;href&quot;: &quot;https://modiseuwest.blob.core.windows.net/modis-061-cogs/MOD13Q1/33/10/2023273/MOD13Q1.A2023273.h33v10.061.2023290143322_250m_16_days_sun_zenith_angle.tif&quot;, &quot;type&quot;: &quot;image/tiff; application=geotiff; profile=cloud-optimized&quot;, &quot;roles&quot;: [&quot;data&quot;], &quot;title&quot;: &quot;Sun zenith angle of VI pixel&quot;, &quot;raster:bands&quot;: [{&quot;unit&quot;: &quot;Degree&quot;, &quot;scale&quot;: 0.01, &quot;data_type&quot;: &quot;int16&quot;, &quot;spatial_resolution&quot;: 250}]}, &quot;250m_16_days_pixel_reliability&quot;: {&quot;href&quot;: &quot;https://modiseuwest.blob.core.windows.net/modis-061-cogs/MOD13Q1/33/10/2023273/MOD13Q1.A2023273.h33v10.061.2023290143322_250m_16_days_pixel_reliability.tif&quot;, &quot;type&quot;: &quot;image/tiff; application=geotiff; profile=cloud-optimized&quot;, &quot;roles&quot;: [&quot;data&quot;], &quot;title&quot;: &quot;Quality reliability of VI pixel&quot;, &quot;raster:bands&quot;: [{&quot;unit&quot;: &quot;Rank&quot;, &quot;data_type&quot;: &quot;int8&quot;, &quot;spatial_resolution&quot;: 250}], &quot;classification:classes&quot;: [{&quot;value&quot;: 0, &quot;description&quot;: &quot;Good data, use with confidence&quot;}, {&quot;value&quot;: 1, &quot;description&quot;: &quot;Marginal data, useful, but look at other QA information&quot;}, {&quot;value&quot;: 2, &quot;description&quot;: &quot;Snow/Ice Target covered with snow/ice&quot;}, {&quot;value&quot;: 3, &quot;description&quot;: &quot;Cloudy data&quot;}]}, &quot;250m_16_days_view_zenith_angle&quot;: {&quot;href&quot;: &quot;https://modiseuwest.blob.core.windows.net/modis-061-cogs/MOD13Q1/33/10/2023273/MOD13Q1.A2023273.h33v10.061.2023290143322_250m_16_days_view_zenith_angle.tif&quot;, &quot;type&quot;: &quot;image/tiff; application=geotiff; profile=cloud-optimized&quot;, &quot;roles&quot;: [&quot;data&quot;], &quot;title&quot;: &quot;View zenith angle of VI Pixel&quot;, &quot;raster:bands&quot;: [{&quot;unit&quot;: &quot;Degree&quot;, &quot;scale&quot;: 0.01, &quot;data_type&quot;: &quot;int16&quot;, &quot;spatial_resolution&quot;: 250}]}, &quot;250m_16_days_relative_azimuth_angle&quot;: {&quot;href&quot;: &quot;https://modiseuwest.blob.core.windows.net/modis-061-cogs/MOD13Q1/33/10/2023273/MOD13Q1.A2023273.h33v10.061.2023290143322_250m_16_days_relative_azimuth_angle.tif&quot;, &quot;type&quot;: &quot;image/tiff; application=geotiff; profile=cloud-optimized&quot;, &quot;roles&quot;: [&quot;data&quot;], &quot;title&quot;: &quot;Relative azimuth angle of VI pixel&quot;, &quot;raster:bands&quot;: [{&quot;unit&quot;: &quot;Degree&quot;, &quot;scale&quot;: 0.01, &quot;data_type&quot;: &quot;int16&quot;, &quot;spatial_resolution&quot;: 250}]}, &quot;250m_16_days_composite_day_of_the_year&quot;: {&quot;href&quot;: &quot;https://modiseuwest.blob.core.windows.net/modis-061-cogs/MOD13Q1/33/10/2023273/MOD13Q1.A2023273.h33v10.061.2023290143322_250m_16_days_composite_day_of_the_year.tif&quot;, &quot;type&quot;: &quot;image/tiff; application=geotiff; profile=cloud-optimized&quot;, &quot;roles&quot;: [&quot;data&quot;], &quot;title&quot;: &quot;Day of year VI pixel&quot;, &quot;raster:bands&quot;: [{&quot;unit&quot;: &quot;Julian Day&quot;, &quot;data_type&quot;: &quot;int16&quot;, &quot;spatial_resolution&quot;: 250}]}}, &quot;geometry&quot;: {&quot;type&quot;: &quot;Polygon&quot;, &quot;coordinates&quot;: [[[159.037155638548, -20.0446579085825], [151.773414615977, -9.97735872020488], [162.483768283086, -9.93076309615818], [170.268443578913, -19.999999998204], [159.037155638548, -20.0446579085825]]]}, &quot;collection&quot;: &quot;modis-13Q1-061&quot;, &quot;properties&quot;: {&quot;created&quot;: &quot;2023-10-17T18:33:22Z&quot;, &quot;updated&quot;: &quot;2023-10-17T13:40:23.022000Z&quot;, &quot;platform&quot;: &quot;terra&quot;, &quot;proj:wkt2&quot;: &quot;PROJCS[\\&quot;unnamed\\&quot;,GEOGCS[\\&quot;Unknown datum based upon the custom spheroid\\&quot;,DATUM[\\&quot;Not specified (based on custom spheroid)\\&quot;,SPHEROID[\\&quot;Custom spheroid\\&quot;,6371007.181,0]],PRIMEM[\\&quot;Greenwich\\&quot;,0],UNIT[\\&quot;degree\\&quot;,0.0174532925199433,AUTHORITY[\\&quot;EPSG\\&quot;,\\&quot;9122\\&quot;]]],PROJECTION[\\&quot;Sinusoidal\\&quot;],PARAMETER[\\&quot;longitude_of_center\\&quot;,0],PARAMETER[\\&quot;false_easting\\&quot;,0],PARAMETER[\\&quot;false_northing\\&quot;,0],UNIT[\\&quot;Meter\\&quot;,1],AXIS[\\&quot;Easting\\&quot;,EAST],AXIS[\\&quot;Northing\\&quot;,NORTH]]&quot;, &quot;proj:shape&quot;: [4800, 4800], &quot;instruments&quot;: [&quot;modis&quot;], &quot;end_datetime&quot;: &quot;2023-10-15T23:59:59Z&quot;, &quot;modis:tile-id&quot;: &quot;51033010&quot;, &quot;proj:geometry&quot;: {&quot;type&quot;: &quot;Polygon&quot;, &quot;coordinates&quot;: [[[17791208.314667, -2223901.039333], [17791208.314667, -1111950.519667], [16679257.795, -1111950.519667], [16679257.795, -2223901.039333], [17791208.314667, -2223901.039333]]]}, &quot;proj:transform&quot;: [231.65635826395862, 0.0, 16679257.795, 0.0, -231.65635826374995, -1111950.519667], &quot;start_datetime&quot;: &quot;2023-09-30T00:00:00Z&quot;, &quot;modis:vertical-tile&quot;: 10, &quot;modis:horizontal-tile&quot;: 33}, &quot;stac_version&quot;: &quot;1.0.0&quot;, &quot;stac_extensions&quot;: [&quot;https://stac-extensions.github.io/projection/v1.1.0/schema.json&quot;, &quot;https://stac-extensions.github.io/raster/v1.1.0/schema.json&quot;, &quot;https://stac-extensions.github.io/classification/v1.0.0/schema.json&quot;]}, {&quot;id&quot;: &quot;MOD13Q1.A2023273.h33v09.061.2023290142939&quot;, &quot;bbox&quot;: [149.4391832907, -10.0131633224636, 162.470464063139, 0.0150770994363422], &quot;type&quot;: &quot;Feature&quot;, &quot;links&quot;: [{&quot;rel&quot;: &quot;collection&quot;, &quot;href&quot;: &quot;https://planetarycomputer.microsoft.com/api/stac/v1/collections/modis-13Q1-061&quot;, &quot;type&quot;: &quot;application/json&quot;}, {&quot;rel&quot;: &quot;parent&quot;, &quot;href&quot;: &quot;https://planetarycomputer.microsoft.com/api/stac/v1/collections/modis-13Q1-061&quot;, &quot;type&quot;: &quot;application/json&quot;}, {&quot;rel&quot;: &quot;root&quot;, &quot;href&quot;: &quot;https://planetarycomputer.microsoft.com/api/stac/v1&quot;, &quot;type&quot;: &quot;application/json&quot;, &quot;title&quot;: &quot;Microsoft Planetary Computer STAC API&quot;}, {&quot;rel&quot;: &quot;self&quot;, &quot;href&quot;: &quot;https://planetarycomputer.microsoft.com/api/stac/v1/collections/modis-13Q1-061/items/MOD13Q1.A2023273.h33v09.061.2023290142939&quot;, &quot;type&quot;: &quot;application/geo+json&quot;}, {&quot;rel&quot;: &quot;preview&quot;, &quot;href&quot;: &quot;https://planetarycomputer.microsoft.com/api/data/v1/item/map?collection=modis-13Q1-061&amp;item=MOD13Q1.A2023273.h33v09.061.2023290142939&quot;, &quot;type&quot;: &quot;text/html&quot;, &quot;title&quot;: &quot;Map of item&quot;}], &quot;assets&quot;: {&quot;hdf&quot;: {&quot;href&quot;: &quot;https://modiseuwest.blob.core.windows.net/modis-061/MOD13Q1/33/09/2023273/MOD13Q1.A2023273.h33v09.061.2023290142939.hdf&quot;, &quot;type&quot;: &quot;application/x-hdf&quot;, &quot;roles&quot;: [&quot;data&quot;], &quot;title&quot;: &quot;Source data containing all bands&quot;}, &quot;metadata&quot;: {&quot;href&quot;: &quot;https://modiseuwest.blob.core.windows.net/modis-061/MOD13Q1/33/09/2023273/MOD13Q1.A2023273.h33v09.061.2023290142939.hdf.xml&quot;, &quot;type&quot;: &quot;application/xml&quot;, &quot;roles&quot;: [&quot;metadata&quot;], &quot;title&quot;: &quot;Federal Geographic Data Committee (FGDC) Metadata&quot;}, &quot;tilejson&quot;: {&quot;href&quot;: &quot;https://planetarycomputer.microsoft.com/api/data/v1/item/tilejson.json?collection=modis-13Q1-061&amp;item=MOD13Q1.A2023273.h33v09.061.2023290142939&amp;assets=250m_16_days_NDVI&amp;tile_format=png&amp;colormap_name=modis-13A1%7CQ1&amp;rescale=0%2C10000&amp;format=png&quot;, &quot;type&quot;: &quot;application/json&quot;, &quot;roles&quot;: [&quot;tiles&quot;], &quot;title&quot;: &quot;TileJSON with default rendering&quot;}, &quot;250m_16_days_EVI&quot;: {&quot;href&quot;: &quot;https://modiseuwest.blob.core.windows.net/modis-061-cogs/MOD13Q1/33/09/2023273/MOD13Q1.A2023273.h33v09.061.2023290142939_250m_16_days_EVI.tif&quot;, &quot;type&quot;: &quot;image/tiff; application=geotiff; profile=cloud-optimized&quot;, &quot;roles&quot;: [&quot;data&quot;], &quot;title&quot;: &quot;16 day EVI&quot;, &quot;raster:bands&quot;: [{&quot;unit&quot;: &quot;EVI&quot;, &quot;scale&quot;: 0.0001, &quot;data_type&quot;: &quot;int16&quot;, &quot;spatial_resolution&quot;: 250}]}, &quot;rendered_preview&quot;: {&quot;rel&quot;: &quot;preview&quot;, &quot;href&quot;: &quot;https://planetarycomputer.microsoft.com/api/data/v1/item/preview.png?collection=modis-13Q1-061&amp;item=MOD13Q1.A2023273.h33v09.061.2023290142939&amp;assets=250m_16_days_NDVI&amp;tile_format=png&amp;colormap_name=modis-13A1%7CQ1&amp;rescale=0%2C10000&amp;format=png&quot;, &quot;type&quot;: &quot;image/png&quot;, &quot;roles&quot;: [&quot;overview&quot;], &quot;title&quot;: &quot;Rendered preview&quot;}, &quot;250m_16_days_NDVI&quot;: {&quot;href&quot;: &quot;https://modiseuwest.blob.core.windows.net/modis-061-cogs/MOD13Q1/33/09/2023273/MOD13Q1.A2023273.h33v09.061.2023290142939_250m_16_days_NDVI.tif&quot;, &quot;type&quot;: &quot;image/tiff; application=geotiff; profile=cloud-optimized&quot;, &quot;roles&quot;: [&quot;data&quot;], &quot;title&quot;: &quot;16 day NDVI&quot;, &quot;raster:bands&quot;: [{&quot;unit&quot;: &quot;NDVI&quot;, &quot;scale&quot;: 0.0001, &quot;data_type&quot;: &quot;int16&quot;, &quot;spatial_resolution&quot;: 250}]}, &quot;250m_16_days_VI_Quality&quot;: {&quot;href&quot;: &quot;https://modiseuwest.blob.core.windows.net/modis-061-cogs/MOD13Q1/33/09/2023273/MOD13Q1.A2023273.h33v09.061.2023290142939_250m_16_days_VI_Quality.tif&quot;, &quot;type&quot;: &quot;image/tiff; application=geotiff; profile=cloud-optimized&quot;, &quot;roles&quot;: [&quot;data&quot;], &quot;title&quot;: &quot;VI quality indicators&quot;, &quot;raster:bands&quot;: [{&quot;data_type&quot;: &quot;uint16&quot;, &quot;spatial_resolution&quot;: 250}]}, &quot;250m_16_days_MIR_reflectance&quot;: {&quot;href&quot;: &quot;https://modiseuwest.blob.core.windows.net/modis-061-cogs/MOD13Q1/33/09/2023273/MOD13Q1.A2023273.h33v09.061.2023290142939_250m_16_days_MIR_reflectance.tif&quot;, &quot;type&quot;: &quot;image/tiff; application=geotiff; profile=cloud-optimized&quot;, &quot;roles&quot;: [&quot;data&quot;], &quot;title&quot;: &quot;Surface Reflectance Band 7&quot;, &quot;raster:bands&quot;: [{&quot;scale&quot;: 0.0001, &quot;data_type&quot;: &quot;int16&quot;, &quot;spatial_resolution&quot;: 250}]}, &quot;250m_16_days_NIR_reflectance&quot;: {&quot;href&quot;: &quot;https://modiseuwest.blob.core.windows.net/modis-061-cogs/MOD13Q1/33/09/2023273/MOD13Q1.A2023273.h33v09.061.2023290142939_250m_16_days_NIR_reflectance.tif&quot;, &quot;type&quot;: &quot;image/tiff; application=geotiff; profile=cloud-optimized&quot;, &quot;roles&quot;: [&quot;data&quot;], &quot;title&quot;: &quot;Surface Reflectance Band 2&quot;, &quot;raster:bands&quot;: [{&quot;scale&quot;: 0.0001, &quot;data_type&quot;: &quot;int16&quot;, &quot;spatial_resolution&quot;: 250}]}, &quot;250m_16_days_red_reflectance&quot;: {&quot;href&quot;: &quot;https://modiseuwest.blob.core.windows.net/modis-061-cogs/MOD13Q1/33/09/2023273/MOD13Q1.A2023273.h33v09.061.2023290142939_250m_16_days_red_reflectance.tif&quot;, &quot;type&quot;: &quot;image/tiff; application=geotiff; profile=cloud-optimized&quot;, &quot;roles&quot;: [&quot;data&quot;], &quot;title&quot;: &quot;Surface Reflectance Band 1&quot;, &quot;raster:bands&quot;: [{&quot;scale&quot;: 0.0001, &quot;data_type&quot;: &quot;int16&quot;, &quot;spatial_resolution&quot;: 250}]}, &quot;250m_16_days_blue_reflectance&quot;: {&quot;href&quot;: &quot;https://modiseuwest.blob.core.windows.net/modis-061-cogs/MOD13Q1/33/09/2023273/MOD13Q1.A2023273.h33v09.061.2023290142939_250m_16_days_blue_reflectance.tif&quot;, &quot;type&quot;: &quot;image/tiff; application=geotiff; profile=cloud-optimized&quot;, &quot;roles&quot;: [&quot;data&quot;], &quot;title&quot;: &quot;Surface Reflectance Band 3&quot;, &quot;raster:bands&quot;: [{&quot;scale&quot;: 0.0001, &quot;data_type&quot;: &quot;int16&quot;, &quot;spatial_resolution&quot;: 250}]}, &quot;250m_16_days_sun_zenith_angle&quot;: {&quot;href&quot;: &quot;https://modiseuwest.blob.core.windows.net/modis-061-cogs/MOD13Q1/33/09/2023273/MOD13Q1.A2023273.h33v09.061.2023290142939_250m_16_days_sun_zenith_angle.tif&quot;, &quot;type&quot;: &quot;image/tiff; application=geotiff; profile=cloud-optimized&quot;, &quot;roles&quot;: [&quot;data&quot;], &quot;title&quot;: &quot;Sun zenith angle of VI pixel&quot;, &quot;raster:bands&quot;: [{&quot;unit&quot;: &quot;Degree&quot;, &quot;scale&quot;: 0.01, &quot;data_type&quot;: &quot;int16&quot;, &quot;spatial_resolution&quot;: 250}]}, &quot;250m_16_days_pixel_reliability&quot;: {&quot;href&quot;: &quot;https://modiseuwest.blob.core.windows.net/modis-061-cogs/MOD13Q1/33/09/2023273/MOD13Q1.A2023273.h33v09.061.2023290142939_250m_16_days_pixel_reliability.tif&quot;, &quot;type&quot;: &quot;image/tiff; application=geotiff; profile=cloud-optimized&quot;, &quot;roles&quot;: [&quot;data&quot;], &quot;title&quot;: &quot;Quality reliability of VI pixel&quot;, &quot;raster:bands&quot;: [{&quot;unit&quot;: &quot;Rank&quot;, &quot;data_type&quot;: &quot;int8&quot;, &quot;spatial_resolution&quot;: 250}], &quot;classification:classes&quot;: [{&quot;value&quot;: 0, &quot;description&quot;: &quot;Good data, use with confidence&quot;}, {&quot;value&quot;: 1, &quot;description&quot;: &quot;Marginal data, useful, but look at other QA information&quot;}, {&quot;value&quot;: 2, &quot;description&quot;: &quot;Snow/Ice Target covered with snow/ice&quot;}, {&quot;value&quot;: 3, &quot;description&quot;: &quot;Cloudy data&quot;}]}, &quot;250m_16_days_view_zenith_angle&quot;: {&quot;href&quot;: &quot;https://modiseuwest.blob.core.windows.net/modis-061-cogs/MOD13Q1/33/09/2023273/MOD13Q1.A2023273.h33v09.061.2023290142939_250m_16_days_view_zenith_angle.tif&quot;, &quot;type&quot;: &quot;image/tiff; application=geotiff; profile=cloud-optimized&quot;, &quot;roles&quot;: [&quot;data&quot;], &quot;title&quot;: &quot;View zenith angle of VI Pixel&quot;, &quot;raster:bands&quot;: [{&quot;unit&quot;: &quot;Degree&quot;, &quot;scale&quot;: 0.01, &quot;data_type&quot;: &quot;int16&quot;, &quot;spatial_resolution&quot;: 250}]}, &quot;250m_16_days_relative_azimuth_angle&quot;: {&quot;href&quot;: &quot;https://modiseuwest.blob.core.windows.net/modis-061-cogs/MOD13Q1/33/09/2023273/MOD13Q1.A2023273.h33v09.061.2023290142939_250m_16_days_relative_azimuth_angle.tif&quot;, &quot;type&quot;: &quot;image/tiff; application=geotiff; profile=cloud-optimized&quot;, &quot;roles&quot;: [&quot;data&quot;], &quot;title&quot;: &quot;Relative azimuth angle of VI pixel&quot;, &quot;raster:bands&quot;: [{&quot;unit&quot;: &quot;Degree&quot;, &quot;scale&quot;: 0.01, &quot;data_type&quot;: &quot;int16&quot;, &quot;spatial_resolution&quot;: 250}]}, &quot;250m_16_days_composite_day_of_the_year&quot;: {&quot;href&quot;: &quot;https://modiseuwest.blob.core.windows.net/modis-061-cogs/MOD13Q1/33/09/2023273/MOD13Q1.A2023273.h33v09.061.2023290142939_250m_16_days_composite_day_of_the_year.tif&quot;, &quot;type&quot;: &quot;image/tiff; application=geotiff; profile=cloud-optimized&quot;, &quot;roles&quot;: [&quot;data&quot;], &quot;title&quot;: &quot;Day of year VI pixel&quot;, &quot;raster:bands&quot;: [{&quot;unit&quot;: &quot;Julian Day&quot;, &quot;data_type&quot;: &quot;int16&quot;, &quot;spatial_resolution&quot;: 250}]}}, &quot;geometry&quot;: {&quot;type&quot;: &quot;Polygon&quot;, &quot;coordinates&quot;: [[[151.727899894851, -10.0131633224636], [149.4391832907, -0.000847962750389563], [160.02240812128, 0.0150770994363422], [162.470464063139, -9.99996180674589], [151.727899894851, -10.0131633224636]]]}, &quot;collection&quot;: &quot;modis-13Q1-061&quot;, &quot;properties&quot;: {&quot;created&quot;: &quot;2023-10-17T18:29:39Z&quot;, &quot;updated&quot;: &quot;2023-10-17T13:36:12.245000Z&quot;, &quot;platform&quot;: &quot;terra&quot;, &quot;proj:wkt2&quot;: &quot;PROJCS[\\&quot;unnamed\\&quot;,GEOGCS[\\&quot;Unknown datum based upon the custom spheroid\\&quot;,DATUM[\\&quot;Not specified (based on custom spheroid)\\&quot;,SPHEROID[\\&quot;Custom spheroid\\&quot;,6371007.181,0]],PRIMEM[\\&quot;Greenwich\\&quot;,0],UNIT[\\&quot;degree\\&quot;,0.0174532925199433,AUTHORITY[\\&quot;EPSG\\&quot;,\\&quot;9122\\&quot;]]],PROJECTION[\\&quot;Sinusoidal\\&quot;],PARAMETER[\\&quot;longitude_of_center\\&quot;,0],PARAMETER[\\&quot;false_easting\\&quot;,0],PARAMETER[\\&quot;false_northing\\&quot;,0],UNIT[\\&quot;Meter\\&quot;,1],AXIS[\\&quot;Easting\\&quot;,EAST],AXIS[\\&quot;Northing\\&quot;,NORTH]]&quot;, &quot;proj:shape&quot;: [4800, 4800], &quot;instruments&quot;: [&quot;modis&quot;], &quot;end_datetime&quot;: &quot;2023-10-15T23:59:59Z&quot;, &quot;modis:tile-id&quot;: &quot;51033009&quot;, &quot;proj:geometry&quot;: {&quot;type&quot;: &quot;Polygon&quot;, &quot;coordinates&quot;: [[[17791208.314667, -1111950.519667], [17791208.314667, 0.0], [16679257.795, 0.0], [16679257.795, -1111950.519667], [17791208.314667, -1111950.519667]]]}, &quot;proj:transform&quot;: [231.65635826395862, 0.0, 16679257.795, 0.0, -231.65635826395834, 0.0], &quot;start_datetime&quot;: &quot;2023-09-30T00:00:00Z&quot;, &quot;modis:vertical-tile&quot;: 9, &quot;modis:horizontal-tile&quot;: 33}, &quot;stac_version&quot;: &quot;1.0.0&quot;, &quot;stac_extensions&quot;: [&quot;https://stac-extensions.github.io/projection/v1.1.0/schema.json&quot;, &quot;https://stac-extensions.github.io/raster/v1.1.0/schema.json&quot;, &quot;https://stac-extensions.github.io/classification/v1.0.0/schema.json&quot;]}]}</td>\n",
       "  </tr>\n",
       "</table>\n",
       "<p>(1 row)<br />\n",
       "</p>\n"
      ],
      "text/plain": [
       "<IPython.core.display.HTML object>"
      ]
     },
     "metadata": {},
     "output_type": "display_data"
    }
   ],
   "source": [
    "%%psql\n",
    "\n",
    "SELECT search($$\n",
    "    {\"filter\":\n",
    "        {\n",
    "            \"op\": \"or\", \n",
    "            \"args\": [\n",
    "                {\"op\": \"gt\", \"args\":[{\"property\":\"modis:tile-id\"}, \"51035010\"]},\n",
    "                {\"op\": \"eq\", \"args\":[{\"property\":\"platform\"}, \"terra\"]}\n",
    "            ]\n",
    "        }\n",
    "    }\n",
    "$$);"
   ]
  },
  {
   "cell_type": "markdown",
   "id": "0330356a-122a-416b-a7da-bfe4cd6e4409",
   "metadata": {},
   "source": [
    "## Geometry Search\n",
    "A common desire is to create on the fly mosaics of imagery based on arbitrary STAC requests. PgSTAC has additional functions which work to make these as efficient as possible. These are the functions that are behind TiTiler PgSTAC and allow it to create infinite possibilities in viewing data.\n",
    "\n",
    "This is all enabled by the GeometrySearch function.\n",
    "\n",
    "Rather than just using a set limit and paging through results, the GeometrySearch function allows you to use multiple \"escape hatches\" for when it returns the results of data. Because GeometrySearch is often used behind URL based API's such as Z/X/Y tile services that allow GET requests only, GeometrySearch uses a hash that is stored internally in PgSTAC's cacheing and statistics \"searches\" table.\n"
   ]
  },
  {
   "cell_type": "code",
   "execution_count": 29,
   "id": "6397123a-dc5d-4026-a888-639ae410eeb1",
   "metadata": {},
   "outputs": [
    {
     "name": "stdout",
     "output_type": "stream",
     "text": [
      "psql:/dev/stdin:1: NOTICE:  FILTER: <NULL>\n",
      "\n"
     ]
    },
    {
     "data": {
      "text/html": [
       "<table border=\"1\">\n",
       "  <tr>\n",
       "    <th align=\"center\">hash</th>\n",
       "    <th align=\"center\">search</th>\n",
       "    <th align=\"center\">_where</th>\n",
       "    <th align=\"center\">orderby</th>\n",
       "    <th align=\"center\">lastused</th>\n",
       "    <th align=\"center\">usecount</th>\n",
       "    <th align=\"center\">metadata</th>\n",
       "  </tr>\n",
       "  <tr valign=\"top\">\n",
       "    <td align=\"left\">07c6a95fab72577b195af0691b5e11b9</td>\n",
       "    <td align=\"left\">{&quot;collections&quot;: [&quot;modis-13Q1-061&quot;]}</td>\n",
       "    <td align=\"left\">collection = ANY ('{modis-13Q1-061}') </td>\n",
       "    <td align=\"left\">datetime DESC, id DESC</td>\n",
       "    <td align=\"left\">2023-10-23 04:07:50.111337+00</td>\n",
       "    <td align=\"right\">1</td>\n",
       "    <td align=\"left\">{}</td>\n",
       "  </tr>\n",
       "</table>\n",
       "<p>(1 row)<br />\n",
       "</p>\n"
      ],
      "text/plain": [
       "<IPython.core.display.HTML object>"
      ]
     },
     "metadata": {},
     "output_type": "display_data"
    }
   ],
   "source": [
    "%%psql\n",
    "SELECT * FROM search_query('{\"collections\":[\"modis-13Q1-061\"]}');"
   ]
  },
  {
   "cell_type": "markdown",
   "id": "8a562dc6-b60f-4b71-9bf8-efb004ba2fe7",
   "metadata": {},
   "source": [
    "We can now use the hash provided in order to fetch data using the GeometrySearch Function along with these parameters:\n",
    "- geom (geometry) -- a PostGIS geometry that acts as the bounds you are trying to fill\n",
    "- queryhash (text) -- the hash returned from the search_query function\n",
    "- fields -- an include/exclude list of which properties to include in the results following the STAC Fields Extension\n",
    "- _scanlimit (int) -- the absolute limit for how many records to scan through that match the search filters before returning results\n",
    "- _limit (int) -- the limit on how many results to return\n",
    "- _timelimit (interval) -- the max amount of time to spend looking for results\n",
    "- exitwhenfull (boolean) -- once the stack of Item geometries from the sorted results would cover the entire geometry, return immediately regardless of the requested limit\n",
    "- skipcovered (boolean) -- if the coverage of an Item would be obscured by the Items returned before as sorted, do not return that Item in the results.\n",
    "\n",
    "This gives a number of dials to control tolerance for how long you are willing to wait for results and how many results you would like to deal with for different scenarios.\n",
    "\n",
    "There are also wrappers that allow for the direct use of GeoJSON (geojsonsearch or an XYZ (xyzsearch) schema.\n",
    "\n",
    "\n",
    "CREATE OR REPLACE FUNCTION geometrysearch(\n",
    "    IN geom geometry,\n",
    "    IN queryhash text,\n",
    "    IN fields jsonb DEFAULT NULL,\n",
    "    IN _scanlimit int DEFAULT 10000,\n",
    "    IN _limit int DEFAULT 100,\n",
    "    IN _timelimit interval DEFAULT '5 seconds'::interval,\n",
    "    IN exitwhenfull boolean DEFAULT TRUE, -- Return as soon as the passed in geometry is full covered\n",
    "    IN skipcovered boolean DEFAULT TRUE -- Skip any items that would show up completely under the previous items\n",
    ") RETURNS jsonb AS $$"
   ]
  },
  {
   "cell_type": "code",
   "execution_count": 30,
   "id": "695614ad-03ac-4c9c-841c-bbd60969f6b8",
   "metadata": {},
   "outputs": [
    {
     "name": "stdout",
     "output_type": "stream",
     "text": [
      "\n"
     ]
    },
    {
     "data": {
      "text/html": [
       "<p>SET</p>\n",
       "<table border=\"1\">\n",
       "  <tr>\n",
       "    <th align=\"center\">xyzsearch</th>\n",
       "  </tr>\n",
       "  <tr valign=\"top\">\n",
       "    <td align=\"left\">{&quot;type&quot;: &quot;FeatureCollection&quot;, &quot;features&quot;: [{&quot;id&quot;: &quot;MOD13Q1.A2023273.h35v10.061.2023290142559&quot;, &quot;collection&quot;: &quot;modis-13Q1-061&quot;}, {&quot;id&quot;: &quot;MOD13Q1.A2023273.h35v09.061.2023290142608&quot;, &quot;collection&quot;: &quot;modis-13Q1-061&quot;}, {&quot;id&quot;: &quot;MOD13Q1.A2023273.h34v10.061.2023290142351&quot;, &quot;collection&quot;: &quot;modis-13Q1-061&quot;}, {&quot;id&quot;: &quot;MOD13Q1.A2023273.h34v09.061.2023290142428&quot;, &quot;collection&quot;: &quot;modis-13Q1-061&quot;}, {&quot;id&quot;: &quot;MOD13Q1.A2023273.h34v08.061.2023290143333&quot;, &quot;collection&quot;: &quot;modis-13Q1-061&quot;}, {&quot;id&quot;: &quot;MOD13Q1.A2023273.h33v11.061.2023290143105&quot;, &quot;collection&quot;: &quot;modis-13Q1-061&quot;}, {&quot;id&quot;: &quot;MOD13Q1.A2023273.h33v10.061.2023290143322&quot;, &quot;collection&quot;: &quot;modis-13Q1-061&quot;}, {&quot;id&quot;: &quot;MOD13Q1.A2023273.h33v09.061.2023290142939&quot;, &quot;collection&quot;: &quot;modis-13Q1-061&quot;}, {&quot;id&quot;: &quot;MOD13Q1.A2023273.h33v08.061.2023290142205&quot;, &quot;collection&quot;: &quot;modis-13Q1-061&quot;}, {&quot;id&quot;: &quot;MOD13Q1.A2023273.h32v12.061.2023290142200&quot;, &quot;collection&quot;: &quot;modis-13Q1-061&quot;}, {&quot;id&quot;: &quot;MOD13Q1.A2023273.h32v11.061.2023290143334&quot;, &quot;collection&quot;: &quot;modis-13Q1-061&quot;}, {&quot;id&quot;: &quot;MOD13Q1.A2023273.h32v10.061.2023290142450&quot;, &quot;collection&quot;: &quot;modis-13Q1-061&quot;}, {&quot;id&quot;: &quot;MOD13Q1.A2023273.h32v09.061.2023290143120&quot;, &quot;collection&quot;: &quot;modis-13Q1-061&quot;}, {&quot;id&quot;: &quot;MOD13Q1.A2023273.h32v08.061.2023290143325&quot;, &quot;collection&quot;: &quot;modis-13Q1-061&quot;}, {&quot;id&quot;: &quot;MOD13Q1.A2023273.h31v13.061.2023290142458&quot;, &quot;collection&quot;: &quot;modis-13Q1-061&quot;}, {&quot;id&quot;: &quot;MOD13Q1.A2023273.h31v12.061.2023290143323&quot;, &quot;collection&quot;: &quot;modis-13Q1-061&quot;}, {&quot;id&quot;: &quot;MOD13Q1.A2023273.h31v11.061.2023290142649&quot;, &quot;collection&quot;: &quot;modis-13Q1-061&quot;}, {&quot;id&quot;: &quot;MOD13Q1.A2023273.h31v10.061.2023290143121&quot;, &quot;collection&quot;: &quot;modis-13Q1-061&quot;}, {&quot;id&quot;: &quot;MOD13Q1.A2023273.h31v09.061.2023290143406&quot;, &quot;collection&quot;: &quot;modis-13Q1-061&quot;}, {&quot;id&quot;: &quot;MOD13Q1.A2023273.h30v13.061.2023290142927&quot;, &quot;collection&quot;: &quot;modis-13Q1-061&quot;}, {&quot;id&quot;: &quot;MOD13Q1.A2023273.h30v12.061.2023290142535&quot;, &quot;collection&quot;: &quot;modis-13Q1-061&quot;}, {&quot;id&quot;: &quot;MOD13Q1.A2023273.h30v11.061.2023290142654&quot;, &quot;collection&quot;: &quot;modis-13Q1-061&quot;}, {&quot;id&quot;: &quot;MOD13Q1.A2023273.h30v10.061.2023290142409&quot;, &quot;collection&quot;: &quot;modis-13Q1-061&quot;}, {&quot;id&quot;: &quot;MOD13Q1.A2023273.h30v09.061.2023290142633&quot;, &quot;collection&quot;: &quot;modis-13Q1-061&quot;}, {&quot;id&quot;: &quot;MOD13Q1.A2023273.h29v13.061.2023290142942&quot;, &quot;collection&quot;: &quot;modis-13Q1-061&quot;}, {&quot;id&quot;: &quot;MOD13Q1.A2023273.h29v12.061.2023290142653&quot;, &quot;collection&quot;: &quot;modis-13Q1-061&quot;}, {&quot;id&quot;: &quot;MOD13Q1.A2023273.h29v11.061.2023290143426&quot;, &quot;collection&quot;: &quot;modis-13Q1-061&quot;}, {&quot;id&quot;: &quot;MOD13Q1.A2023273.h29v10.061.2023290142616&quot;, &quot;collection&quot;: &quot;modis-13Q1-061&quot;}, {&quot;id&quot;: &quot;MOD13Q1.A2023273.h29v09.061.2023290142701&quot;, &quot;collection&quot;: &quot;modis-13Q1-061&quot;}, {&quot;id&quot;: &quot;MOD13Q1.A2023273.h29v08.061.2023290140925&quot;, &quot;collection&quot;: &quot;modis-13Q1-061&quot;}, {&quot;id&quot;: &quot;MOD13Q1.A2023273.h28v14.061.2023290140855&quot;, &quot;collection&quot;: &quot;modis-13Q1-061&quot;}, {&quot;id&quot;: &quot;MOD13Q1.A2023273.h28v13.061.2023290143611&quot;, &quot;collection&quot;: &quot;modis-13Q1-061&quot;}, {&quot;id&quot;: &quot;MOD13Q1.A2023273.h28v12.061.2023290141312&quot;, &quot;collection&quot;: &quot;modis-13Q1-061&quot;}, {&quot;id&quot;: &quot;MOD13Q1.A2023273.h28v11.061.2023290142646&quot;, &quot;collection&quot;: &quot;modis-13Q1-061&quot;}, {&quot;id&quot;: &quot;MOD13Q1.A2023273.h28v10.061.2023290142156&quot;, &quot;collection&quot;: &quot;modis-13Q1-061&quot;}, {&quot;id&quot;: &quot;MOD13Q1.A2023273.h28v09.061.2023290143115&quot;, &quot;collection&quot;: &quot;modis-13Q1-061&quot;}, {&quot;id&quot;: &quot;MOD13Q1.A2023273.h28v08.061.2023290142950&quot;, &quot;collection&quot;: &quot;modis-13Q1-061&quot;}, {&quot;id&quot;: &quot;MOD13Q1.A2023273.h27v14.061.2023290143539&quot;, &quot;collection&quot;: &quot;modis-13Q1-061&quot;}, {&quot;id&quot;: &quot;MOD13Q1.A2023273.h27v12.061.2023290143332&quot;, &quot;collection&quot;: &quot;modis-13Q1-061&quot;}, {&quot;id&quot;: &quot;MOD13Q1.A2023273.h27v11.061.2023290143105&quot;, &quot;collection&quot;: &quot;modis-13Q1-061&quot;}, {&quot;id&quot;: &quot;MOD13Q1.A2023273.h27v10.061.2023290141301&quot;, &quot;collection&quot;: &quot;modis-13Q1-061&quot;}, {&quot;id&quot;: &quot;MOD13Q1.A2023273.h27v09.061.2023290142454&quot;, &quot;collection&quot;: &quot;modis-13Q1-061&quot;}, {&quot;id&quot;: &quot;MOD13Q1.A2023273.h27v08.061.2023290142945&quot;, &quot;collection&quot;: &quot;modis-13Q1-061&quot;}, {&quot;id&quot;: &quot;MOD13Q1.A2023273.h26v08.061.2023290141302&quot;, &quot;collection&quot;: &quot;modis-13Q1-061&quot;}, {&quot;id&quot;: &quot;MOD13Q1.A2023273.h25v09.061.2023290140724&quot;, &quot;collection&quot;: &quot;modis-13Q1-061&quot;}, {&quot;id&quot;: &quot;MOD13Q1.A2023273.h25v08.061.2023290142316&quot;, &quot;collection&quot;: &quot;modis-13Q1-061&quot;}, {&quot;id&quot;: &quot;MOD13Q1.A2023273.h24v12.061.2023290142122&quot;, &quot;collection&quot;: &quot;modis-13Q1-061&quot;}, {&quot;id&quot;: &quot;MOD13Q1.A2023273.h23v11.061.2023290141506&quot;, &quot;collection&quot;: &quot;modis-13Q1-061&quot;}, {&quot;id&quot;: &quot;MOD13Q1.A2023273.h23v10.061.2023290142201&quot;, &quot;collection&quot;: &quot;modis-13Q1-061&quot;}, {&quot;id&quot;: &quot;MOD13Q1.A2023273.h23v09.061.2023290141204&quot;, &quot;collection&quot;: &quot;modis-13Q1-061&quot;}, {&quot;id&quot;: &quot;MOD13Q1.A2023273.h23v08.061.2023290141204&quot;, &quot;collection&quot;: &quot;modis-13Q1-061&quot;}, {&quot;id&quot;: &quot;MOD13Q1.A2023273.h22v14.061.2023290142618&quot;, &quot;collection&quot;: &quot;modis-13Q1-061&quot;}, {&quot;id&quot;: &quot;MOD13Q1.A2023273.h22v13.061.2023290142620&quot;, &quot;collection&quot;: &quot;modis-13Q1-061&quot;}, {&quot;id&quot;: &quot;MOD13Q1.A2023273.h22v11.061.2023290141505&quot;, &quot;collection&quot;: &quot;modis-13Q1-061&quot;}, {&quot;id&quot;: &quot;MOD13Q1.A2023273.h22v10.061.2023290141503&quot;, &quot;collection&quot;: &quot;modis-13Q1-061&quot;}, {&quot;id&quot;: &quot;MOD13Q1.A2023273.h22v09.061.2023290140918&quot;, &quot;collection&quot;: &quot;modis-13Q1-061&quot;}, {&quot;id&quot;: &quot;MOD13Q1.A2023273.h22v08.061.2023290141319&quot;, &quot;collection&quot;: &quot;modis-13Q1-061&quot;}, {&quot;id&quot;: &quot;MOD13Q1.A2023273.h21v13.061.2023290142626&quot;, &quot;collection&quot;: &quot;modis-13Q1-061&quot;}, {&quot;id&quot;: &quot;MOD13Q1.A2023273.h21v11.061.2023290141751&quot;, &quot;collection&quot;: &quot;modis-13Q1-061&quot;}, {&quot;id&quot;: &quot;MOD13Q1.A2023273.h21v10.061.2023290142330&quot;, &quot;collection&quot;: &quot;modis-13Q1-061&quot;}, {&quot;id&quot;: &quot;MOD13Q1.A2023273.h21v09.061.2023290142230&quot;, &quot;collection&quot;: &quot;modis-13Q1-061&quot;}, {&quot;id&quot;: &quot;MOD13Q1.A2023273.h21v08.061.2023290142700&quot;, &quot;collection&quot;: &quot;modis-13Q1-061&quot;}, {&quot;id&quot;: &quot;MOD13Q1.A2023273.h20v13.061.2023290142042&quot;, &quot;collection&quot;: &quot;modis-13Q1-061&quot;}, {&quot;id&quot;: &quot;MOD13Q1.A2023273.h20v12.061.2023290140831&quot;, &quot;collection&quot;: &quot;modis-13Q1-061&quot;}, {&quot;id&quot;: &quot;MOD13Q1.A2023273.h20v11.061.2023290141026&quot;, &quot;collection&quot;: &quot;modis-13Q1-061&quot;}, {&quot;id&quot;: &quot;MOD13Q1.A2023273.h20v10.061.2023290141524&quot;, &quot;collection&quot;: &quot;modis-13Q1-061&quot;}, {&quot;id&quot;: &quot;MOD13Q1.A2023273.h20v09.061.2023290140957&quot;, &quot;collection&quot;: &quot;modis-13Q1-061&quot;}, {&quot;id&quot;: &quot;MOD13Q1.A2023273.h20v08.061.2023290142448&quot;, &quot;collection&quot;: &quot;modis-13Q1-061&quot;}, {&quot;id&quot;: &quot;MOD13Q1.A2023273.h19v12.061.2023290140958&quot;, &quot;collection&quot;: &quot;modis-13Q1-061&quot;}, {&quot;id&quot;: &quot;MOD13Q1.A2023273.h19v11.061.2023290142917&quot;, &quot;collection&quot;: &quot;modis-13Q1-061&quot;}, {&quot;id&quot;: &quot;MOD13Q1.A2023273.h19v10.061.2023290140907&quot;, &quot;collection&quot;: &quot;modis-13Q1-061&quot;}, {&quot;id&quot;: &quot;MOD13Q1.A2023273.h19v09.061.2023290142640&quot;, &quot;collection&quot;: &quot;modis-13Q1-061&quot;}, {&quot;id&quot;: &quot;MOD13Q1.A2023273.h19v08.061.2023290143411&quot;, &quot;collection&quot;: &quot;modis-13Q1-061&quot;}, {&quot;id&quot;: &quot;MOD13Q1.A2023273.h18v14.061.2023290142725&quot;, &quot;collection&quot;: &quot;modis-13Q1-061&quot;}, {&quot;id&quot;: &quot;MOD13Q1.A2023273.h18v09.061.2023290140934&quot;, &quot;collection&quot;: &quot;modis-13Q1-061&quot;}, {&quot;id&quot;: &quot;MOD13Q1.A2023273.h17v13.061.2023290142619&quot;, &quot;collection&quot;: &quot;modis-13Q1-061&quot;}, {&quot;id&quot;: &quot;MOD13Q1.A2023273.h17v12.061.2023290142302&quot;, &quot;collection&quot;: &quot;modis-13Q1-061&quot;}, {&quot;id&quot;: &quot;MOD13Q1.A2023273.h17v10.061.2023290142150&quot;, &quot;collection&quot;: &quot;modis-13Q1-061&quot;}, {&quot;id&quot;: &quot;MYD13Q1.A2023265.h34v10.061.2023283172920&quot;, &quot;collection&quot;: &quot;modis-13Q1-061&quot;}, {&quot;id&quot;: &quot;MYD13Q1.A2023265.h34v08.061.2023283173637&quot;, &quot;collection&quot;: &quot;modis-13Q1-061&quot;}, {&quot;id&quot;: &quot;MYD13Q1.A2023265.h33v10.061.2023283174231&quot;, &quot;collection&quot;: &quot;modis-13Q1-061&quot;}, {&quot;id&quot;: &quot;MYD13Q1.A2023265.h33v08.061.2023283173830&quot;, &quot;collection&quot;: &quot;modis-13Q1-061&quot;}, {&quot;id&quot;: &quot;MYD13Q1.A2023265.h32v12.061.2023283172914&quot;, &quot;collection&quot;: &quot;modis-13Q1-061&quot;}, {&quot;id&quot;: &quot;MYD13Q1.A2023265.h32v11.061.2023283172928&quot;, &quot;collection&quot;: &quot;modis-13Q1-061&quot;}, {&quot;id&quot;: &quot;MYD13Q1.A2023265.h32v10.061.2023283173034&quot;, &quot;collection&quot;: &quot;modis-13Q1-061&quot;}, {&quot;id&quot;: &quot;MYD13Q1.A2023265.h32v09.061.2023283173809&quot;, &quot;collection&quot;: &quot;modis-13Q1-061&quot;}, {&quot;id&quot;: &quot;MYD13Q1.A2023265.h32v08.061.2023283173943&quot;, &quot;collection&quot;: &quot;modis-13Q1-061&quot;}, {&quot;id&quot;: &quot;MYD13Q1.A2023265.h31v12.061.2023283175436&quot;, &quot;collection&quot;: &quot;modis-13Q1-061&quot;}, {&quot;id&quot;: &quot;MYD13Q1.A2023265.h31v11.061.2023283174252&quot;, &quot;collection&quot;: &quot;modis-13Q1-061&quot;}, {&quot;id&quot;: &quot;MYD13Q1.A2023265.h31v10.061.2023283174430&quot;, &quot;collection&quot;: &quot;modis-13Q1-061&quot;}, {&quot;id&quot;: &quot;MYD13Q1.A2023265.h31v09.061.2023283174245&quot;, &quot;collection&quot;: &quot;modis-13Q1-061&quot;}, {&quot;id&quot;: &quot;MYD13Q1.A2023265.h31v08.061.2023283173831&quot;, &quot;collection&quot;: &quot;modis-13Q1-061&quot;}, {&quot;id&quot;: &quot;MYD13Q1.A2023265.h30v12.061.2023283174230&quot;, &quot;collection&quot;: &quot;modis-13Q1-061&quot;}, {&quot;id&quot;: &quot;MYD13Q1.A2023265.h30v11.061.2023283173114&quot;, &quot;collection&quot;: &quot;modis-13Q1-061&quot;}, {&quot;id&quot;: &quot;MYD13Q1.A2023265.h30v09.061.2023283174221&quot;, &quot;collection&quot;: &quot;modis-13Q1-061&quot;}, {&quot;id&quot;: &quot;MYD13Q1.A2023265.h30v08.061.2023283172855&quot;, &quot;collection&quot;: &quot;modis-13Q1-061&quot;}, {&quot;id&quot;: &quot;MYD13Q1.A2023265.h29v13.061.2023283173301&quot;, &quot;collection&quot;: &quot;modis-13Q1-061&quot;}, {&quot;id&quot;: &quot;MYD13Q1.A2023265.h29v12.061.2023283180133&quot;, &quot;collection&quot;: &quot;modis-13Q1-061&quot;}, {&quot;id&quot;: &quot;MYD13Q1.A2023265.h29v11.061.2023283174221&quot;, &quot;collection&quot;: &quot;modis-13Q1-061&quot;}, {&quot;id&quot;: &quot;MYD13Q1.A2023265.h29v10.061.2023283175116&quot;, &quot;collection&quot;: &quot;modis-13Q1-061&quot;}]}</td>\n",
       "  </tr>\n",
       "</table>\n",
       "<p>(1 row)<br />\n",
       "</p>\n"
      ],
      "text/plain": [
       "<IPython.core.display.HTML object>"
      ]
     },
     "metadata": {},
     "output_type": "display_data"
    }
   ],
   "source": [
    "%%psql\n",
    "SET CLIENT_MIN_MESSAGES TO WARNING;\n",
    "SELECT xyzsearch(\n",
    "    _x=>1,\n",
    "    _y=>1,\n",
    "    _z=>1,\n",
    "    queryhash=>'07c6a95fab72577b195af0691b5e11b9'::text,\n",
    "    fields=>'{\"include\":[\"id\"]}'::jsonb,\n",
    "    exitwhenfull=>TRUE,\n",
    "    skipcovered=>TRUE\n",
    ");"
   ]
  },
  {
   "cell_type": "markdown",
   "id": "411311b3",
   "metadata": {},
   "source": [
    "## Hydration\n",
    "PgSTAC uses a method to compress the data stored by an Item by using the \"item_assets\" attribute on the Item's Collection. When an Item is added, a 'diff' is created between the Assets of an Item and the \"item_assets\" on the Collection. Any duplicate data in the Item content that can be derived from the Collection is then stripped from the Item content as it is stored in PgSTAC. PgSTAC refers to this process as 'dehydration'.\n",
    "\n",
    "When a search is returned from PgSTAC, this information is then merged back into the Item pior to be returned. PgSTAC refersw to this process as 'hydration'.\n",
    "\n",
    "For Collections that have very large Assets, this can save a huge amount of disk space as well as the availability of memory in the Postgres instance. This process is, however, more CPU intensive. There is an option when returning a search that allows for the return of the dehydrated data. This can be done using the '{\"conf\":{\"nohydrate\":true}}' parameter as part of the search.\n",
    "\n",
    "Pypgstac has the ability to do shift this dehydration process away from the Database shifting the load to the application server and speeding things up, particularly under heavy load when multiple application server instances are able to process the results. At PgSTAC version 0.8, this process was sped up even further in pypgstac through implenting the dehydration in Rust. The default setting in STAC FastAPI is to use application side dehydration. "
   ]
  },
  {
   "cell_type": "code",
   "execution_count": 31,
   "id": "cb8dd0c4",
   "metadata": {},
   "outputs": [
    {
     "name": "stdout",
     "output_type": "stream",
     "text": [
      "\n"
     ]
    },
    {
     "data": {
      "text/plain": [
       "'SET'"
      ]
     },
     "metadata": {},
     "output_type": "display_data"
    },
    {
     "data": {
      "text/plain": [
       "{'href': 'https://modiseuwest.blob.core.windows.net/modis-061/MOD13Q1/35/10/2023273/MOD13Q1.A2023273.h35v10.061.2023290142559.hdf',\n",
       " 'type': 'application/x-hdf',\n",
       " 'roles': ['data'],\n",
       " 'title': 'Source data containing all bands'}"
      ]
     },
     "metadata": {},
     "output_type": "display_data"
    },
    {
     "data": {
      "text/plain": [
       "''"
      ]
     },
     "metadata": {},
     "output_type": "display_data"
    },
    {
     "data": {
      "text/plain": [
       "{'type': 'application/x-hdf',\n",
       " 'roles': ['data'],\n",
       " 'title': 'Source data containing all bands'}"
      ]
     },
     "metadata": {},
     "output_type": "display_data"
    }
   ],
   "source": [
    "%%psql -At\n",
    "SET CLIENT_MIN_MESSAGES TO WARNING;\n",
    "select search('{\"limit\":1}'::jsonb)->'features'->0->'assets'->'hdf';\n",
    "select content->'assets'->'hdf' from items limit 1;\n",
    "select content->'item_assets'->'hdf' from collections limit 1;\n"
   ]
  },
  {
   "cell_type": "code",
   "execution_count": 32,
   "id": "9fdc8897",
   "metadata": {},
   "outputs": [
    {
     "name": "stdout",
     "output_type": "stream",
     "text": [
      "psql:/dev/stdin:1: NOTICE:  Items Count: 0\n",
      "psql:/dev/stdin:1: NOTICE:  SEARCH:TOKEN: <NULL>\n",
      "psql:/dev/stdin:1: NOTICE:  ***TOKEN: <NULL>\n",
      "psql:/dev/stdin:1: NOTICE:  FULL WHERE CLAUSE:  TRUE \n",
      "psql:/dev/stdin:1: NOTICE:  Time to get counts and build query 1.876\n",
      "psql:/dev/stdin:1: NOTICE:  Getting hydrated data.\n",
      "psql:/dev/stdin:1: NOTICE:  CACHE SET TO f\n",
      "psql:/dev/stdin:1: NOTICE:  Time to set hydration/formatting 0.15\n",
      "psql:/dev/stdin:1: NOTICE:  Getting chunks for  TRUE  datetime DESC, id DESC\n",
      "psql:/dev/stdin:1: NOTICE:  Running Query for 2023-10-01 00:00:00+00 to 2023-11-01 00:00:00+00. 1.89\n",
      "psql:/dev/stdin:1: NOTICE:  Returned 0/11 Rows From 2023-10-01 00:00:00+00 to 2023-11-01 00:00:00+00. 11 to go. Time: 0.196ms\n",
      "psql:/dev/stdin:1: NOTICE:  Running Query for 2023-09-01 00:00:00+00 to 2023-10-01 00:00:00+00. 2.211\n",
      "psql:/dev/stdin:1: NOTICE:  Returned 11/11 Rows From 2023-09-01 00:00:00+00 to 2023-10-01 00:00:00+00. 0 to go. Time: 0.397ms\n",
      "psql:/dev/stdin:1: NOTICE:  SEARCH_ROWS TOOK 2.686ms\n",
      "psql:/dev/stdin:1: NOTICE:  Time to fetch rows 46.498\n",
      "psql:/dev/stdin:1: NOTICE:  Query returned 11 records.\n",
      "psql:/dev/stdin:1: NOTICE:  HAS NEXT | modis-13Q1-061:MOD13Q1.A2023273.h33v09.061.2023290142939\n",
      "psql:/dev/stdin:1: NOTICE:  Time to get prev/next 0.486\n",
      "psql:/dev/stdin:1: NOTICE:  Time to build final json 0.39\n",
      "psql:/dev/stdin:1: NOTICE:  Total Time: 50.871\n",
      "psql:/dev/stdin:1: NOTICE:  RETURNING 10 records. NEXT: modis-13Q1-061:MOD13Q1.A2023273.h33v09.061.2023290142939. PREV: <NULL>\n",
      "\n"
     ]
    },
    {
     "data": {
      "text/plain": [
       "{'href': 'https://modiseuwest.blob.core.windows.net/modis-061/MOD13Q1/35/10/2023273/MOD13Q1.A2023273.h35v10.061.2023290142559.hdf',\n",
       " 'type': 'application/x-hdf',\n",
       " 'roles': ['data'],\n",
       " 'title': 'Source data containing all bands'}"
      ]
     },
     "metadata": {},
     "output_type": "display_data"
    }
   ],
   "source": [
    "%%psql -At\n",
    "select search()->'features'->0->'assets'->'hdf';\n"
   ]
  },
  {
   "cell_type": "code",
   "execution_count": 33,
   "id": "0649795d",
   "metadata": {},
   "outputs": [
    {
     "name": "stdout",
     "output_type": "stream",
     "text": [
      "psql:/dev/stdin:1: NOTICE:  Items Count: 0\n",
      "psql:/dev/stdin:1: NOTICE:  FILTER: <NULL>\n",
      "psql:/dev/stdin:1: NOTICE:  SEARCH:TOKEN: <NULL>\n",
      "psql:/dev/stdin:1: NOTICE:  ***TOKEN: <NULL>\n",
      "psql:/dev/stdin:1: NOTICE:  FULL WHERE CLAUSE:  TRUE \n",
      "psql:/dev/stdin:1: NOTICE:  Time to get counts and build query 8.53\n",
      "psql:/dev/stdin:1: NOTICE:  Getting non-hydrated data.\n",
      "psql:/dev/stdin:1: NOTICE:  CACHE SET TO f\n",
      "psql:/dev/stdin:1: NOTICE:  Time to set hydration/formatting 0.154\n",
      "psql:/dev/stdin:1: NOTICE:  Getting chunks for  TRUE  datetime DESC, id DESC\n",
      "psql:/dev/stdin:1: NOTICE:  Running Query for 2023-10-01 00:00:00+00 to 2023-11-01 00:00:00+00. 1.796\n",
      "psql:/dev/stdin:1: NOTICE:  Returned 0/11 Rows From 2023-10-01 00:00:00+00 to 2023-11-01 00:00:00+00. 11 to go. Time: 0.192ms\n",
      "psql:/dev/stdin:1: NOTICE:  Running Query for 2023-09-01 00:00:00+00 to 2023-10-01 00:00:00+00. 2.114\n",
      "psql:/dev/stdin:1: NOTICE:  Returned 11/11 Rows From 2023-09-01 00:00:00+00 to 2023-10-01 00:00:00+00. 0 to go. Time: 0.393ms\n",
      "psql:/dev/stdin:1: NOTICE:  SEARCH_ROWS TOOK 2.584ms\n",
      "psql:/dev/stdin:1: NOTICE:  Time to fetch rows 4.071\n",
      "psql:/dev/stdin:1: NOTICE:  Query returned 11 records.\n",
      "psql:/dev/stdin:1: NOTICE:  HAS NEXT | modis-13Q1-061:MOD13Q1.A2023273.h33v09.061.2023290142939\n",
      "psql:/dev/stdin:1: NOTICE:  Time to get prev/next 0.359\n",
      "psql:/dev/stdin:1: NOTICE:  Time to build final json 0.356\n",
      "psql:/dev/stdin:1: NOTICE:  Total Time: 14.968\n",
      "psql:/dev/stdin:1: NOTICE:  RETURNING 10 records. NEXT: modis-13Q1-061:MOD13Q1.A2023273.h33v09.061.2023290142939. PREV: <NULL>\n",
      "\n"
     ]
    },
    {
     "data": {
      "text/plain": [
       "{'href': 'https://modiseuwest.blob.core.windows.net/modis-061/MOD13Q1/35/10/2023273/MOD13Q1.A2023273.h35v10.061.2023290142559.hdf'}"
      ]
     },
     "metadata": {},
     "output_type": "display_data"
    }
   ],
   "source": [
    "%%psql -At\n",
    "select search('{\"conf\":{\"nohydrate\":true}}'::jsonb)->'features'->0->'assets'->'hdf';\n"
   ]
  },
  {
   "cell_type": "markdown",
   "id": "50b39d29-b81d-4379-a9db-43869d9c7fba",
   "metadata": {},
   "source": [
    "# Considerations for deployment with STAC-FastAPI\n",
    "Postgres is limited in communicating over it's own protocol and cannot serve functions data directly over http. PgSTAC has been designed to try to put as much of the heavy lifting of querying a large amount of STAC Items as close to the data itself as possible. It is designed so that building a STAC API should only require a minimal set of wrappers around calls to a PgSTAC Database. STAC-FastAPI-PgSTAC has been built in tandem with PgSTAC and allows to keep the business logic of optimizing queries over large search results close to the data while being able to offload some of the work of serving STAC records onto more easily scalable Application Server instances.\n",
    "\n",
    "## Fast API\n",
    "Being built upon Fast API, STAC FastAPI allows the integration of STAC with other related API's (See EOAPI as an example) as well as to add additional capabilities such as authentication, cacheing, or compression without needing to modify STAC-FastAPI itself.\n",
    "\n",
    "- Deploy using a role that inerhits from pgstac_ingest for the POSTGRES_WRITE_HOST and from pgstac_read for the POSTGRES_READ_HOST\n",
    "- Make sure to use the USE_API_HYDRATE=true setting\n",
    "- If deploying using Lambdas or other highly auto-scaling serverless approaches, only use a single connection for the database pool on the application server and deploy alongside a separate connection pooler such as pgbouncer\n",
    "- If you have default landing queries, make sure that you have some sort of cacheing layer on top of them\n",
    "\n",
    "\n"
   ]
  }
 ],
 "metadata": {
  "kernelspec": {
   "display_name": "Python 3 (ipykernel)",
   "language": "python",
   "name": "python3"
  },
  "language_info": {
   "codemirror_mode": {
    "name": "ipython",
    "version": 3
   },
   "file_extension": ".py",
   "mimetype": "text/x-python",
   "name": "python",
   "nbconvert_exporter": "python",
   "pygments_lexer": "ipython3",
   "version": "3.9.18"
  }
 },
 "nbformat": 4,
 "nbformat_minor": 5
}
